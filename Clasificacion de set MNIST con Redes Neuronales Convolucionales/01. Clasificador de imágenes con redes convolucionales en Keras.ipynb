{
 "cells": [
  {
   "cell_type": "code",
   "execution_count": 1,
   "metadata": {},
   "outputs": [],
   "source": [
    "#pandas, para lectura de datos.\n",
    "import pandas as pd \n",
    "\n",
    "#numpy,  carga de datos en memoria\n",
    "import numpy as np\n",
    "\n",
    "#matplotlib, para graficar.\n",
    "import matplotlib.pyplot as plt \n",
    "\n",
    "#Sequential es fundamental para apilar capas que pueden conformar una red neuronal o simplemente una función matématica.   \n",
    "from tensorflow.keras.models import Sequential\n",
    "from tensorflow.keras.layers import Dense, Flatten\n",
    "from tensorflow.keras.optimizers import SGD\n",
    "from tensorflow.keras.utils import to_categorical\n",
    "\n",
    "#Para la red convolucional\n",
    "from tensorflow.keras.layers import Conv2D, MaxPooling2D\n",
    "\n",
    "#importamos el dataset MNIST de keras.\n",
    "from tensorflow.keras.datasets import mnist\n",
    "\n",
    "#sklern, pqra enmascarar las variables categòricas.\n",
    "from sklearn.preprocessing import LabelEncoder"
   ]
  },
  {
   "cell_type": "code",
   "execution_count": 2,
   "metadata": {},
   "outputs": [
    {
     "name": "stdout",
     "output_type": "stream",
     "text": [
      "(60000, 28, 28)\n",
      "(60000,)\n",
      "(10000, 28, 28)\n",
      "(10000,)\n"
     ]
    }
   ],
   "source": [
    "# 1) PREPROCESAMIENTO DE LOS DATOS.\n",
    "#--------------------------------------------------------------------------------\n",
    "\n",
    "#Lectura del set de datos: MNIST.\n",
    "(x_train, y_train), (x_test,y_test) = mnist.load_data()\n",
    "print(x_train.shape)\n",
    "print(y_train.shape)\n",
    "print(x_test.shape)\n",
    "print(y_test.shape)\n",
    "\n",
    "#Estas imagenes de escritura de números a mano alzada tienen un tamaño de 28 x 28. "
   ]
  },
  {
   "cell_type": "code",
   "execution_count": 3,
   "metadata": {},
   "outputs": [],
   "source": [
    "#Normalización de los datos. 255 es el numero mayor de las columnas.\n",
    "x_train = x_train/255.0\n",
    "x_test = x_test/255.0"
   ]
  },
  {
   "cell_type": "code",
   "execution_count": 4,
   "metadata": {},
   "outputs": [],
   "source": [
    "# Finalmente, convertimos y_train y y_test a representación \"one-hot\"\n",
    "nclasses= 10\n",
    "y_train = to_categorical(y_train,nclasses)\n",
    "y_test =  to_categorical(y_test,nclasses)"
   ]
  },
  {
   "cell_type": "code",
   "execution_count": 5,
   "metadata": {},
   "outputs": [
    {
     "name": "stdout",
     "output_type": "stream",
     "text": [
      "(60000, 28, 28)\n",
      "(60000, 10)\n"
     ]
    }
   ],
   "source": [
    "print(x_train.shape)\n",
    "print(y_train.shape)"
   ]
  },
  {
   "cell_type": "code",
   "execution_count": 6,
   "metadata": {},
   "outputs": [
    {
     "data": {
      "text/plain": [
       "(-0.5, 27.5, 27.5, -0.5)"
      ]
     },
     "execution_count": 6,
     "metadata": {},
     "output_type": "execute_result"
    },
    {
     "data": {
      "image/png": "[encoded data removed]",
      "text/plain": [
       "<Figure size 432x288 with 1 Axes>"
      ]
     },
     "metadata": {
      "needs_background": "light"
     },
     "output_type": "display_data"
    }
   ],
   "source": [
    "#Visualización de un ejemplo\n",
    "imagen = 50\n",
    "plt.imshow(x_train[imagen,:].reshape(28,28), cmap='gray_r')\n",
    "plt.title('Imagen ejemplo - Categoría: ' + str(np.argmax(y_train[imagen])))\n",
    "plt.axis('off')"
   ]
  },
  {
   "cell_type": "code",
   "execution_count": 7,
   "metadata": {},
   "outputs": [
    {
     "name": "stdout",
     "output_type": "stream",
     "text": [
      "(60000, 28, 28, 1)\n",
      "(10000, 28, 28, 1)\n"
     ]
    }
   ],
   "source": [
    "# Por estar compuesto el set de datos de imagenes, se requiere configurar la partición \n",
    "# de este en el formato requerido para la dimensión de una imagen, por eso,\n",
    "# 28,28 y,1 que representan el numero de número de filas, nùmero de comlumnas y, número de canales. \n",
    "\n",
    "#En este caso, el número de canales es 1, porque las imagenes estan en escalas de grises.\n",
    "#Para imagenes de color es 3, representando a los colores Red (rojo), Green (verde) y, Blue (azul). \n",
    "\n",
    "x_train = x_train.reshape(60000,28,28,1)\n",
    "x_test = x_test.reshape(10000,28,28,1)\n",
    "\n",
    "print(x_train.shape)\n",
    "print(x_test.shape)"
   ]
  },
  {
   "cell_type": "code",
   "execution_count": 8,
   "metadata": {},
   "outputs": [
    {
     "data": {
      "text/plain": [
       "' Modelo a Implementar\\n\\nCapa                Características\\n\\nCONV 1              6 filtros, 5x5, p=0, s=1, activación: ReLU\\nMAX-POOLING 1       6 filtros, 2x2, p=0, s=2, activación: Ninguna\\nCONV 2              16 filtros, 5x5, p=0, s=1, activación: ReLU\\nMAX-POOLING 2       16 filtros, 2x2, p=0, s=2, activación: Ninguna\\nFLATTEN             Simplemente convierte un volumen en un vector\\n\\nFULLY CONNECTED 1   120 neuronas, activación: ReLU\\nFULLY CONNECTED 2   84 neuronas, activación: ReLU\\n\\nSALIDA              10 categorías, activación: softmax\\n\\n'"
      ]
     },
     "execution_count": 8,
     "metadata": {},
     "output_type": "execute_result"
    }
   ],
   "source": [
    "# 2) Creación del Modelo.\n",
    "#--------------------------------------------------------------------------------\n",
    "\n",
    "\n",
    "''' Modelo a Implementar\n",
    "\n",
    "Capa                Características\n",
    "\n",
    "CONV 1              6 filtros, 5x5, p=0, s=1, activación: ReLU\n",
    "MAX-POOLING 1       6 filtros, 2x2, p=0, s=2, activación: Ninguna\n",
    "CONV 2              16 filtros, 5x5, p=0, s=1, activación: ReLU\n",
    "MAX-POOLING 2       16 filtros, 2x2, p=0, s=2, activación: Ninguna\n",
    "FLATTEN             Simplemente convierte un volumen en un vector\n",
    "\n",
    "FULLY CONNECTED 1   120 neuronas, activación: ReLU\n",
    "FULLY CONNECTED 2   84 neuronas, activación: ReLU\n",
    "\n",
    "SALIDA              10 categorías, activación: softmax\n",
    "\n",
    "'''"
   ]
  },
  {
   "cell_type": "code",
   "execution_count": 12,
   "metadata": {},
   "outputs": [],
   "source": [
    "#Creamos Sequential, para configurar las dimensiones de la red neuronal.\n",
    "\n",
    "modelo = Sequential()\n",
    "\n",
    "#Añadimos las dos capas de la red neuronal con sus filtros, el tamaño del kernel(filtro) y \n",
    "#la función de activación.\n",
    "\n",
    "#Conv2D para las capas convolucionales.\n",
    "#MaxPooling2D para el max-pooling.\n",
    "\n",
    "# Capa 1: CONV1 Y MAX-POOLING1\n",
    "modelo.add(Conv2D(filters=6, kernel_size=(5,5), activation='relu', input_shape=(28,28,1)))\n",
    "modelo.add(MaxPooling2D(pool_size=(2,2)))\n",
    "\n",
    "# Capa 2: CONV2 Y MAX-POOLING2\n",
    "modelo.add(Conv2D(filters=16, kernel_size=(5,5), activation='relu'))\n",
    "modelo.add(MaxPooling2D(pool_size=(2,2)))\n",
    "\n",
    "# Aplanado con la función Flatten por ser una imagen y, definimos el número de neuronas\n",
    "# para cada capa: Capa 1 (120), Capa 2 (84) y salida (10).\n",
    "\n",
    "modelo.add(Flatten())\n",
    "modelo.add(Dense(120,activation='relu'))\n",
    "modelo.add(Dense(84,activation='relu'))\n",
    "modelo.add(Dense(nclasses,activation='softmax'))"
   ]
  },
  {
   "cell_type": "code",
   "execution_count": 14,
   "metadata": {},
   "outputs": [
    {
     "name": "stdout",
     "output_type": "stream",
     "text": [
      "Epoch 1/10\n",
      "469/469 [==============================] - 9s 20ms/step - loss: 0.3722 - accuracy: 0.8808 - val_loss: 0.1365 - val_accuracy: 0.9548\n",
      "Epoch 2/10\n",
      "469/469 [==============================] - 9s 20ms/step - loss: 0.0967 - accuracy: 0.9704 - val_loss: 0.0933 - val_accuracy: 0.96950.0973 - accuracy\n",
      "Epoch 3/10\n",
      "469/469 [==============================] - 9s 19ms/step - loss: 0.0686 - accuracy: 0.9785 - val_loss: 0.0804 - val_accuracy: 0.9723\n",
      "Epoch 4/10\n",
      "469/469 [==============================] - 9s 19ms/step - loss: 0.0548 - accuracy: 0.9831 - val_loss: 0.0479 - val_accuracy: 0.9853\n",
      "Epoch 5/10\n",
      "469/469 [==============================] - 9s 19ms/step - loss: 0.0447 - accuracy: 0.9860 - val_loss: 0.0465 - val_accuracy: 0.9840\n",
      "Epoch 6/10\n",
      "469/469 [==============================] - 9s 20ms/step - loss: 0.0391 - accuracy: 0.9881 - val_loss: 0.0479 - val_accuracy: 0.9830\n",
      "Epoch 7/10\n",
      "469/469 [==============================] - 9s 20ms/step - loss: 0.0338 - accuracy: 0.9893 - val_loss: 0.0450 - val_accuracy: 0.9852\n",
      "Epoch 8/10\n",
      "469/469 [==============================] - 9s 20ms/step - loss: 0.0296 - accuracy: 0.9905 - val_loss: 0.0408 - val_accuracy: 0.9860\n",
      "Epoch 9/10\n",
      "469/469 [==============================] - 9s 19ms/step - loss: 0.0268 - accuracy: 0.9917 - val_loss: 0.0333 - val_accuracy: 0.9888\n",
      "Epoch 10/10\n",
      "469/469 [==============================] - 9s 19ms/step - loss: 0.0239 - accuracy: 0.9922 - val_loss: 0.0418 - val_accuracy: 0.9855\n"
     ]
    },
    {
     "data": {
      "text/plain": [
       "<tensorflow.python.keras.callbacks.History at 0x27101777348>"
      ]
     },
     "execution_count": 14,
     "metadata": {},
     "output_type": "execute_result"
    }
   ],
   "source": [
    "# 2) Entrenamiento del modelo.\n",
    "\n",
    "# El optimizador: SGD (gradiente descendiente), ha sido seleccionada para minimizar la función\n",
    "# de costo: categorical_crossentropy y, la métrica de preción es: accuracy. \n",
    "sgd = SGD(lr=0.1)\n",
    "modelo.compile(loss='categorical_crossentropy', optimizer=sgd, metrics=['accuracy'])\n",
    "\n",
    "epocas = 10\n",
    "batch_size = 128 # 2^7 = 128\n",
    "\n",
    "modelo.fit(x_train,y_train,epochs=epocas,batch_size=batch_size, verbose=1, validation_data=(x_test,y_test))\n",
    "\n"
   ]
  },
  {
   "cell_type": "code",
   "execution_count": 15,
   "metadata": {},
   "outputs": [],
   "source": [
    "# Accuracy en entrenamiento: 99,22 % y, Accuracy en validación de: 98.55%."
   ]
  },
  {
   "cell_type": "code",
   "execution_count": 17,
   "metadata": {},
   "outputs": [
    {
     "name": "stdout",
     "output_type": "stream",
     "text": [
      "WARNING:tensorflow:From <ipython-input-17-9f3a7fa77ab9>:3: Sequential.predict_classes (from tensorflow.python.keras.engine.sequential) is deprecated and will be removed after 2021-01-01.\n",
      "Instructions for updating:\n",
      "Please use instead:* `np.argmax(model.predict(x), axis=-1)`,   if your model does multi-class classification   (e.g. if it uses a `softmax` last-layer activation).* `(model.predict(x) > 0.5).astype(\"int32\")`,   if your model does binary classification   (e.g. if it uses a `sigmoid` last-layer activation).\n"
     ]
    },
    {
     "data": {
      "image/png": "[encoded data removed]",
      "text/plain": [
       "<Figure size 432x288 with 1 Axes>"
      ]
     },
     "metadata": {
      "needs_background": "light"
     },
     "output_type": "display_data"
    }
   ],
   "source": [
    "from matriz_confusion import graficar_matriz_de_confusion\n",
    "\n",
    "y_pred = modelo.predict_classes(x_test)\n",
    "y_ref = np.argmax(y_test,axis=1)\n",
    "etiquetas = ['0','1','2','3','4','5','6','7','8','9']\n",
    "graficar_matriz_de_confusion(y_ref, y_pred, etiquetas)"
   ]
  },
  {
   "cell_type": "code",
   "execution_count": null,
   "metadata": {},
   "outputs": [],
   "source": []
  }
 ],
 "metadata": {
  "kernelspec": {
   "display_name": "Python 3",
   "language": "python",
   "name": "python3"
  },
  "language_info": {
   "codemirror_mode": {
    "name": "ipython",
    "version": 3
   },
   "file_extension": ".py",
   "mimetype": "text/x-python",
   "name": "python",
   "nbconvert_exporter": "python",
   "pygments_lexer": "ipython3",
   "version": "3.7.7"
  }
 },
 "nbformat": 4,
 "nbformat_minor": 4
}
