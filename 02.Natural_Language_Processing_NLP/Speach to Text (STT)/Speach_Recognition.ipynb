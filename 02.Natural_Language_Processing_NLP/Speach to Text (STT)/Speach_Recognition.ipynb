{
 "cells": [
  {
   "cell_type": "code",
   "execution_count": 1,
   "metadata": {},
   "outputs": [],
   "source": [
    "import speech_recognition as sr\n",
    "\n",
    "#Hay que tener instaldo PyAudio para que windows capture el sonido de la voz.\n",
    "\n",
    "# En windows hay muchos errores a instalar PyAudio por lo que la instalacion se hace instalando las siguientes librerias:\n",
    "# en el siguiente orden: 1) pip install pipwin , 2) pipwin install pyaudio"
   ]
  },
  {
   "cell_type": "code",
   "execution_count": 2,
   "metadata": {},
   "outputs": [],
   "source": [
    "def to_text(audio,lang,prob):\n",
    "    try:\n",
    "        \n",
    "        text = r.recognize_google(audio,language=lang,show_all=True)\n",
    "        if len(text)!=0:\n",
    "            print('-----------------------------------------')          \n",
    "            print('-----------------------------------------') \n",
    "            print('-----------------------------------------') \n",
    "            # Impresión del audio convertido a texto \n",
    "            print(\"Audio a Texto en Language:\" + lang + \", \"+  text['alternative'][0]['transcript'])                 \n",
    "            prob[lang]=text['alternative'][0]['confidence']\n",
    "                  \n",
    "            \n",
    "            #Sobre array: text.\n",
    "            \n",
    "            #print(text)\n",
    "            #En text['alternative'], está el audio de entrada convertido a texto.\n",
    "            #En text['confidence'],  está el nivel de precisión entre las palabras detectadas y los idiomas utilizados:      \n",
    "            #languages=[\"es-ES\",\"en-EN\"]. \n",
    "            \n",
    "            #Sobre array: prob.\n",
    "            \n",
    "            # En prob[lang], se guarda en número (0.0-1.0) la precisión de que las palabras detectadas pertenezcan a los idiomas: \n",
    "            # Español o Inglés ( languages=[\"es-ES\",\"en-EN\"] ) .\n",
    "            \n",
    "            \n",
    "            \n",
    "            print('-----------------------------------------')          \n",
    "            print('-----------------------------------------') \n",
    "            print('-----------------------------------------') \n",
    "                       \n",
    "            \n",
    "        else:\n",
    "            print(f\"Problemas en: {lang}\" + \" Recomendaciones: 1) Compruebe la función: to_text. 2) Compruebe su conexión a Internet.\")\n",
    "    except:\n",
    "        print(\"Recomendaciones en:\" + lang +  \"1) Compruebe la función: to_text. 2) Compruebe su conexión a Internet.\")\n",
    "        \n",
    "        \n"
   ]
  },
  {
   "cell_type": "code",
   "execution_count": 21,
   "metadata": {
    "scrolled": true
   },
   "outputs": [
    {
     "name": "stdout",
     "output_type": "stream",
     "text": [
      "Comienza a hablar / Start to Speak - (Para terminar, solo hacer silencio / To finish, just make silence ):\n",
      "-----------------------------------------\n",
      "-----------------------------------------\n",
      "-----------------------------------------\n",
      "Audio a Texto en Language:es-ES, la Inteligencia artificial está compuesta por el procesamiento del lenguaje natural Machine learning Deep learning\n",
      "-----------------------------------------\n",
      "-----------------------------------------\n",
      "-----------------------------------------\n",
      "-----------------------------------------\n",
      "-----------------------------------------\n",
      "-----------------------------------------\n",
      "Audio a Texto en Language:en-EN, blindly insert official account. Oral processing machine learning deep learning\n",
      "-----------------------------------------\n",
      "-----------------------------------------\n",
      "-----------------------------------------\n"
     ]
    }
   ],
   "source": [
    "r = sr.Recognizer()\n",
    "languages=[\"es-ES\",\"en-EN\"]\n",
    "probabilidad={}\n",
    "\n",
    "with sr.Microphone() as source:\n",
    "    print(\"Comienza a hablar / Start to Speak - (Para terminar, solo hacer silencio / To finish, just make silence ):\")\n",
    "    audio = r.listen(source)\n",
    "    \n",
    "    for select_lang in languages:\n",
    "        probabilidad[select_lang]=0\n",
    "        #Llamada a la función: to_text, \n",
    "        to_text(audio,select_lang,probabilidad)\n"
   ]
  },
  {
   "cell_type": "code",
   "execution_count": 22,
   "metadata": {},
   "outputs": [
    {
     "name": "stdout",
     "output_type": "stream",
     "text": [
      "La probabilidad de que sea es-ES es de 0.96227831\n",
      "La probabilidad de que sea en-EN es de 0.82752401\n"
     ]
    }
   ],
   "source": [
    "# Este paso mide la probabilidad de que la entrada de audio sea de un idioma o de otro.\n",
    "\n",
    "sort={recorrido: item for recorrido, item in sorted(probabilidad.items(), key=lambda item: item[1], reverse=True)}\n",
    "\n",
    "\n",
    "for leng in sort:\n",
    "    print(f\"La probabilidad de que sea {leng} es de {sort[leng]}\")"
   ]
  },
  {
   "cell_type": "code",
   "execution_count": null,
   "metadata": {},
   "outputs": [],
   "source": []
  },
  {
   "cell_type": "code",
   "execution_count": null,
   "metadata": {},
   "outputs": [],
   "source": []
  },
  {
   "cell_type": "code",
   "execution_count": null,
   "metadata": {},
   "outputs": [],
   "source": []
  }
 ],
 "metadata": {
  "kernelspec": {
   "display_name": "Python 3",
   "language": "python",
   "name": "python3"
  },
  "language_info": {
   "codemirror_mode": {
    "name": "ipython",
    "version": 3
   },
   "file_extension": ".py",
   "mimetype": "text/x-python",
   "name": "python",
   "nbconvert_exporter": "python",
   "pygments_lexer": "ipython3",
   "version": "3.7.6"
  }
 },
 "nbformat": 4,
 "nbformat_minor": 4
}
