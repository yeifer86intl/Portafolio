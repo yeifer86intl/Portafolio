{
 "cells": [
  {
   "cell_type": "code",
   "execution_count": 1,
   "metadata": {},
   "outputs": [],
   "source": [
    "#pandas, para lectura de datos.\n",
    "import pandas as pd \n",
    "\n",
    "#numpy,  carga de datos en memoria\n",
    "import numpy as np\n",
    "\n",
    "#matplotlib, para graficar.\n",
    "import matplotlib.pyplot as plt \n",
    "\n",
    "#Sequential es fundamental para apilar capas que pueden conformar una red neuronal o simplemente una función matématica.   \n",
    "from tensorflow.keras.models import Sequential\n",
    "from tensorflow.keras.layers import Dense, LSTM\n",
    "from tensorflow.keras.optimizers import SGD\n",
    "\n",
    "from sklearn.preprocessing import MinMaxScaler\n",
    "\n",
    "\n"
   ]
  },
  {
   "cell_type": "code",
   "execution_count": 2,
   "metadata": {},
   "outputs": [],
   "source": [
    "#Función para graficar\n",
    "\n",
    "def graficar_predicciones(real, prediccion):\n",
    "    plt.plot(real[0:len(prediccion)],color='red', label='Valor real de la acción')\n",
    "    plt.plot(prediccion, color='blue', label='Predicción de la acción')\n",
    "    plt.ylim(1.1 * np.min(prediccion)/2, 1.1 * np.max(prediccion))\n",
    "    plt.xlabel('Tiempo')\n",
    "    plt.ylabel('Valor de la acción')\n",
    "    plt.legend()\n",
    "    plt.show()"
   ]
  },
  {
   "cell_type": "code",
   "execution_count": 3,
   "metadata": {},
   "outputs": [
    {
     "data": {
      "text/html": [
       "<div>\n",
       "<style scoped>\n",
       "    .dataframe tbody tr th:only-of-type {\n",
       "        vertical-align: middle;\n",
       "    }\n",
       "\n",
       "    .dataframe tbody tr th {\n",
       "        vertical-align: top;\n",
       "    }\n",
       "\n",
       "    .dataframe thead th {\n",
       "        text-align: right;\n",
       "    }\n",
       "</style>\n",
       "<table border=\"1\" class=\"dataframe\">\n",
       "  <thead>\n",
       "    <tr style=\"text-align: right;\">\n",
       "      <th></th>\n",
       "      <th>Open</th>\n",
       "      <th>High</th>\n",
       "      <th>Low</th>\n",
       "      <th>Close</th>\n",
       "      <th>Volume</th>\n",
       "      <th>Name</th>\n",
       "    </tr>\n",
       "    <tr>\n",
       "      <th>Date</th>\n",
       "      <th></th>\n",
       "      <th></th>\n",
       "      <th></th>\n",
       "      <th></th>\n",
       "      <th></th>\n",
       "      <th></th>\n",
       "    </tr>\n",
       "  </thead>\n",
       "  <tbody>\n",
       "    <tr>\n",
       "      <th>2006-01-03</th>\n",
       "      <td>10.34</td>\n",
       "      <td>10.68</td>\n",
       "      <td>10.32</td>\n",
       "      <td>10.68</td>\n",
       "      <td>201853036</td>\n",
       "      <td>AAPL</td>\n",
       "    </tr>\n",
       "    <tr>\n",
       "      <th>2006-01-04</th>\n",
       "      <td>10.73</td>\n",
       "      <td>10.85</td>\n",
       "      <td>10.64</td>\n",
       "      <td>10.71</td>\n",
       "      <td>155225609</td>\n",
       "      <td>AAPL</td>\n",
       "    </tr>\n",
       "    <tr>\n",
       "      <th>2006-01-05</th>\n",
       "      <td>10.69</td>\n",
       "      <td>10.70</td>\n",
       "      <td>10.54</td>\n",
       "      <td>10.63</td>\n",
       "      <td>112396081</td>\n",
       "      <td>AAPL</td>\n",
       "    </tr>\n",
       "    <tr>\n",
       "      <th>2006-01-06</th>\n",
       "      <td>10.75</td>\n",
       "      <td>10.96</td>\n",
       "      <td>10.65</td>\n",
       "      <td>10.90</td>\n",
       "      <td>176139334</td>\n",
       "      <td>AAPL</td>\n",
       "    </tr>\n",
       "    <tr>\n",
       "      <th>2006-01-09</th>\n",
       "      <td>10.96</td>\n",
       "      <td>11.03</td>\n",
       "      <td>10.82</td>\n",
       "      <td>10.86</td>\n",
       "      <td>168861224</td>\n",
       "      <td>AAPL</td>\n",
       "    </tr>\n",
       "  </tbody>\n",
       "</table>\n",
       "</div>"
      ],
      "text/plain": [
       "             Open   High    Low  Close     Volume  Name\n",
       "Date                                                   \n",
       "2006-01-03  10.34  10.68  10.32  10.68  201853036  AAPL\n",
       "2006-01-04  10.73  10.85  10.64  10.71  155225609  AAPL\n",
       "2006-01-05  10.69  10.70  10.54  10.63  112396081  AAPL\n",
       "2006-01-06  10.75  10.96  10.65  10.90  176139334  AAPL\n",
       "2006-01-09  10.96  11.03  10.82  10.86  168861224  AAPL"
      ]
     },
     "execution_count": 3,
     "metadata": {},
     "output_type": "execute_result"
    }
   ],
   "source": [
    "# Lectura de los datos\n",
    "#\n",
    "dataset = pd.read_csv('AAPL_2006-01-01_to_2018-01-01.csv', index_col='Date', parse_dates=['Date'])\n",
    "dataset.head()\n"
   ]
  },
  {
   "cell_type": "code",
   "execution_count": 4,
   "metadata": {},
   "outputs": [
    {
     "data": {
      "image/png": "[encoded data removed]",
      "text/plain": [
       "<Figure size 432x288 with 1 Axes>"
      ]
     },
     "metadata": {
      "needs_background": "light"
     },
     "output_type": "display_data"
    }
   ],
   "source": [
    "#\n",
    "# Sets de entrenamiento y validación \n",
    "# La LSTM se entrenará con datos de 2016 hacia atrás. La validación se hará con datos de 2017 en adelante.\n",
    "# En ambos casos sólo se usará el valor más alto de la acción para cada día\n",
    "#\n",
    "set_entrenamiento = dataset[:'2016'].iloc[:,1:2]\n",
    "set_validacion = dataset['2017':].iloc[:,1:2]\n",
    "\n",
    "set_entrenamiento['High'].plot(legend=True)\n",
    "set_validacion['High'].plot(legend=True)\n",
    "plt.legend(['Entrenamiento (2006-2016)', 'Validación (2017)'])\n",
    "plt.show()\n"
   ]
  },
  {
   "cell_type": "code",
   "execution_count": 5,
   "metadata": {},
   "outputs": [],
   "source": [
    "# Normalización del set de entrenamiento\n",
    "sc = MinMaxScaler(feature_range=(0,1))\n",
    "set_entrenamiento_escalado = sc.fit_transform(set_entrenamiento)\n",
    "\n",
    "# La red LSTM tendrá como entrada \"time_step\" datos consecutivos, y como salida 1 dato (la predicción a\n",
    "# partir de esos \"time_step\" datos). Se conformará de esta forma el set de entrenamiento\n",
    "time_step = 60\n",
    "X_train = []\n",
    "Y_train = []\n",
    "m = len(set_entrenamiento_escalado)\n",
    "\n",
    "#time_step =60, m=2768, cantidad de datos del set de entrenamiento: set_entrenamiento.\n",
    "for i in range(time_step,m):  \n",
    "    # X: \n",
    "    '''\n",
    "    print(\"i: \", i)\n",
    "    print(\"time_step: \", time_step)\n",
    "    print(\"i-time_step: \",i-time_step)\n",
    "    print(\"set_entrenamiento_escalado: \",set_entrenamiento_escalado[i-time_step:i,0])\n",
    "    print(\"set_entrenamiento_escalado: \",set_entrenamiento_escalado[i,0])\n",
    "    print(\"-----------------------------------------------------------------------\")\n",
    "    '''\n",
    "    X_train.append(set_entrenamiento_escalado[i-time_step:i,0])\n",
    "\n",
    "    # Y: el siguiente dato\n",
    "    Y_train.append(set_entrenamiento_escalado[i,0])\n"
   ]
  },
  {
   "cell_type": "code",
   "execution_count": 8,
   "metadata": {},
   "outputs": [
    {
     "data": {
      "text/plain": [
       "(2708, 60, 1)"
      ]
     },
     "execution_count": 8,
     "metadata": {},
     "output_type": "execute_result"
    }
   ],
   "source": [
    "X_train, Y_train = np.array(X_train), np.array(Y_train)\n",
    "\n",
    "# Reshape X_train para que se ajuste al modelo en Keras\n",
    "X_train = np.reshape(X_train, (X_train.shape[0], X_train.shape[1], 1))\n",
    "\n",
    "# se debe indicar que la dimension del dato de entrada sera de 60 x 1, siendo 60, la cantidad de datos.\n",
    "# la salida tiene como tamaño 1, porque se devolvera una cifra correspondiente a la predicciòn.\n",
    "\n",
    "X_train.shape"
   ]
  },
  {
   "cell_type": "code",
   "execution_count": 9,
   "metadata": {},
   "outputs": [
    {
     "name": "stdout",
     "output_type": "stream",
     "text": [
      "Epoch 1/20\n",
      "85/85 [==============================] - 2s 25ms/step - loss: 0.0126\n",
      "Epoch 2/20\n",
      "85/85 [==============================] - 2s 24ms/step - loss: 0.0012\n",
      "Epoch 3/20\n",
      "85/85 [==============================] - 2s 24ms/step - loss: 8.4053e-04: 0s - loss: 8.5\n",
      "Epoch 4/20\n",
      "85/85 [==============================] - 2s 26ms/step - loss: 6.0124e-04\n",
      "Epoch 5/20\n",
      "85/85 [==============================] - 2s 24ms/step - loss: 5.4253e-04\n",
      "Epoch 6/20\n",
      "85/85 [==============================] - 2s 24ms/step - loss: 4.1931e-04\n",
      "Epoch 7/20\n",
      "85/85 [==============================] - 2s 25ms/step - loss: 3.7767e-04\n",
      "Epoch 8/20\n",
      "85/85 [==============================] - 2s 24ms/step - loss: 3.5496e-04\n",
      "Epoch 9/20\n",
      "85/85 [==============================] - ETA: 0s - loss: 3.2470e-0 - 2s 25ms/step - loss: 3.2470e-04\n",
      "Epoch 10/20\n",
      "85/85 [==============================] - 2s 24ms/step - loss: 3.1484e-04\n",
      "Epoch 11/20\n",
      "85/85 [==============================] - 2s 24ms/step - loss: 2.7104e-04\n",
      "Epoch 12/20\n",
      "85/85 [==============================] - 2s 25ms/step - loss: 2.5903e-04: \n",
      "Epoch 13/20\n",
      "85/85 [==============================] - 2s 24ms/step - loss: 2.6816e-04\n",
      "Epoch 14/20\n",
      "85/85 [==============================] - 2s 25ms/step - loss: 2.3892e-04\n",
      "Epoch 15/20\n",
      "85/85 [==============================] - 2s 25ms/step - loss: 2.1874e-04\n",
      "Epoch 16/20\n",
      "85/85 [==============================] - 2s 25ms/step - loss: 2.2624e-04\n",
      "Epoch 17/20\n",
      "85/85 [==============================] - 2s 24ms/step - loss: 2.2202e-04\n",
      "Epoch 18/20\n",
      "85/85 [==============================] - 2s 24ms/step - loss: 2.0675e-04\n",
      "Epoch 19/20\n",
      "85/85 [==============================] - 2s 24ms/step - loss: 2.1662e-04\n",
      "Epoch 20/20\n",
      "85/85 [==============================] - 2s 25ms/step - loss: 2.0780e-04: 0s - loss:\n"
     ]
    },
    {
     "data": {
      "text/plain": [
       "<tensorflow.python.keras.callbacks.History at 0x182dc909808>"
      ]
     },
     "execution_count": 9,
     "metadata": {},
     "output_type": "execute_result"
    }
   ],
   "source": [
    "# Red LSTM\n",
    "\n",
    "dim_entrada = (X_train.shape[1],1) # 60 ,1 \n",
    "dim_salida = 1\n",
    "numero_de_neuronas = 50\n",
    "\n",
    "modelo = Sequential()\n",
    "modelo.add(LSTM(units=numero_de_neuronas, input_shape=dim_entrada))\n",
    "modelo.add(Dense(units=dim_salida))\n",
    "modelo.compile(optimizer='rmsprop', loss='mse')\n",
    "modelo.fit(X_train,Y_train,epochs=20,batch_size=32)"
   ]
  },
  {
   "cell_type": "code",
   "execution_count": 11,
   "metadata": {},
   "outputs": [
    {
     "data": {
      "text/plain": [
       "251"
      ]
     },
     "execution_count": 11,
     "metadata": {},
     "output_type": "execute_result"
    }
   ],
   "source": [
    "len(x_test)"
   ]
  },
  {
   "cell_type": "code",
   "execution_count": 12,
   "metadata": {},
   "outputs": [],
   "source": [
    "# Validación (predicción del valor de las acciones)\n",
    "#\n",
    "x_test = set_validacion.values\n",
    "x_test = sc.transform(x_test)\n",
    "\n",
    "X_test = []\n",
    "for i in range(time_step,len(x_test)):\n",
    "    X_test.append(x_test[i-time_step:i,0])\n",
    "X_test = np.array(X_test)\n",
    "X_test = np.reshape(X_test, (X_test.shape[0],X_test.shape[1],1))"
   ]
  },
  {
   "cell_type": "code",
   "execution_count": 13,
   "metadata": {},
   "outputs": [],
   "source": [
    "prediccion = modelo.predict(X_test)\n"
   ]
  },
  {
   "cell_type": "code",
   "execution_count": 15,
   "metadata": {},
   "outputs": [
    {
     "data": {
      "image/png": "[encoded data removed]",
      "text/plain": [
       "<Figure size 432x288 with 1 Axes>"
      ]
     },
     "metadata": {
      "needs_background": "light"
     },
     "output_type": "display_data"
    }
   ],
   "source": [
    "prediccion = sc.inverse_transform(prediccion)\n",
    "\n",
    "# Graficar resultados\n",
    "graficar_predicciones(set_validacion.values,prediccion)"
   ]
  },
  {
   "cell_type": "code",
   "execution_count": null,
   "metadata": {},
   "outputs": [],
   "source": [
    "# Hay una diferencia de al menos 10$ entre el valor predicho y el real."
   ]
  },
  {
   "cell_type": "code",
   "execution_count": null,
   "metadata": {},
   "outputs": [],
   "source": []
  }
 ],
 "metadata": {
  "kernelspec": {
   "display_name": "Python 3",
   "language": "python",
   "name": "python3"
  },
  "language_info": {
   "codemirror_mode": {
    "name": "ipython",
    "version": 3
   },
   "file_extension": ".py",
   "mimetype": "text/x-python",
   "name": "python",
   "nbconvert_exporter": "python",
   "pygments_lexer": "ipython3",
   "version": "3.7.7"
  }
 },
 "nbformat": 4,
 "nbformat_minor": 4
}
