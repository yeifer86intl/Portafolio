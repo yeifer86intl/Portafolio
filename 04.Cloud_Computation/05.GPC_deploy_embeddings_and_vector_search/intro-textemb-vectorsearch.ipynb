{
 "cells": [
  {
   "cell_type": "code",
   "execution_count": 1,
   "metadata": {
    "id": "c3_K0GGSTrhd"
   },
   "outputs": [],
   "source": [
    "# Copyright 2023 Google LLC\n",
    "#\n",
    "# Licensed under the Apache License, Version 2.0 (the \"License\");\n",
    "# you may not use this file except in compliance with the License.\n",
    "# You may obtain a copy of the License at\n",
    "#\n",
    "#     https://www.apache.org/licenses/LICENSE-2.0\n",
    "#\n",
    "# Unless required by applicable law or agreed to in writing, software\n",
    "# distributed under the License is distributed on an \"AS IS\" BASIS,\n",
    "# WITHOUT WARRANTIES OR CONDITIONS OF ANY KIND, either express or implied.\n",
    "# See the License for the specific language governing permissions and\n",
    "# limitations under the License."
   ]
  },
  {
   "cell_type": "markdown",
   "metadata": {
    "id": "7VQkf8sFTeDo"
   },
   "source": [
    "# Getting Started with Text Embeddings + Vertex AI Vector Search\n",
    "\n",
    "\n",
    "<table align=\"left\">\n",
    "  <td style=\"text-align: center\">\n",
    "    <a href=\"https://colab.research.google.com/github/GoogleCloudPlatform/generative-ai/blob/main/embeddings/intro-textemb-vectorsearch.ipynb\">\n",
    "      <img src=\"https://cloud.google.com/ml-engine/images/colab-logo-32px.png\" alt=\"Google Colaboratory logo\"><br> Run in Colab\n",
    "    </a>\n",
    "  </td>\n",
    "  <td style=\"text-align: center\">\n",
    "    <a href=\"https://github.com/GoogleCloudPlatform/generative-ai/blob/main/embeddings/intro-textemb-vectorsearch.ipynb\">\n",
    "      <img src=\"https://cloud.google.com/ml-engine/images/github-logo-32px.png\" alt=\"GitHub logo\"><br> View on GitHub\n",
    "    </a>\n",
    "  </td>\n",
    "  <td style=\"text-align: center\">\n",
    "    <a href=\"https://console.cloud.google.com/vertex-ai/workbench/deploy-notebook?download_url=https://raw.githubusercontent.com/GoogleCloudPlatform/generative-ai/main/embeddings/intro-textemb-vectorsearch.ipynb\">\n",
    "      <img src=\"https://lh3.googleusercontent.com/UiNooY4LUgW_oTvpsNhPpQzsstV5W8F7rYgxgGBD85cWJoLmrOzhVs_ksK_vgx40SHs7jCqkTkCk=e14-rj-sc0xffffff-h130-w32\" alt=\"Vertex AI logo\"><br> Open in Vertex AI Workbench\n",
    "    </a>\n",
    "  </td>\n",
    "</table>"
   ]
  },
  {
   "cell_type": "markdown",
   "metadata": {
    "id": "4d742715e6de"
   },
   "source": [
    "| | |\n",
    "|-|-|\n",
    "|Author(s) | [Smitha Venkat](https://github.com/smitha-google), [Kaz Sato](https://github.com/kazunori279)|"
   ]
  },
  {
   "cell_type": "markdown",
   "metadata": {
    "id": "25a71983a324"
   },
   "source": [
    "## Introduction\n",
    "\n",
    "In this tutorial, you learn how to use Google Cloud AI tools to quickly bring the power of Large Language Models to enterprise systems.  \n",
    "\n",
    "This tutorial covers the following -\n",
    "\n",
    "*   What are embeddings - what business challenges do they help solve ?\n",
    "*   Understanding Text with Vertex AI Text Embeddings\n",
    "*   Find Embeddings fast with Vertex AI Vector Search\n",
    "*   Grounding LLM outputs with Vector Search\n",
    "\n",
    "This tutorial is based on [the blog post](https://cloud.google.com/blog/products/ai-machine-learning/how-to-use-grounding-for-your-llms-with-text-embeddings), combined with sample code.\n",
    "\n",
    "\n",
    "### Prerequisites\n",
    "\n",
    "This tutorial is designed for developers who has basic knowledge and experience with Python programming and machine learning.\n",
    "\n",
    "If you are not reading this tutorial in Qwiklab, then you need to have a Google Cloud project that is linked to a billing account to run this. Please go through [this document](https://cloud.google.com/vertex-ai/docs/start/cloud-environment) to create a project and setup a billing account for it.\n",
    "\n",
    "### Choose the runtime environment\n",
    "\n",
    "The notebook can be run on either Google Colab or [Vertex AI Workbench](https://cloud.google.com/vertex-ai-workbench).\n",
    "\n",
    "- To use Colab: Click [this link](https://colab.research.google.com/github/GoogleCloudPlatform/generative-ai/blob/main/embeddings/intro-textemb-vectorsearch.ipynb) to open the tutorial in Colab.\n",
    "\n",
    "- To use Workbench: If it is the first time to use Workbench in your Google Cloud project, open [the Workbench console](https://console.cloud.google.com/vertex-ai/workbench) and click ENABLE button to enable Notebooks API. Then click [this link](https://console.cloud.google.com/vertex-ai/workbench/deploy-notebook?download_url=https://raw.githubusercontent.com/GoogleCloudPlatform/generative-ai/main/embeddings/intro-textemb-vectorsearch.ipynb),  and select an existing notebook or create a new notebook.\n"
   ]
  },
  {
   "cell_type": "markdown",
   "metadata": {
    "id": "2pImjuenUIQz"
   },
   "source": [
    "### How much will this cost?\n",
    "\n",
    "In case you are using your own Cloud project, not a temporary project on Qwiklab, you need to spend roughly a few US dollars to finish this tutorial.\n",
    "\n",
    "The pricing of the Cloud services we will use in this tutorial are available in the following pages:\n",
    "\n",
    "- [Vertex AI Embeddings for Text](https://cloud.google.com/vertex-ai/pricing#generative_ai_models)\n",
    "- [Vertex AI Vector Search](https://cloud.google.com/vertex-ai/pricing#matchingengine)\n",
    "- [BigQuery](https://cloud.google.com/bigquery/pricing)\n",
    "- [Cloud Storage](https://cloud.google.com/storage/pricing)\n",
    "- [Vertex AI Workbench](https://cloud.google.com/vertex-ai/pricing#notebooks) if you use one\n",
    "\n",
    "You can use the [Pricing Calculator](https://cloud.google.com/products/calculator) to generate a cost estimate based on your projected usage. The following is an example of rough cost estimation with the calculator, assuming you will go through this tutorial a couple of time.\n",
    "\n",
    "<img src=\"https://storage.googleapis.com/github-repo/img/embeddings/vs-quickstart/pricing.png\" width=\"50%\"/>\n",
    "\n",
    "### **Warning: delete your objects after the tutorial**\n",
    "\n",
    "In case you are using your own Cloud project, please make sure to delete all the Indexes, Index Endpoints and Cloud Storage buckets (and the Workbench instance if you use one) after finishing this tutorial. Otherwise the remaining assets would incur unexpected costs.\n"
   ]
  },
  {
   "cell_type": "markdown",
   "metadata": {
    "id": "6Fu2OoUDTQ6w"
   },
   "source": [
    "# Bringing Gen AI and LLMs to production services\n",
    "\n",
    "Many people are now starting to think about how to bring Gen AI and LLMs to production services, and facing with several challenges.\n",
    "\n",
    "- \"How to integrate LLMs or AI chatbots with existing IT systems, databases and business data?\"\n",
    "- \"We have thousands of products. How can I let LLM memorize them all precisely?\"\n",
    "- \"How to handle the hallucination issues in AI chatbots to build a reliable service?\"\n",
    "\n",
    "Here is a quick solution: **grounding** with **embeddings** and **vector search**.\n",
    "\n",
    "What is grounding? What are embedding and vector search? In this tutorial, we will learn these crucial concepts to build reliable Gen AI services for enterprise use. But before we dive deeper, let's try the demo below."
   ]
  },
  {
   "cell_type": "markdown",
   "metadata": {
    "id": "ORqZYLgTm9pJ"
   },
   "source": [
    "![](https://storage.googleapis.com/gweb-cloudblog-publish/original_images/1._demo_animation.gif)\n",
    "\n",
    "**Exercise: Try the Stack Overflow semantic search demo:**\n",
    "\n",
    "This demo is available as a [public live demo](https://ai-demos.dev/). Select \"STACKOVERFLOW\" and enter any coding question as a query, so it runs a text search on **8 million** questions posted on [Stack Overflow](https://stackoverflow.com/). Try the text semantic search with some queries like 'How to shuffle rows in SQL?' or arbitrary programming questions.\n",
    "\n",
    "In this tutorial, we are going to see how to build a similar search experience - what is involved in building solutions like this using Vertex AI Embeddings API and Vector Search."
   ]
  },
  {
   "cell_type": "markdown",
   "metadata": {
    "id": "H1MAIOkCw35V"
   },
   "source": [
    "# What is Embeddings?\n",
    "\n",
    "With the rise of LLMs, why is it becoming important for IT engineers and ITDMs to understand how they work?\n",
    "\n",
    "In traditional IT systems, most data is organized as structured or tabular data, using simple keywords, labels, and categories in databases and search engines.\n",
    "\n",
    "![](https://storage.googleapis.com/github-repo/img/embeddings/textemb-vs-notebook/1.png)\n",
    "\n",
    "In contrast, AI-powered services arrange data into a simple data structure known as \"embeddings.\"\n",
    "\n",
    "![](https://storage.googleapis.com/github-repo/img/embeddings/textemb-vs-notebook/2.png)"
   ]
  },
  {
   "cell_type": "markdown",
   "metadata": {
    "id": "hJqjBmQsxz2Z"
   },
   "source": [
    "Once trained with specific content like text, images, or any content, AI creates a space called \"embedding space\", which is essentially a map of the content's meaning.\n",
    "\n",
    "![](https://storage.googleapis.com/github-repo/img/embeddings/textemb-vs-notebook/3.png)\n",
    "\n",
    "AI can identify the location of each content on the map, that's what embedding is.\n",
    "\n",
    "![](https://storage.googleapis.com/github-repo/img/embeddings/textemb-vs-notebook/4.png)\n",
    "\n",
    "Let's take an example where a text discusses movies, music, and actors, with a distribution of 10%, 2%, and 30%, respectively. In this case, the AI can create an embedding with three values: 0.1, 0.02, and 0.3, in 3 dimensional space.\n",
    "\n",
    "![](https://storage.googleapis.com/github-repo/img/embeddings/textemb-vs-notebook/5.png)\n",
    "\n",
    "AI can put content with similar meanings closely together in the space."
   ]
  },
  {
   "cell_type": "markdown",
   "metadata": {
    "id": "A5z7vyTyzk_4"
   },
   "source": [
    "This is how Google organizes data across various services like Google Search, YouTube, Play, and many others, to provide search results and recommendations with relevant content.\n",
    "\n",
    "Embeddings can also be used to represent different types of things in businesses, such as products, users, user activities, conversations, music & videos, signals from IoT sensors, and so on."
   ]
  },
  {
   "cell_type": "markdown",
   "metadata": {
    "id": "tpKVmyEe0ab9"
   },
   "source": [
    "AI and Embeddings are now playing a crucial role in creating a new way of human-computer interaction.\n",
    "\n",
    "![](https://storage.googleapis.com/github-repo/img/embeddings/textemb-vs-notebook/6.png)\n",
    "\n",
    "AI organizes data into embeddings, which represent what the user is looking for, the meaning of contents, or many other things you have in your business. This creates a new level of user experience that is becoming the new standard.\n",
    "\n",
    "To learn more about embeddings, [Foundational courses: Embeddings on Google Machine Learning Crush Course](https://developers.google.com/machine-learning/crash-course/embeddings/video-lecture) and [Meet AI's multitool: Vector embeddings by Dale Markowitz](https://cloud.google.com/blog/topics/developers-practitioners/meet-ais-multitool-vector-embeddings) are great materials.\n"
   ]
  },
  {
   "cell_type": "markdown",
   "metadata": {
    "id": "ovQpiL2GUEXa"
   },
   "source": [
    "# Vertex AI Embeddings for Text\n",
    "\n",
    "With the [Vertex AI Embeddings for Text](https://cloud.google.com/vertex-ai/docs/generative-ai/embeddings/get-text-embeddings), you can easily create a text embedding with LLM. The product is also available on [Vertex AI Model Garden](https://cloud.google.com/model-garden)\n",
    "\n",
    "![](https://storage.googleapis.com/github-repo/img/embeddings/textemb-vs-notebook/7.png)\n",
    "\n",
    "This API is designed to extract embeddings from texts. It can take text input up to 2048 input tokens, and outputs 768 dimensional text embeddings."
   ]
  },
  {
   "cell_type": "markdown",
   "metadata": {
    "id": "nwJHDPG7lU52"
   },
   "source": [
    "## LLM text embedding business use cases\n",
    "\n",
    "With the embedding API, you can apply the innovation of embeddings, combined with the LLM capability, to various text processing tasks, such as:\n",
    "\n",
    "**LLM-enabled Semantic Search**: text embeddings can be used to represent both the meaning and intent of a user's query and documents in the embedding space. Documents that have similar meaning to the user's query intent will be found fast with vector search technology. The model is capable of generating text embeddings that capture the subtle nuances of each sentence and paragraphs in the document.\n",
    "\n",
    "**LLM-enabled Text Classification**: LLM text embeddings can be used for text classification with a deep understanding of different contexts without any training or fine-tuning (so-called zero-shot learning). This wasn't possible with the past language models without task-specific training.\n",
    "\n",
    "**LLM-enabled Recommendation**: The text embedding can be used for recommendation systems as a strong feature for training recommendation models such as Two-Tower model. The model learns the relationship between the query and candidate embeddings, resulting in next-gen user experience with semantic product recommendation.\n",
    "\n",
    "LLM-enabled Clustering, Anomaly Detection, Sentiment Analysis, and more, can be also handled with the LLM-level deep semantics understanding.\n"
   ]
  },
  {
   "cell_type": "markdown",
   "metadata": {
    "id": "ga5A7koYlvlZ"
   },
   "source": [
    "## Sorting 8 million texts at \"librarian-level\" precision\n",
    "\n",
    "Vertex AI Embeddings for Text has an embedding space with 768 dimensions. As explained earlier, the space represents a huge map of a wide variety of texts in the world, organized by their meanings. With each input text, the model can find a location (embedding) in the map.\n",
    "\n",
    "By visualizing the embedding space, you can actually observe how the model sorts the texts at the \"librarian-level\" precision.\n",
    "\n",
    "**Exercise: Try the Nomic AI Atlas**\n",
    "\n",
    "[Nomic AI](http://nomic.ai/) provides a platform called Atlas for storing, visualizing and interacting with embedding spaces with high scalability and in a smooth UI, and they worked with Google for visualizing the embedding space of the 8 million Stack Overflow questions. You can try exploring around the space, zooming in and out to each data point on your browser on this page, courtesy of Nomic AI.\n",
    "\n",
    "The embedding space represents a huge map of texts, organized by their meanings\n",
    "With each input text, the model can find a location (embedding) in the map\n",
    "Like a librarian reading through millions of texts, sorting them with millions of nano-categories\n",
    "\n",
    "Try exploring it [here](https://atlas.nomic.ai/map/edaff028-12b5-42a0-8e8b-6430c9b8222b/bcb42818-3581-4fb5-ac30-9883d01f98ec). Zoom into a few categories, point each dots, and see how the LLM is sorting similar questions close together in the space.\n",
    "\n",
    "![](https://storage.googleapis.com/gweb-cloudblog-publish/images/4._Nomic_AI_Atlas.max-2200x2200.png)\n",
    "\n",
    "### The librarian-level semantic understanding\n",
    "\n",
    "Here are the examples of the librarian-level semantic understanding by Embeddings API with Stack Overflow questions.\n",
    "\n",
    "![](https://storage.googleapis.com/gweb-cloudblog-publish/images/5._semantic_understanding.max-2200x2200.png)\n",
    "\n",
    "For example, the model thinks the question \"Does moving the request line to a header frame require an app change?\" is similar to the question \"Does an application developed on HTTP1x require modifications to run on HTTP2?\". That is because The model knows both questions talk about what's the change required to support the HTTP2 header frame.\n",
    "\n",
    "Note that this demo didn't require any training or fine-tuning with computer programming specific datasets. This is the innovative part of the zero-shot learning capability of the LLM. It can be applied to a wide variety of industries, including finance, healthcare, retail, manufacturing, construction, media, and more, for deep semantic search on the industry-focused business documents without spending time and cost for collecting industry specific datasets and training models."
   ]
  },
  {
   "cell_type": "markdown",
   "metadata": {
    "id": "-iOWOKnIvYxf"
   },
   "source": [
    "# Text Embeddings in Action\n",
    "\n",
    "Lets try using Text Embeddings in action with actual sample code."
   ]
  },
  {
   "cell_type": "markdown",
   "metadata": {
    "id": "AtXnXhF8U-8R"
   },
   "source": [
    "## Setup\n",
    "\n",
    "Before get started with the Vertex AI services, we need to setup the following.\n",
    "\n",
    "* Install Python SDK\n",
    "* Environment variables\n",
    "* Authentication (Colab only)\n",
    "* Enable APIs\n",
    "* Set IAM permissions"
   ]
  },
  {
   "cell_type": "markdown",
   "metadata": {
    "id": "UjnvWl6FLUlF"
   },
   "source": [
    "### Install Python SDK\n",
    "\n",
    "Vertex AI, Cloud Storage and BigQuery APIs can be accessed with multiple ways including REST API and Python SDK. In this tutorial we will use the SDK."
   ]
  },
  {
   "cell_type": "code",
   "execution_count": 1,
   "metadata": {
    "id": "FZgLGALt_al7"
   },
   "outputs": [
    {
     "name": "stdout",
     "output_type": "stream",
     "text": [
      "Requirement already satisfied: google-cloud-aiplatform in /home/jupyter/.local/lib/python3.10/site-packages (1.64.0)\n",
      "Requirement already satisfied: google-cloud-storage in /home/jupyter/.local/lib/python3.10/site-packages (2.18.2)\n",
      "Requirement already satisfied: google-cloud-bigquery[pandas] in /opt/conda/lib/python3.10/site-packages (3.25.0)\n",
      "Requirement already satisfied: google-api-core!=2.0.*,!=2.1.*,!=2.2.*,!=2.3.*,!=2.4.*,!=2.5.*,!=2.6.*,!=2.7.*,<3.0.0dev,>=1.34.1 in /home/jupyter/.local/lib/python3.10/site-packages (from google-api-core[grpc]!=2.0.*,!=2.1.*,!=2.2.*,!=2.3.*,!=2.4.*,!=2.5.*,!=2.6.*,!=2.7.*,<3.0.0dev,>=1.34.1->google-cloud-aiplatform) (2.19.2)\n",
      "Requirement already satisfied: google-auth<3.0.0dev,>=2.14.1 in /opt/conda/lib/python3.10/site-packages (from google-cloud-aiplatform) (2.32.0)\n",
      "Requirement already satisfied: proto-plus<2.0.0dev,>=1.22.3 in /opt/conda/lib/python3.10/site-packages (from google-cloud-aiplatform) (1.24.0)\n",
      "Requirement already satisfied: protobuf!=4.21.0,!=4.21.1,!=4.21.2,!=4.21.3,!=4.21.4,!=4.21.5,<6.0.0dev,>=3.20.2 in /home/jupyter/.local/lib/python3.10/site-packages (from google-cloud-aiplatform) (4.25.4)\n",
      "Requirement already satisfied: packaging>=14.3 in /opt/conda/lib/python3.10/site-packages (from google-cloud-aiplatform) (24.1)\n",
      "Requirement already satisfied: google-cloud-resource-manager<3.0.0dev,>=1.3.3 in /opt/conda/lib/python3.10/site-packages (from google-cloud-aiplatform) (1.12.3)\n",
      "Requirement already satisfied: shapely<3.0.0dev in /opt/conda/lib/python3.10/site-packages (from google-cloud-aiplatform) (2.0.5)\n",
      "Requirement already satisfied: pydantic<3 in /opt/conda/lib/python3.10/site-packages (from google-cloud-aiplatform) (1.10.17)\n",
      "Requirement already satisfied: docstring-parser<1 in /opt/conda/lib/python3.10/site-packages (from google-cloud-aiplatform) (0.16)\n",
      "Requirement already satisfied: google-cloud-core<3.0dev,>=2.3.0 in /opt/conda/lib/python3.10/site-packages (from google-cloud-storage) (2.4.1)\n",
      "Requirement already satisfied: google-resumable-media>=2.7.2 in /home/jupyter/.local/lib/python3.10/site-packages (from google-cloud-storage) (2.7.2)\n",
      "Requirement already satisfied: requests<3.0.0dev,>=2.18.0 in /opt/conda/lib/python3.10/site-packages (from google-cloud-storage) (2.32.3)\n",
      "Requirement already satisfied: google-crc32c<2.0dev,>=1.0 in /opt/conda/lib/python3.10/site-packages (from google-cloud-storage) (1.5.0)\n",
      "Requirement already satisfied: python-dateutil<3.0dev,>=2.7.2 in /opt/conda/lib/python3.10/site-packages (from google-cloud-bigquery[pandas]) (2.9.0)\n",
      "Requirement already satisfied: pandas>=1.1.0 in /opt/conda/lib/python3.10/site-packages (from google-cloud-bigquery[pandas]) (2.0.3)\n",
      "Requirement already satisfied: pyarrow>=3.0.0 in /opt/conda/lib/python3.10/site-packages (from google-cloud-bigquery[pandas]) (9.0.0)\n",
      "Requirement already satisfied: db-dtypes<2.0.0dev,>=0.3.0 in /opt/conda/lib/python3.10/site-packages (from google-cloud-bigquery[pandas]) (1.2.0)\n",
      "Requirement already satisfied: numpy>=1.16.6 in /opt/conda/lib/python3.10/site-packages (from db-dtypes<2.0.0dev,>=0.3.0->google-cloud-bigquery[pandas]) (1.24.4)\n",
      "Requirement already satisfied: googleapis-common-protos<2.0.dev0,>=1.56.2 in /opt/conda/lib/python3.10/site-packages (from google-api-core!=2.0.*,!=2.1.*,!=2.2.*,!=2.3.*,!=2.4.*,!=2.5.*,!=2.6.*,!=2.7.*,<3.0.0dev,>=1.34.1->google-api-core[grpc]!=2.0.*,!=2.1.*,!=2.2.*,!=2.3.*,!=2.4.*,!=2.5.*,!=2.6.*,!=2.7.*,<3.0.0dev,>=1.34.1->google-cloud-aiplatform) (1.63.1)\n",
      "Requirement already satisfied: grpcio<2.0dev,>=1.33.2 in /opt/conda/lib/python3.10/site-packages (from google-api-core[grpc]!=2.0.*,!=2.1.*,!=2.2.*,!=2.3.*,!=2.4.*,!=2.5.*,!=2.6.*,!=2.7.*,<3.0.0dev,>=1.34.1->google-cloud-aiplatform) (1.48.0)\n",
      "Requirement already satisfied: grpcio-status<2.0.dev0,>=1.33.2 in /opt/conda/lib/python3.10/site-packages (from google-api-core[grpc]!=2.0.*,!=2.1.*,!=2.2.*,!=2.3.*,!=2.4.*,!=2.5.*,!=2.6.*,!=2.7.*,<3.0.0dev,>=1.34.1->google-cloud-aiplatform) (1.48.0)\n",
      "Requirement already satisfied: cachetools<6.0,>=2.0.0 in /opt/conda/lib/python3.10/site-packages (from google-auth<3.0.0dev,>=2.14.1->google-cloud-aiplatform) (4.2.4)\n",
      "Requirement already satisfied: pyasn1-modules>=0.2.1 in /opt/conda/lib/python3.10/site-packages (from google-auth<3.0.0dev,>=2.14.1->google-cloud-aiplatform) (0.4.0)\n",
      "Requirement already satisfied: rsa<5,>=3.1.4 in /opt/conda/lib/python3.10/site-packages (from google-auth<3.0.0dev,>=2.14.1->google-cloud-aiplatform) (4.9)\n",
      "Requirement already satisfied: grpc-google-iam-v1<1.0.0dev,>=0.12.4 in /opt/conda/lib/python3.10/site-packages (from google-cloud-resource-manager<3.0.0dev,>=1.3.3->google-cloud-aiplatform) (0.12.7)\n",
      "Requirement already satisfied: pytz>=2020.1 in /opt/conda/lib/python3.10/site-packages (from pandas>=1.1.0->google-cloud-bigquery[pandas]) (2024.1)\n",
      "Requirement already satisfied: tzdata>=2022.1 in /opt/conda/lib/python3.10/site-packages (from pandas>=1.1.0->google-cloud-bigquery[pandas]) (2024.1)\n",
      "Requirement already satisfied: typing-extensions>=4.2.0 in /opt/conda/lib/python3.10/site-packages (from pydantic<3->google-cloud-aiplatform) (4.12.2)\n",
      "Requirement already satisfied: six>=1.5 in /opt/conda/lib/python3.10/site-packages (from python-dateutil<3.0dev,>=2.7.2->google-cloud-bigquery[pandas]) (1.16.0)\n",
      "Requirement already satisfied: charset-normalizer<4,>=2 in /opt/conda/lib/python3.10/site-packages (from requests<3.0.0dev,>=2.18.0->google-cloud-storage) (3.3.2)\n",
      "Requirement already satisfied: idna<4,>=2.5 in /opt/conda/lib/python3.10/site-packages (from requests<3.0.0dev,>=2.18.0->google-cloud-storage) (3.7)\n",
      "Requirement already satisfied: urllib3<3,>=1.21.1 in /opt/conda/lib/python3.10/site-packages (from requests<3.0.0dev,>=2.18.0->google-cloud-storage) (1.26.19)\n",
      "Requirement already satisfied: certifi>=2017.4.17 in /opt/conda/lib/python3.10/site-packages (from requests<3.0.0dev,>=2.18.0->google-cloud-storage) (2024.7.4)\n",
      "Requirement already satisfied: pyasn1<0.7.0,>=0.4.6 in /opt/conda/lib/python3.10/site-packages (from pyasn1-modules>=0.2.1->google-auth<3.0.0dev,>=2.14.1->google-cloud-aiplatform) (0.6.0)\n",
      "Note: you may need to restart the kernel to use updated packages.\n"
     ]
    }
   ],
   "source": [
    "%pip install --upgrade --user google-cloud-aiplatform google-cloud-storage 'google-cloud-bigquery[pandas]'"
   ]
  },
  {
   "cell_type": "markdown",
   "metadata": {
    "id": "R5Xep4W9lq-Z"
   },
   "source": [
    "### Restart current runtime\n",
    "\n",
    "To use the newly installed packages in this Jupyter runtime, you must restart the runtime. You can do this by running the cell below, which will restart the current kernel."
   ]
  },
  {
   "cell_type": "code",
   "execution_count": 2,
   "metadata": {
    "id": "XRvKdaPDTznN"
   },
   "outputs": [
    {
     "data": {
      "text/plain": [
       "{'status': 'ok', 'restart': True}"
      ]
     },
     "execution_count": 2,
     "metadata": {},
     "output_type": "execute_result"
    }
   ],
   "source": [
    "# Restart kernel after installs so that your environment can access the new packages\n",
    "import IPython\n",
    "\n",
    "app = IPython.Application.instance()\n",
    "app.kernel.do_shutdown(True)"
   ]
  },
  {
   "cell_type": "markdown",
   "metadata": {
    "id": "SbmM4z7FOBpM"
   },
   "source": [
    "<div class=\"alert alert-block alert-warning\">\n",
    "<b>⚠️ The kernel is going to restart. Please wait until it is finished before continuing to the next step. ⚠️</b>\n",
    "</div>\n"
   ]
  },
  {
   "cell_type": "markdown",
   "metadata": {
    "id": "nCoTvkOJoh76"
   },
   "source": [
    "### Environment variables\n",
    "\n",
    "Sets environment variables. If asked, please replace the following `[your-project-id]` with your project ID and run it."
   ]
  },
  {
   "cell_type": "code",
   "execution_count": 2,
   "metadata": {
    "id": "fkmvFRrj3nQI"
   },
   "outputs": [],
   "source": [
    "# get project ID\n",
    "PROJECT_ID = ! gcloud config get project\n",
    "PROJECT_ID = PROJECT_ID[0]\n",
    "LOCATION = \"us-central1\"\n",
    "if PROJECT_ID == \"(unset)\":\n",
    "    print(f\"Please set the project ID manually below\")"
   ]
  },
  {
   "cell_type": "code",
   "execution_count": 3,
   "metadata": {
    "tags": []
   },
   "outputs": [
    {
     "data": {
      "text/plain": [
       "'qwiklabs-gcp-02-c9d98b2ccdc9'"
      ]
     },
     "execution_count": 3,
     "metadata": {},
     "output_type": "execute_result"
    }
   ],
   "source": [
    "PROJECT_ID"
   ]
  },
  {
   "cell_type": "code",
   "execution_count": 4,
   "metadata": {
    "id": "69XJ95rNoYG9"
   },
   "outputs": [],
   "source": [
    "# define project information\n",
    "if PROJECT_ID == \"(unset)\":\n",
    "    PROJECT_ID = \"[your-project-id]\"  # @param {type:\"string\"}\n",
    "\n",
    "# generate an unique id for this session\n",
    "from datetime import datetime\n",
    "\n",
    "UID = datetime.now().strftime(\"%m%d%H%M\")"
   ]
  },
  {
   "cell_type": "markdown",
   "metadata": {
    "id": "ph7mDSMRVTIZ"
   },
   "source": [
    "### Authentication (Colab only)\n",
    "\n",
    "If you are running this notebook on Colab, you will need to run the following cell authentication. This step is not required if you are using Vertex AI Workbench as it is pre-authenticated."
   ]
  },
  {
   "cell_type": "code",
   "execution_count": 5,
   "metadata": {
    "id": "5jQkFtlimNXR"
   },
   "outputs": [],
   "source": [
    "import sys\n",
    "\n",
    "# if it's Colab runtime, authenticate the user with Google Cloud\n",
    "if \"google.colab\" in sys.modules:\n",
    "    from google.colab import auth\n",
    "\n",
    "    auth.authenticate_user()"
   ]
  },
  {
   "cell_type": "markdown",
   "metadata": {
    "id": "jUPbl4IFLmC2"
   },
   "source": [
    "### Enable APIs\n",
    "\n",
    "Run the following to enable APIs for Compute Engine, Vertex AI, Cloud Storage and BigQuery with this Google Cloud project."
   ]
  },
  {
   "cell_type": "code",
   "execution_count": 6,
   "metadata": {
    "id": "qGf0qMMQNond"
   },
   "outputs": [
    {
     "name": "stdout",
     "output_type": "stream",
     "text": [
      "Operation \"operations/acat.p2-238705280598-ccb169c3-f7a1-4a70-8c3a-29712b57c4f0\" finished successfully.\n"
     ]
    }
   ],
   "source": [
    "! gcloud services enable compute.googleapis.com aiplatform.googleapis.com storage.googleapis.com bigquery.googleapis.com --project {PROJECT_ID}"
   ]
  },
  {
   "cell_type": "markdown",
   "metadata": {
    "id": "8cF8rkN3Lnhq"
   },
   "source": [
    "### Set IAM permissions\n",
    "\n",
    "Also, we need to add access permissions to the default service account for using those services.\n",
    "\n",
    "- Go to [the IAM page](https://console.cloud.google.com/iam-admin/) in the Console\n",
    "- Look for the principal for default compute service account. It should look like: `<project-number>-compute@developer.gserviceaccount.com`\n",
    "- Click the edit button at right and click `ADD ANOTHER ROLE` to add `Vertex AI User`, `BigQuery User` and `Storage Admin` to the account.\n",
    "\n",
    "This will look like this:\n",
    "\n",
    "![](https://storage.googleapis.com/github-repo/img/embeddings/vs-quickstart/iam-setting.png)"
   ]
  },
  {
   "cell_type": "markdown",
   "metadata": {
    "id": "mahCxLXHMIls"
   },
   "source": [
    "## Getting Started with Vertex AI Embeddings for Text\n",
    "\n",
    "Now it's ready to get started with embeddings!"
   ]
  },
  {
   "cell_type": "markdown",
   "metadata": {
    "id": "rq07_-o0VoZD"
   },
   "source": [
    "### Data Preparation\n",
    "\n",
    "We will be using [the Stack Overflow public dataset](https://console.cloud.google.com/marketplace/product/stack-exchange/stack-overflow) hosted on BigQuery table `bigquery-public-data.stackoverflow.posts_questions`. This is a very big dataset with 23 million rows that doesn't fit into the memory. We are going to limit it to 1000 rows for this tutorial."
   ]
  },
  {
   "cell_type": "code",
   "execution_count": 8,
   "metadata": {
    "id": "snrzPsEQDH4S"
   },
   "outputs": [
    {
     "name": "stderr",
     "output_type": "stream",
     "text": [
      "/opt/conda/lib/python3.10/site-packages/google/cloud/bigquery/table.py:2309: UserWarning: Unable to represent RANGE schema as struct using pandas ArrowDtype. Using `object` instead. To use ArrowDtype, use pandas >= 1.5 and pyarrow >= 10.0.1.\n",
      "  warnings.warn(_RANGE_PYARROW_WARNING)\n",
      "/opt/conda/lib/python3.10/site-packages/google/cloud/bigquery/table.py:2323: UserWarning: Unable to represent RANGE schema as struct using pandas ArrowDtype. Using `object` instead. To use ArrowDtype, use pandas >= 1.5 and pyarrow >= 10.0.1.\n",
      "  warnings.warn(_RANGE_PYARROW_WARNING)\n",
      "/opt/conda/lib/python3.10/site-packages/google/cloud/bigquery/table.py:2337: UserWarning: Unable to represent RANGE schema as struct using pandas ArrowDtype. Using `object` instead. To use ArrowDtype, use pandas >= 1.5 and pyarrow >= 10.0.1.\n",
      "  warnings.warn(_RANGE_PYARROW_WARNING)\n"
     ]
    },
    {
     "data": {
      "text/html": [
       "<div>\n",
       "<style scoped>\n",
       "    .dataframe tbody tr th:only-of-type {\n",
       "        vertical-align: middle;\n",
       "    }\n",
       "\n",
       "    .dataframe tbody tr th {\n",
       "        vertical-align: top;\n",
       "    }\n",
       "\n",
       "    .dataframe thead th {\n",
       "        text-align: right;\n",
       "    }\n",
       "</style>\n",
       "<table border=\"1\" class=\"dataframe\">\n",
       "  <thead>\n",
       "    <tr style=\"text-align: right;\">\n",
       "      <th></th>\n",
       "      <th>id</th>\n",
       "      <th>title</th>\n",
       "    </tr>\n",
       "  </thead>\n",
       "  <tbody>\n",
       "    <tr>\n",
       "      <th>0</th>\n",
       "      <td>73254452</td>\n",
       "      <td>Flutter - Google Play Pre-launch Error - Any i...</td>\n",
       "    </tr>\n",
       "    <tr>\n",
       "      <th>1</th>\n",
       "      <td>73519314</td>\n",
       "      <td>Expecting binder but got null</td>\n",
       "    </tr>\n",
       "    <tr>\n",
       "      <th>2</th>\n",
       "      <td>73351011</td>\n",
       "      <td>Background process for mobile device tracking ...</td>\n",
       "    </tr>\n",
       "    <tr>\n",
       "      <th>3</th>\n",
       "      <td>73195523</td>\n",
       "      <td>Python: Same list gets used on second call</td>\n",
       "    </tr>\n",
       "    <tr>\n",
       "      <th>4</th>\n",
       "      <td>73281807</td>\n",
       "      <td>Comment Instagram Post Selenium Python</td>\n",
       "    </tr>\n",
       "  </tbody>\n",
       "</table>\n",
       "</div>"
      ],
      "text/plain": [
       "         id                                              title\n",
       "0  73254452  Flutter - Google Play Pre-launch Error - Any i...\n",
       "1  73519314                      Expecting binder but got null\n",
       "2  73351011  Background process for mobile device tracking ...\n",
       "3  73195523         Python: Same list gets used on second call\n",
       "4  73281807             Comment Instagram Post Selenium Python"
      ]
     },
     "execution_count": 8,
     "metadata": {},
     "output_type": "execute_result"
    }
   ],
   "source": [
    "# load the BQ Table into a Pandas DataFrame\n",
    "from google.cloud import bigquery\n",
    "\n",
    "QUESTIONS_SIZE = 1000\n",
    "\n",
    "bq_client = bigquery.Client(project=PROJECT_ID)\n",
    "QUERY_TEMPLATE = \"\"\"\n",
    "        SELECT distinct q.id, q.title\n",
    "        FROM (SELECT * FROM `bigquery-public-data.stackoverflow.posts_questions`\n",
    "        where Score > 0 ORDER BY View_Count desc) AS q\n",
    "        LIMIT {limit} ;\n",
    "        \"\"\"\n",
    "query = QUERY_TEMPLATE.format(limit=QUESTIONS_SIZE)\n",
    "query_job = bq_client.query(query)\n",
    "rows = query_job.result()\n",
    "df = rows.to_dataframe()\n",
    "\n",
    "# examine the data\n",
    "df.head()"
   ]
  },
  {
   "cell_type": "markdown",
   "metadata": {
    "id": "j6022U1FWzpb"
   },
   "source": [
    "### Call the API to generate embeddings\n",
    "\n",
    "With the Stack Overflow dataset, we will use the `title` column (the question title) and generate embedding for it with Embeddings for Text API. The API is available under the [vertexai](https://cloud.google.com/python/docs/reference/aiplatform/latest/vertexai) package of the SDK.\n",
    "\n",
    "You may see some warning messages from the TensorFlow library but you can ignore them."
   ]
  },
  {
   "cell_type": "code",
   "execution_count": 9,
   "metadata": {
    "id": "pY8M4DqO8wGx"
   },
   "outputs": [],
   "source": [
    "# init the vertexai package\n",
    "import vertexai\n",
    "\n",
    "vertexai.init(project=PROJECT_ID, location=LOCATION)"
   ]
  },
  {
   "cell_type": "markdown",
   "metadata": {
    "id": "jrG82n-y-EC5"
   },
   "source": [
    "From the package, import [TextEmbeddingModel](https://cloud.google.com/python/docs/reference/aiplatform/latest/vertexai.language_models.TextEmbeddingModel) and get a model."
   ]
  },
  {
   "cell_type": "code",
   "execution_count": 10,
   "metadata": {
    "id": "YVLHjSeOGoTu"
   },
   "outputs": [],
   "source": [
    "# Load the text embeddings model\n",
    "from vertexai.language_models import TextEmbeddingModel\n",
    "\n",
    "model = TextEmbeddingModel.from_pretrained(\"textembedding-gecko@001\")"
   ]
  },
  {
   "cell_type": "markdown",
   "metadata": {
    "id": "FqdVsgZDb_hc"
   },
   "source": [
    "In this tutorial we will use `textembedding-gecko@001` model for getting text embeddings. Please take a look at [Supported models](https://cloud.google.com/vertex-ai/docs/generative-ai/embeddings/get-text-embeddings#supported_models) on the doc to see the list of supported models.\n",
    "\n",
    "Once you get the model, you can call its [get_embeddings](https://cloud.google.com/python/docs/reference/aiplatform/latest/vertexai.language_models.TextEmbeddingModel#vertexai_language_models_TextEmbeddingModel_get_embeddings) function to get embeddings. You can pass up to 5 texts at once in a call. But there is a caveat. By default, the text embeddings API has a \"request per minute\" quota set to 60 for new Cloud projects and 600 for projects with usage history (see [Quotas and limits](https://cloud.google.com/vertex-ai/docs/quotas#request_quotas) to check the latest quota value for `base_model:textembedding-gecko`). So, rather than using the function directly, you may want to define a wrapper like below to limit under 10 calls per second, and pass 5 texts each time."
   ]
  },
  {
   "cell_type": "code",
   "execution_count": 11,
   "metadata": {
    "id": "8HUb9u_P2VWW"
   },
   "outputs": [],
   "source": [
    "import time\n",
    "\n",
    "import tqdm  # to show a progress bar\n",
    "\n",
    "# get embeddings for a list of texts\n",
    "BATCH_SIZE = 5\n",
    "\n",
    "\n",
    "def get_embeddings_wrapper(texts):\n",
    "    embs = []\n",
    "    for i in tqdm.tqdm(range(0, len(texts), BATCH_SIZE)):\n",
    "        time.sleep(1)  # to avoid the quota error\n",
    "        result = model.get_embeddings(texts[i : i + BATCH_SIZE])\n",
    "        embs = embs + [e.values for e in result]\n",
    "    return embs"
   ]
  },
  {
   "cell_type": "markdown",
   "metadata": {
    "id": "aK4eTSPfcEuh"
   },
   "source": [
    "The following code will get embedding for the question titles and add them as a new column `embedding` to the DataFrame. This will take a few minutes."
   ]
  },
  {
   "cell_type": "code",
   "execution_count": 12,
   "metadata": {
    "id": "FcqPvu4PluN1"
   },
   "outputs": [
    {
     "name": "stderr",
     "output_type": "stream",
     "text": [
      "100%|██████████| 200/200 [03:38<00:00,  1.09s/it]\n"
     ]
    },
    {
     "data": {
      "text/html": [
       "<div>\n",
       "<style scoped>\n",
       "    .dataframe tbody tr th:only-of-type {\n",
       "        vertical-align: middle;\n",
       "    }\n",
       "\n",
       "    .dataframe tbody tr th {\n",
       "        vertical-align: top;\n",
       "    }\n",
       "\n",
       "    .dataframe thead th {\n",
       "        text-align: right;\n",
       "    }\n",
       "</style>\n",
       "<table border=\"1\" class=\"dataframe\">\n",
       "  <thead>\n",
       "    <tr style=\"text-align: right;\">\n",
       "      <th></th>\n",
       "      <th>id</th>\n",
       "      <th>title</th>\n",
       "      <th>embedding</th>\n",
       "    </tr>\n",
       "  </thead>\n",
       "  <tbody>\n",
       "    <tr>\n",
       "      <th>0</th>\n",
       "      <td>73254452</td>\n",
       "      <td>Flutter - Google Play Pre-launch Error - Any i...</td>\n",
       "      <td>[0.02963450737297535, 0.003916845191270113, 0....</td>\n",
       "    </tr>\n",
       "    <tr>\n",
       "      <th>1</th>\n",
       "      <td>73519314</td>\n",
       "      <td>Expecting binder but got null</td>\n",
       "      <td>[0.023182498291134834, -0.0032779567409306765,...</td>\n",
       "    </tr>\n",
       "    <tr>\n",
       "      <th>2</th>\n",
       "      <td>73351011</td>\n",
       "      <td>Background process for mobile device tracking ...</td>\n",
       "      <td>[-0.016432661563158035, 0.029456233605742455, ...</td>\n",
       "    </tr>\n",
       "    <tr>\n",
       "      <th>3</th>\n",
       "      <td>73195523</td>\n",
       "      <td>Python: Same list gets used on second call</td>\n",
       "      <td>[-0.026678675785660744, -0.005611827131360769,...</td>\n",
       "    </tr>\n",
       "    <tr>\n",
       "      <th>4</th>\n",
       "      <td>73281807</td>\n",
       "      <td>Comment Instagram Post Selenium Python</td>\n",
       "      <td>[-0.018306473270058632, 0.03236135467886925, 0...</td>\n",
       "    </tr>\n",
       "  </tbody>\n",
       "</table>\n",
       "</div>"
      ],
      "text/plain": [
       "         id                                              title  \\\n",
       "0  73254452  Flutter - Google Play Pre-launch Error - Any i...   \n",
       "1  73519314                      Expecting binder but got null   \n",
       "2  73351011  Background process for mobile device tracking ...   \n",
       "3  73195523         Python: Same list gets used on second call   \n",
       "4  73281807             Comment Instagram Post Selenium Python   \n",
       "\n",
       "                                           embedding  \n",
       "0  [0.02963450737297535, 0.003916845191270113, 0....  \n",
       "1  [0.023182498291134834, -0.0032779567409306765,...  \n",
       "2  [-0.016432661563158035, 0.029456233605742455, ...  \n",
       "3  [-0.026678675785660744, -0.005611827131360769,...  \n",
       "4  [-0.018306473270058632, 0.03236135467886925, 0...  "
      ]
     },
     "execution_count": 12,
     "metadata": {},
     "output_type": "execute_result"
    }
   ],
   "source": [
    "# get embeddings for the question titles and add them as \"embedding\" column\n",
    "df = df.assign(embedding=get_embeddings_wrapper(list(df.title)))\n",
    "df.head()"
   ]
  },
  {
   "cell_type": "markdown",
   "metadata": {
    "id": "nB53SiJjVN6e"
   },
   "source": [
    "## Look at the embedding similarities\n",
    "\n",
    "Let's see how these embeddings are organized in the embedding space with their meanings by quickly calculating the similarities between them and sorting them.\n",
    "\n",
    "As embeddings are vectors, you can calculate similarity between two embeddings by using one of the popular metrics like the followings:\n",
    "\n",
    "![](https://storage.googleapis.com/github-repo/img/embeddings/textemb-vs-notebook/8.png)\n",
    "\n",
    "Which metric should we use? Usually it depends on how each model is trained. In case of the model `textembedding-gecko@001`, we need to use inner product (dot product).\n",
    "\n",
    "In the following code, it picks up one question randomly and uses the numpy `np.dot` function to calculate the similarities between the question and other questions."
   ]
  },
  {
   "cell_type": "code",
   "execution_count": 13,
   "metadata": {
    "id": "lKs6jSu7NiM6"
   },
   "outputs": [
    {
     "data": {
      "text/plain": [
       "array([0.54354941, 0.51988413, 0.47569071, 0.5349685 , 0.49447184])"
      ]
     },
     "execution_count": 13,
     "metadata": {},
     "output_type": "execute_result"
    }
   ],
   "source": [
    "import random\n",
    "\n",
    "import numpy as np\n",
    "\n",
    "# pick one of them as a key question\n",
    "key = random.randint(0, len(df))\n",
    "\n",
    "# calc dot product between the key and other questions\n",
    "embs = np.array(df.embedding.to_list())\n",
    "similarities = np.dot(embs[key], embs.T)\n",
    "\n",
    "# print similarities for the first 5 questions\n",
    "similarities[:5]"
   ]
  },
  {
   "cell_type": "markdown",
   "metadata": {
    "id": "srM04lJBQp4w"
   },
   "source": [
    "Finally, sort the questions with the similarities and print the list."
   ]
  },
  {
   "cell_type": "code",
   "execution_count": 14,
   "metadata": {
    "id": "lTUVvj9FQlab"
   },
   "outputs": [
    {
     "name": "stdout",
     "output_type": "stream",
     "text": [
      "Key question: How can I delete item from RecyclerView adapter's ArrayList, if I need to do it from another Fragment\n",
      "\n",
      "1.0000 How can I delete item from RecyclerView adapter's ArrayList, if I need to do it from another Fragment\n",
      "0.6653 How can I hide images from ListView when I am scrolling Down; Flutter\n",
      "0.6644 How to use Hilt with MVVM in fragments?\n",
      "0.6541 SyntaxError: Cannot use import statement outside a module | on android :app:bundleReleaseJsAndAssets\n",
      "0.6521 How to send multiple context in Outlet Context? react-router-dom v6\n",
      "0.6469 how to add another column in another spinner of same or other table in android studio\n",
      "0.6430 How to Rebuild list view when action chip is selected in a Flutter Chat app\n",
      "0.6270 how to render different items in navbar in different page\n",
      "0.6265 React Native TouchableOpacity onPress works many times\n",
      "0.6234 An ideal way to update list item properties in flutter\n",
      "0.6210 DeprecationWarning: 'getMutableClone' has been deprecated since v4.0.0. Use an appropriate `factory.update...` method instead,.. (look inside)\n",
      "0.6165 In AndroidViewModel extends AndroidViewModel class how can i handle intent data\n",
      "0.6129 Clear/destroy all session upon menu button click with smarty template\n",
      "0.6125 Android update gradle from AndroidStudio or CommandLine\n",
      "0.6123 How can I make a swipeable composable only consume clicks and drags directly on content?\n",
      "0.6120 How to add a edit to-do list item feature?\n",
      "0.6099 Proper action for EF Core onDelete in followers functionality\n",
      "0.6053 Appium - Unable to switch context when using chromedriver 104\n",
      "0.6052 TypeError: null is not an object (evaluating 'RNPurchases.isConfigured') error in release expo APK\n",
      "0.6007 Pass Binding To ViewModifier And Modify It\n"
     ]
    }
   ],
   "source": [
    "# print the question\n",
    "print(f\"Key question: {df.title[key]}\\n\")\n",
    "\n",
    "# sort and print the questions by similarities\n",
    "sorted_questions = sorted(\n",
    "    zip(df.title, similarities), key=lambda x: x[1], reverse=True\n",
    ")[:20]\n",
    "for i, (question, similarity) in enumerate(sorted_questions):\n",
    "    print(f\"{similarity:.4f} {question}\")"
   ]
  },
  {
   "cell_type": "markdown",
   "metadata": {
    "id": "S75SQzAg1wHV"
   },
   "source": [
    "# Find embeddings fast with Vertex AI Vector Search\n",
    "\n",
    "As we have explained above, you can find similar embeddings by calculating the distance or similarity between the embeddings.\n",
    "\n",
    "But this isn't easy when you have millions or billions of embeddings. For example, if you have 1 million embeddings with 768 dimensions, you need to repeat the distance calculations for 1 million x 768 times. This would take some seconds - too slow."
   ]
  },
  {
   "cell_type": "markdown",
   "metadata": {
    "id": "0sjhTy-a47YH"
   },
   "source": [
    "So the researchers have been studying a technique called [Approximate Nearest Neighbor (ANN)](https://en.wikipedia.org/wiki/Nearest_neighbor_search) for faster search. ANN uses \"vector quantization\" for separating the space into multiple spaces with a tree structure. This is similar to the index in relational databases for improving the query performance, enabling very fast and scalable search with billions of embeddings.\n",
    "\n",
    "With the rise of LLMs, the ANN is getting popular quite rapidly, known as the Vector Search technology.\n",
    "\n",
    "![](https://storage.googleapis.com/gweb-cloudblog-publish/images/7._ANN.1143068821171228.max-2200x2200.png)\n",
    "\n",
    "In 2020, Google Research published a new ANN algorithm called [ScaNN](https://ai.googleblog.com/2020/07/announcing-scann-efficient-vector.html). It is considered one of the best ANN algorithms in the industry, also the most important foundation for search and recommendation in major Google services such as Google Search, YouTube and many others.\n"
   ]
  },
  {
   "cell_type": "markdown",
   "metadata": {
    "id": "xVOL8BgM2isz"
   },
   "source": [
    "## What is Vertex AI Vector Search?\n",
    "\n",
    "Google Cloud developers can take the full advantage of Google's vector search technology with [Vertex AI Vector Search](https://cloud.google.com/vertex-ai/docs/vector-search/overview) (previously called Matching Engine). With this fully managed service, developers can just add the embeddings to its index and issue a search query with a key embedding for the blazingly fast vector search. In the case of the Stack Overflow demo, Vector Search can find relevant questions from 8 million embeddings in tens of milliseconds.\n",
    "\n",
    "![](https://storage.googleapis.com/github-repo/img/embeddings/textemb-vs-notebook/9.png)\n",
    "\n",
    "With Vector Search, you don't need to spend much time and money building your own vector search service from scratch or using open source tools if your goal is high scalability, availability and maintainability for production systems."
   ]
  },
  {
   "cell_type": "markdown",
   "metadata": {
    "id": "uBt8tjidSzyU"
   },
   "source": [
    "## Get Started with Vector Search\n",
    "\n",
    "When you already have the embeddings, then getting started with Vector Search is pretty easy. In this section, we will follow the steps below.\n",
    "\n",
    "### Setting up Vector Search\n",
    "- Save the embeddings in JSON files on Cloud Storage\n",
    "- Build an Index\n",
    "- Create an Index Endpoint\n",
    "- Deploy the Index to the endpoint\n",
    "\n",
    "### Use Vector Search\n",
    "\n",
    "- Query with the endpoint\n",
    "\n",
    "### **Tip for Colab users**\n",
    "\n",
    "If you use Colab for this tutorial, you may lose your runtime while you are waiting for the Index building and deployment in the later sections as it takes tens of minutes. In that case, run the following sections again with the new instance to recover the runtime: [Install Python SDK, Environment variables and Authentication](https://colab.research.google.com/drive/1xJhLFEyPqW0qvKiERD6aYgeTHa6_U50N?resourcekey=0-2qUkxckCjt6W03AsqvZHhw#scrollTo=AtXnXhF8U-8R&line=9&uniqifier=1).\n",
    "\n",
    "Then, use the [Utilities](https://colab.research.google.com/drive/1xJhLFEyPqW0qvKiERD6aYgeTHa6_U50N?resourcekey=0-2qUkxckCjt6W03AsqvZHhw#scrollTo=BE1tELsH-u8N&line=1&uniqifier=1) to recover the Index and Index Endpoint and continute with the rest."
   ]
  },
  {
   "cell_type": "markdown",
   "metadata": {
    "id": "6pu1a3zjfQ0D"
   },
   "source": [
    "### Save the embeddings in a JSON file\n",
    "To load the embeddings to Vector Search, we need to save them in JSON files with JSONL format. See more information in the docs at [Input data format and structure](https://cloud.google.com/vertex-ai/docs/matching-engine/match-eng-setup/format-structure#data-file-formats).\n",
    "\n",
    "First, export the `id` and `embedding` columns from the DataFrame in JSONL format, and save it."
   ]
  },
  {
   "cell_type": "code",
   "execution_count": 15,
   "metadata": {
    "id": "GzZ30d4j_uLU"
   },
   "outputs": [
    {
     "name": "stdout",
     "output_type": "stream",
     "text": [
      "{\"id\":73254452,\"embedding\":[0.0296345074,0.0039168452,0.0501732044,0.0314379297,0.0646350309,-0.045349028,0.0488401204,-0.0001475503,-0.025201913,0.0021164608,0.01200925,0.0125350067,0.0277253259,-0.0162291229,-0.0019927525,0.0034551492,-0.0424543805,-0.0225844812,0.0197457056,0.0021081949,-0.000001972,-0.0029590242,0.0075141313,0.009202119,-0.0269624889,-0.0649101138,-0.0057232878,-0.0219716206,-0.0263202284,-0.0064951773,0.0102308225,-0.0091822129,0.0025901112,-0.02029383,0.0188357271,-0.0263801739,0.0032958449,0.0154977757,0.015716305,0.0181444231,0.0056678546,0.0354014263,0.0212099552,0.0038003495,0.003174338,-0.00773995,-0.0648761541,0.0085565103,-0.0110580223,-0.0335650742,-0.0143362945,-0.0172290336,0.0126606058,0.0287948046,-0.0218704045,0.0562770478,-0.0739262253,0.0542534553,-0.0385045335,-0.0044158082,-0.0217670389,0.0381750092,0.048855897,-0.0020215421,0.0136098433,0.0180652961,0.0043549635,0.0387663282,-0.0445612222,-0.0380460136,0.0027811003,-0.0009371839,0.0222776774,-0.0122841559,0.0302124489,0.0158083122,0.0054678814,0.0469041578,0.0406630822,-0.0676338598,-0.0020532308,-0.0403094552,-0.0525332503,-0.1046454459,-0.0390371196,0.0494545437,-0.0041995626,0.0203703772,-0.0078015709,0.0404702909,-0.0406092741,0.0483100675,-0.0117807183,0.0528743714,0.010313658,0.0121151665,-0.0375319347,-0.0057971915,0.0165596791,0.0159936603,0.0007206941,-0.007906328,0.0439100452,-0.0334289335,0.0453427099,0.02146383,-0.0883874074,0.0086291526,-0.0231981259,-0.0879270807,-0.0809729546,0.0082474137,-0.0174598098,0.0652611852,-0.0534531213,-0.0596951507,0.0571376719,-0.0221663434,0.0255991407,0.0181192532,-0.0165307522,0.0101590101,0.0252499226,0.0260168985,0.0189115908,0.0362413712,0.0366019718,-0.0218613204,-0.0128784301,-0.0125305206,0.087053448,-0.0267943088,0.0656281486,0.0144467559,0.024265347,0.0188243333,-0.0253987387,0.0155269466,-0.0026780248,-0.0026373665,-0.0486168861,0.0086050332,-0.0291247182,0.0243738238,0.0247860737,-0.0899009928,-0.0126028219,-0.013910423,-0.0588084161,-0.0218162425,0.0614239722,0.0024649508,-0.0294899382,0.0279263817,0.0382879712,0.0834897906,0.0757395625,0.019167874,-0.0346813649,-0.0109182484,0.0178748462,-0.0136090526,0.0124102104,-0.0099568609,-0.0104421936,-0.0164429396,0.0232119802,0.0385463089,-0.00496832,0.016315015,0.0147732403,-0.1194248199,-0.0198925864,-0.0611417219,0.0524877682,0.0059495876,-0.0011816324,0.0030569194,0.0250178427,-0.0094548333,-0.001761389,-0.0492099188,0.0417405516,-0.0218677633,-0.0188375637,0.0951486453,0.0122276349,-0.0005558126,0.0075526759,0.0081339944,-0.0311940946,-0.0010992213,0.0636508986,-0.0510415174,-0.0618203618,0.0068603596,0.0762432143,-0.099249661,-0.0694899037,0.040342845,0.0281391852,-0.0336854458,0.0108557101,0.0163428374,-0.0326325223,0.0353857428,-0.055398412,0.0014948063,-0.0437470935,0.0091394447,0.0465582982,-0.0134071447,0.0309013091,-0.0770500824,0.0116803031,-0.0288724601,-0.0195615441,0.0070420858,-0.0627068952,-0.0003147479,-0.0286528245,0.0371935107,0.0033498316,0.0305571519,0.0305737499,0.008189559,-0.0121234674,0.0172629673,0.036760278,-0.0176731199,-0.0181591474,0.041987054,-0.0011575456,-0.0596734732,-0.0311311912,0.0229948722,0.042735476,-0.0095427353,-0.0234738663,0.0296949297,-0.0287756063,0.1163491458,-0.0326756872,0.0500471927,0.0093213124,0.0622543618,-0.0049573695,0.0230008401,-0.0428724438,-0.0103173722,0.0238047354,-0.0729002804,-0.0402434841,0.0191873573,-0.0125705581,-0.0050062211,-0.0394788831,0.0516079292,-0.0121949008,0.0086461138,-0.0059436318,0.02984423,0.0476661585,0.1002134234,-0.0155744459,-0.0358589031,-0.0086636813,-0.0080531323,0.0529441759,-0.0215869546,-0.0233462434,-0.0310260151,0.0076928111,0.0344760194,-0.0723110065,-0.0510835648,-0.0795020536,0.0373151638,0.0345817059,0.0461030416,-0.0008344002,-0.0559796467,-0.0195279904,0.0542695932,-0.0423062034,-0.0056887292,0.0047832476,-0.0067129019,-0.0536964945,-0.0266171601,-0.0061944285,-0.0175230093,0.0033846181,0.0083710849,-0.0022528991,-0.0204950199,0.0198222008,0.0135929184,-0.0326249562,0.0149551798,-0.0211877525,0.0249586366,0.0453401841,-0.0163979623,-0.0344637409,-0.0174820051,-0.0124530755,0.0075035188,0.0348517075,0.0024512811,0.009089224,-0.0067400998,0.0198362004,-0.0298137479,-0.030084677,0.0168293044,0.0019040813,-0.0097791357,0.0443819761,0.0344519764,0.0279983636,0.0097703086,0.0749632865,0.0032573713,-0.0163346007,-0.0130624119,-0.0009256742,-0.0228678733,0.0358520783,-0.0463617072,-0.0149805285,0.0092226053,0.0014537253,0.001990116,-0.0343030617,0.025111692,-0.0431522131,0.0477555655,-0.0242118258,-0.0507417545,0.0664552152,-0.0102004148,-0.0369130746,-0.0223392919,-0.0175886229,0.0073745353,-0.0839203447,-0.0368043892,0.0276219416,-0.0275060479,-0.0042097736,0.0227758791,-0.0142890057,0.0283522122,-0.0128724072,0.0024029016,0.0022360538,0.0181136914,0.0947140157,0.0215005018,-0.0847564191,-0.0157177188,-0.0253914297,-0.0178255159,0.0469912887,0.0212254673,-0.0757048875,0.0626176819,0.0122740064,-0.0297686737,0.0022258146,-0.0226261895,0.0278183892,-0.003197941,-0.0185166057,0.0168111473,-0.0261312723,0.0000564164,-0.0063983058,-0.0488399677,-0.0661575794,0.0539398938,-0.0310492814,0.0084700994,0.0027072183,0.0079539781,0.0376829468,0.0099902852,-0.0188245941,-0.0493136756,0.0456471257,0.0331580378,0.0331915319,0.0032665276,0.0273608286,0.0479298942,-0.0548996627,-0.0294392239,-0.0108916797,-0.0358343162,0.0035332905,0.01867388,-0.0415878594,-0.0305838287,0.0312768929,0.0423855893,0.0140162557,0.0121744173,0.0054056328,-0.0303240325,0.0148959374,0.0156792775,-0.0099440366,0.0337399282,0.047100015,-0.0267416593,-0.0275797043,0.013106999,0.0284417216,0.0804684535,0.0426774994,0.0067531611,-0.0752082765,0.030315809,-0.0061585414,0.0056364471,0.0021011911,0.0570525862,-0.0532299168,0.0510207973,-0.0588470325,0.0503097326,-0.013024115,-0.0449476056,-0.0298523214,-0.0639403537,0.0379670337,0.1123978272,0.0152709242,0.0173514001,-0.0367895402,0.0112296315,-0.0153999645,-0.0007287466,0.0314027146,-0.0221239757,-0.018175045,-0.0289251581,-0.0087509165,-0.0676212534,-0.0210809521,-0.0582616776,0.0884067267,0.0363429673,-0.0470677502,0.0029664205,0.0061457884,-0.0226108022,-0.0151904011,0.0509344004,-0.0187226683,0.0093668243,-0.0122802611,0.0539635755,0.0214370787,-0.0227750428,0.0336396359,0.0296095535,-0.0535486378,-0.048260726,0.0012838558,0.0367853902,-0.01176186,0.0261060018,0.0235913191,0.0118776103,0.062864475,0.0338281803,-0.01919071,0.0142579963,-0.0402623639,-0.0417642035,0.0363386832,-0.0087952772,0.0023554135,0.0416596085,0.0105849616,-0.0281648058,0.032989718,-0.0588713139,0.0177004095,-0.0214156806,0.0399250053,-0.0192674138,-0.0038384399,-0.0023990851,-0.0074285138,0.0152349109,0.0204440206,0.0734235346,0.0526372157,0.0184020791,-0.0016706474,0.003817782,-0.0470030531,-0.0234437976,-0.0278027672,-0.0257223677,-0.0478268154,0.0046290094,0.0123063782,0.0036778033,-0.007134859,-0.018769959,-0.0469837971,-0.0149626564,-0.0293909423,0.0343083031,-0.0467022881,0.0027781187,0.0195014849,-0.0370411798,-0.0077748527,0.0044521969,0.0641253218,0.0284298696,-0.007327857,0.0023801504,-0.0160691217,0.0192945898,0.0578581505,0.0391202979,0.0042761797,-0.0412281491,-0.0065922616,-0.0343842618,0.028103007,-0.0017662105,0.0237979982,0.1405411065,-0.0385039784,-0.0409759879,0.0301727131,0.0240591075,-0.0603958182,0.0147906123,0.0175878815,0.0263572074,-0.0287900884,0.0439392962,0.0444230139,0.0241955444,-0.0128596323,0.0531333312,0.0096307648,-0.0308764689,0.0035145716,-0.0403741747,-0.0477471016,-0.0311814621,-0.0300876759,-0.0296921525,0.0177587997,0.0172294229,0.0650266856,-0.0155743761,0.0473870039,0.0378361642,0.0311145056,0.0171169899,-0.00936729,-0.0367555916,-0.0237909369,0.0025540474,-0.0044071907,0.0091475667,-0.0172946975,-0.0219703671,0.0062407791,0.0240863208,-0.0477532335,0.0173521712,0.007331904,-0.0159800574,-0.0239854716,-0.0261495467,-0.0392301269,-0.0140919769,-0.0173835494,0.0083227884,0.0350318998,-0.0552690811,-0.0061422153,0.0053553628,-0.0848945454,-0.0269091949,-0.0495118611,-0.0103180576,-0.0532794595,-0.0052264994,-0.0128779709,0.0108629186,0.0059376149,-0.0160237979,0.010041656,-0.0061458382,0.0745227709,-0.0206584521,0.0213451087,0.0490948819,0.0412151627,0.0064319656,0.0058663022,-0.0253836382,-0.0449016131,0.0232671537,-0.0061751856,0.0339555964,-0.0032174536,0.056716688,0.0131608052,-0.0148776546,-0.0540582836,-0.0730724409,0.0550000109,-0.0252850149,0.0027252554,-0.0250627082,-0.0653962642,-0.028663788,-0.0061094146,-0.0557700172,-0.0595942326,-0.0325577632,0.0113772713,-0.0078602098,-0.0416136421,0.0090931123,0.0113256294,0.0442495346,0.0646331534,0.0234532263,-0.0063156388,-0.0287442729,-0.0030971346,-0.0387640856,0.0041030864,-0.0440374464,-0.033314053,0.0376235843,0.0569466874,-0.007624377,-0.0079811709,-0.0340729579,0.0447055548,0.0009095878,0.0342710242,0.0105184717,-0.0080232732,0.0200397484,0.0144874072,-0.0112525318,-0.0051033976,0.0466106981,-0.0656449571,0.0937478021,-0.0195853654,-0.004502893,0.0107646724,-0.0179856606,-0.0106214164,-0.024735352,0.0066073341,-0.0065406589,0.0497467518,0.0276310518,-0.0026968918,0.0834923685,0.0449092574,0.0079984926,-0.0451637544,0.0346730687,-0.0063557145,0.0173729938,-0.0213533621,-0.0253956895,0.0377721004,0.0022776553,0.0417187661,-0.1021469235,-0.0341380537,-0.0166588146,-0.1060370877,-0.0351750702,-0.0024244264,-0.0756501928,-0.0100402795,-0.0197131038,-0.0240523051,0.0355323181,0.0068104402,0.0516360961,-0.0017642062,0.0249368455,0.0908617079,-0.0263594575,-0.0148448851,-0.0338134989,0.0216497779,-0.088159211,-0.0048633288,-0.0448057726,-0.0180973168,0.0027357186,0.0122392522,0.0513182469,-0.0598346367,0.0067713442,0.0220765341,0.0296223871,-0.0495787039,0.01744649,0.0625710115,-0.0181549583,-0.0059951022,-0.0254381727,0.0309775118,-0.0197471902,-0.0331595391,0.0345650539,-0.000084447,-0.0052590445,-0.0209644977,0.0180312637,0.0136757959,-0.0104898633,0.0346564539,0.0133790309,0.0467243232,0.0014309362,0.0275345165,0.0530339926,-0.0606083646,0.0049528857,0.0143392626,-0.0151526723,-0.0219238568,0.0206379741,-0.0317454077,-0.0723631755,-0.0042822985,0.0214226469,0.0355368927,0.040229395,-0.0538735166,0.0683923587,0.0157991592,0.0642514154,0.0066881832,0.0678051114,-0.0403818935,-0.0286509749,-0.0399278142,0.0227967054,-0.0077415928,-0.0229189303,-0.0332866013,-0.0420673117]}\n",
      "{\"id\":73519314,\"embedding\":[0.0231824983,-0.0032779567,0.0096743554,0.0142209698,0.0083807288,-0.0270881187,0.0462651029,0.0152847311,0.0395933241,0.0356685221,0.0240406394,0.0447706915,0.0428345315,-0.0013802649,-0.0085548237,-0.0265100934,-0.0555901788,0.0240925271,0.0035031212,0.0302944854,-0.0871704146,-0.0042649759,-0.0003473985,0.0448591821,-0.0510456786,-0.1168589965,-0.0153174251,0.018236246,0.0048952349,-0.0472940281,0.0223752428,0.0201440491,0.0090207867,-0.0398561284,0.0258197952,0.0172014832,-0.0088684782,-0.0066430569,0.0483804196,0.0158890598,-0.0058435337,0.0105795832,0.0000350059,0.0313064791,0.0086860983,0.0730029866,-0.0109189199,-0.0028834594,-0.0069337757,-0.0575292408,-0.0061943717,-0.032842949,0.0035939161,0.0336345583,0.0231498685,0.0508282967,-0.0417314656,-0.0243583079,-0.0317545682,0.0114822974,0.0304852631,-0.0223648939,0.0322097428,0.0078539615,0.0051524593,0.0545609221,0.0397438519,-0.0061273845,-0.0047873738,-0.0044739638,0.0400388688,0.0081910556,-0.024000166,-0.0421012752,0.0374343954,0.0021999406,-0.0063197124,0.0534234047,0.0541635454,-0.0412733629,-0.0283634514,-0.0465457812,-0.0407912508,-0.0679638982,-0.0132626342,0.0017330897,-0.0521064103,0.0268262997,-0.0146512827,0.0525418185,-0.0527491309,-0.0046532694,0.0572845377,0.0196505804,-0.0092799254,0.0314464606,-0.0021199388,0.0157459602,0.0626065508,-0.0359658487,0.0470004044,-0.0299969744,0.0918610319,-0.0592865348,0.0581178218,0.012176903,-0.0433430746,0.0403392129,-0.0116298897,-0.0634997338,-0.0394128785,0.0069149211,-0.0186751392,0.0254371706,-0.0223031212,-0.0233867466,0.0379369743,-0.0171893463,0.0525340997,0.038867943,-0.0529082008,0.0245182049,-0.0147917308,0.0292293355,0.0223779678,0.0304956269,0.03099728,-0.0040996224,0.019734377,0.0061803726,0.0208269991,0.0017363187,0.0714964941,-0.0236571208,-0.0171569083,0.0523275435,-0.0277592242,0.0106652332,0.0369610004,0.0464018285,-0.0456891879,-0.0167060792,-0.0241308082,0.0200541876,0.0056173215,-0.0362073854,0.0414208658,-0.0155074261,-0.0452430956,-0.0523383319,0.0064897542,-0.0418458953,-0.0091535151,0.0174093414,0.0477300808,0.0804125965,0.0783427432,0.0581791811,-0.0391120836,-0.018340297,0.0151750324,-0.0377637334,0.0321748257,-0.0188526791,0.0195302851,-0.0015981281,-0.0114806062,-0.012156954,-0.0327088162,-0.0032784634,0.0763294324,-0.1160806865,0.0430475995,-0.0706296116,0.0318367928,0.0318914838,-0.0080220457,-0.0195062626,-0.0375125594,-0.0058497293,-0.0219863299,-0.0841594115,0.0141856717,-0.0394826457,-0.0542463772,-0.0286283661,-0.0026509408,-0.0447213091,-0.0243957974,0.0473565832,-0.030479027,0.0231548883,0.0072833677,-0.047814019,-0.0190902632,-0.0123209199,0.0577672459,-0.1010614112,-0.0287952255,0.0236277338,-0.0058910684,-0.0270672534,-0.0016174878,0.0154152,-0.0327881798,-0.0170884207,-0.0528400317,-0.0192338396,0.0014124847,0.0493360944,0.0168773718,-0.0178477652,0.0568834133,0.0591224879,0.0119069805,0.0281894337,0.0311023388,-0.0361255854,-0.087625578,0.0034966455,-0.0488745719,0.031413205,-0.0115920445,0.0965125561,0.0248287935,0.0315490924,0.0487945266,-0.0127839642,0.0243056584,-0.0031493872,-0.0646503344,-0.0013022209,-0.0240339506,-0.0445904508,-0.0327652358,0.0601945221,-0.0384240486,0.0539730042,-0.1084868088,0.0102388598,-0.03546023,0.0352637433,-0.0164640266,0.0481446758,-0.0427528806,0.0235365648,-0.0052792267,0.0426340364,0.0715496689,-0.0192238037,0.0248586424,-0.0688328445,0.0037237115,0.0133938827,-0.0027195539,0.0272832345,-0.0230325628,0.1040753573,0.0149927763,0.0006453557,-0.0199101698,0.0204224996,0.0262581799,0.0616661422,-0.0225321967,-0.0169085152,-0.00225448,-0.0090178866,0.0741988197,-0.0619011633,0.0103281476,-0.0502347685,0.0534426793,0.0158524178,-0.0228790529,-0.0065249233,-0.0405757949,0.0317359343,0.0072294585,0.0463194177,0.0076817833,-0.0332472846,-0.0006161348,0.0485666506,0.0213977061,-0.0049998043,-0.0219426285,0.0187311731,-0.0209787153,-0.0270812996,0.0315008759,-0.0186172258,-0.0052426225,0.0509606786,0.0145301884,0.000119872,0.0511352345,-0.0424660183,-0.0599710643,-0.0100037465,0.0161031485,-0.0260402206,0.0396017246,-0.0152131915,-0.0204299986,-0.0078853769,0.0281132329,0.0216690116,0.0235533603,-0.0322288163,0.0140164262,0.0072833588,0.0193999819,0.0175036155,-0.0319415405,0.0281082448,-0.0191012993,-0.0124968756,-0.0382750258,0.0480909683,-0.0248577986,-0.0395357572,0.0620122068,0.0535952784,-0.017878687,-0.0513724424,-0.0445722938,-0.0283933505,0.0724469796,-0.0340875424,-0.0222641956,0.035998635,-0.0121364119,-0.0225767884,0.0295754541,-0.0097061517,-0.0076381201,0.048169326,0.0383905582,-0.0427870825,-0.0259449072,-0.0339579545,-0.0266118404,0.0141403936,-0.0033311588,0.0413193516,-0.0530263372,-0.0106409164,-0.0341922119,-0.0182493273,0.0102084326,0.0409007929,-0.0640631989,-0.0008782269,-0.0103001446,0.056481611,-0.0247225612,-0.0134937325,0.0634837821,-0.0213463046,-0.0461867861,-0.004805808,-0.063922137,-0.0382296368,0.0476669706,0.0404663198,0.0050189132,0.0333303995,0.043059133,-0.0014708842,-0.0310489219,0.0284315627,0.0265712813,-0.0069197612,-0.0517800562,-0.0253107157,-0.0443210229,0.0157803167,0.0057520214,0.0245373286,-0.0439985842,0.0180964898,0.0097936466,-0.0031616397,0.0151604498,-0.0115765901,0.0264376123,0.0587871894,-0.025278125,-0.0264794417,0.0448849648,0.020626111,0.0118919471,-0.0053047622,0.0000563605,0.0097283768,-0.0300067887,-0.03675,-0.0493271947,-0.0328419842,0.0449669026,0.0004383182,-0.0403722227,-0.0719393864,0.0145161571,0.0106880087,0.0448764935,0.0441777669,0.0776169449,-0.0347155742,0.0386141464,-0.0288290959,-0.0139161404,0.0110096643,0.0587496273,-0.0914780647,0.0210742578,-0.0017774665,0.0117363613,0.0076029603,0.008018638,-0.0137870107,-0.0581810586,0.027303908,0.0150072956,-0.0239033867,-0.0641268417,0.0670866445,-0.0392616168,0.0139906947,-0.0339004435,-0.0040878132,0.0067003323,-0.0202274453,-0.0074699544,-0.0503234342,0.0642317981,0.0230526086,0.0318873972,-0.0195688829,-0.0063571893,0.0142572839,-0.0297703706,0.0448342115,0.0328191146,-0.0315624662,-0.0237110294,-0.0514994897,-0.040219143,-0.0177936703,-0.0063444474,-0.0010156929,-0.0069737039,0.0335410163,-0.0575452708,0.0624024272,-0.0044223303,-0.0061831018,0.0241312422,-0.0028486412,-0.0815225765,-0.0015057671,-0.0310003385,0.0377211943,-0.0226572566,-0.020340506,-0.0123881595,0.0870284215,-0.0026119363,0.0029863776,-0.0785342827,0.0419584252,-0.0562943034,-0.022570027,0.0431014933,0.0004120762,0.0138259977,0.0309286118,-0.0273417737,-0.0358453803,-0.0430542864,-0.0152655803,-0.0087225195,-0.0000606617,0.0164666977,0.0480683856,-0.0070111915,-0.0209254865,0.0099183992,0.0077318926,0.0078978902,0.000699236,0.0185759086,-0.0457664281,0.0404563807,-0.0037319534,0.0082278587,-0.0077018989,-0.013515329,0.017677892,0.0160123054,0.0218708105,0.0499184206,0.0155748138,-0.0285758972,0.0175599474,0.0207954701,-0.0182607695,-0.0379238315,0.0434805974,0.0441783816,-0.0388580337,0.0160557255,-0.0183982737,-0.0164129809,-0.0728979409,-0.0143697197,0.0594149344,-0.0245105736,0.0345941447,-0.0124499043,-0.0445504598,0.0389263704,-0.0160962064,0.0125062047,0.0054604672,0.0196362268,-0.0816560611,-0.0382541418,0.0242859274,-0.0009671334,0.0441279039,0.0221194569,0.0232724901,0.045634497,-0.02741649,-0.0328717493,0.0222438425,0.004179521,0.1583322883,-0.0228132475,-0.0353213288,0.0332858153,0.0146786394,0.0066275732,0.024662666,0.0366846696,0.0241945647,0.0382076278,-0.0232258253,0.0235623121,-0.0313586332,-0.0433777645,0.0065770498,0.0314427018,-0.0256647691,0.016349636,-0.0419023782,-0.019518679,-0.0449858084,-0.0374368168,0.0308423787,-0.0085379947,-0.0362754054,0.0542242303,0.0098542348,0.0395713821,0.0273490772,0.0369185247,0.054578606,-0.0179129299,-0.0660266057,-0.0331512243,-0.0216831081,0.0378896408,0.0406614132,-0.0195922405,0.003807669,0.0366240032,0.0320951231,-0.0594560318,0.0536995418,-0.0086316643,0.0115808379,-0.0311825573,-0.0029418115,-0.0085842628,-0.0041358829,-0.0006753684,-0.0282829721,0.0287890118,-0.0397533774,0.0372351743,0.0034275404,-0.0843390971,-0.0387289971,-0.0556450821,-0.0210697502,0.0214077681,-0.0339622721,-0.0095730275,-0.0025665287,0.0138492016,-0.0532976985,0.0284704678,0.0041181771,0.0722116604,-0.0200710688,0.0071406346,0.0024085911,0.0117423749,0.0306597538,0.0210441109,0.0193605721,-0.0154067529,-0.0151958177,0.0033247473,0.0157142673,0.0570507273,0.0456008799,-0.0012728585,0.0035606578,-0.0350454748,-0.0754468292,0.03972039,-0.0332101658,0.0199064966,-0.0175084472,-0.0423949473,-0.0038099485,0.0319048725,-0.0794962123,-0.0574161969,-0.0671164542,-0.0014853076,-0.0453604944,-0.0088822991,-0.0192893017,0.0540937558,0.0322084464,-0.0259225909,0.0518959351,0.0440580584,-0.0186519511,-0.0226249415,-0.0057377615,-0.0621029809,-0.0233940929,-0.0312059093,0.0182225537,0.0152608212,-0.0344299674,0.0142954066,-0.0910047293,-0.0129164374,-0.0064356918,-0.0034995892,0.0232854337,0.0063944934,0.0509656854,0.0394553654,0.0307017639,0.0341913253,0.0420992002,-0.0388090275,0.0504837371,0.0276565235,0.0218778905,0.0023964837,0.0044374033,-0.013393431,-0.0261224136,0.030384507,-0.018344637,0.0628379732,-0.0022134213,0.0283802748,0.046311032,0.0085362019,0.0172748715,-0.0785017833,0.005822299,0.0381594114,-0.017855797,0.0075189597,-0.0930069014,0.0056186109,0.0109279472,-0.0047055609,-0.018406257,-0.0036732645,0.0305650886,-0.0176652744,0.0122915599,0.0208108891,-0.0196874272,-0.005225969,-0.0082528219,0.0009308279,0.0100512467,-0.0280030239,0.0049236799,0.0213848073,0.0483115129,0.0394298322,0.0075846855,-0.0888978019,-0.0159890577,-0.0170713775,-0.0128054395,-0.0237100851,-0.0235156044,0.0235363543,0.0476105772,0.0073129712,0.0418619029,-0.057319276,0.0073736929,-0.0141098099,-0.0135262748,-0.0424042568,0.0001970541,0.0076786401,-0.0716956109,-0.0117579466,-0.0436623469,0.0037423868,-0.0436070114,0.0245114174,0.0273187831,-0.0004187994,-0.0272724722,0.0292560142,0.0560038872,0.0012825822,-0.0019225865,0.0309461765,-0.0028802468,0.0431934074,-0.0234413035,0.012163721,0.0583635271,-0.0184543766,0.0242399815,0.0032233831,-0.0359021313,-0.005778776,-0.011661916,-0.0279773772,-0.08618965,-0.0553583764,0.0297453385,0.0017968992,0.0268872101,-0.0331453346,0.0335819982,0.015842583,0.07634978,0.005656471,0.0302532688,0.0015482397,0.0157651342,-0.0479158424,0.0284368377,0.0384861678,-0.0114713693,-0.0569771864,0.0474479832]}\n",
      "{\"id\":73351011,\"embedding\":[-0.0164326616,0.0294562336,0.0309448875,0.050943315,0.0169426203,-0.0600731149,0.0276477356,0.0692890659,-0.0444045477,0.0091141071,0.0357147232,0.0328139514,0.0246476773,-0.0219201706,0.0052593984,0.045864664,-0.0131298639,-0.0317194834,0.0486152619,0.012057309,-0.0419056527,-0.004762724,0.0216444731,0.0343831778,-0.0140009234,-0.0596164726,0.0038345067,0.040662095,-0.0103256833,-0.0051446836,0.0107696895,0.0339191183,-0.0025862716,-0.0053891805,-0.0046847793,0.0372979939,-0.047500696,0.0015936015,-0.0068591866,0.0007146706,0.0076240315,0.0018910097,0.0441822484,0.013064703,-0.0271913316,0.0016230139,-0.0507531427,-0.0061898008,-0.0198284443,-0.0184091032,0.0166942477,-0.0166967474,-0.0021473486,0.0294843037,-0.0333417319,0.0124390442,-0.0281316377,0.0449432544,-0.0373417102,0.029738389,-0.0242786109,-0.005141336,0.0488717444,-0.0330836698,0.0437599383,0.0394450575,-0.0462171212,0.0746133178,-0.0240934473,-0.057259202,0.0408405364,0.0044340808,-0.0037183892,-0.0416832753,0.0177904591,-0.0046021198,0.002424828,0.0055524437,0.0521132648,-0.0807795599,-0.0202069301,-0.0595478117,-0.0202607531,-0.1522935927,-0.0525279455,-0.0013698727,0.0198298264,0.0174921639,0.0130727505,0.032202296,0.0048815156,0.0225764439,-0.0015120039,0.0344178155,-0.0310224518,-0.0113680298,-0.0366602242,0.0021728247,-0.031356547,-0.0348414592,-0.0147729814,-0.005599366,0.0229010228,-0.0445929915,0.0402198322,-0.0361863151,-0.0634589121,0.0082045542,-0.0108754411,-0.068767041,-0.0441071279,0.0136262532,0.0256512668,-0.009022695,-0.0028712901,0.0262246337,0.0345581397,0.0031867998,0.0576092564,0.0011162565,-0.0267355889,-0.0088688973,-0.0088898223,-0.0242697094,0.0521988347,-0.0057049855,-0.0030191266,-0.0517033897,-0.0138325635,-0.0224318393,0.009851303,0.0038525097,0.0390484557,-0.0239220317,-0.0182703566,0.0273410752,0.0535021313,0.0276569203,0.0346915498,0.0120839979,-0.0368930399,-0.0013876837,-0.0106462287,0.0669221282,0.0194200277,-0.0538862385,0.0007464482,-0.0158644542,-0.0663326308,-0.0080740321,-0.024334034,-0.0409087241,-0.0191270262,0.0278023183,0.0402309597,-0.0064491448,0.0532946512,0.0402534269,-0.0266010724,-0.0231077019,0.000141121,-0.0178019889,-0.0276574213,0.0091773449,0.0461392291,0.0093256254,0.0197920185,0.0176521447,0.0104988217,0.0606400892,0.0267893653,-0.1014029607,0.0179549698,-0.043680504,0.0719156936,-0.0313662477,-0.0016279563,0.034661036,0.0323606692,-0.0241550822,-0.0367581435,-0.0421579219,0.0217246469,0.0171118639,-0.0474522635,0.0157650895,-0.0098860627,-0.0321243405,-0.0503349192,0.0445031486,-0.0306940619,-0.0297871474,0.0254655313,-0.0709723085,-0.0467316285,-0.0188992471,0.104579173,-0.0868067145,-0.0042229523,-0.0066739526,-0.0554359369,-0.0136834085,-0.0181859005,0.0195440203,0.001309276,-0.0026247839,-0.0713376105,0.0352484994,-0.0081435088,-0.0284515526,-0.0167291965,-0.0304126069,0.0967838243,0.027535405,0.0235577729,-0.0288445968,-0.0346884504,-0.0515620299,-0.1219851151,0.0140957367,-0.022479428,0.0416516736,-0.0184399486,0.046428863,-0.023214791,0.0214407649,0.0207014643,0.0269836988,0.0203799959,0.0113557549,0.01580441,0.0187943745,-0.0636645481,0.0347488485,-0.0037726529,-0.0123269241,-0.0196256042,-0.0214468464,-0.0880946517,0.0840475634,-0.0170708597,0.0612153374,-0.0323423855,0.0078658285,-0.0344585292,0.0022682082,0.0100186607,0.0636475235,-0.0199027397,-0.0568537302,0.0399222337,-0.0686934367,-0.0330079086,0.0442988127,0.0189909171,0.0125320861,-0.0120231705,0.0414216071,-0.048825182,-0.0181681104,0.0138449455,-0.0150497882,0.0588507056,0.0863682404,-0.0516349338,-0.0368872322,-0.0744165182,-0.001997072,0.0366868116,-0.0515197441,0.0006333366,-0.0080840513,0.0283513628,0.0215615369,-0.0483737364,0.0204735827,-0.0512049086,0.0966771618,0.0273945127,0.0572154634,0.0012494241,-0.0243889298,0.010291555,0.0324142501,-0.0230683666,0.0377272628,-0.0602874272,-0.0347094238,-0.0403763428,0.0108015276,0.0029319364,0.0505265966,-0.001845666,0.1136376634,0.0108343307,-0.0038726591,0.0222158376,0.0354413837,-0.0442937687,0.0334618948,0.0072046518,0.0212439615,0.0176114198,-0.0429473482,-0.0229746811,-0.014723368,0.0231521931,-0.0034766542,0.0238807313,-0.0189413391,-0.0222943202,0.0637060478,0.0262014233,0.0107413949,-0.0045935437,0.0101314541,-0.0055823214,-0.0370665938,-0.0108184116,0.0548048168,-0.0153816761,-0.0015669977,0.0363826603,0.0204913095,-0.0257394854,0.0195128918,0.0498497225,0.0589093156,0.0216747876,-0.0062285112,-0.0662956461,0.0008227855,-0.0304438509,0.0045461492,-0.0245370939,0.0182605609,-0.0008776629,0.0429521464,-0.0124029452,-0.0204701386,0.0506561808,0.0134984823,-0.0534259044,-0.0036894199,-0.0203644447,0.0293691345,-0.0883737728,-0.0254605003,0.0302250385,-0.0222417377,-0.0378987528,0.0406471863,0.0018569436,0.0147390198,-0.02320222,0.0240750592,-0.0602422841,0.0338076204,0.0216087867,0.0293730646,-0.0253274124,-0.0039913477,-0.040786922,-0.0028791118,0.0469452515,0.0105416859,-0.0366525128,0.0534743965,0.0553932041,0.0101959072,-0.0790936723,0.0067235939,0.0280670151,-0.0450865515,-0.0083889654,0.0006600054,-0.0339712352,0.0036795062,-0.033332184,0.0016489956,-0.0056829923,0.0078408709,0.0004945471,0.0319545045,-0.0414389446,-0.0112732081,0.007954306,-0.0151133323,-0.0055234185,-0.0233149603,0.0161474105,0.1117770597,0.016802324,0.0144695407,-0.0481391177,0.0731059611,-0.0098433578,0.0172128472,-0.0539077781,-0.0039979238,0.0157389939,0.0281525664,-0.0229309369,-0.0531357266,0.0182555858,0.0025794315,-0.0374081619,0.0429549031,0.041059453,-0.0298304502,-0.0054705236,-0.0512924306,0.0365044586,0.0022094706,-0.0166492704,-0.0213699006,0.0619606525,-0.0275404844,-0.011287746,0.0448632017,0.0392644219,-0.0200222544,-0.0834211558,-0.0187343452,0.023628464,-0.0235539787,-0.0477025844,0.027598042,-0.0157711264,-0.0098806052,-0.0144483736,0.0741134807,-0.040350046,-0.054260157,-0.0155157363,-0.0568789691,0.0160518214,0.0722196773,0.049442973,0.0155723654,0.0002183449,0.0010346575,-0.0383420251,0.00369977,-0.0041747768,-0.0392376296,-0.0117702289,-0.0701877549,0.003424621,-0.0395645723,-0.0191921927,-0.0025940808,0.0098987129,0.0795371458,-0.003496361,0.0482520051,0.0479708016,-0.0344506055,-0.0088161919,0.0401922576,-0.0511335321,-0.0140606081,-0.0277521778,0.0044528227,-0.0333380736,-0.0258962288,0.0300766006,0.03978917,-0.0196450967,0.0102990791,0.00285076,0.0445084609,-0.0531644188,0.019819336,0.0195287392,0.0153622879,0.0227608066,0.0345750712,-0.0234664455,-0.0420632437,-0.0078866053,-0.0616811998,0.0197124742,-0.0156843904,0.046887435,0.0133039858,0.0364014134,0.0061365254,-0.0060624513,-0.0384746045,0.021992771,-0.0430171825,0.0556258447,0.0002774314,0.0419514254,-0.0178623553,-0.0257558636,0.006731506,-0.0079498868,0.043325711,0.0237883795,0.0582052842,0.0438932143,0.0182513129,-0.0373381451,0.0002425539,0.0130252428,-0.0569167286,-0.0083819032,0.0364468209,-0.0096932184,0.0435879193,0.0000213503,0.0012908503,-0.0437289178,-0.0569031909,-0.0143525079,-0.0213320684,-0.0029813233,0.034453515,0.0051910528,-0.0014082849,-0.0076353196,0.0216800049,0.0385091342,0.0206964742,0.0105305454,-0.0499679893,-0.0012015047,0.0610626712,0.0244639013,-0.0024717692,-0.0095017748,0.0135904578,-0.023780968,-0.0525818206,0.083680369,0.0497664288,0.0190074202,0.0745813698,-0.0122474041,-0.0305031948,0.0059766695,0.0257933475,0.0156021472,0.0327700973,0.0008202457,-0.0202026293,0.0482414588,0.0564525165,0.0329432935,-0.0211834535,0.0016163035,0.0591423512,-0.0302845538,-0.0034427932,-0.0355254561,-0.0561872274,-0.0795115232,-0.0434630923,-0.0335387662,0.0316657089,-0.0232244767,-0.0042041168,0.0318753235,-0.0254538339,0.0331786685,0.0226935763,0.0107625602,0.0332400203,-0.0086181443,-0.0788376778,-0.0201118551,-0.0001303646,0.0221527759,0.0239702556,-0.0356056616,0.062692903,-0.0230243951,0.0379275233,-0.0070278323,0.0794942528,0.0283133108,-0.0205570292,-0.0108778272,-0.012411369,-0.0385723822,-0.0193314608,-0.0539405309,-0.0196676049,0.0236553568,-0.0727805644,-0.0524426289,0.0032571275,-0.0455078036,-0.0265513938,0.0109757008,0.0437891409,0.0505614392,0.0540035926,0.0082219886,0.0194385499,-0.0336596817,-0.0368582718,0.0337097049,-0.0218255389,0.0332000703,0.0009040808,0.0403065979,0.0717126802,0.0276508667,-0.009860293,0.011165563,0.0063225371,-0.0506556109,0.0279451329,-0.0761806667,0.0253981017,-0.0364849865,-0.0199387949,0.0181673449,-0.0454008393,-0.0007759446,-0.0171867963,-0.037338607,-0.0267775301,0.0118581466,0.0290767122,-0.0131442053,0.0046784198,0.0133163631,0.0207067356,-0.0558253787,-0.0592868589,0.0107302219,-0.0356781892,0.030804323,0.0043732943,0.0495796502,-0.006933379,0.0203456488,-0.0237707682,0.0205769464,0.0037276198,-0.0082107382,-0.0073352843,-0.0292404499,-0.0497717224,-0.0013193842,0.0145666124,0.0000643578,-0.0099212583,-0.0385664552,-0.041336149,0.0320327953,0.029206574,0.0343245715,-0.0144005092,-0.0257274918,-0.0097896857,-0.0006361699,0.0084908539,0.0431360714,0.0629227161,-0.0313176885,0.0168041196,-0.0293049384,0.0238180626,0.0613197237,0.0311335009,-0.0459873974,-0.0309076589,0.0258932095,-0.0456599928,0.0125164995,0.0437428616,-0.0005621512,-0.0157406591,0.0329159051,0.0323830619,-0.0578645878,0.0288141817,0.0086630126,0.0139245233,0.0274864025,-0.0823723227,0.0094179073,-0.0169303678,0.0184519738,-0.0244629085,0.0022668773,0.0155439619,-0.0564975813,0.0432292968,0.0071751899,-0.1075118482,-0.0214623772,-0.0486286432,-0.0276204553,0.0056880014,0.0593170337,0.0295614209,0.0581801459,0.0433385,0.0809063241,0.0044255713,0.004577463,0.0101466263,0.0153607372,-0.0560336187,0.0096080927,-0.0284536593,0.0361006632,0.0575695671,0.0131090553,0.0626272485,-0.0856983066,0.0245926864,0.0277213305,0.0751391351,0.001066979,0.0051117241,0.0366756432,-0.011056181,0.0131188929,-0.0223915521,-0.0150519814,-0.0352814496,-0.0317260474,-0.0032013573,-0.0444080941,-0.0119474111,0.0487771556,0.0235828217,-0.0035665103,0.0042016171,0.0729459524,0.0035764528,0.03063857,-0.0126187243,0.0182112437,0.0252851453,-0.013323579,0.0036272926,0.0528701693,0.0174951125,0.0045138113,-0.0107747978,-0.0362104848,-0.0208821036,0.0052681766,0.0196167678,0.0415670536,0.0602581799,-0.0303722266,0.0666581914,-0.0133285606,0.0446444079,-0.0206559878,0.0654311478,-0.0307632666,0.0139912581,-0.0277447496,0.0366891958,-0.0105121164,-0.0083479024,-0.0256749429,-0.0341082476]}\n"
     ]
    },
    {
     "name": "stderr",
     "output_type": "stream",
     "text": [
      "I0000 00:00:1725217592.621284    4996 work_stealing_thread_pool.cc:320] WorkStealingThreadPoolImpl::PrepareFork\n"
     ]
    }
   ],
   "source": [
    "# save id and embedding as a json file\n",
    "jsonl_string = df[[\"id\", \"embedding\"]].to_json(orient=\"records\", lines=True)\n",
    "with open(\"questions.json\", \"w\") as f:\n",
    "    f.write(jsonl_string)\n",
    "\n",
    "# show the first few lines of the json file\n",
    "! head -n 3 questions.json"
   ]
  },
  {
   "cell_type": "markdown",
   "metadata": {
    "id": "-WTNJ3FAQl_W"
   },
   "source": [
    "Then, create a new Cloud Storage bucket and copy the file to it."
   ]
  },
  {
   "cell_type": "code",
   "execution_count": 16,
   "metadata": {
    "id": "CzwDWJfzAk3n"
   },
   "outputs": [
    {
     "name": "stderr",
     "output_type": "stream",
     "text": [
      "I0000 00:00:1725217592.773273    4996 work_stealing_thread_pool.cc:320] WorkStealingThreadPoolImpl::PrepareFork\n"
     ]
    },
    {
     "name": "stdout",
     "output_type": "stream",
     "text": [
      "Creating gs://qwiklabs-gcp-02-c9d98b2ccdc9-embvs-tutorial-09011901/...\n"
     ]
    },
    {
     "name": "stderr",
     "output_type": "stream",
     "text": [
      "I0000 00:00:1725217595.514600    4996 work_stealing_thread_pool.cc:320] WorkStealingThreadPoolImpl::PrepareFork\n"
     ]
    },
    {
     "name": "stdout",
     "output_type": "stream",
     "text": [
      "Copying file://questions.json [Content-Type=application/json]...\n",
      "/ [1 files][  9.8 MiB/  9.8 MiB]                                                \n",
      "Operation completed over 1 objects/9.8 MiB.                                      \n"
     ]
    }
   ],
   "source": [
    "BUCKET_URI = f\"gs://{PROJECT_ID}-embvs-tutorial-{UID}\"\n",
    "! gsutil mb -l $LOCATION -p {PROJECT_ID} {BUCKET_URI}\n",
    "! gsutil cp questions.json {BUCKET_URI}"
   ]
  },
  {
   "cell_type": "markdown",
   "metadata": {
    "id": "xxdbjKw1XDxl"
   },
   "source": [
    "### Create an Index\n",
    "\n",
    "Now it's ready to load the embeddings to Vector Search. Its APIs are available under the [aiplatform](https://cloud.google.com/python/docs/reference/aiplatform/latest/google.cloud.aiplatform) package of the SDK."
   ]
  },
  {
   "cell_type": "code",
   "execution_count": 17,
   "metadata": {
    "id": "8unyr9KagAoI"
   },
   "outputs": [],
   "source": [
    "# init the aiplatform package\n",
    "from google.cloud import aiplatform\n",
    "\n",
    "aiplatform.init(project=PROJECT_ID, location=LOCATION)"
   ]
  },
  {
   "cell_type": "markdown",
   "metadata": {
    "id": "xpMUXqWQ75uu"
   },
   "source": [
    "Create an [MatchingEngineIndex](https://cloud.google.com/python/docs/reference/aiplatform/latest/google.cloud.aiplatform.MatchingEngineIndex) with its `create_tree_ah_index` function (Matching Engine is the previous name of Vector Search)."
   ]
  },
  {
   "cell_type": "code",
   "execution_count": 18,
   "metadata": {
    "id": "kKDw5VXMkXb3"
   },
   "outputs": [
    {
     "name": "stdout",
     "output_type": "stream",
     "text": [
      "Creating MatchingEngineIndex\n",
      "Create MatchingEngineIndex backing LRO: projects/238705280598/locations/us-central1/indexes/4862704523048648704/operations/8320788610970288128\n",
      "MatchingEngineIndex created. Resource name: projects/238705280598/locations/us-central1/indexes/4862704523048648704\n",
      "To use this MatchingEngineIndex in another session:\n",
      "index = aiplatform.MatchingEngineIndex('projects/238705280598/locations/us-central1/indexes/4862704523048648704')\n"
     ]
    }
   ],
   "source": [
    "# create index\n",
    "my_index = aiplatform.MatchingEngineIndex.create_tree_ah_index(\n",
    "    display_name=f\"embvs-tutorial-index-{UID}\",\n",
    "    contents_delta_uri=BUCKET_URI,\n",
    "    dimensions=768,\n",
    "    approximate_neighbors_count=20,\n",
    "    distance_measure_type=\"DOT_PRODUCT_DISTANCE\",\n",
    ")"
   ]
  },
  {
   "cell_type": "markdown",
   "metadata": {
    "id": "2rFam_w9U0dI"
   },
   "source": [
    "By calling the `create_tree_ah_index` function, it starts building an Index. This will take under a few minutes if the dataset is small, otherwise about 50 minutes or more depending on the size of the dataset. You can check status of the index creation on [the Vector Search Console > INDEXES tab](https://console.cloud.google.com/vertex-ai/matching-engine/indexes).\n",
    "\n",
    "![](https://storage.googleapis.com/github-repo/img/embeddings/vs-quickstart/creating-index.png)\n",
    "\n",
    "#### The parameters for creating index\n",
    "\n",
    "- `contents_delta_uri`: The URI of Cloud Storage directory where you stored the embedding JSON files\n",
    "- `dimensions`: Dimension size of each embedding. In this case, it is 768 as we are using the embeddings from the Text Embeddings API.\n",
    "- `approximate_neighbors_count`: how many similar items we want to retrieve in typical cases\n",
    "- `distance_measure_type`: what metrics to measure distance/similarity between embeddings. In this case it's `DOT_PRODUCT_DISTANCE`\n",
    "\n",
    "See [the document](https://cloud.google.com/vertex-ai/docs/vector-search/create-manage-index) for more details on creating Index and the parameters.\n",
    "\n",
    "#### Batch Update or Streaming Update?\n",
    "There are two types of index: Index for *Batch Update* (used in this tutorial) and Index for *Streaming Updates*. The Batch Update index can be updated with a batch process whereas the Streaming Update index can be updated in real-time. The latter one is more suited for use cases where you want to add or update each embeddings in the index more often, and crucial to serve with the latest embeddings, such as e-commerce product search.\n"
   ]
  },
  {
   "cell_type": "markdown",
   "metadata": {
    "id": "VLOAMF50XMI8"
   },
   "source": [
    "### Create Index Endpoint and deploy the Index\n",
    "\n",
    "To use the Index, you need to create an [Index Endpoint](https://cloud.google.com/vertex-ai/docs/vector-search/deploy-index-public). It works as a server instance accepting query requests for your Index."
   ]
  },
  {
   "cell_type": "code",
   "execution_count": 19,
   "metadata": {
    "id": "h6IzyufWCjU1"
   },
   "outputs": [
    {
     "name": "stdout",
     "output_type": "stream",
     "text": [
      "Creating MatchingEngineIndexEndpoint\n",
      "Create MatchingEngineIndexEndpoint backing LRO: projects/238705280598/locations/us-central1/indexEndpoints/1479234565498208256/operations/3733872390493437952\n",
      "MatchingEngineIndexEndpoint created. Resource name: projects/238705280598/locations/us-central1/indexEndpoints/1479234565498208256\n",
      "To use this MatchingEngineIndexEndpoint in another session:\n",
      "index_endpoint = aiplatform.MatchingEngineIndexEndpoint('projects/238705280598/locations/us-central1/indexEndpoints/1479234565498208256')\n"
     ]
    }
   ],
   "source": [
    "# create IndexEndpoint\n",
    "my_index_endpoint = aiplatform.MatchingEngineIndexEndpoint.create(\n",
    "    display_name=f\"embvs-tutorial-index-endpoint-{UID}\",\n",
    "    public_endpoint_enabled=True,\n",
    ")"
   ]
  },
  {
   "cell_type": "markdown",
   "metadata": {
    "id": "11e3e1a3a9e9"
   },
   "source": [
    "This tutorial utilizes a [Public Endpoint](https://cloud.google.com/vertex-ai/docs/vector-search/setup/setup#choose-endpoint) and does not support [Virtual Private Cloud (VPC)](https://cloud.google.com/vpc/docs/private-services-access). Unless you have a specific requirement for VPC, we recommend using a Public Endpoint. Despite the term \"public\" in its name, it does not imply open access to the public internet. Rather, it functions like other endpoints in Vertex AI services, which are secured by default through IAM. Without explicit IAM permissions, as we have previously established, no one can access the endpoint."
   ]
  },
  {
   "cell_type": "markdown",
   "metadata": {
    "id": "8n33iO1T5hFO"
   },
   "source": [
    "With the Index Endpoint, deploy the Index by specifying an unique deployed index ID."
   ]
  },
  {
   "cell_type": "code",
   "execution_count": 20,
   "metadata": {
    "id": "FcBHLifGwAWq"
   },
   "outputs": [],
   "source": [
    "DEPLOYED_INDEX_ID = f\"embvs_tutorial_deployed_{UID}\""
   ]
  },
  {
   "cell_type": "code",
   "execution_count": null,
   "metadata": {
    "id": "1jUoGhY5TPFP"
   },
   "outputs": [
    {
     "name": "stdout",
     "output_type": "stream",
     "text": [
      "Deploying index MatchingEngineIndexEndpoint index_endpoint: projects/238705280598/locations/us-central1/indexEndpoints/1479234565498208256\n",
      "Deploy index MatchingEngineIndexEndpoint index_endpoint backing LRO: projects/238705280598/locations/us-central1/indexEndpoints/1479234565498208256/operations/6690485545862168576\n"
     ]
    }
   ],
   "source": [
    "# deploy the Index to the Index Endpoint\n",
    "my_index_endpoint.deploy_index(index=my_index, deployed_index_id=DEPLOYED_INDEX_ID)"
   ]
  },
  {
   "cell_type": "markdown",
   "metadata": {
    "id": "xu9ZmWcpXQ55"
   },
   "source": [
    "If it is the first time to deploy an Index to an Index Endpoint, it will take around 25 minutes to automatically build and initiate the backend for it. After the first deployment, it will finish in seconds. To see the status of the index deployment, open [the Vector Search Console > INDEX ENDPOINTS tab](https://console.cloud.google.com/vertex-ai/matching-engine/index-endpoints) and click the Index Endpoint.\n",
    "\n",
    "<img src=\"https://storage.googleapis.com/github-repo/img/embeddings/vs-quickstart/deploying-index.png\" width=\"70%\">"
   ]
  },
  {
   "cell_type": "markdown",
   "metadata": {
    "id": "oTi4PjjbXV-O"
   },
   "source": [
    "### Run Query\n",
    "\n",
    "Finally it's ready to use Vector Search. In the following code, it creates an embedding for a test question, and find similar question with the Vector Search."
   ]
  },
  {
   "cell_type": "code",
   "execution_count": null,
   "metadata": {
    "id": "FhNuRQqUWdfe"
   },
   "outputs": [],
   "source": [
    "test_embeddings = get_embeddings_wrapper([\"How to read JSON with Python?\"])"
   ]
  },
  {
   "cell_type": "code",
   "execution_count": null,
   "metadata": {
    "id": "Q01DGMBPXAg-"
   },
   "outputs": [],
   "source": [
    "# Test query\n",
    "response = my_index_endpoint.find_neighbors(\n",
    "    deployed_index_id=DEPLOYED_INDEX_ID,\n",
    "    queries=test_embeddings,\n",
    "    num_neighbors=20,\n",
    ")\n",
    "\n",
    "# show the result\n",
    "import numpy as np\n",
    "\n",
    "for idx, neighbor in enumerate(response[0]):\n",
    "    id = np.int64(neighbor.id)\n",
    "    similar = df.query(\"id == @id\", engine=\"python\")\n",
    "    print(f\"{neighbor.distance:.4f} {similar.title.values[0]}\")"
   ]
  },
  {
   "cell_type": "markdown",
   "metadata": {
    "id": "tPDOL9caoYZ9"
   },
   "source": [
    "The `find_neighbors` function only takes milliseconds to fetch the similar items even when you have billions of items on the Index, thanks to the ScaNN algorithm. Vector Search also supports [autoscaling](https://cloud.google.com/vertex-ai/docs/vector-search/deploy-index-public#autoscaling) which can automatically resize the number of nodes based on the demands of your workloads."
   ]
  },
  {
   "cell_type": "markdown",
   "metadata": {
    "id": "DDt4D6FDyc66"
   },
   "source": [
    "# IMPORTANT: Cleaning Up\n",
    "\n",
    "In case you are using your own Cloud project, not a temporary project on Qwiklab, please make sure to delete all the Indexes, Index Endpoints and Cloud Storage buckets after finishing this tutorial. Otherwise the remaining objects would **incur unexpected costs**.\n",
    "\n",
    "If you used Workbench, you may also need to delete the Notebooks from [the console](https://console.cloud.google.com/vertex-ai/workbench)."
   ]
  },
  {
   "cell_type": "code",
   "execution_count": null,
   "metadata": {
    "id": "MEsKVzguyxNx"
   },
   "outputs": [],
   "source": [
    "# wait for a confirmation\n",
    "input(\"Press Enter to delete Index Endpoint, Index and Cloud Storage bucket:\")\n",
    "\n",
    "# delete Index Endpoint\n",
    "my_index_endpoint.undeploy_all()\n",
    "my_index_endpoint.delete(force=True)\n",
    "\n",
    "# delete Index\n",
    "my_index.delete()\n",
    "\n",
    "# delete Cloud Storage bucket\n",
    "! gsutil rm -r {BUCKET_URI}"
   ]
  },
  {
   "cell_type": "markdown",
   "metadata": {
    "id": "b8k26QOF3Ys7"
   },
   "source": [
    "# Summary\n",
    "\n",
    "## Grounding LLM outputs with Vertex AI Vector Search\n",
    "\n",
    "As we have seen, by combining the Embeddings API and Vector Search, you can use the embeddings to \"ground\" LLM outputs to real business data with low latency.\n",
    "\n",
    "For example, if an user asks a question, Embeddings API can convert it to an embedding, and issue a query on Vector Search to find similar embeddings in its index. Those embeddings represent the actual business data in the databases. As we are just retrieving the business data and not generating any artificial texts, there is no risk of having hallucinations in the result.\n",
    "\n",
    "![](https://storage.googleapis.com/gweb-cloudblog-publish/original_images/10._grounding.png)\n",
    "\n",
    "### The difference between the questions and answers\n",
    "\n",
    "In this tutorial, we have used the Stack Overflow dataset. There is a reason why we had to use it; As the dataset has many pairs of **questions and answers**, so you can just find questions similar to your question to find answers to it.\n",
    "\n",
    "In many business use cases, the semantics (meaning) of questions and answers are different. Also, there could be cases where you would want to add variety of recommended or personalized items to the results, like product search on e-commerce sites.\n",
    "\n",
    "In these cases, the simple semantics search don't work well. It's more like a recommendation system problem where you may want to train a model (e.g. Two-Tower model) to learn the relationship between the question embedding space and answer embedding space. Also, many production systems adds reranking phase after the semantic search to achieve higher search quality. Please see [Scaling deep retrieval with TensorFlow Recommenders and Vertex AI Matching Engine](https://cloud.google.com/blog/products/ai-machine-learning/scaling-deep-retrieval-tensorflow-two-towers-architecture) to learn more.\n",
    "\n",
    "### Hybrid of semantic + keyword search\n",
    "\n",
    "Another typical challenge you will face in production system is to support keyword search combined with the semantic search. For example, for e-commerce product search, you may want to let users find product by entering its product name or model number. As LLM doesn't memorize those product names or model numbers, semantic search can't handle those \"usual\" search functionalities.\n",
    "\n",
    "[Vertex AI Search](https://cloud.google.com/blog/products/ai-machine-learning/vertex-ai-search-and-conversation-is-now-generally-available) is another product you may consider for those requirements. While Vector Search provides a simple semantic search capability only, Search provides a integrated search solution that combines semantic search, keyword search, reranking and filtering, available as an out-of-the-box tool.\n",
    "\n",
    "### What about Retrieval Augmented Generation (RAG)?\n",
    "\n",
    "In this tutorial, we have looked at the simple combination of LLM embeddings and vector search. From this starting point, you may also extend the design to [Retrieval Augmented Generation (RAG)](https://www.google.com/search?q=Retrieval+Augmented+Generation+(RAG)&oq=Retrieval+Augmented+Generation+(RAG)).\n",
    "\n",
    "RAG is a popular architecture pattern of implementing grounding with LLM with text chat UI. The idea is to have the LLM text chat UI as a frontend for the document retrieval with vector search and summarization of the result.\n",
    "\n",
    "![](https://storage.googleapis.com/gweb-cloudblog-publish/images/Figure-7-Ask_Your_Documents_Flow.max-529x434.png)\n",
    "\n",
    "There are some pros and cons between the two solutions.\n",
    "\n",
    "| | Embeddings + vector search | RAG |\n",
    "|---|---|---|\n",
    "| Design | simple | complex |\n",
    "| UI | Text search UI | Text chat UI |\n",
    "| Summarization of result | No | Yes |\n",
    "| Multi-turn (Context aware) | No | Yes |\n",
    "| Latency | millisecs | seconds |\n",
    "| Cost | lower | higher |\n",
    "| Hallucinations | No risk | Some risk |\n",
    "\n",
    "The Embedding + vector search pattern we have looked at with this tutorial provides simple, fast and low cost semantic search functionality with the LLM intelligence. RAG adds context-aware text chat experience and result summarization to it. While RAG provides the more \"Gen AI-ish\" experience, it also adds a risk of hallucination and higher cost and time for the text generation.\n",
    "\n",
    "To learn more about how to build a RAG solution, you may look at [Building Generative AI applications made easy with Vertex AI PaLM API and LangChain](https://cloud.google.com/blog/products/ai-machine-learning/generative-ai-applications-with-vertex-ai-palm-2-models-and-langchain).\n",
    "\n",
    "## Resources\n",
    "\n",
    "To learn more, please check out the following resources:\n",
    "\n",
    "### Documentations\n",
    "\n",
    "[Vertex AI Embeddings for Text API documentation\n",
    "](https://cloud.google.com/vertex-ai/docs/generative-ai/embeddings/get-text-embeddings)\n",
    "\n",
    "[Vector Search documentation](https://cloud.google.com/vertex-ai/docs/matching-engine/overview)\n",
    "\n",
    "### Vector Search blog posts\n",
    "\n",
    "[Vertex Matching Engine: Blazing fast and massively scalable nearest neighbor search](https://cloud.google.com/blog/products/ai-machine-learning/vertex-matching-engine-blazing-fast-and-massively-scalable-nearest-neighbor-search)\n",
    "\n",
    "[Find anything blazingly fast with Google's vector search technology](https://cloud.google.com/blog/topics/developers-practitioners/find-anything-blazingly-fast-googles-vector-search-technology)\n",
    "\n",
    "[Enabling real-time AI with Streaming Ingestion in Vertex AI](https://cloud.google.com/blog/products/ai-machine-learning/real-time-ai-with-google-cloud-vertex-ai)\n",
    "\n",
    "[Mercari leverages Google's vector search technology to create a new marketplace](https://cloud.google.com/blog/topics/developers-practitioners/mercari-leverages-googles-vector-search-technology-create-new-marketplace)\n",
    "\n",
    "[Recommending news articles using Vertex AI Matching Engine](https://cloud.google.com/blog/products/ai-machine-learning/recommending-articles-using-vertex-ai-matching-engine)\n",
    "\n",
    "[What is Multimodal Search: \"LLMs with vision\" change businesses](https://cloud.google.com/blog/products/ai-machine-learning/multimodal-generative-ai-search)"
   ]
  },
  {
   "cell_type": "markdown",
   "metadata": {
    "id": "BE1tELsH-u8N"
   },
   "source": [
    "# Utilities\n",
    "\n",
    "Sometimes it takes tens of minutes to create or deploy Indexes and you would lose connection with the Colab runtime. In that case, instead of creating or deploying new Index again, you can check [the Vector Search Console](https://console.cloud.google.com/vertex-ai/matching-engine/index-endpoints) and get the existing ones to continue."
   ]
  },
  {
   "cell_type": "markdown",
   "metadata": {
    "id": "wF_pkdpJ-yaq"
   },
   "source": [
    "## Get an existing Index\n",
    "\n",
    "To get an Index object that already exists, replace the following `[your-index-id]` with the index ID and run the cell. You can check the ID on [the Vector Search Console > INDEXES tab](https://console.cloud.google.com/vertex-ai/matching-engine/indexes)."
   ]
  },
  {
   "cell_type": "code",
   "execution_count": null,
   "metadata": {
    "id": "mEBkZZt_-0jG"
   },
   "outputs": [],
   "source": [
    "my_index_id = \"[your-index-id]\"  # @param {type:\"string\"}\n",
    "my_index = aiplatform.MatchingEngineIndex(my_index_id)"
   ]
  },
  {
   "cell_type": "markdown",
   "metadata": {
    "id": "_vlgzkyw-3CI"
   },
   "source": [
    "## Get an existing Index Endpoint\n",
    "\n",
    "To get an Index Endpoint object that already exists, replace the following `[your-index-endpoint-id]` with the Index Endpoint ID and run the cell. You can check the ID on [the Vector Search Console > INDEX ENDPOINTS tab](https://console.cloud.google.com/vertex-ai/matching-engine/index-endpoints)."
   ]
  },
  {
   "cell_type": "code",
   "execution_count": null,
   "metadata": {
    "id": "E0OFnirF-6Rk",
    "tags": []
   },
   "outputs": [],
   "source": [
    "my_index_endpoint_id = \"[your-index-endpoint-id]\"  # @param {type:\"string\"}\n",
    "my_index_endpoint = aiplatform.MatchingEngineIndexEndpoint(my_index_endpoint_id)"
   ]
  }
 ],
 "metadata": {
  "colab": {
   "name": "intro-textemb-vectorsearch.ipynb",
   "toc_visible": true
  },
  "environment": {
   "kernel": "python3",
   "name": "tf2-cpu.2-11.m124",
   "type": "gcloud",
   "uri": "us-docker.pkg.dev/deeplearning-platform-release/gcr.io/tf2-cpu.2-11:m124"
  },
  "kernelspec": {
   "display_name": "Python 3 (Local)",
   "language": "python",
   "name": "python3"
  },
  "language_info": {
   "codemirror_mode": {
    "name": "ipython",
    "version": 3
   },
   "file_extension": ".py",
   "mimetype": "text/x-python",
   "name": "python",
   "nbconvert_exporter": "python",
   "pygments_lexer": "ipython3",
   "version": "3.10.14"
  }
 },
 "nbformat": 4,
 "nbformat_minor": 4
}
