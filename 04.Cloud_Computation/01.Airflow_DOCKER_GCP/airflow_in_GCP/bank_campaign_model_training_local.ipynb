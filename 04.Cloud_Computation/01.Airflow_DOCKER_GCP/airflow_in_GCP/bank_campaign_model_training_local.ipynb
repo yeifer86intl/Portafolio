{
 "cells": [
  {
   "cell_type": "code",
   "execution_count": null,
   "metadata": {},
   "outputs": [],
   "source": [
    "# !pip install xgboost \n",
    "# !pip install imblearn "
   ]
  },
  {
   "cell_type": "code",
   "execution_count": 1,
   "metadata": {},
   "outputs": [
    {
     "name": "stdout",
     "output_type": "stream",
     "text": [
      "{'0': {'precision': 0.9823529411764705, 'recall': 0.9113233287858117, 'f1-score': 0.9455060155697097, 'support': 733}, '1': {'precision': 0.9175126903553299, 'recall': 0.9836734693877551, 'f1-score': 0.9494418910045961, 'support': 735}, 'accuracy': 0.9475476839237057, 'macro avg': {'precision': 0.9499328157659002, 'recall': 0.9474983990867833, 'f1-score': 0.9474739532871529, 'support': 1468}, 'weighted avg': {'precision': 0.9498886466577114, 'recall': 0.9475476839237057, 'f1-score': 0.9474766344012093, 'support': 1468}}\n"
     ]
    }
   ],
   "source": [
    "import pandas as pd\n",
    "from imblearn.over_sampling import RandomOverSampler\n",
    "from sklearn.model_selection import train_test_split\n",
    "from sklearn.preprocessing import LabelEncoder,StandardScaler\n",
    "from sklearn.neighbors import KNeighborsClassifier\n",
    "from xgboost import XGBClassifier\n",
    "from sklearn.linear_model import LogisticRegression\n",
    "from sklearn.ensemble import RandomForestClassifier\n",
    "from sklearn.metrics import classification_report\n",
    "from joblib import dump, load\n",
    "from datetime import datetime\n",
    "from sklearn.pipeline import make_pipeline\n",
    "\n",
    "def load_data(path):\n",
    "    return pd.read_csv(path, sep=\";\")\n",
    "\n",
    "def encode_categorical(df, categorical_cols):\n",
    "    le = LabelEncoder()\n",
    "    df[categorical_cols] = df[categorical_cols].apply(lambda col: le.fit_transform(col))\n",
    "    return df\n",
    "\n",
    "def preprocess_features(df):\n",
    "    X = df.drop('y', axis=1)\n",
    "    y = df['y'].apply(lambda x: 1 if x == 'yes' else 0)\n",
    "\n",
    "    sc = StandardScaler()\n",
    "    X = pd.DataFrame(sc.fit_transform(X), columns=X.columns)\n",
    "    return X, y\n",
    "\n",
    "def bucket_pdays(pdays):\n",
    "    if pdays == 999:\n",
    "        return 0\n",
    "    elif pdays <= 30:\n",
    "        return 1\n",
    "    else:\n",
    "        return 2\n",
    "\n",
    "def apply_bucketing(df):\n",
    "    df['pdays_bucketed'] = df['pdays'].apply(bucket_pdays)\n",
    "    df = df.drop('pdays', axis=1)\n",
    "    df = df.drop('duration', axis=1)\n",
    "    return df\n",
    "\n",
    "def train_model(model_name, x_train, y_train):\n",
    "    if model_name == 'logistic':\n",
    "        model = LogisticRegression(random_state=42)\n",
    "    elif model_name == 'random_forest':\n",
    "        model = RandomForestClassifier(random_state=42)\n",
    "    elif model_name == 'knn':\n",
    "        model = KNeighborsClassifier()\n",
    "    elif model_name == 'xgboost':\n",
    "        model = XGBClassifier(random_state=42, use_label_encoder=False)\n",
    "    else:\n",
    "        raise ValueError(\"Invalid model name.\")\n",
    "\n",
    "    pipeline = make_pipeline(model)\n",
    "    pipeline.fit(x_train, y_train)\n",
    "    return pipeline\n",
    "\n",
    "def get_classification_report(pipeline, X_test, y_test):\n",
    "    y_pred = pipeline.predict(X_test)\n",
    "    report = classification_report(y_test, y_pred, output_dict=True)\n",
    "    return report\n",
    "\n",
    "def save_model_artifact(model_name, pipeline):\n",
    "    artifact_name = model_name+'_model.joblib'\n",
    "    dump(pipeline, artifact_name)\n",
    "\n",
    "def main():\n",
    "    input_data_path = \"data/bank-campaign-training-data.csv\"\n",
    "    model_name = 'xgboost'\n",
    "    df = load_data(input_data_path)\n",
    "    categorical_cols = ['job', 'marital', 'education', 'default', 'housing', 'loan', 'contact', 'month', 'day_of_week', 'poutcome']\n",
    "    df = encode_categorical(df, categorical_cols)\n",
    "    df = apply_bucketing(df)\n",
    "    X, y = preprocess_features(df)\n",
    "    \n",
    "    oversampler = RandomOverSampler(random_state=42)\n",
    "    X_resampled, y_resampled = oversampler.fit_resample(X, y)\n",
    "    \n",
    "    X_train, X_test, y_train, y_test = train_test_split(X_resampled, y_resampled, test_size=0.2, random_state=42)\n",
    "    pipeline = train_model(model_name, X_train, y_train)\n",
    "    classification_report = get_classification_report(pipeline, X_test, y_test)\n",
    "    save_model_artifact(model_name, pipeline)\n",
    "    print(classification_report)\n",
    "\n",
    "if __name__ == \"__main__\":\n",
    "    main()"
   ]
  }
 ],
 "metadata": {
  "kernelspec": {
   "display_name": "Python 3",
   "language": "python",
   "name": "python3"
  },
  "language_info": {
   "codemirror_mode": {
    "name": "ipython",
    "version": 3
   },
   "file_extension": ".py",
   "mimetype": "text/x-python",
   "name": "python",
   "nbconvert_exporter": "python",
   "pygments_lexer": "ipython3",
   "version": "3.8.7rc1"
  }
 },
 "nbformat": 4,
 "nbformat_minor": 4
}
