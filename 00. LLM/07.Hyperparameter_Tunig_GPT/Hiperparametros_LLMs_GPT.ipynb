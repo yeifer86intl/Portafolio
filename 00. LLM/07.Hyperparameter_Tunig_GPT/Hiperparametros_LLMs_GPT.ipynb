{
  "nbformat": 4,
  "nbformat_minor": 0,
  "metadata": {
    "colab": {
      "provenance": []
    },
    "kernelspec": {
      "name": "python3",
      "display_name": "Python 3"
    },
    "language_info": {
      "name": "python"
    }
  },
  "cells": [
    {
      "cell_type": "markdown",
      "metadata": {
        "id": "3cb7b12c"
      },
      "source": [
        "# Hiperparámetros de los LLMs (GPT)"
      ]
    },
    {
      "cell_type": "markdown",
      "metadata": {
        "id": "42e9ea52"
      },
      "source": [
        "<div style=\"background-color:#D9EEFF;color:black;padding:2%;\">\n",
        "<h2>Enunciado del caso práctico</h2>\n",
        "\n",
        "En este caso práctico, se propone al alumno la realización de pruebas modificando los hiperparámetros del LLM GPT-3.5-Turbo ofrecido por OpenAI: https://platform.openai.com/docs/api-reference/chat/create\n",
        "</div>"
      ]
    },
    {
      "cell_type": "markdown",
      "metadata": {
        "id": "831d29b1"
      },
      "source": [
        "# Resolución del caso práctico"
      ]
    },
    {
      "cell_type": "markdown",
      "source": [
        "## 0. Instalación de librerías externas"
      ],
      "metadata": {
        "id": "-V8dgd_BUeOK"
      }
    },
    {
      "cell_type": "code",
      "source": [
        "!pip install openai==0.28"
      ],
      "metadata": {
        "id": "ScQcgtCkUhD7"
      },
      "execution_count": null,
      "outputs": []
    },
    {
      "cell_type": "markdown",
      "metadata": {
        "id": "e7d620f6"
      },
      "source": [
        "## 1. Lectura de la API Key"
      ]
    },
    {
      "cell_type": "code",
      "source": [
        "import openai\n",
        "\n",
        "with open(\"/content/drive/MyDrive/api-keys/secret-key.txt\") as f:\n",
        "  openai.api_key = f.readline()"
      ],
      "metadata": {
        "id": "pVplMtLdUx2w"
      },
      "execution_count": null,
      "outputs": []
    },
    {
      "cell_type": "markdown",
      "source": [
        "## 2. Selección del modelo"
      ],
      "metadata": {
        "id": "kjNFCLMHWCXs"
      }
    },
    {
      "cell_type": "markdown",
      "source": [
        "OpenAI nos ofrece una amplia variedad de modelos que podemos utilizar de manera programática para diferentes tareas.\n",
        "\n",
        "Nosotros estamos interesados en LLMs específicamente entrenados para entender lenguaje natural e interactuar con el usuario en forma de chat.\n",
        "\n",
        "Teniendo esto en cuenta, podemos elegir entre los siguientes: https://platform.openai.com/docs/guides/gpt\n",
        "\n",
        "Para este caso práctico vamos a seleccionar `gpt-3.5-turbo`"
      ],
      "metadata": {
        "id": "OP3Zs5O1WHER"
      }
    },
    {
      "cell_type": "code",
      "source": [
        "def obtener_completion(prompt, temperatura=1, top_p=1, frequency_penalty=0.0, model=\"gpt-3.5-turbo\"):\n",
        "  mensaje = [{\"role\": \"user\", \"content\": prompt}]\n",
        "  respuesta = openai.ChatCompletion.create(\n",
        "      model=model,\n",
        "      messages=mensaje,\n",
        "      temperature=temperatura,\n",
        "      top_p=top_p,\n",
        "      frequency_penalty=frequency_penalty\n",
        "  )\n",
        "  return respuesta.choices[0].message[\"content\"]"
      ],
      "metadata": {
        "id": "dkxOGRD-WF3p"
      },
      "execution_count": null,
      "outputs": []
    },
    {
      "cell_type": "markdown",
      "source": [
        "## 3. Temperatura"
      ],
      "metadata": {
        "id": "Ej2wP15VXrPY"
      }
    },
    {
      "cell_type": "markdown",
      "source": [
        "La `temperatura` controla la aleatoriedad de las respuestas generadas. Una temperatura más baja (por ejemplo, 0.2) hace que las respuestas sean más coherentes y predecibles, mientras que una temperatura más alta (por ejemplo, 0.8) hace que las respuestas sean más creativas y diversas, pero también pueden ser menos precisas."
      ],
      "metadata": {
        "id": "i-GLW0Lt9LQQ"
      }
    },
    {
      "cell_type": "code",
      "source": [
        "review=\"\"\"\n",
        "Sinceramente me ha cambiado la vida, vivo en una casa con diferentes plantas y compré dos altavoces inteligentes, uno para el salón y otro para mi habitación y \\\n",
        "para comunicarnos mis padres y yo de una planta a otra y no tener que estar gritando es lo mejor, es muy rapida he inteligente. La compre \\\n",
        "junto con unos enchufes y funciona de maravilla es genial. El altavoz para escuchar musica es muy potente y si tienes dos ( como es mi caso) \\\n",
        "se pueden sincronizar y escuchar musica por todas partes! Se conecta rapido al móvil, a la televisión y contesta a prácticamente todo.\n",
        "Con lo unico que he tenido fallo ha sido con alguna alarma que he programado y no ha sonado, por el resto todo genial, ahora cuando programo \\\n",
        "una alarma o pongo dos o compruebo con la app.\n",
        "\"\"\"\n",
        "sentimiento=\"positivo\""
      ],
      "metadata": {
        "id": "dGe9ql6z9yzi"
      },
      "execution_count": null,
      "outputs": []
    },
    {
      "cell_type": "code",
      "source": [
        "prompt = f\"\"\"\n",
        "Eres una IA asistente de atención al cliente.\n",
        "Tu tarea es enviar una respuesta por correo electrónico a un valioso cliente.\n",
        "Dado el correo electrónico del cliente delimitado por ```, \\\n",
        "Genera una respuesta para agradecer al cliente por su reseña.\n",
        "Si el sentimiento es positivo o neutral, agradéceles por \\\n",
        "su reseña.\n",
        "Si el sentimiento es negativo, discúlpate y sugiere que \\\n",
        "pueden comunicarse con el servicio al cliente.\n",
        "Asegúrate de usar detalles específicos de la reseña.\n",
        "Escribe en un tono conciso y profesional.\n",
        "Firma el correo electrónico como `Agente de atención al cliente de IA`.\n",
        "Reseña del cliente: ```{review}```\n",
        "Sentimiento de la reseña: {sentimiento}\n",
        "\"\"\""
      ],
      "metadata": {
        "id": "3xxWZfkx9ItH"
      },
      "execution_count": null,
      "outputs": []
    },
    {
      "cell_type": "code",
      "source": [
        "respuesta = obtener_completion(prompt, temperatura=1)"
      ],
      "metadata": {
        "id": "flnGoDmiZBbV"
      },
      "execution_count": null,
      "outputs": []
    },
    {
      "cell_type": "code",
      "source": [
        "print(respuesta)"
      ],
      "metadata": {
        "id": "GDOadRuBZJWp"
      },
      "execution_count": null,
      "outputs": []
    },
    {
      "cell_type": "markdown",
      "source": [
        "## 4. Top_p"
      ],
      "metadata": {
        "id": "yn9h6bpX_rLl"
      }
    },
    {
      "cell_type": "markdown",
      "source": [
        "El valor de `top_p` se establece en un rango entre 0 y 1, donde representa una fracción acumulativa de probabilidad. Si estableces `top_p` en un valor, el modelo calculará las palabras más probables en función de ese valor y generará texto en función de esas palabras. Por ejemplo, si estableces `top_p` en 0.8, el modelo seleccionará las palabras que representan el 80% de la probabilidad acumulativa en lugar de considerar todas las palabras posibles."
      ],
      "metadata": {
        "id": "uU4JyoZV_1PT"
      }
    },
    {
      "cell_type": "code",
      "source": [
        "respuesta = obtener_completion(prompt, temperatura=0, top_p=0.2)"
      ],
      "metadata": {
        "id": "gs7k6GoV_wIK"
      },
      "execution_count": null,
      "outputs": []
    },
    {
      "cell_type": "code",
      "source": [
        "print(respuesta)"
      ],
      "metadata": {
        "id": "bRrJTysP_u90"
      },
      "execution_count": null,
      "outputs": []
    },
    {
      "cell_type": "markdown",
      "source": [
        "## 5. Frequency penalty"
      ],
      "metadata": {
        "id": "AcEDc7xmAzCg"
      }
    },
    {
      "cell_type": "markdown",
      "source": [
        "Número entre -2.0 y 2.0. Los valores positivos penalizan los nuevos tokens en función de su frecuencia existente en el texto hasta ese momento, disminuyendo la probabilidad del modelo de repetir la misma línea de manera idéntica."
      ],
      "metadata": {
        "id": "XLHjp5PRDzWM"
      }
    },
    {
      "cell_type": "code",
      "source": [
        "respuesta = obtener_completion(prompt, frequency_penalty=1.0)"
      ],
      "metadata": {
        "id": "uTHII89GBG_Q"
      },
      "execution_count": null,
      "outputs": []
    },
    {
      "cell_type": "code",
      "source": [
        "print(respuesta)"
      ],
      "metadata": {
        "id": "SNskS8HKBIde"
      },
      "execution_count": null,
      "outputs": []
    }
  ]
}