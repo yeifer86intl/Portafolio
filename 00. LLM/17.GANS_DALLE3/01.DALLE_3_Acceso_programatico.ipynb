{
  "nbformat": 4,
  "nbformat_minor": 0,
  "metadata": {
    "colab": {
      "provenance": []
    },
    "kernelspec": {
      "name": "python3",
      "display_name": "Python 3"
    },
    "language_info": {
      "name": "python"
    }
  },
  "cells": [
    {
      "cell_type": "markdown",
      "metadata": {
        "id": "3cb7b12c"
      },
      "source": [
        "# Acceso programático a DALL-E 3 para la manipulación de imágenes"
      ]
    },
    {
      "cell_type": "markdown",
      "metadata": {
        "id": "42e9ea52"
      },
      "source": [
        "<div style=\"background-color:#D9EEFF;color:black;padding:2%;\">\n",
        "<h2>Enunciado del caso práctico</h2>\n",
        "\n",
        "En este caso práctico, se propone el desarrollo de una aplicación que permita a los usuarios acceder a DALL-E 3 de manera programática a través de [su API](https://platform.openai.com/docs/guides/images).\n",
        "\n",
        "El objetivo es crear una solución que posibilite a los desarrolladores interactuar con DALL-E 3 de manera efectiva y obtener respuestas en tiempo real mediante el uso de la API key proporcionada por OpenAI.\n",
        "\n",
        "</div>"
      ]
    },
    {
      "cell_type": "markdown",
      "metadata": {
        "id": "831d29b1"
      },
      "source": [
        "# Resolución del caso práctico"
      ]
    },
    {
      "cell_type": "markdown",
      "source": [
        "## 0. Instalación de librerías externas"
      ],
      "metadata": {
        "id": "-V8dgd_BUeOK"
      }
    },
    {
      "cell_type": "code",
      "source": [
        "!pip install openai==0.28"
      ],
      "metadata": {
        "id": "ScQcgtCkUhD7"
      },
      "execution_count": null,
      "outputs": []
    },
    {
      "cell_type": "markdown",
      "metadata": {
        "id": "e7d620f6"
      },
      "source": [
        "## 1. Lectura de la API Key"
      ]
    },
    {
      "cell_type": "code",
      "source": [
        "import openai\n",
        "\n",
        "with open(\"/content/drive/MyDrive/api-keys/secret-key.txt\") as f:\n",
        "  openai.api_key = f.readline()"
      ],
      "metadata": {
        "id": "pVplMtLdUx2w"
      },
      "execution_count": null,
      "outputs": []
    },
    {
      "cell_type": "code",
      "source": [
        "print(openai.api_key)"
      ],
      "metadata": {
        "id": "R9caev5gVyfM"
      },
      "execution_count": null,
      "outputs": []
    },
    {
      "cell_type": "markdown",
      "source": [
        "## 2. Generación de imágenes"
      ],
      "metadata": {
        "id": "kjNFCLMHWCXs"
      }
    },
    {
      "cell_type": "code",
      "source": [
        "response = openai.Image.create(\n",
        "  prompt=\"Un coche rojo en un semaforo\",\n",
        "  n=1,\n",
        "  size=\"1024x1024\"\n",
        ")"
      ],
      "metadata": {
        "id": "dkxOGRD-WF3p"
      },
      "execution_count": null,
      "outputs": []
    },
    {
      "cell_type": "code",
      "source": [
        "print(response['data'][0]['url'])"
      ],
      "metadata": {
        "id": "xqmbrzKmNTh8"
      },
      "execution_count": null,
      "outputs": []
    },
    {
      "cell_type": "markdown",
      "source": [
        "## 3. Edición de imágenes"
      ],
      "metadata": {
        "id": "Ej2wP15VXrPY"
      }
    },
    {
      "cell_type": "markdown",
      "source": [
        "Una de las cosas que mucha gente desconoce es la capacidad que tiene DALL-E para generar imágenes condicionadas por un máscara que le proporcionemos.\n",
        "\n",
        "La máscara consiste en la misma imagen con áreas transparentes. Las áreas transparentes de la máscara indican dónde debe editarse la imagen, y el mensaje debe describir la nueva imagen completa, no sólo el área borrada.\n",
        "\n",
        "***IMPORTANTE**: La imagen de entrada debe ser una imagen PNG cuadrada de menos de 4 MB de tamaño."
      ],
      "metadata": {
        "id": "YWkdv5hDN5T4"
      }
    },
    {
      "cell_type": "code",
      "source": [
        "response = openai.Image.create_edit(\n",
        "  image=open(\"/content/mesa.png\", \"rb\"),\n",
        "  mask=open(\"/content/mesa_mask.png\", \"rb\"),\n",
        "  prompt=\"Una mesa con un recipiente lleno de fruta colocado sobre ella.\",\n",
        "  n=1,\n",
        "  size=\"1024x1024\"\n",
        ")"
      ],
      "metadata": {
        "id": "Lrw-S4VgXxBo"
      },
      "execution_count": null,
      "outputs": []
    },
    {
      "cell_type": "code",
      "source": [
        "print(response['data'][0]['url'])"
      ],
      "metadata": {
        "id": "Z9RqoeWEUCmO"
      },
      "execution_count": null,
      "outputs": []
    },
    {
      "cell_type": "markdown",
      "source": [
        "## 4. Variación de imágenes"
      ],
      "metadata": {
        "id": "sLcMk5AuOVvN"
      }
    },
    {
      "cell_type": "markdown",
      "source": [
        "Otra capacidad muy interesante que tiene DALL-E 3 a través de su API es la de realizar variaciones sobre una imágenes existente\n",
        "\n",
        "***IMPORTANTE**: La imagen de entrada debe ser una imagen PNG cuadrada de menos de 4 MB de tamaño."
      ],
      "metadata": {
        "id": "YiRSFKOSOih3"
      }
    },
    {
      "cell_type": "code",
      "source": [
        "response = openai.Image.create_variation(\n",
        "  image=open(\"/content/mesa.png\", \"rb\"),\n",
        "  n=1,\n",
        "  size=\"1024x1024\"\n",
        ")\n"
      ],
      "metadata": {
        "id": "RpgOdVktOhrS"
      },
      "execution_count": null,
      "outputs": []
    },
    {
      "cell_type": "code",
      "source": [
        "print(response['data'][0]['url'])"
      ],
      "metadata": {
        "id": "UxTn4zyxWOt3"
      },
      "execution_count": null,
      "outputs": []
    }
  ]
}