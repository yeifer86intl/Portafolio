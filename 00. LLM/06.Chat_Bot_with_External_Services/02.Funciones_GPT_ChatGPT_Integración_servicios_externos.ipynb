{
  "nbformat": 4,
  "nbformat_minor": 0,
  "metadata": {
    "colab": {
      "provenance": []
    },
    "kernelspec": {
      "name": "python3",
      "display_name": "Python 3"
    },
    "language_info": {
      "name": "python"
    }
  },
  "cells": [
    {
      "cell_type": "markdown",
      "metadata": {
        "id": "3cb7b12c"
      },
      "source": [
        "# Caso Práctico: Llamada a funciones con GPT / ChatGPT para integración con servicios externos"
      ]
    },
    {
      "cell_type": "markdown",
      "metadata": {
        "id": "42e9ea52"
      },
      "source": [
        "<div style=\"background-color:#D9EEFF;color:black;padding:2%;\">\n",
        "<h2>Enunciado del caso práctico</h2>\n",
        "\n",
        "En este caso práctico, se propone al alumno la integración del ChatBot implementando en el caso práctico anterior con el servicio de correo electrónico de Gmail.\n",
        "\n",
        "La aplicación debe ser capaz de realizar diferentes funciones sobre los correos electrónicos del usuario. Por ejemplo, debe ser capaz de buscar todos los correos electrónicos de un remitente concreto y resumir su contenido.\n",
        "\n",
        "Para ello, debe implementarse la integración nativa de funciones con GPT / ChatGPT (https://platform.openai.com/docs/guides/gpt/function-calling)\n",
        "\n",
        "</div>"
      ]
    },
    {
      "cell_type": "markdown",
      "metadata": {
        "id": "831d29b1"
      },
      "source": [
        "# Resolución del caso práctico"
      ]
    },
    {
      "cell_type": "markdown",
      "source": [
        "## 0. Instalación de librerías externas"
      ],
      "metadata": {
        "id": "-V8dgd_BUeOK"
      }
    },
    {
      "cell_type": "code",
      "source": [
        "!pip install openai==0.28"
      ],
      "metadata": {
        "id": "ScQcgtCkUhD7"
      },
      "execution_count": null,
      "outputs": []
    },
    {
      "cell_type": "markdown",
      "metadata": {
        "id": "e7d620f6"
      },
      "source": [
        "## 1. Lectura de la API Key"
      ]
    },
    {
      "cell_type": "code",
      "source": [
        "import openai\n",
        "\n",
        "with open(\"/content/drive/MyDrive/api-keys/secret-key.txt\") as f:\n",
        "  openai.api_key = f.readline()"
      ],
      "metadata": {
        "id": "pVplMtLdUx2w"
      },
      "execution_count": null,
      "outputs": []
    },
    {
      "cell_type": "markdown",
      "source": [
        "## 2. Integración con Gmail"
      ],
      "metadata": {
        "id": "lkaO77uQOPZ8"
      }
    },
    {
      "cell_type": "code",
      "source": [
        "!pip install --upgrade google-api-python-client google-auth-httplib2 google-auth-oauthlib"
      ],
      "metadata": {
        "id": "Y9a_oOX9j7FA"
      },
      "execution_count": null,
      "outputs": []
    },
    {
      "cell_type": "code",
      "source": [
        "from __future__ import print_function\n",
        "\n",
        "import os.path\n",
        "import base64\n",
        "from google.auth.transport.requests import Request\n",
        "from google.oauth2.credentials import Credentials\n",
        "from google_auth_oauthlib.flow import InstalledAppFlow\n",
        "from googleapiclient.discovery import build\n",
        "from googleapiclient.errors import HttpError\n",
        "\n",
        "# If modifying these scopes, delete the file token.json.\n",
        "SCOPES = ['https://www.googleapis.com/auth/gmail.readonly']\n",
        "\n",
        "\n",
        "def obtener_correos(remitente):\n",
        "    \"\"\"Proporciona los correos electrónicos del usuario.\"\"\"\n",
        "    creds = None\n",
        "    if os.path.exists('/content/drive/MyDrive/api-keys/token.json'):\n",
        "        creds = Credentials.from_authorized_user_file('/content/drive/MyDrive/api-keys/token.json', SCOPES)\n",
        "\n",
        "    try:\n",
        "        correos = \"\"\"\"\"\"\n",
        "        service = build('gmail', 'v1', credentials=creds)\n",
        "        results = service.users().messages().list(userId='me', labelIds=['INBOX']).execute()\n",
        "        # Recorremos todos los correos electrónicos\n",
        "        for msg in results['messages']:\n",
        "          mensaje = service.users().messages().get(userId='me', id=msg['id']).execute()\n",
        "          # Comparamos el remitente del correo\n",
        "          if remitente in str(mensaje['payload']['headers'][14]):\n",
        "            # Extraemos el contenido del correo\n",
        "            datos = base64.b64decode(mensaje['payload']['parts'][0]['body']['data'], '-_')\n",
        "            correos += f\"\"\"\n",
        "'''\n",
        "Contenido: {datos}\n",
        "'''\n",
        "\"\"\"\n",
        "        return correos\n",
        "\n",
        "    except HttpError as error:\n",
        "        # TODO(developer) - Handle errors from gmail API.\n",
        "        print(f'An error occurred: {error}')"
      ],
      "metadata": {
        "id": "EnMQVlBpIYJM"
      },
      "execution_count": null,
      "outputs": []
    },
    {
      "cell_type": "code",
      "source": [
        "print(obtener_correos(\"shramos@protonmail.com\"))"
      ],
      "metadata": {
        "id": "iYLKpcDOOY2o"
      },
      "execution_count": null,
      "outputs": []
    },
    {
      "cell_type": "markdown",
      "source": [
        "## 3. Integración de la función con GPT / ChatGPT"
      ],
      "metadata": {
        "id": "bE2kxM6pT6-v"
      }
    },
    {
      "cell_type": "markdown",
      "source": [
        "Definimos las funciones que queremos proporcionarle a GPT para que identifique si es necesario invocarlas.\n",
        "\n",
        "Referencia: https://platform.openai.com/docs/guides/gpt/function-calling"
      ],
      "metadata": {
        "id": "0j3ZmVPXURpm"
      }
    },
    {
      "cell_type": "code",
      "source": [
        "functions = [\n",
        "        {\n",
        "            \"name\": \"obtener_correos\",\n",
        "            \"description\": \"Obtiene todos los correos electrónicos procedentes de un remitente concreto.\",\n",
        "            \"parameters\": {\n",
        "                \"type\": \"object\",\n",
        "                \"properties\": {\n",
        "                    \"remitente\": {\n",
        "                        \"type\": \"string\",\n",
        "                        \"description\": \"El correo electrónico del remitente, ej. santiago@gmail.com\",\n",
        "                    }\n",
        "                },\n",
        "                \"required\": [\"remitente\"],\n",
        "            },\n",
        "        }\n",
        "    ]"
      ],
      "metadata": {
        "id": "qFFoNqMSUN7q"
      },
      "execution_count": null,
      "outputs": []
    },
    {
      "cell_type": "code",
      "source": [
        "def obtener_completion(mensajes, model=\"gpt-3.5-turbo\"):\n",
        "  respuesta = openai.ChatCompletion.create(\n",
        "      model=model,\n",
        "      messages=mensajes,\n",
        "      functions=functions, # Proporciono las funciones definidas previamente\n",
        "      temperature=0, # Este hiperparámetro controla la aleatoriedad del modelo\n",
        "  )\n",
        "  return respuesta.choices[0].message # Retornamos el mensaje"
      ],
      "metadata": {
        "id": "M0FtRcKsT6N4"
      },
      "execution_count": null,
      "outputs": []
    },
    {
      "cell_type": "markdown",
      "source": [
        "## 4. Implementación de un ChatBot interactivo"
      ],
      "metadata": {
        "id": "-WplHNlNhiQP"
      }
    },
    {
      "cell_type": "code",
      "source": [
        "import json\n",
        "\n",
        "def collect_messages(_):\n",
        "    prompt = inp.value_input\n",
        "    inp.value = ''\n",
        "    context.append({'role':'user', 'content':f\"{prompt}\"})\n",
        "    response_message = obtener_completion(context)\n",
        "\n",
        "    # Comprobamos si GPT quiere invocar una funcion\n",
        "    if response_message.get(\"function_call\"):\n",
        "        # Invocamos la funcion\n",
        "        available_functions = {\n",
        "            \"obtener_correos\": obtener_correos,\n",
        "        }  # Podríamos tener más de una función\n",
        "\n",
        "        # Obtenemos la funcion que quiere invocar GPT\n",
        "        function_name = response_message[\"function_call\"][\"name\"]\n",
        "        function_to_call = available_functions[function_name]\n",
        "        # Obtenemos los argumentos de la funcion proporcionados por GPT\n",
        "        function_args = json.loads(response_message[\"function_call\"][\"arguments\"])\n",
        "        # Invocamos la funcion\n",
        "        function_response = function_to_call(remitente=function_args.get(\"remitente\"))\n",
        "\n",
        "        # Enviamos la respuesta de la función a GPT\n",
        "        context.append(response_message)  # Respuesta del assistant\n",
        "        context.append(\n",
        "            {\n",
        "                \"role\": \"function\",\n",
        "                \"name\": function_name,\n",
        "                \"content\": function_response,\n",
        "            }\n",
        "        )  # Contenido de la función\n",
        "\n",
        "        response_message = obtener_completion(context)\n",
        "\n",
        "    context.append(response_message)\n",
        "    panels.append(\n",
        "        pn.Row('User:', pn.pane.Markdown(prompt, width=600)))\n",
        "    panels.append(\n",
        "        pn.Row('Assistant:', pn.pane.Markdown(response_message['content'], width=600, styles={'background-color': '#F6F6F6'})))\n",
        "    return pn.Column(*panels)"
      ],
      "metadata": {
        "id": "0gClV6n5kfZV"
      },
      "execution_count": null,
      "outputs": []
    },
    {
      "cell_type": "code",
      "source": [
        "def end_chat(event):\n",
        "    panels.append(pn.pane.Alert(\"Chat terminado por el usuario.\", alert_type='success'))\n",
        "    context.append({'role': 'system', 'content':\"Despídete del usuario de manera amable y amigable.\"})\n",
        "    response_message = obtener_completion(context)\n",
        "    context.append(response_message)\n",
        "    panels.append(\n",
        "        pn.Row('Assistant:', pn.pane.Markdown(response_message['content'], width=600, styles={'background-color': '#F6F6F6'})))\n",
        "    return pn.Column(*panels)\n"
      ],
      "metadata": {
        "id": "8DWyA21Cp5pL"
      },
      "execution_count": null,
      "outputs": []
    },
    {
      "cell_type": "code",
      "source": [
        "import panel as pn  # GUI\n",
        "pn.extension()\n",
        "\n",
        "panels = []\n",
        "\n",
        "context = [ {'role':'system', 'content':\n",
        "\"\"\"\n",
        "Eres un asistente virtual para gestionar y procesar el correo electrónico. \\\n",
        "Interactúa amablemente con el usuario y solicítale el correo electrónico de un \\\n",
        "remitente para obtener sus correos y empezar a trabajar sobre ellos.\n",
        "\"\"\"} ]\n",
        "\n",
        "\n",
        "inp = pn.widgets.TextInput(value=\"Hola\", placeholder='Introduce texto aqui...')\n",
        "button_conversation = pn.widgets.Button(name=\"Chat!\")\n",
        "button_end_chat = pn.widgets.Button(name=\"Terminar Chat\")\n",
        "\n",
        "button_end_chat.on_click(end_chat)\n",
        "\n",
        "interactive_conversation = pn.bind(collect_messages, button_conversation)\n",
        "\n",
        "dashboard = pn.Column(\n",
        "    inp,\n",
        "    pn.Row(button_conversation, button_end_chat),\n",
        "    pn.panel(interactive_conversation, loading_indicator=True, sizing_mode=\"stretch_both\"),\n",
        ")\n",
        "\n",
        "dashboard"
      ],
      "metadata": {
        "id": "M0Sb46D4hgzB"
      },
      "execution_count": null,
      "outputs": []
    }
  ]
}