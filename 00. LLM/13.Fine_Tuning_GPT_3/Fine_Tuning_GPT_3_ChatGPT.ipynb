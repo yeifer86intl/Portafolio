{
  "nbformat": 4,
  "nbformat_minor": 0,
  "metadata": {
    "colab": {
      "provenance": []
    },
    "kernelspec": {
      "name": "python3",
      "display_name": "Python 3"
    },
    "language_info": {
      "name": "python"
    }
  },
  "cells": [
    {
      "cell_type": "markdown",
      "metadata": {
        "id": "3cb7b12c"
      },
      "source": [
        "# Fine-tuning de GPT 3 y ChatGPT"
      ]
    },
    {
      "cell_type": "markdown",
      "metadata": {
        "id": "42e9ea52"
      },
      "source": [
        "<div style=\"background-color:#D9EEFF;color:black;padding:2%;\">\n",
        "<h2>Enunciado del caso práctico</h2>\n",
        "\n",
        "En este caso práctico, se propone al alumno la realización de Fine-tuning sobre GPT-3.5-Turbo (ChatGPT) para la realización de una tarea específica.\n",
        "\n",
        "Concretamente, se propone un escenario en el que un periódico digital quiere generar automáticamente el título de sus artículos, la descripción y las palabras clave utilizadas para el SEO.\n",
        "\n",
        "Un factor importante es que la generación de esta información no debe ser genérica, debe adaptarse al estilo y tipo de títulos, descripciones y palabras clave que ha generado el periódico para otros artículos pasados.\n",
        "\n",
        "</div>"
      ]
    },
    {
      "cell_type": "markdown",
      "source": [
        "## Referencias importantes\n",
        "https://platform.openai.com/docs/guides/fine-tuning\n"
      ],
      "metadata": {
        "id": "Q9scmY6jvPCK"
      }
    },
    {
      "cell_type": "markdown",
      "metadata": {
        "id": "831d29b1"
      },
      "source": [
        "# Resolución del caso práctico"
      ]
    },
    {
      "cell_type": "markdown",
      "source": [
        "## 0. Instalación de librerías externas"
      ],
      "metadata": {
        "id": "-V8dgd_BUeOK"
      }
    },
    {
      "cell_type": "code",
      "source": [
        "!pip install openai==0.28"
      ],
      "metadata": {
        "id": "ScQcgtCkUhD7"
      },
      "execution_count": null,
      "outputs": []
    },
    {
      "cell_type": "markdown",
      "metadata": {
        "id": "e7d620f6"
      },
      "source": [
        "## 1. Lectura de la API Key"
      ]
    },
    {
      "cell_type": "code",
      "source": [
        "import openai\n",
        "\n",
        "with open(\"/content/drive/MyDrive/api-keys/secret-key.txt\") as f:\n",
        "  openai.api_key = f.readline()"
      ],
      "metadata": {
        "id": "pVplMtLdUx2w"
      },
      "execution_count": null,
      "outputs": []
    },
    {
      "cell_type": "markdown",
      "source": [
        "## 2. Lectura del conjunto de datos de Fine-tuning"
      ],
      "metadata": {
        "id": "JyaXGnMPvhJj"
      }
    },
    {
      "cell_type": "markdown",
      "source": [
        "Cuando aplicamos Fine-tuning a un modelo de terceros, debemos de asegurarnos de que los datos que vamos a utilizar se encuentran en un formato correcto.\n",
        "\n",
        "OpenAI proporciona unas guías sobre la elaboración del conjunto de datos: https://platform.openai.com/docs/guides/fine-tuning/preparing-your-dataset\n",
        "\n",
        "En términos generales el formato de los ejemplos que debemos utilizar para GPT-3 es el siguiente:\n",
        "```\n",
        "{\"messages\": [{\"role\": \"system\", \"content\": \"Marv is a factual chatbot that is also sarcastic.\"}, {\"role\": \"user\", \"content\": \"What's the capital of France?\"}, {\"role\": \"assistant\", \"content\": \"Paris, as if everyone doesn't know that already.\"}]}\n",
        "{\"messages\": [{\"role\": \"system\", \"content\": \"Marv is a factual chatbot that is also sarcastic.\"}, {\"role\": \"user\", \"content\": \"Who wrote 'Romeo and Juliet'?\"}, {\"role\": \"assistant\", \"content\": \"Oh, just some guy named William Shakespeare. Ever heard of him?\"}]}\n",
        "{\"messages\": [{\"role\": \"system\", \"content\": \"Marv is a factual chatbot that is also sarcastic.\"}, {\"role\": \"user\", \"content\": \"How far is the Moon from Earth?\"}, {\"role\": \"assistant\", \"content\": \"Around 384,400 kilometers. Give or take a few, like that really matters.\"}]}\n",
        "```\n",
        "El conjunto de datos que vamos a utilizar para este caso práctico esta formado por 10 ejemplos de entrenamiento que tienen el siguiente formato:\n",
        "```\n",
        "{\"messages\":[{\"role\": \"system\", \"content\": \"Dado un artículo de noticias, proporciona los siguientes campos en un diccionario JSON: 'titulo', 'SEO' y 'resumen'.\"},{\"role\": \"user\", \"content\": \"Un día después de la cumbre de la Paz en El Cairo, que ha concluido sin una declaración final ante las diferencias de los participantes sobre la guerra de Israel en Gaza, Israel ha anunciado la intensificación de sus ataques en la Franja de Gaza en preparación de una ofensiva terrestre en el enclave palestino.\"},{\"role\": \"assistant\", \"content\": \"{\\\"titulo\\\": \\\"Israel intensifica ataques en Gaza y ataques aéreos en Siria mientras Hamas ofrece liberación de rehenes\\\", \\\"SEO\\\": [\\\"Israel, Gaza, ofensiva terrestre, ataque aéreo, Franja de Gaza, Siria, ataques simultáneos, Hamas, Estados Unidos, Irán\\\"], \\\"resumen\\\": \\\"Israel intensifica ataques en Gaza y Siria. Hamas ofrece liberación de rehenes. Escalada en el conflicto en Oriente Medio.\\\"}\"}]}\n",
        "```\n",
        "\n",
        "\n",
        "---\n",
        "\n",
        "**IMPORTANTE**\n",
        "\n",
        "Revisa el siguiente Google Colab para saber el coste que tendrá el entrenamiento y si el formato de tus datos es el adecuado:\n",
        "https://colab.research.google.com/drive/1MgPDXMxA5F3g2D8gDwGVCTnEIdQuQPlU#scrollTo=c248ccd1\n",
        "\n",
        "---"
      ],
      "metadata": {
        "id": "JxtMZLiAvmdR"
      }
    },
    {
      "cell_type": "code",
      "source": [
        "# Lectura del conjunto de datos\n",
        "openai.File.create(\n",
        "  file=open(\"/content/drive/MyDrive/datasets/fine-tuning-dataset.jsonl\", \"rb\"),\n",
        "  purpose='fine-tune'\n",
        ")"
      ],
      "metadata": {
        "id": "R9caev5gVyfM"
      },
      "execution_count": null,
      "outputs": []
    },
    {
      "cell_type": "markdown",
      "source": [
        "## 3. Fine-tuning de GPT-3.5-turbo y ChatGPT"
      ],
      "metadata": {
        "id": "r58w1Ovp444b"
      }
    },
    {
      "cell_type": "markdown",
      "source": [
        "OpenAI nos permite modificar las siguientes opciones o hiperparámetros de entrenamiento:\n",
        "\n",
        "* `n_epochs`: Este hiperparámetro se refiere al número de veces que todo el conjunto de datos se pasa a través del modelo de aprendizaje automático durante el proceso de entrenamiento.\n",
        "\n",
        "* `batch_size`: El tamaño de lote se refiere al número de ejemplos de entrenamiento que se procesan simultáneamente en cada iteración durante el entrenamiento del modelo.\n",
        "\n",
        "* `learning_rate_multiplier`: La tasa de aprendizaje es un hiperparámetro crítico en el entrenamiento de modelos de aprendizaje automático. Controla el tamaño de los ajustes que se realizan en los parámetros del modelo durante el entrenamiento."
      ],
      "metadata": {
        "id": "jVGi2eulG7Js"
      }
    },
    {
      "cell_type": "code",
      "source": [
        "# Definicion de los hiperparametros\n",
        "hyperparameters = {\"n_epochs\":3}"
      ],
      "metadata": {
        "id": "8XeVW5b-5eSN"
      },
      "execution_count": null,
      "outputs": []
    },
    {
      "cell_type": "markdown",
      "source": [
        "Además del conjunto de datos de entrenamiento, lo ideal es proporcionarle un conjunto de datos de validación (`validation_file`) para que calcule métricas durante el entrenamiento."
      ],
      "metadata": {
        "id": "l2TcVr5UINPU"
      }
    },
    {
      "cell_type": "code",
      "source": [
        "# Fine-tuning del modelo\n",
        "openai.FineTuningJob.create(\n",
        "    training_file=\"file-DuUyCs765h7hdrIkRutTvwDE\", # Debe indicarse el id obtenido en la seccion anterior\n",
        "    model=\"gpt-3.5-turbo\",\n",
        "    hyperparameters=hyperparameters)"
      ],
      "metadata": {
        "id": "GnqvED1tJcIW"
      },
      "execution_count": null,
      "outputs": []
    },
    {
      "cell_type": "markdown",
      "source": [
        "## 4. Monitorización del Fine-tuning"
      ],
      "metadata": {
        "id": "JewM8VrX5wFr"
      }
    },
    {
      "cell_type": "markdown",
      "source": [
        "### Listar los procesos de fine-tuning en curso"
      ],
      "metadata": {
        "id": "3KrOO8tYJDy_"
      }
    },
    {
      "cell_type": "code",
      "source": [
        "openai.FineTuningJob.list(limit=10)"
      ],
      "metadata": {
        "id": "RfaFpBxIJ5Zw"
      },
      "execution_count": null,
      "outputs": []
    },
    {
      "cell_type": "markdown",
      "source": [
        "### Obtener el estado de un proceso de fine-tuning"
      ],
      "metadata": {
        "id": "SBAJmdnxJRU7"
      }
    },
    {
      "cell_type": "code",
      "source": [
        "FT_JOB_ID = \"ftjob-VUtzVtVpEQfg9wX8fELPH3BS\""
      ],
      "metadata": {
        "id": "rVtmcDQDJVgn"
      },
      "execution_count": null,
      "outputs": []
    },
    {
      "cell_type": "code",
      "source": [
        "openai.FineTuningJob.retrieve(FT_JOB_ID)"
      ],
      "metadata": {
        "id": "i5UDzBvFJ8UQ"
      },
      "execution_count": null,
      "outputs": []
    },
    {
      "cell_type": "markdown",
      "source": [
        "### Listar los eventos de un proceso de fine-tuning"
      ],
      "metadata": {
        "id": "e6Fqa7URJewa"
      }
    },
    {
      "cell_type": "code",
      "source": [
        "openai.FineTuningJob.list_events(id=FT_JOB_ID, limit=10)"
      ],
      "metadata": {
        "id": "NNHxvPYnKEsg"
      },
      "execution_count": null,
      "outputs": []
    },
    {
      "cell_type": "markdown",
      "source": [
        "## 5. Generación de texto con GPT Fine-tuned"
      ],
      "metadata": {
        "id": "11hIwH-jJtd0"
      }
    },
    {
      "cell_type": "code",
      "source": [
        "def obtener_completion(prompt, model=\"ft:gpt-3.5-turbo-0613:personal::8ClqSaNA\"):\n",
        "  mensaje = [\n",
        "      {\"role\": \"system\", \"content\": \"Dado un artículo de noticias, proporciona los siguientes campos en un diccionario JSON: 'titulo', 'SEO' y 'resumen'.\"},\n",
        "      {\"role\": \"user\", \"content\": prompt}\n",
        "  ]\n",
        "  respuesta = openai.ChatCompletion.create(\n",
        "      model=model,\n",
        "      messages=mensaje,\n",
        "      temperature=0, # Este hiperparámetro controla la aleatoriedad del modelo\n",
        "  )\n",
        "  return respuesta.choices[0].message[\"content\"]"
      ],
      "metadata": {
        "id": "AgMlEn-QJzKu"
      },
      "execution_count": null,
      "outputs": []
    },
    {
      "cell_type": "code",
      "source": [
        "prompt = \"\"\"La tecnología nos ha brindado la oportunidad de tener en nuestro \\\n",
        "bolsillo un aparato que es a la vez agenda y enciclopedia, que nos recuerda los \\\n",
        "cumpleaños de nuestras amistades y nos da acceso a todos los detalles de la tabla \\\n",
        "periódica. Aún así, tener una buena memoria nos ayuda en numerosos aspectos de \\\n",
        "nuestra vida.\n",
        "\n",
        "El problema es que, ya sea porque somos estudiantes y tenemos que memorizar \\\n",
        "cantidad de conceptos o porque nos hacemos mayores y nuestro cerebro pierde \\\n",
        "capacidades, son muchas las razones para tratar de buscar herramientas que nos \\\n",
        "permitan entrenar y mantener nuestra capacidad mnemotécnica. Estas son algunas \\\n",
        "de las estrategias que han sido validadas por estudios científicos.\n",
        "\n",
        "La primera nos recuerda aquella frase latina de “mens sana in corpore sano”, \\\n",
        "extraída de las Sátiras del autor romano Décimo Junio Juvenal. Distintos \\\n",
        "organismos médicos, como los Centros para el Control y Prevención de Enfermedades \\\n",
        "de EE UU o la Organización Mundial de la Salud, vinculan el ejercicio físico con \\\n",
        "la buena memoria.\n",
        "\n",
        "El ejercicio podría ser especialmente recomendable a la hora de evitar la \\\n",
        "degeneración de nuestra memoria vinculada con la edad y con enfermedades como \\\n",
        "el Alzheimer. Este mismo año pueden encontrarse dos estudios centrados en esta \\\n",
        "cuestión, uno publicado en Alzheimer's Research & Therapy, y otro en Journal of \\\n",
        "Neurology, Neurosurgery & Psychiatry.\n",
        "\n",
        "No sabemos exactamente el porqué de la relación. Mientras algunos sugieren que \\\n",
        "puede deberse a la proteína BNDF, otros creen que la relación puede originarse \\\n",
        "en una mejor oxigenación del cerebro. Más estudios se requieren en este sentido, \\\n",
        "también para establecer hasta qué punto la relación puede extrapolarse a personas \\\n",
        "más jóvenes. El problema está en que muchos de los estudios realizados en este \\\n",
        "contexto tienen muestras limitadas, lo que limita la posibilidad de generalizar \\\n",
        "sus resultados.\"\"\""
      ],
      "metadata": {
        "id": "IghMxkIXLFb6"
      },
      "execution_count": null,
      "outputs": []
    },
    {
      "cell_type": "code",
      "source": [
        "obtener_completion(prompt)"
      ],
      "metadata": {
        "id": "4XlM-j4xLFQb"
      },
      "execution_count": null,
      "outputs": []
    },
    {
      "cell_type": "markdown",
      "source": [
        "### ¿Cómo se lo presentamos a los usuarios?"
      ],
      "metadata": {
        "id": "KTtoIOUfN4h6"
      }
    },
    {
      "cell_type": "code",
      "source": [
        "import ipywidgets as widgets\n",
        "from IPython.display import display\n",
        "\n",
        "# Crear un widget de área de texto\n",
        "text_area = widgets.Textarea(\n",
        "    value='Introduce el texto del artículo...',\n",
        "    description='',\n",
        "    disabled=False,\n",
        "    layout=widgets.Layout(width='70%', height='300px')  # Ajusta el ancho y la altura según tus preferencias\n",
        ")\n",
        "\n",
        "# Crear un botón para aceptar/enviar\n",
        "submit_button = widgets.Button(description='Enviar')\n",
        "\n",
        "# Función que se ejecutará cuando se haga clic en el botón\n",
        "def handle_submit_button_click(b):\n",
        "    article_text = text_area.value\n",
        "    completion = obtener_completion(article_text)\n",
        "    resultados = eval(completion)\n",
        "    print(f\"\\n\\nResultado del análisis:\\nTitulo: {resultados['titulo']}\\nSEO: {resultados['SEO']}\\nResumen: {resultados['resumen']}\")\n",
        "\n",
        "# Asociar la función con el evento de hacer clic en el botón\n",
        "submit_button.on_click(handle_submit_button_click)\n",
        "\n",
        "# Mostrar el widget de área de texto y el botón en la celda de Colab\n",
        "display(text_area)\n",
        "display(submit_button)\n"
      ],
      "metadata": {
        "id": "UFMrKvNPMJW2"
      },
      "execution_count": null,
      "outputs": []
    }
  ]
}