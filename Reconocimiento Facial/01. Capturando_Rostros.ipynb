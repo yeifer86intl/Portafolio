{
 "cells": [
  {
   "cell_type": "code",
   "execution_count": 1,
   "metadata": {},
   "outputs": [
    {
     "name": "stdout",
     "output_type": "stream",
     "text": [
      "Carpeta creada:  C:/Users/yeife/OneDrive/Escritorio/Reconocimiento Facial/data/Yeifer\n"
     ]
    }
   ],
   "source": [
    "import cv2\n",
    "import os\n",
    "import imutils\n",
    "\n",
    "#Asignamos el nombre de la persona para crear carpeta en la dirección que coloquemos en dataPath (.../Escritorio/Reconocimiento Facial/data...)\n",
    "personName = 'Yeifer'\n",
    "#Dirección donde se almacenaran los rostros. \n",
    "dataPath = 'C:/Users/yeife/OneDrive/Escritorio/Reconocimiento Facial/data' #Cambia a la ruta donde hayas almacenado Data\n",
    "personPath = dataPath + '/' + personName\n",
    "\n",
    "#Creación de la/s carpeta/s de los rostros, en este caso solo habrá una: Yeifer.\n",
    "if not os.path.exists(personPath):\n",
    "    print('Carpeta creada: ',personPath)\n",
    "    os.makedirs(personPath)\n",
    "\n",
    "#La Captura comenzará por video streaming al correr el algoritmo. \n",
    "cap = cv2.VideoCapture(0,cv2.CAP_DSHOW)\n",
    "\n",
    "#Igualmente se puede tomar el video de videos previamente grabados indicando la dirección dónde se encuentra\n",
    "#cap = cv2.VideoCapture('Video.mp4')\n",
    "\n",
    "#Detectar video con haarcascade.\n",
    "faceClassif = cv2.CascadeClassifier(cv2.data.haarcascades+'haarcascade_frontalface_default.xml')\n",
    "count = 0\n",
    "\n",
    "#Leemos el fotograma del video y dimensionamos la pantalla.\n",
    "while True:\n",
    "    ret, frame = cap.read()\n",
    "    if ret == False: break\n",
    "    frame =  imutils.resize(frame, width=640)\n",
    "    gray = cv2.cvtColor(frame, cv2.COLOR_BGR2GRAY)\n",
    "    auxFrame = frame.copy()\n",
    "\n",
    "    faces = faceClassif.detectMultiScale(gray,1.3,5)\n",
    "\n",
    "#Dimensiones de las fotos capturadas.\n",
    "    for (x,y,w,h) in faces:\n",
    "        cv2.rectangle(frame, (x,y),(x+w,y+h),(0,255,0),2)\n",
    "        rostro = auxFrame[y:y+h,x:x+w]\n",
    "        rostro = cv2.resize(rostro,(150,150),interpolation=cv2.INTER_CUBIC)\n",
    "        cv2.imwrite(personPath + '/rotro_{}.jpg'.format(count),rostro)\n",
    "        count = count + 1\n",
    "    cv2.imshow('frame',frame)\n",
    "\n",
    "    #Tomaremos 500 fotos para \n",
    "    k =  cv2.waitKey(1)\n",
    "    if k == 27 or count >= 500:\n",
    "        break\n",
    "\n",
    "cap.release()\n",
    "cv2.destroyAllWindows()"
   ]
  },
  {
   "cell_type": "code",
   "execution_count": null,
   "metadata": {},
   "outputs": [],
   "source": [
    "#La pantalla que captura las fotos desaparecerá cuando haya temrinado de tomar las 500 fotos.\n",
    "\n",
    "#Para una mayor precisión las fotos deben tomarse donde se vaya a realizar el reconocimiento facial."
   ]
  }
 ],
 "metadata": {
  "kernelspec": {
   "display_name": "Python 3",
   "language": "python",
   "name": "python3"
  },
  "language_info": {
   "codemirror_mode": {
    "name": "ipython",
    "version": 3
   },
   "file_extension": ".py",
   "mimetype": "text/x-python",
   "name": "python",
   "nbconvert_exporter": "python",
   "pygments_lexer": "ipython3",
   "version": "3.7.6"
  }
 },
 "nbformat": 4,
 "nbformat_minor": 4
}
