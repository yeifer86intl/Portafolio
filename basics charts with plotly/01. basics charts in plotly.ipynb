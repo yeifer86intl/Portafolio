{
 "cells": [
  {
   "cell_type": "code",
   "execution_count": 1,
   "metadata": {},
   "outputs": [
    {
     "data": {
      "text/html": [
       "        <script type=\"text/javascript\">\n",
       "        window.PlotlyConfig = {MathJaxConfig: 'local'};\n",
       "        if (window.MathJax) {MathJax.Hub.Config({SVG: {font: \"STIX-Web\"}});}\n",
       "        if (typeof require !== 'undefined') {\n",
       "        require.undef(\"plotly\");\n",
       "        requirejs.config({\n",
       "            paths: {\n",
       "                'plotly': ['https://cdn.plot.ly/plotly-latest.min']\n",
       "            }\n",
       "        });\n",
       "        require(['plotly'], function(Plotly) {\n",
       "            window._Plotly = Plotly;\n",
       "        });\n",
       "        }\n",
       "        </script>\n",
       "        "
      ]
     },
     "metadata": {},
     "output_type": "display_data"
    }
   ],
   "source": [
    "# Pandas para manipular datos.\n",
    "# Pandas for manipulating data.\n",
    "import pandas as pd\n",
    "\n",
    "# Importo cufflinks para poder trabajar con dataframes de pandas directamente en plotly.\n",
    "# Import cufflinks for can work with dataframes from pandas directly in plotly.\n",
    "\n",
    "import cufflinks as cf\n",
    "import plotly.offline\n",
    "\n",
    "# Opero la libreria en modo offline.\n",
    "# Used library in offline mode.\n",
    "cf.go_offline()\n",
    "cf.set_config_file(offline=False, world_readable=True)\n",
    "\n",
    "# Lectura de datos sobre el top 15 of best renewed/refurbished laptops on amazon USA\n",
    "# Read the data about top 15 of best renewed/refurbished laptops on amazon USA.\n",
    "data=pd.read_csv(\"data_laptops_renewed.csv\", sep=';')\n",
    "data[\"stars\"]=data.stars.str.replace(\",\",\".\").astype(float)"
   ]
  },
  {
   "cell_type": "code",
   "execution_count": 2,
   "metadata": {},
   "outputs": [
    {
     "data": {
      "text/html": [
       "<div>\n",
       "<style scoped>\n",
       "    .dataframe tbody tr th:only-of-type {\n",
       "        vertical-align: middle;\n",
       "    }\n",
       "\n",
       "    .dataframe tbody tr th {\n",
       "        vertical-align: top;\n",
       "    }\n",
       "\n",
       "    .dataframe thead th {\n",
       "        text-align: right;\n",
       "    }\n",
       "</style>\n",
       "<table border=\"1\" class=\"dataframe\">\n",
       "  <thead>\n",
       "    <tr style=\"text-align: right;\">\n",
       "      <th></th>\n",
       "      <th>id</th>\n",
       "      <th>brand</th>\n",
       "      <th>model</th>\n",
       "      <th>stars</th>\n",
       "      <th>ratings</th>\n",
       "      <th>url</th>\n",
       "      <th>price</th>\n",
       "      <th>brand_id</th>\n",
       "    </tr>\n",
       "  </thead>\n",
       "  <tbody>\n",
       "    <tr>\n",
       "      <th>0</th>\n",
       "      <td>1</td>\n",
       "      <td>apple</td>\n",
       "      <td>(Renewed) Apple MacBook Air MJVM2LL/A 11.6-Inc...</td>\n",
       "      <td>4.2</td>\n",
       "      <td>1465</td>\n",
       "      <td>https://amzn.to/3fWb1xe</td>\n",
       "      <td>503</td>\n",
       "      <td>1</td>\n",
       "    </tr>\n",
       "    <tr>\n",
       "      <th>1</th>\n",
       "      <td>2</td>\n",
       "      <td>apple</td>\n",
       "      <td>Apple 2018 13.3in MacBook Air  Mac OS  Intel C...</td>\n",
       "      <td>4.6</td>\n",
       "      <td>112</td>\n",
       "      <td>https://amzn.to/2DZw8BJ</td>\n",
       "      <td>849</td>\n",
       "      <td>1</td>\n",
       "    </tr>\n",
       "    <tr>\n",
       "      <th>2</th>\n",
       "      <td>3</td>\n",
       "      <td>apple</td>\n",
       "      <td>(Renewed) Apple 2018 13.3in MacBook Air  Mac O...</td>\n",
       "      <td>4.6</td>\n",
       "      <td>112</td>\n",
       "      <td>https://amzn.to/343wqlR</td>\n",
       "      <td>849</td>\n",
       "      <td>1</td>\n",
       "    </tr>\n",
       "    <tr>\n",
       "      <th>3</th>\n",
       "      <td>4</td>\n",
       "      <td>dell</td>\n",
       "      <td>(Renewed) Dell ChromeBook 11.6 Inch HD (1366 x...</td>\n",
       "      <td>4.1</td>\n",
       "      <td>1420</td>\n",
       "      <td>https://amzn.to/2XXNKF6</td>\n",
       "      <td>299</td>\n",
       "      <td>2</td>\n",
       "    </tr>\n",
       "    <tr>\n",
       "      <th>4</th>\n",
       "      <td>5</td>\n",
       "      <td>microsoft</td>\n",
       "      <td>Microsoft Surface Laptop Intel Core i5 7th Gen...</td>\n",
       "      <td>4.4</td>\n",
       "      <td>348</td>\n",
       "      <td>https://amzn.to/3iAR4Oi</td>\n",
       "      <td>729</td>\n",
       "      <td>3</td>\n",
       "    </tr>\n",
       "  </tbody>\n",
       "</table>\n",
       "</div>"
      ],
      "text/plain": [
       "   id      brand                                              model  stars  \\\n",
       "0   1      apple  (Renewed) Apple MacBook Air MJVM2LL/A 11.6-Inc...    4.2   \n",
       "1   2      apple  Apple 2018 13.3in MacBook Air  Mac OS  Intel C...    4.6   \n",
       "2   3      apple  (Renewed) Apple 2018 13.3in MacBook Air  Mac O...    4.6   \n",
       "3   4       dell  (Renewed) Dell ChromeBook 11.6 Inch HD (1366 x...    4.1   \n",
       "4   5  microsoft  Microsoft Surface Laptop Intel Core i5 7th Gen...    4.4   \n",
       "\n",
       "   ratings                      url  price  brand_id  \n",
       "0     1465  https://amzn.to/3fWb1xe    503         1  \n",
       "1      112  https://amzn.to/2DZw8BJ    849         1  \n",
       "2      112  https://amzn.to/343wqlR    849         1  \n",
       "3     1420  https://amzn.to/2XXNKF6    299         2  \n",
       "4      348  https://amzn.to/3iAR4Oi    729         3  "
      ]
     },
     "execution_count": 2,
     "metadata": {},
     "output_type": "execute_result"
    }
   ],
   "source": [
    "#Español\n",
    "# Con la función: Head, visualizamos los primeros registros, en este caso los primeros 5.\n",
    "\n",
    "#English\n",
    "# With the function: Head, we can visualize the firts rows, in this case the top 5.\n",
    "data.head(5)"
   ]
  },
  {
   "cell_type": "code",
   "execution_count": 3,
   "metadata": {},
   "outputs": [
    {
     "data": {
      "text/html": [
       "<style  type=\"text/css\" >\n",
       "</style><table id=\"T_25dc9794_eec7_11ea_bf9d_f0921ce41788\" ><thead>    <tr>        <th class=\"blank level0\" ></th>        <th class=\"col_heading level0 col0\" >id</th>        <th class=\"col_heading level0 col1\" >brand</th>        <th class=\"col_heading level0 col2\" >model</th>        <th class=\"col_heading level0 col3\" >stars</th>        <th class=\"col_heading level0 col4\" >ratings</th>        <th class=\"col_heading level0 col5\" >url</th>        <th class=\"col_heading level0 col6\" >price</th>        <th class=\"col_heading level0 col7\" >brand_id</th>    </tr></thead><tbody>\n",
       "                <tr>\n",
       "                        <th id=\"T_25dc9794_eec7_11ea_bf9d_f0921ce41788level0_row0\" class=\"row_heading level0 row0\" >0</th>\n",
       "                        <td id=\"T_25dc9794_eec7_11ea_bf9d_f0921ce41788row0_col0\" class=\"data row0 col0\" >1</td>\n",
       "                        <td id=\"T_25dc9794_eec7_11ea_bf9d_f0921ce41788row0_col1\" class=\"data row0 col1\" >apple</td>\n",
       "                        <td id=\"T_25dc9794_eec7_11ea_bf9d_f0921ce41788row0_col2\" class=\"data row0 col2\" >(Renewed) Apple MacBook Air MJVM2LL/A 11.6-Inch laptop(1.6 GHz Intel i5  128 GB SSD  Integrated Intel HD Graphics 6000  Mac OS X Yosemite</td>\n",
       "                        <td id=\"T_25dc9794_eec7_11ea_bf9d_f0921ce41788row0_col3\" class=\"data row0 col3\" >4.200000</td>\n",
       "                        <td id=\"T_25dc9794_eec7_11ea_bf9d_f0921ce41788row0_col4\" class=\"data row0 col4\" >1465</td>\n",
       "                        <td id=\"T_25dc9794_eec7_11ea_bf9d_f0921ce41788row0_col5\" class=\"data row0 col5\" ><a target=\"_blank\" href=\"https://amzn.to/3fWb1xe\">https://amzn.to/3fWb1xe</a></td>\n",
       "                        <td id=\"T_25dc9794_eec7_11ea_bf9d_f0921ce41788row0_col6\" class=\"data row0 col6\" >503</td>\n",
       "                        <td id=\"T_25dc9794_eec7_11ea_bf9d_f0921ce41788row0_col7\" class=\"data row0 col7\" >1</td>\n",
       "            </tr>\n",
       "            <tr>\n",
       "                        <th id=\"T_25dc9794_eec7_11ea_bf9d_f0921ce41788level0_row1\" class=\"row_heading level0 row1\" >1</th>\n",
       "                        <td id=\"T_25dc9794_eec7_11ea_bf9d_f0921ce41788row1_col0\" class=\"data row1 col0\" >2</td>\n",
       "                        <td id=\"T_25dc9794_eec7_11ea_bf9d_f0921ce41788row1_col1\" class=\"data row1 col1\" >apple</td>\n",
       "                        <td id=\"T_25dc9794_eec7_11ea_bf9d_f0921ce41788row1_col2\" class=\"data row1 col2\" >Apple 2018 13.3in MacBook Air  Mac OS  Intel Core i5  1.6 GHz  Intel UHD Graphics 617  128 GB  Silver (Renewed)</td>\n",
       "                        <td id=\"T_25dc9794_eec7_11ea_bf9d_f0921ce41788row1_col3\" class=\"data row1 col3\" >4.600000</td>\n",
       "                        <td id=\"T_25dc9794_eec7_11ea_bf9d_f0921ce41788row1_col4\" class=\"data row1 col4\" >112</td>\n",
       "                        <td id=\"T_25dc9794_eec7_11ea_bf9d_f0921ce41788row1_col5\" class=\"data row1 col5\" ><a target=\"_blank\" href=\"https://amzn.to/2DZw8BJ\">https://amzn.to/2DZw8BJ</a></td>\n",
       "                        <td id=\"T_25dc9794_eec7_11ea_bf9d_f0921ce41788row1_col6\" class=\"data row1 col6\" >849</td>\n",
       "                        <td id=\"T_25dc9794_eec7_11ea_bf9d_f0921ce41788row1_col7\" class=\"data row1 col7\" >1</td>\n",
       "            </tr>\n",
       "            <tr>\n",
       "                        <th id=\"T_25dc9794_eec7_11ea_bf9d_f0921ce41788level0_row2\" class=\"row_heading level0 row2\" >2</th>\n",
       "                        <td id=\"T_25dc9794_eec7_11ea_bf9d_f0921ce41788row2_col0\" class=\"data row2 col0\" >3</td>\n",
       "                        <td id=\"T_25dc9794_eec7_11ea_bf9d_f0921ce41788row2_col1\" class=\"data row2 col1\" >apple</td>\n",
       "                        <td id=\"T_25dc9794_eec7_11ea_bf9d_f0921ce41788row2_col2\" class=\"data row2 col2\" >(Renewed) Apple 2018 13.3in MacBook Air  Mac OS  Intel Core i5  1.6 GHz  Intel UHD Graphics 617  128 GB  Space Gray</td>\n",
       "                        <td id=\"T_25dc9794_eec7_11ea_bf9d_f0921ce41788row2_col3\" class=\"data row2 col3\" >4.600000</td>\n",
       "                        <td id=\"T_25dc9794_eec7_11ea_bf9d_f0921ce41788row2_col4\" class=\"data row2 col4\" >112</td>\n",
       "                        <td id=\"T_25dc9794_eec7_11ea_bf9d_f0921ce41788row2_col5\" class=\"data row2 col5\" ><a target=\"_blank\" href=\"https://amzn.to/343wqlR\">https://amzn.to/343wqlR</a></td>\n",
       "                        <td id=\"T_25dc9794_eec7_11ea_bf9d_f0921ce41788row2_col6\" class=\"data row2 col6\" >849</td>\n",
       "                        <td id=\"T_25dc9794_eec7_11ea_bf9d_f0921ce41788row2_col7\" class=\"data row2 col7\" >1</td>\n",
       "            </tr>\n",
       "            <tr>\n",
       "                        <th id=\"T_25dc9794_eec7_11ea_bf9d_f0921ce41788level0_row3\" class=\"row_heading level0 row3\" >3</th>\n",
       "                        <td id=\"T_25dc9794_eec7_11ea_bf9d_f0921ce41788row3_col0\" class=\"data row3 col0\" >4</td>\n",
       "                        <td id=\"T_25dc9794_eec7_11ea_bf9d_f0921ce41788row3_col1\" class=\"data row3 col1\" >dell</td>\n",
       "                        <td id=\"T_25dc9794_eec7_11ea_bf9d_f0921ce41788row3_col2\" class=\"data row3 col2\" >(Renewed) Dell ChromeBook 11.6 Inch HD (1366 x 768) Laptop NoteBook PC  Intel Celeron N2840  Camera  HDMI  WIFI  USB 3.0  SD Card Reader</td>\n",
       "                        <td id=\"T_25dc9794_eec7_11ea_bf9d_f0921ce41788row3_col3\" class=\"data row3 col3\" >4.100000</td>\n",
       "                        <td id=\"T_25dc9794_eec7_11ea_bf9d_f0921ce41788row3_col4\" class=\"data row3 col4\" >1420</td>\n",
       "                        <td id=\"T_25dc9794_eec7_11ea_bf9d_f0921ce41788row3_col5\" class=\"data row3 col5\" ><a target=\"_blank\" href=\"https://amzn.to/2XXNKF6\">https://amzn.to/2XXNKF6</a></td>\n",
       "                        <td id=\"T_25dc9794_eec7_11ea_bf9d_f0921ce41788row3_col6\" class=\"data row3 col6\" >299</td>\n",
       "                        <td id=\"T_25dc9794_eec7_11ea_bf9d_f0921ce41788row3_col7\" class=\"data row3 col7\" >2</td>\n",
       "            </tr>\n",
       "            <tr>\n",
       "                        <th id=\"T_25dc9794_eec7_11ea_bf9d_f0921ce41788level0_row4\" class=\"row_heading level0 row4\" >4</th>\n",
       "                        <td id=\"T_25dc9794_eec7_11ea_bf9d_f0921ce41788row4_col0\" class=\"data row4 col0\" >5</td>\n",
       "                        <td id=\"T_25dc9794_eec7_11ea_bf9d_f0921ce41788row4_col1\" class=\"data row4 col1\" >microsoft</td>\n",
       "                        <td id=\"T_25dc9794_eec7_11ea_bf9d_f0921ce41788row4_col2\" class=\"data row4 col2\" >Microsoft Surface Laptop Intel Core i5 7th Gen 8GB RAM 256GB SSD Win 10 Platinum (Renewed)</td>\n",
       "                        <td id=\"T_25dc9794_eec7_11ea_bf9d_f0921ce41788row4_col3\" class=\"data row4 col3\" >4.400000</td>\n",
       "                        <td id=\"T_25dc9794_eec7_11ea_bf9d_f0921ce41788row4_col4\" class=\"data row4 col4\" >348</td>\n",
       "                        <td id=\"T_25dc9794_eec7_11ea_bf9d_f0921ce41788row4_col5\" class=\"data row4 col5\" ><a target=\"_blank\" href=\"https://amzn.to/3iAR4Oi\">https://amzn.to/3iAR4Oi</a></td>\n",
       "                        <td id=\"T_25dc9794_eec7_11ea_bf9d_f0921ce41788row4_col6\" class=\"data row4 col6\" >729</td>\n",
       "                        <td id=\"T_25dc9794_eec7_11ea_bf9d_f0921ce41788row4_col7\" class=\"data row4 col7\" >3</td>\n",
       "            </tr>\n",
       "            <tr>\n",
       "                        <th id=\"T_25dc9794_eec7_11ea_bf9d_f0921ce41788level0_row5\" class=\"row_heading level0 row5\" >5</th>\n",
       "                        <td id=\"T_25dc9794_eec7_11ea_bf9d_f0921ce41788row5_col0\" class=\"data row5 col0\" >6</td>\n",
       "                        <td id=\"T_25dc9794_eec7_11ea_bf9d_f0921ce41788row5_col1\" class=\"data row5 col1\" >apple</td>\n",
       "                        <td id=\"T_25dc9794_eec7_11ea_bf9d_f0921ce41788row5_col2\" class=\"data row5 col2\" >(Renewed) Apple MacBook Air (13-inch Retina display  1.6GHz dual-core Intel Core i5  128GB) - Space Gray</td>\n",
       "                        <td id=\"T_25dc9794_eec7_11ea_bf9d_f0921ce41788row5_col3\" class=\"data row5 col3\" >4.400000</td>\n",
       "                        <td id=\"T_25dc9794_eec7_11ea_bf9d_f0921ce41788row5_col4\" class=\"data row5 col4\" >331</td>\n",
       "                        <td id=\"T_25dc9794_eec7_11ea_bf9d_f0921ce41788row5_col5\" class=\"data row5 col5\" ><a target=\"_blank\" href=\"https://amzn.to/3ay8W9X\">https://amzn.to/3ay8W9X</a></td>\n",
       "                        <td id=\"T_25dc9794_eec7_11ea_bf9d_f0921ce41788row5_col6\" class=\"data row5 col6\" >819</td>\n",
       "                        <td id=\"T_25dc9794_eec7_11ea_bf9d_f0921ce41788row5_col7\" class=\"data row5 col7\" >1</td>\n",
       "            </tr>\n",
       "            <tr>\n",
       "                        <th id=\"T_25dc9794_eec7_11ea_bf9d_f0921ce41788level0_row6\" class=\"row_heading level0 row6\" >6</th>\n",
       "                        <td id=\"T_25dc9794_eec7_11ea_bf9d_f0921ce41788row6_col0\" class=\"data row6 col0\" >7</td>\n",
       "                        <td id=\"T_25dc9794_eec7_11ea_bf9d_f0921ce41788row6_col1\" class=\"data row6 col1\" >apple</td>\n",
       "                        <td id=\"T_25dc9794_eec7_11ea_bf9d_f0921ce41788row6_col2\" class=\"data row6 col2\" >(Renewed) Apple MacBook Air MD760LL/A 13.3-Inch Laptop (Intel Core i5 Dual-Core 1.3GHz up to 2.6GHz  4GB RAM  128GB SSD  Wi-Fi  Bluetooth 4.0)</td>\n",
       "                        <td id=\"T_25dc9794_eec7_11ea_bf9d_f0921ce41788row6_col3\" class=\"data row6 col3\" >4.300000</td>\n",
       "                        <td id=\"T_25dc9794_eec7_11ea_bf9d_f0921ce41788row6_col4\" class=\"data row6 col4\" >624</td>\n",
       "                        <td id=\"T_25dc9794_eec7_11ea_bf9d_f0921ce41788row6_col5\" class=\"data row6 col5\" ><a target=\"_blank\" href=\"https://amzn.to/3gUNXQW\">https://amzn.to/3gUNXQW</a></td>\n",
       "                        <td id=\"T_25dc9794_eec7_11ea_bf9d_f0921ce41788row6_col6\" class=\"data row6 col6\" >599</td>\n",
       "                        <td id=\"T_25dc9794_eec7_11ea_bf9d_f0921ce41788row6_col7\" class=\"data row6 col7\" >1</td>\n",
       "            </tr>\n",
       "            <tr>\n",
       "                        <th id=\"T_25dc9794_eec7_11ea_bf9d_f0921ce41788level0_row7\" class=\"row_heading level0 row7\" >7</th>\n",
       "                        <td id=\"T_25dc9794_eec7_11ea_bf9d_f0921ce41788row7_col0\" class=\"data row7 col0\" >8</td>\n",
       "                        <td id=\"T_25dc9794_eec7_11ea_bf9d_f0921ce41788row7_col1\" class=\"data row7 col1\" >acer</td>\n",
       "                        <td id=\"T_25dc9794_eec7_11ea_bf9d_f0921ce41788row7_col2\" class=\"data row7 col2\" >2018 Acer 14' FHD IPS Display Premium Flagship Business Chromebook-Intel Celeron Quad-Core Processor Up to 2.24Ghz  4GB RAM  32GB SSD  HDMI  WiFi  Bluetooth Chrome OS-(Renewed)</td>\n",
       "                        <td id=\"T_25dc9794_eec7_11ea_bf9d_f0921ce41788row7_col3\" class=\"data row7 col3\" >4.300000</td>\n",
       "                        <td id=\"T_25dc9794_eec7_11ea_bf9d_f0921ce41788row7_col4\" class=\"data row7 col4\" >564</td>\n",
       "                        <td id=\"T_25dc9794_eec7_11ea_bf9d_f0921ce41788row7_col5\" class=\"data row7 col5\" ><a target=\"_blank\" href=\"https://amzn.to/2XST90g\">https://amzn.to/2XST90g</a></td>\n",
       "                        <td id=\"T_25dc9794_eec7_11ea_bf9d_f0921ce41788row7_col6\" class=\"data row7 col6\" >299</td>\n",
       "                        <td id=\"T_25dc9794_eec7_11ea_bf9d_f0921ce41788row7_col7\" class=\"data row7 col7\" >4</td>\n",
       "            </tr>\n",
       "            <tr>\n",
       "                        <th id=\"T_25dc9794_eec7_11ea_bf9d_f0921ce41788level0_row8\" class=\"row_heading level0 row8\" >8</th>\n",
       "                        <td id=\"T_25dc9794_eec7_11ea_bf9d_f0921ce41788row8_col0\" class=\"data row8 col0\" >9</td>\n",
       "                        <td id=\"T_25dc9794_eec7_11ea_bf9d_f0921ce41788row8_col1\" class=\"data row8 col1\" >apple</td>\n",
       "                        <td id=\"T_25dc9794_eec7_11ea_bf9d_f0921ce41788row8_col2\" class=\"data row8 col2\" >Apple MacBook Pro MPXU2LL/A  13.3-inch Retina Display  2.3GHz Intel Core i5  8GB RAM  256GB SSD  Silver (Renewed)</td>\n",
       "                        <td id=\"T_25dc9794_eec7_11ea_bf9d_f0921ce41788row8_col3\" class=\"data row8 col3\" >4.400000</td>\n",
       "                        <td id=\"T_25dc9794_eec7_11ea_bf9d_f0921ce41788row8_col4\" class=\"data row8 col4\" >157</td>\n",
       "                        <td id=\"T_25dc9794_eec7_11ea_bf9d_f0921ce41788row8_col5\" class=\"data row8 col5\" ><a target=\"_blank\" href=\"https://amzn.to/3iBK3wQ\">https://amzn.to/3iBK3wQ</a></td>\n",
       "                        <td id=\"T_25dc9794_eec7_11ea_bf9d_f0921ce41788row8_col6\" class=\"data row8 col6\" >899</td>\n",
       "                        <td id=\"T_25dc9794_eec7_11ea_bf9d_f0921ce41788row8_col7\" class=\"data row8 col7\" >1</td>\n",
       "            </tr>\n",
       "            <tr>\n",
       "                        <th id=\"T_25dc9794_eec7_11ea_bf9d_f0921ce41788level0_row9\" class=\"row_heading level0 row9\" >9</th>\n",
       "                        <td id=\"T_25dc9794_eec7_11ea_bf9d_f0921ce41788row9_col0\" class=\"data row9 col0\" >10</td>\n",
       "                        <td id=\"T_25dc9794_eec7_11ea_bf9d_f0921ce41788row9_col1\" class=\"data row9 col1\" >apple</td>\n",
       "                        <td id=\"T_25dc9794_eec7_11ea_bf9d_f0921ce41788row9_col2\" class=\"data row9 col2\" >Apple MacBook Pro MF839LL/A 128GB Flash Storage - 8GB LPDDR3 - 13.3in with Intel Core i5 2.7 GHz (Renewed)</td>\n",
       "                        <td id=\"T_25dc9794_eec7_11ea_bf9d_f0921ce41788row9_col3\" class=\"data row9 col3\" >4.400000</td>\n",
       "                        <td id=\"T_25dc9794_eec7_11ea_bf9d_f0921ce41788row9_col4\" class=\"data row9 col4\" >108</td>\n",
       "                        <td id=\"T_25dc9794_eec7_11ea_bf9d_f0921ce41788row9_col5\" class=\"data row9 col5\" ><a target=\"_blank\" href=\"https://amzn.to/2PZXhY1\">https://amzn.to/2PZXhY1</a></td>\n",
       "                        <td id=\"T_25dc9794_eec7_11ea_bf9d_f0921ce41788row9_col6\" class=\"data row9 col6\" >679</td>\n",
       "                        <td id=\"T_25dc9794_eec7_11ea_bf9d_f0921ce41788row9_col7\" class=\"data row9 col7\" >1</td>\n",
       "            </tr>\n",
       "            <tr>\n",
       "                        <th id=\"T_25dc9794_eec7_11ea_bf9d_f0921ce41788level0_row10\" class=\"row_heading level0 row10\" >10</th>\n",
       "                        <td id=\"T_25dc9794_eec7_11ea_bf9d_f0921ce41788row10_col0\" class=\"data row10 col0\" >11</td>\n",
       "                        <td id=\"T_25dc9794_eec7_11ea_bf9d_f0921ce41788row10_col1\" class=\"data row10 col1\" >acer</td>\n",
       "                        <td id=\"T_25dc9794_eec7_11ea_bf9d_f0921ce41788row10_col2\" class=\"data row10 col2\" >Acer 15.6in HD High Performance Student Chromebook-Intel Dual-Core Celeron N3060 Processor  2GB RAM  16GB SSD  Intel HD Graphics  HDMI  WiFi  Bluetooth  Chrome OS-(Renewed)</td>\n",
       "                        <td id=\"T_25dc9794_eec7_11ea_bf9d_f0921ce41788row10_col3\" class=\"data row10 col3\" >4.400000</td>\n",
       "                        <td id=\"T_25dc9794_eec7_11ea_bf9d_f0921ce41788row10_col4\" class=\"data row10 col4\" >104</td>\n",
       "                        <td id=\"T_25dc9794_eec7_11ea_bf9d_f0921ce41788row10_col5\" class=\"data row10 col5\" ><a target=\"_blank\" href=\"https://amzn.to/3fOYU4X\">https://amzn.to/3fOYU4X</a></td>\n",
       "                        <td id=\"T_25dc9794_eec7_11ea_bf9d_f0921ce41788row10_col6\" class=\"data row10 col6\" >279</td>\n",
       "                        <td id=\"T_25dc9794_eec7_11ea_bf9d_f0921ce41788row10_col7\" class=\"data row10 col7\" >4</td>\n",
       "            </tr>\n",
       "            <tr>\n",
       "                        <th id=\"T_25dc9794_eec7_11ea_bf9d_f0921ce41788level0_row11\" class=\"row_heading level0 row11\" >11</th>\n",
       "                        <td id=\"T_25dc9794_eec7_11ea_bf9d_f0921ce41788row11_col0\" class=\"data row11 col0\" >12</td>\n",
       "                        <td id=\"T_25dc9794_eec7_11ea_bf9d_f0921ce41788row11_col1\" class=\"data row11 col1\" >hp</td>\n",
       "                        <td id=\"T_25dc9794_eec7_11ea_bf9d_f0921ce41788row11_col2\" class=\"data row11 col2\" >(Renewed) HP Stream 14 inches HD(1366x768) Display  Intel Celeron N4000 Dual-Core Processor  4GB RAM  32GB eMMC  HDMI  WiFi  Webcam  Bluetooth  Win10 S  Royal Blue  14-cb161wm</td>\n",
       "                        <td id=\"T_25dc9794_eec7_11ea_bf9d_f0921ce41788row11_col3\" class=\"data row11 col3\" >4.000000</td>\n",
       "                        <td id=\"T_25dc9794_eec7_11ea_bf9d_f0921ce41788row11_col4\" class=\"data row11 col4\" >1294</td>\n",
       "                        <td id=\"T_25dc9794_eec7_11ea_bf9d_f0921ce41788row11_col5\" class=\"data row11 col5\" ><a target=\"_blank\" href=\"https://amzn.to/2DTgV50\">https://amzn.to/2DTgV50</a></td>\n",
       "                        <td id=\"T_25dc9794_eec7_11ea_bf9d_f0921ce41788row11_col6\" class=\"data row11 col6\" >315</td>\n",
       "                        <td id=\"T_25dc9794_eec7_11ea_bf9d_f0921ce41788row11_col7\" class=\"data row11 col7\" >5</td>\n",
       "            </tr>\n",
       "            <tr>\n",
       "                        <th id=\"T_25dc9794_eec7_11ea_bf9d_f0921ce41788level0_row12\" class=\"row_heading level0 row12\" >12</th>\n",
       "                        <td id=\"T_25dc9794_eec7_11ea_bf9d_f0921ce41788row12_col0\" class=\"data row12 col0\" >13</td>\n",
       "                        <td id=\"T_25dc9794_eec7_11ea_bf9d_f0921ce41788row12_col1\" class=\"data row12 col1\" >apple</td>\n",
       "                        <td id=\"T_25dc9794_eec7_11ea_bf9d_f0921ce41788row12_col2\" class=\"data row12 col2\" >Apple MacBook Air MD711LL/B 11.6in Widescreen LED Backlit HD Laptop  Intel Dual-Core i5 up to 2.7GHz  4GB RAM  128GB SSD  HD Camera  USB 3.0  802.11ac  Bluetooth  Mac OS X (Renewed)</td>\n",
       "                        <td id=\"T_25dc9794_eec7_11ea_bf9d_f0921ce41788row12_col3\" class=\"data row12 col3\" >4.200000</td>\n",
       "                        <td id=\"T_25dc9794_eec7_11ea_bf9d_f0921ce41788row12_col4\" class=\"data row12 col4\" >542</td>\n",
       "                        <td id=\"T_25dc9794_eec7_11ea_bf9d_f0921ce41788row12_col5\" class=\"data row12 col5\" ><a target=\"_blank\" href=\"https://amzn.to/3fKVtMO\">https://amzn.to/3fKVtMO</a></td>\n",
       "                        <td id=\"T_25dc9794_eec7_11ea_bf9d_f0921ce41788row12_col6\" class=\"data row12 col6\" >589</td>\n",
       "                        <td id=\"T_25dc9794_eec7_11ea_bf9d_f0921ce41788row12_col7\" class=\"data row12 col7\" >1</td>\n",
       "            </tr>\n",
       "            <tr>\n",
       "                        <th id=\"T_25dc9794_eec7_11ea_bf9d_f0921ce41788level0_row13\" class=\"row_heading level0 row13\" >13</th>\n",
       "                        <td id=\"T_25dc9794_eec7_11ea_bf9d_f0921ce41788row13_col0\" class=\"data row13 col0\" >14</td>\n",
       "                        <td id=\"T_25dc9794_eec7_11ea_bf9d_f0921ce41788row13_col1\" class=\"data row13 col1\" >apple</td>\n",
       "                        <td id=\"T_25dc9794_eec7_11ea_bf9d_f0921ce41788row13_col2\" class=\"data row13 col2\" >Apple MacBook Air MJVM2LL/A 11.6 Inch Laptop (Intel Core i5 Dual-Core 1.6GHz up to 2.7GHz  4GB RAM  128GB SSD  Wi-Fi  Bluetooth 4.0  Integrated Intel HD Graphics 6000  Mac OS) (Renewed)</td>\n",
       "                        <td id=\"T_25dc9794_eec7_11ea_bf9d_f0921ce41788row13_col3\" class=\"data row13 col3\" >4.200000</td>\n",
       "                        <td id=\"T_25dc9794_eec7_11ea_bf9d_f0921ce41788row13_col4\" class=\"data row13 col4\" >509</td>\n",
       "                        <td id=\"T_25dc9794_eec7_11ea_bf9d_f0921ce41788row13_col5\" class=\"data row13 col5\" ><a target=\"_blank\" href=\"https://amzn.to/2DZrpjs\">https://amzn.to/2DZrpjs</a></td>\n",
       "                        <td id=\"T_25dc9794_eec7_11ea_bf9d_f0921ce41788row13_col6\" class=\"data row13 col6\" >515</td>\n",
       "                        <td id=\"T_25dc9794_eec7_11ea_bf9d_f0921ce41788row13_col7\" class=\"data row13 col7\" >1</td>\n",
       "            </tr>\n",
       "            <tr>\n",
       "                        <th id=\"T_25dc9794_eec7_11ea_bf9d_f0921ce41788level0_row14\" class=\"row_heading level0 row14\" >14</th>\n",
       "                        <td id=\"T_25dc9794_eec7_11ea_bf9d_f0921ce41788row14_col0\" class=\"data row14 col0\" >15</td>\n",
       "                        <td id=\"T_25dc9794_eec7_11ea_bf9d_f0921ce41788row14_col1\" class=\"data row14 col1\" >dell</td>\n",
       "                        <td id=\"T_25dc9794_eec7_11ea_bf9d_f0921ce41788row14_col2\" class=\"data row14 col2\" >Fast Dell Latitude E5470 HD Business Laptop Notebook PC (Intel Core i5-6300U  8GB Ram  256GB Solid State SSD  HDMI  Camera  WiFi) Win 10 Pro SC Card Reader (Renewed)</td>\n",
       "                        <td id=\"T_25dc9794_eec7_11ea_bf9d_f0921ce41788row14_col3\" class=\"data row14 col3\" >4.300000</td>\n",
       "                        <td id=\"T_25dc9794_eec7_11ea_bf9d_f0921ce41788row14_col4\" class=\"data row14 col4\" >199</td>\n",
       "                        <td id=\"T_25dc9794_eec7_11ea_bf9d_f0921ce41788row14_col5\" class=\"data row14 col5\" ><a target=\"_blank\" href=\"https://amzn.to/30Tn9e6\">https://amzn.to/30Tn9e6</a></td>\n",
       "                        <td id=\"T_25dc9794_eec7_11ea_bf9d_f0921ce41788row14_col6\" class=\"data row14 col6\" >439</td>\n",
       "                        <td id=\"T_25dc9794_eec7_11ea_bf9d_f0921ce41788row14_col7\" class=\"data row14 col7\" >2</td>\n",
       "            </tr>\n",
       "    </tbody></table>"
      ],
      "text/plain": [
       "<pandas.io.formats.style.Styler at 0x16df994da48>"
      ]
     },
     "execution_count": 3,
     "metadata": {},
     "output_type": "execute_result"
    }
   ],
   "source": [
    "# Español\n",
    "# La función: click_to_link, permite acceso a links de paginas web en jupyter notebooks.\n",
    "\n",
    "# English\n",
    "# The function: click_to_link, permit access to webpages's links on jupiter notebooks. \n",
    "\n",
    "def click_to_link(val):\n",
    "    # target _blank to open new window\n",
    "    return '<a target=\"_blank\" href=\"{}\">{}</a>'.format(val, val)\n",
    "\n",
    "data.style.format({'url': click_to_link})\n",
    "\n",
    "# Español\n",
    "\n",
    "# Acá esta toda la data completa del:  top 15 of best renewed/refurbished laptops on amazon USA \n",
    "\n",
    "# id: Posicion dentro del ranking.\n",
    "# brand: marca.\n",
    "# model: descripcion del modelo con todas sus caracteristicas.\n",
    "# stars: promedio de calificacion de los clientes entre 1 y 5.\n",
    "# rating: cantidad de comentarios acerca del producto.\n",
    "# url: direccion de la pagina del producto en amazon.com USA.\n",
    "# price: precio del producto (sin decimales).\n",
    "# brand_id: id de la marca dentro del dataset (apple: 1, dell: 2, microsoft: 3, acer: 4 and, hp: 5).\n",
    "\n",
    "# English: \n",
    "\n",
    "# here is all data of:  top 15 of best renewed/refurbished laptops on amazon USA \n",
    "\n",
    "# id: Position into the ranking.\n",
    "# brand: brand.\n",
    "# model: model`s description with all characteristics.\n",
    "# stars: customer`s califications average between 1 and 5.\n",
    "# rating: quantity of comments about product.\n",
    "# url: web page direction into amazon.com USA.\n",
    "# price: product's price (without decimals).\n",
    "# brand_id: brand id into data set (apple: 1, dell: 2, microsoft: 3, acer: 4 and, hp: 5)."
   ]
  },
  {
   "cell_type": "code",
   "execution_count": 4,
   "metadata": {},
   "outputs": [
    {
     "data": {
      "text/html": [
       "<div>\n",
       "<style scoped>\n",
       "    .dataframe tbody tr th:only-of-type {\n",
       "        vertical-align: middle;\n",
       "    }\n",
       "\n",
       "    .dataframe tbody tr th {\n",
       "        vertical-align: top;\n",
       "    }\n",
       "\n",
       "    .dataframe thead th {\n",
       "        text-align: right;\n",
       "    }\n",
       "</style>\n",
       "<table border=\"1\" class=\"dataframe\">\n",
       "  <thead>\n",
       "    <tr style=\"text-align: right;\">\n",
       "      <th></th>\n",
       "      <th>quantity</th>\n",
       "    </tr>\n",
       "    <tr>\n",
       "      <th>brand</th>\n",
       "      <th></th>\n",
       "    </tr>\n",
       "  </thead>\n",
       "  <tbody>\n",
       "    <tr>\n",
       "      <th>apple</th>\n",
       "      <td>9</td>\n",
       "    </tr>\n",
       "    <tr>\n",
       "      <th>dell</th>\n",
       "      <td>2</td>\n",
       "    </tr>\n",
       "    <tr>\n",
       "      <th>acer</th>\n",
       "      <td>2</td>\n",
       "    </tr>\n",
       "    <tr>\n",
       "      <th>microsoft</th>\n",
       "      <td>1</td>\n",
       "    </tr>\n",
       "    <tr>\n",
       "      <th>hp</th>\n",
       "      <td>1</td>\n",
       "    </tr>\n",
       "  </tbody>\n",
       "</table>\n",
       "</div>"
      ],
      "text/plain": [
       "           quantity\n",
       "brand              \n",
       "apple             9\n",
       "dell              2\n",
       "acer              2\n",
       "microsoft         1\n",
       "hp                1"
      ]
     },
     "execution_count": 4,
     "metadata": {},
     "output_type": "execute_result"
    }
   ],
   "source": [
    "#Español\n",
    "# Con la función: groupby, agrupamos los registros de la variable: brand, mientras que la función: size,\n",
    "# contabiliza, cuanto registros hay de cada valor, para luego ordenar los registros de mayor a menor,\n",
    "# con la función: sort_values, igual a false.\n",
    "\n",
    "#Convertimos el objeto series: data_aggregated, a dataframe y renombramos la columna de: '0' a 'quantity'.\n",
    "\n",
    "\n",
    "#English\n",
    "# With the function: groupby, we grouped rows by the variable: brand, while that the function: size,\n",
    "# counts how many rows are there of each value, for then order rows from higher to lower,\n",
    "# with the function: sort_values, equal to false.\n",
    "\n",
    "# Convert object series: data_aggregated, to dataframe y rename column from: 0 to \"quantity\".\n",
    "\n",
    "data_aggregated=data.groupby(['brand']).size().sort_values(ascending=False)\n",
    "\n",
    "data_aggregated=pd.DataFrame(data_aggregated)\n",
    "data_aggregated=data_aggregated.rename(columns={0: \"quantity\"})\n",
    "data_aggregated"
   ]
  },
  {
   "cell_type": "code",
   "execution_count": 5,
   "metadata": {},
   "outputs": [
    {
     "data": {
      "application/vnd.plotly.v1+json": {
       "config": {
        "plotlyServerURL": "https://plot.ly"
       },
       "data": [
        {
         "alignmentgroup": "True",
         "hovertemplate": "variable=quantity<br>brand=%{x}<br>value=%{y}<extra></extra>",
         "legendgroup": "quantity",
         "marker": {
          "color": "#636efa"
         },
         "name": "quantity",
         "offsetgroup": "quantity",
         "orientation": "v",
         "showlegend": true,
         "textposition": "auto",
         "type": "bar",
         "x": [
          "apple",
          "dell",
          "acer",
          "microsoft",
          "hp"
         ],
         "xaxis": "x",
         "y": [
          9,
          2,
          2,
          1,
          1
         ],
         "yaxis": "y"
        }
       ],
       "layout": {
        "barmode": "relative",
        "legend": {
         "title": {
          "text": "variable"
         },
         "tracegroupgap": 0
        },
        "margin": {
         "t": 60
        },
        "template": {
         "data": {
          "bar": [
           {
            "error_x": {
             "color": "#2a3f5f"
            },
            "error_y": {
             "color": "#2a3f5f"
            },
            "marker": {
             "line": {
              "color": "#E5ECF6",
              "width": 0.5
             }
            },
            "type": "bar"
           }
          ],
          "barpolar": [
           {
            "marker": {
             "line": {
              "color": "#E5ECF6",
              "width": 0.5
             }
            },
            "type": "barpolar"
           }
          ],
          "carpet": [
           {
            "aaxis": {
             "endlinecolor": "#2a3f5f",
             "gridcolor": "white",
             "linecolor": "white",
             "minorgridcolor": "white",
             "startlinecolor": "#2a3f5f"
            },
            "baxis": {
             "endlinecolor": "#2a3f5f",
             "gridcolor": "white",
             "linecolor": "white",
             "minorgridcolor": "white",
             "startlinecolor": "#2a3f5f"
            },
            "type": "carpet"
           }
          ],
          "choropleth": [
           {
            "colorbar": {
             "outlinewidth": 0,
             "ticks": ""
            },
            "type": "choropleth"
           }
          ],
          "contour": [
           {
            "colorbar": {
             "outlinewidth": 0,
             "ticks": ""
            },
            "colorscale": [
             [
              0,
              "#0d0887"
             ],
             [
              0.1111111111111111,
              "#46039f"
             ],
             [
              0.2222222222222222,
              "#7201a8"
             ],
             [
              0.3333333333333333,
              "#9c179e"
             ],
             [
              0.4444444444444444,
              "#bd3786"
             ],
             [
              0.5555555555555556,
              "#d8576b"
             ],
             [
              0.6666666666666666,
              "#ed7953"
             ],
             [
              0.7777777777777778,
              "#fb9f3a"
             ],
             [
              0.8888888888888888,
              "#fdca26"
             ],
             [
              1,
              "#f0f921"
             ]
            ],
            "type": "contour"
           }
          ],
          "contourcarpet": [
           {
            "colorbar": {
             "outlinewidth": 0,
             "ticks": ""
            },
            "type": "contourcarpet"
           }
          ],
          "heatmap": [
           {
            "colorbar": {
             "outlinewidth": 0,
             "ticks": ""
            },
            "colorscale": [
             [
              0,
              "#0d0887"
             ],
             [
              0.1111111111111111,
              "#46039f"
             ],
             [
              0.2222222222222222,
              "#7201a8"
             ],
             [
              0.3333333333333333,
              "#9c179e"
             ],
             [
              0.4444444444444444,
              "#bd3786"
             ],
             [
              0.5555555555555556,
              "#d8576b"
             ],
             [
              0.6666666666666666,
              "#ed7953"
             ],
             [
              0.7777777777777778,
              "#fb9f3a"
             ],
             [
              0.8888888888888888,
              "#fdca26"
             ],
             [
              1,
              "#f0f921"
             ]
            ],
            "type": "heatmap"
           }
          ],
          "heatmapgl": [
           {
            "colorbar": {
             "outlinewidth": 0,
             "ticks": ""
            },
            "colorscale": [
             [
              0,
              "#0d0887"
             ],
             [
              0.1111111111111111,
              "#46039f"
             ],
             [
              0.2222222222222222,
              "#7201a8"
             ],
             [
              0.3333333333333333,
              "#9c179e"
             ],
             [
              0.4444444444444444,
              "#bd3786"
             ],
             [
              0.5555555555555556,
              "#d8576b"
             ],
             [
              0.6666666666666666,
              "#ed7953"
             ],
             [
              0.7777777777777778,
              "#fb9f3a"
             ],
             [
              0.8888888888888888,
              "#fdca26"
             ],
             [
              1,
              "#f0f921"
             ]
            ],
            "type": "heatmapgl"
           }
          ],
          "histogram": [
           {
            "marker": {
             "colorbar": {
              "outlinewidth": 0,
              "ticks": ""
             }
            },
            "type": "histogram"
           }
          ],
          "histogram2d": [
           {
            "colorbar": {
             "outlinewidth": 0,
             "ticks": ""
            },
            "colorscale": [
             [
              0,
              "#0d0887"
             ],
             [
              0.1111111111111111,
              "#46039f"
             ],
             [
              0.2222222222222222,
              "#7201a8"
             ],
             [
              0.3333333333333333,
              "#9c179e"
             ],
             [
              0.4444444444444444,
              "#bd3786"
             ],
             [
              0.5555555555555556,
              "#d8576b"
             ],
             [
              0.6666666666666666,
              "#ed7953"
             ],
             [
              0.7777777777777778,
              "#fb9f3a"
             ],
             [
              0.8888888888888888,
              "#fdca26"
             ],
             [
              1,
              "#f0f921"
             ]
            ],
            "type": "histogram2d"
           }
          ],
          "histogram2dcontour": [
           {
            "colorbar": {
             "outlinewidth": 0,
             "ticks": ""
            },
            "colorscale": [
             [
              0,
              "#0d0887"
             ],
             [
              0.1111111111111111,
              "#46039f"
             ],
             [
              0.2222222222222222,
              "#7201a8"
             ],
             [
              0.3333333333333333,
              "#9c179e"
             ],
             [
              0.4444444444444444,
              "#bd3786"
             ],
             [
              0.5555555555555556,
              "#d8576b"
             ],
             [
              0.6666666666666666,
              "#ed7953"
             ],
             [
              0.7777777777777778,
              "#fb9f3a"
             ],
             [
              0.8888888888888888,
              "#fdca26"
             ],
             [
              1,
              "#f0f921"
             ]
            ],
            "type": "histogram2dcontour"
           }
          ],
          "mesh3d": [
           {
            "colorbar": {
             "outlinewidth": 0,
             "ticks": ""
            },
            "type": "mesh3d"
           }
          ],
          "parcoords": [
           {
            "line": {
             "colorbar": {
              "outlinewidth": 0,
              "ticks": ""
             }
            },
            "type": "parcoords"
           }
          ],
          "pie": [
           {
            "automargin": true,
            "type": "pie"
           }
          ],
          "scatter": [
           {
            "marker": {
             "colorbar": {
              "outlinewidth": 0,
              "ticks": ""
             }
            },
            "type": "scatter"
           }
          ],
          "scatter3d": [
           {
            "line": {
             "colorbar": {
              "outlinewidth": 0,
              "ticks": ""
             }
            },
            "marker": {
             "colorbar": {
              "outlinewidth": 0,
              "ticks": ""
             }
            },
            "type": "scatter3d"
           }
          ],
          "scattercarpet": [
           {
            "marker": {
             "colorbar": {
              "outlinewidth": 0,
              "ticks": ""
             }
            },
            "type": "scattercarpet"
           }
          ],
          "scattergeo": [
           {
            "marker": {
             "colorbar": {
              "outlinewidth": 0,
              "ticks": ""
             }
            },
            "type": "scattergeo"
           }
          ],
          "scattergl": [
           {
            "marker": {
             "colorbar": {
              "outlinewidth": 0,
              "ticks": ""
             }
            },
            "type": "scattergl"
           }
          ],
          "scattermapbox": [
           {
            "marker": {
             "colorbar": {
              "outlinewidth": 0,
              "ticks": ""
             }
            },
            "type": "scattermapbox"
           }
          ],
          "scatterpolar": [
           {
            "marker": {
             "colorbar": {
              "outlinewidth": 0,
              "ticks": ""
             }
            },
            "type": "scatterpolar"
           }
          ],
          "scatterpolargl": [
           {
            "marker": {
             "colorbar": {
              "outlinewidth": 0,
              "ticks": ""
             }
            },
            "type": "scatterpolargl"
           }
          ],
          "scatterternary": [
           {
            "marker": {
             "colorbar": {
              "outlinewidth": 0,
              "ticks": ""
             }
            },
            "type": "scatterternary"
           }
          ],
          "surface": [
           {
            "colorbar": {
             "outlinewidth": 0,
             "ticks": ""
            },
            "colorscale": [
             [
              0,
              "#0d0887"
             ],
             [
              0.1111111111111111,
              "#46039f"
             ],
             [
              0.2222222222222222,
              "#7201a8"
             ],
             [
              0.3333333333333333,
              "#9c179e"
             ],
             [
              0.4444444444444444,
              "#bd3786"
             ],
             [
              0.5555555555555556,
              "#d8576b"
             ],
             [
              0.6666666666666666,
              "#ed7953"
             ],
             [
              0.7777777777777778,
              "#fb9f3a"
             ],
             [
              0.8888888888888888,
              "#fdca26"
             ],
             [
              1,
              "#f0f921"
             ]
            ],
            "type": "surface"
           }
          ],
          "table": [
           {
            "cells": {
             "fill": {
              "color": "#EBF0F8"
             },
             "line": {
              "color": "white"
             }
            },
            "header": {
             "fill": {
              "color": "#C8D4E3"
             },
             "line": {
              "color": "white"
             }
            },
            "type": "table"
           }
          ]
         },
         "layout": {
          "annotationdefaults": {
           "arrowcolor": "#2a3f5f",
           "arrowhead": 0,
           "arrowwidth": 1
          },
          "coloraxis": {
           "colorbar": {
            "outlinewidth": 0,
            "ticks": ""
           }
          },
          "colorscale": {
           "diverging": [
            [
             0,
             "#8e0152"
            ],
            [
             0.1,
             "#c51b7d"
            ],
            [
             0.2,
             "#de77ae"
            ],
            [
             0.3,
             "#f1b6da"
            ],
            [
             0.4,
             "#fde0ef"
            ],
            [
             0.5,
             "#f7f7f7"
            ],
            [
             0.6,
             "#e6f5d0"
            ],
            [
             0.7,
             "#b8e186"
            ],
            [
             0.8,
             "#7fbc41"
            ],
            [
             0.9,
             "#4d9221"
            ],
            [
             1,
             "#276419"
            ]
           ],
           "sequential": [
            [
             0,
             "#0d0887"
            ],
            [
             0.1111111111111111,
             "#46039f"
            ],
            [
             0.2222222222222222,
             "#7201a8"
            ],
            [
             0.3333333333333333,
             "#9c179e"
            ],
            [
             0.4444444444444444,
             "#bd3786"
            ],
            [
             0.5555555555555556,
             "#d8576b"
            ],
            [
             0.6666666666666666,
             "#ed7953"
            ],
            [
             0.7777777777777778,
             "#fb9f3a"
            ],
            [
             0.8888888888888888,
             "#fdca26"
            ],
            [
             1,
             "#f0f921"
            ]
           ],
           "sequentialminus": [
            [
             0,
             "#0d0887"
            ],
            [
             0.1111111111111111,
             "#46039f"
            ],
            [
             0.2222222222222222,
             "#7201a8"
            ],
            [
             0.3333333333333333,
             "#9c179e"
            ],
            [
             0.4444444444444444,
             "#bd3786"
            ],
            [
             0.5555555555555556,
             "#d8576b"
            ],
            [
             0.6666666666666666,
             "#ed7953"
            ],
            [
             0.7777777777777778,
             "#fb9f3a"
            ],
            [
             0.8888888888888888,
             "#fdca26"
            ],
            [
             1,
             "#f0f921"
            ]
           ]
          },
          "colorway": [
           "#636efa",
           "#EF553B",
           "#00cc96",
           "#ab63fa",
           "#FFA15A",
           "#19d3f3",
           "#FF6692",
           "#B6E880",
           "#FF97FF",
           "#FECB52"
          ],
          "font": {
           "color": "#2a3f5f"
          },
          "geo": {
           "bgcolor": "white",
           "lakecolor": "white",
           "landcolor": "#E5ECF6",
           "showlakes": true,
           "showland": true,
           "subunitcolor": "white"
          },
          "hoverlabel": {
           "align": "left"
          },
          "hovermode": "closest",
          "mapbox": {
           "style": "light"
          },
          "paper_bgcolor": "white",
          "plot_bgcolor": "#E5ECF6",
          "polar": {
           "angularaxis": {
            "gridcolor": "white",
            "linecolor": "white",
            "ticks": ""
           },
           "bgcolor": "#E5ECF6",
           "radialaxis": {
            "gridcolor": "white",
            "linecolor": "white",
            "ticks": ""
           }
          },
          "scene": {
           "xaxis": {
            "backgroundcolor": "#E5ECF6",
            "gridcolor": "white",
            "gridwidth": 2,
            "linecolor": "white",
            "showbackground": true,
            "ticks": "",
            "zerolinecolor": "white"
           },
           "yaxis": {
            "backgroundcolor": "#E5ECF6",
            "gridcolor": "white",
            "gridwidth": 2,
            "linecolor": "white",
            "showbackground": true,
            "ticks": "",
            "zerolinecolor": "white"
           },
           "zaxis": {
            "backgroundcolor": "#E5ECF6",
            "gridcolor": "white",
            "gridwidth": 2,
            "linecolor": "white",
            "showbackground": true,
            "ticks": "",
            "zerolinecolor": "white"
           }
          },
          "shapedefaults": {
           "line": {
            "color": "#2a3f5f"
           }
          },
          "ternary": {
           "aaxis": {
            "gridcolor": "white",
            "linecolor": "white",
            "ticks": ""
           },
           "baxis": {
            "gridcolor": "white",
            "linecolor": "white",
            "ticks": ""
           },
           "bgcolor": "#E5ECF6",
           "caxis": {
            "gridcolor": "white",
            "linecolor": "white",
            "ticks": ""
           }
          },
          "title": {
           "x": 0.05
          },
          "xaxis": {
           "automargin": true,
           "gridcolor": "white",
           "linecolor": "white",
           "ticks": "",
           "title": {
            "standoff": 15
           },
           "zerolinecolor": "white",
           "zerolinewidth": 2
          },
          "yaxis": {
           "automargin": true,
           "gridcolor": "white",
           "linecolor": "white",
           "ticks": "",
           "title": {
            "standoff": 15
           },
           "zerolinecolor": "white",
           "zerolinewidth": 2
          }
         }
        },
        "xaxis": {
         "anchor": "y",
         "domain": [
          0,
          1
         ],
         "title": {
          "text": "brand"
         }
        },
        "yaxis": {
         "anchor": "x",
         "domain": [
          0,
          1
         ],
         "title": {
          "text": "value"
         }
        }
       }
      },
      "text/html": [
       "<div>\n",
       "        \n",
       "        \n",
       "            <div id=\"f80a26e9-91c0-4ba7-8f5a-24fedc7a39b4\" class=\"plotly-graph-div\" style=\"height:525px; width:100%;\"></div>\n",
       "            <script type=\"text/javascript\">\n",
       "                require([\"plotly\"], function(Plotly) {\n",
       "                    window.PLOTLYENV=window.PLOTLYENV || {};\n",
       "                    \n",
       "                if (document.getElementById(\"f80a26e9-91c0-4ba7-8f5a-24fedc7a39b4\")) {\n",
       "                    Plotly.newPlot(\n",
       "                        'f80a26e9-91c0-4ba7-8f5a-24fedc7a39b4',\n",
       "                        [{\"alignmentgroup\": \"True\", \"hovertemplate\": \"variable=quantity<br>brand=%{x}<br>value=%{y}<extra></extra>\", \"legendgroup\": \"quantity\", \"marker\": {\"color\": \"#636efa\"}, \"name\": \"quantity\", \"offsetgroup\": \"quantity\", \"orientation\": \"v\", \"showlegend\": true, \"textposition\": \"auto\", \"type\": \"bar\", \"x\": [\"apple\", \"dell\", \"acer\", \"microsoft\", \"hp\"], \"xaxis\": \"x\", \"y\": [9, 2, 2, 1, 1], \"yaxis\": \"y\"}],\n",
       "                        {\"barmode\": \"relative\", \"legend\": {\"title\": {\"text\": \"variable\"}, \"tracegroupgap\": 0}, \"margin\": {\"t\": 60}, \"template\": {\"data\": {\"bar\": [{\"error_x\": {\"color\": \"#2a3f5f\"}, \"error_y\": {\"color\": \"#2a3f5f\"}, \"marker\": {\"line\": {\"color\": \"#E5ECF6\", \"width\": 0.5}}, \"type\": \"bar\"}], \"barpolar\": [{\"marker\": {\"line\": {\"color\": \"#E5ECF6\", \"width\": 0.5}}, \"type\": \"barpolar\"}], \"carpet\": [{\"aaxis\": {\"endlinecolor\": \"#2a3f5f\", \"gridcolor\": \"white\", \"linecolor\": \"white\", \"minorgridcolor\": \"white\", \"startlinecolor\": \"#2a3f5f\"}, \"baxis\": {\"endlinecolor\": \"#2a3f5f\", \"gridcolor\": \"white\", \"linecolor\": \"white\", \"minorgridcolor\": \"white\", \"startlinecolor\": \"#2a3f5f\"}, \"type\": \"carpet\"}], \"choropleth\": [{\"colorbar\": {\"outlinewidth\": 0, \"ticks\": \"\"}, \"type\": \"choropleth\"}], \"contour\": [{\"colorbar\": {\"outlinewidth\": 0, \"ticks\": \"\"}, \"colorscale\": [[0.0, \"#0d0887\"], [0.1111111111111111, \"#46039f\"], [0.2222222222222222, \"#7201a8\"], [0.3333333333333333, \"#9c179e\"], [0.4444444444444444, \"#bd3786\"], [0.5555555555555556, \"#d8576b\"], [0.6666666666666666, \"#ed7953\"], [0.7777777777777778, \"#fb9f3a\"], [0.8888888888888888, \"#fdca26\"], [1.0, \"#f0f921\"]], \"type\": \"contour\"}], \"contourcarpet\": [{\"colorbar\": {\"outlinewidth\": 0, \"ticks\": \"\"}, \"type\": \"contourcarpet\"}], \"heatmap\": [{\"colorbar\": {\"outlinewidth\": 0, \"ticks\": \"\"}, \"colorscale\": [[0.0, \"#0d0887\"], [0.1111111111111111, \"#46039f\"], [0.2222222222222222, \"#7201a8\"], [0.3333333333333333, \"#9c179e\"], [0.4444444444444444, \"#bd3786\"], [0.5555555555555556, \"#d8576b\"], [0.6666666666666666, \"#ed7953\"], [0.7777777777777778, \"#fb9f3a\"], [0.8888888888888888, \"#fdca26\"], [1.0, \"#f0f921\"]], \"type\": \"heatmap\"}], \"heatmapgl\": [{\"colorbar\": {\"outlinewidth\": 0, \"ticks\": \"\"}, \"colorscale\": [[0.0, \"#0d0887\"], [0.1111111111111111, \"#46039f\"], [0.2222222222222222, \"#7201a8\"], [0.3333333333333333, \"#9c179e\"], [0.4444444444444444, \"#bd3786\"], [0.5555555555555556, \"#d8576b\"], [0.6666666666666666, \"#ed7953\"], [0.7777777777777778, \"#fb9f3a\"], [0.8888888888888888, \"#fdca26\"], [1.0, \"#f0f921\"]], \"type\": \"heatmapgl\"}], \"histogram\": [{\"marker\": {\"colorbar\": {\"outlinewidth\": 0, \"ticks\": \"\"}}, \"type\": \"histogram\"}], \"histogram2d\": [{\"colorbar\": {\"outlinewidth\": 0, \"ticks\": \"\"}, \"colorscale\": [[0.0, \"#0d0887\"], [0.1111111111111111, \"#46039f\"], [0.2222222222222222, \"#7201a8\"], [0.3333333333333333, \"#9c179e\"], [0.4444444444444444, \"#bd3786\"], [0.5555555555555556, \"#d8576b\"], [0.6666666666666666, \"#ed7953\"], [0.7777777777777778, \"#fb9f3a\"], [0.8888888888888888, \"#fdca26\"], [1.0, \"#f0f921\"]], \"type\": \"histogram2d\"}], \"histogram2dcontour\": [{\"colorbar\": {\"outlinewidth\": 0, \"ticks\": \"\"}, \"colorscale\": [[0.0, \"#0d0887\"], [0.1111111111111111, \"#46039f\"], [0.2222222222222222, \"#7201a8\"], [0.3333333333333333, \"#9c179e\"], [0.4444444444444444, \"#bd3786\"], [0.5555555555555556, \"#d8576b\"], [0.6666666666666666, \"#ed7953\"], [0.7777777777777778, \"#fb9f3a\"], [0.8888888888888888, \"#fdca26\"], [1.0, \"#f0f921\"]], \"type\": \"histogram2dcontour\"}], \"mesh3d\": [{\"colorbar\": {\"outlinewidth\": 0, \"ticks\": \"\"}, \"type\": \"mesh3d\"}], \"parcoords\": [{\"line\": {\"colorbar\": {\"outlinewidth\": 0, \"ticks\": \"\"}}, \"type\": \"parcoords\"}], \"pie\": [{\"automargin\": true, \"type\": \"pie\"}], \"scatter\": [{\"marker\": {\"colorbar\": {\"outlinewidth\": 0, \"ticks\": \"\"}}, \"type\": \"scatter\"}], \"scatter3d\": [{\"line\": {\"colorbar\": {\"outlinewidth\": 0, \"ticks\": \"\"}}, \"marker\": {\"colorbar\": {\"outlinewidth\": 0, \"ticks\": \"\"}}, \"type\": \"scatter3d\"}], \"scattercarpet\": [{\"marker\": {\"colorbar\": {\"outlinewidth\": 0, \"ticks\": \"\"}}, \"type\": \"scattercarpet\"}], \"scattergeo\": [{\"marker\": {\"colorbar\": {\"outlinewidth\": 0, \"ticks\": \"\"}}, \"type\": \"scattergeo\"}], \"scattergl\": [{\"marker\": {\"colorbar\": {\"outlinewidth\": 0, \"ticks\": \"\"}}, \"type\": \"scattergl\"}], \"scattermapbox\": [{\"marker\": {\"colorbar\": {\"outlinewidth\": 0, \"ticks\": \"\"}}, \"type\": \"scattermapbox\"}], \"scatterpolar\": [{\"marker\": {\"colorbar\": {\"outlinewidth\": 0, \"ticks\": \"\"}}, \"type\": \"scatterpolar\"}], \"scatterpolargl\": [{\"marker\": {\"colorbar\": {\"outlinewidth\": 0, \"ticks\": \"\"}}, \"type\": \"scatterpolargl\"}], \"scatterternary\": [{\"marker\": {\"colorbar\": {\"outlinewidth\": 0, \"ticks\": \"\"}}, \"type\": \"scatterternary\"}], \"surface\": [{\"colorbar\": {\"outlinewidth\": 0, \"ticks\": \"\"}, \"colorscale\": [[0.0, \"#0d0887\"], [0.1111111111111111, \"#46039f\"], [0.2222222222222222, \"#7201a8\"], [0.3333333333333333, \"#9c179e\"], [0.4444444444444444, \"#bd3786\"], [0.5555555555555556, \"#d8576b\"], [0.6666666666666666, \"#ed7953\"], [0.7777777777777778, \"#fb9f3a\"], [0.8888888888888888, \"#fdca26\"], [1.0, \"#f0f921\"]], \"type\": \"surface\"}], \"table\": [{\"cells\": {\"fill\": {\"color\": \"#EBF0F8\"}, \"line\": {\"color\": \"white\"}}, \"header\": {\"fill\": {\"color\": \"#C8D4E3\"}, \"line\": {\"color\": \"white\"}}, \"type\": \"table\"}]}, \"layout\": {\"annotationdefaults\": {\"arrowcolor\": \"#2a3f5f\", \"arrowhead\": 0, \"arrowwidth\": 1}, \"coloraxis\": {\"colorbar\": {\"outlinewidth\": 0, \"ticks\": \"\"}}, \"colorscale\": {\"diverging\": [[0, \"#8e0152\"], [0.1, \"#c51b7d\"], [0.2, \"#de77ae\"], [0.3, \"#f1b6da\"], [0.4, \"#fde0ef\"], [0.5, \"#f7f7f7\"], [0.6, \"#e6f5d0\"], [0.7, \"#b8e186\"], [0.8, \"#7fbc41\"], [0.9, \"#4d9221\"], [1, \"#276419\"]], \"sequential\": [[0.0, \"#0d0887\"], [0.1111111111111111, \"#46039f\"], [0.2222222222222222, \"#7201a8\"], [0.3333333333333333, \"#9c179e\"], [0.4444444444444444, \"#bd3786\"], [0.5555555555555556, \"#d8576b\"], [0.6666666666666666, \"#ed7953\"], [0.7777777777777778, \"#fb9f3a\"], [0.8888888888888888, \"#fdca26\"], [1.0, \"#f0f921\"]], \"sequentialminus\": [[0.0, \"#0d0887\"], [0.1111111111111111, \"#46039f\"], [0.2222222222222222, \"#7201a8\"], [0.3333333333333333, \"#9c179e\"], [0.4444444444444444, \"#bd3786\"], [0.5555555555555556, \"#d8576b\"], [0.6666666666666666, \"#ed7953\"], [0.7777777777777778, \"#fb9f3a\"], [0.8888888888888888, \"#fdca26\"], [1.0, \"#f0f921\"]]}, \"colorway\": [\"#636efa\", \"#EF553B\", \"#00cc96\", \"#ab63fa\", \"#FFA15A\", \"#19d3f3\", \"#FF6692\", \"#B6E880\", \"#FF97FF\", \"#FECB52\"], \"font\": {\"color\": \"#2a3f5f\"}, \"geo\": {\"bgcolor\": \"white\", \"lakecolor\": \"white\", \"landcolor\": \"#E5ECF6\", \"showlakes\": true, \"showland\": true, \"subunitcolor\": \"white\"}, \"hoverlabel\": {\"align\": \"left\"}, \"hovermode\": \"closest\", \"mapbox\": {\"style\": \"light\"}, \"paper_bgcolor\": \"white\", \"plot_bgcolor\": \"#E5ECF6\", \"polar\": {\"angularaxis\": {\"gridcolor\": \"white\", \"linecolor\": \"white\", \"ticks\": \"\"}, \"bgcolor\": \"#E5ECF6\", \"radialaxis\": {\"gridcolor\": \"white\", \"linecolor\": \"white\", \"ticks\": \"\"}}, \"scene\": {\"xaxis\": {\"backgroundcolor\": \"#E5ECF6\", \"gridcolor\": \"white\", \"gridwidth\": 2, \"linecolor\": \"white\", \"showbackground\": true, \"ticks\": \"\", \"zerolinecolor\": \"white\"}, \"yaxis\": {\"backgroundcolor\": \"#E5ECF6\", \"gridcolor\": \"white\", \"gridwidth\": 2, \"linecolor\": \"white\", \"showbackground\": true, \"ticks\": \"\", \"zerolinecolor\": \"white\"}, \"zaxis\": {\"backgroundcolor\": \"#E5ECF6\", \"gridcolor\": \"white\", \"gridwidth\": 2, \"linecolor\": \"white\", \"showbackground\": true, \"ticks\": \"\", \"zerolinecolor\": \"white\"}}, \"shapedefaults\": {\"line\": {\"color\": \"#2a3f5f\"}}, \"ternary\": {\"aaxis\": {\"gridcolor\": \"white\", \"linecolor\": \"white\", \"ticks\": \"\"}, \"baxis\": {\"gridcolor\": \"white\", \"linecolor\": \"white\", \"ticks\": \"\"}, \"bgcolor\": \"#E5ECF6\", \"caxis\": {\"gridcolor\": \"white\", \"linecolor\": \"white\", \"ticks\": \"\"}}, \"title\": {\"x\": 0.05}, \"xaxis\": {\"automargin\": true, \"gridcolor\": \"white\", \"linecolor\": \"white\", \"ticks\": \"\", \"title\": {\"standoff\": 15}, \"zerolinecolor\": \"white\", \"zerolinewidth\": 2}, \"yaxis\": {\"automargin\": true, \"gridcolor\": \"white\", \"linecolor\": \"white\", \"ticks\": \"\", \"title\": {\"standoff\": 15}, \"zerolinecolor\": \"white\", \"zerolinewidth\": 2}}}, \"xaxis\": {\"anchor\": \"y\", \"domain\": [0.0, 1.0], \"title\": {\"text\": \"brand\"}}, \"yaxis\": {\"anchor\": \"x\", \"domain\": [0.0, 1.0], \"title\": {\"text\": \"value\"}}},\n",
       "                        {\"responsive\": true}\n",
       "                    ).then(function(){\n",
       "                            \n",
       "var gd = document.getElementById('f80a26e9-91c0-4ba7-8f5a-24fedc7a39b4');\n",
       "var x = new MutationObserver(function (mutations, observer) {{\n",
       "        var display = window.getComputedStyle(gd).display;\n",
       "        if (!display || display === 'none') {{\n",
       "            console.log([gd, 'removed!']);\n",
       "            Plotly.purge(gd);\n",
       "            observer.disconnect();\n",
       "        }}\n",
       "}});\n",
       "\n",
       "// Listen for the removal of the full notebook cells\n",
       "var notebookContainer = gd.closest('#notebook-container');\n",
       "if (notebookContainer) {{\n",
       "    x.observe(notebookContainer, {childList: true});\n",
       "}}\n",
       "\n",
       "// Listen for the clearing of the current output cell\n",
       "var outputEl = gd.closest('.output');\n",
       "if (outputEl) {{\n",
       "    x.observe(outputEl, {childList: true});\n",
       "}}\n",
       "\n",
       "                        })\n",
       "                };\n",
       "                });\n",
       "            </script>\n",
       "        </div>"
      ]
     },
     "metadata": {},
     "output_type": "display_data"
    }
   ],
   "source": [
    "# 1) Grafico de barras con plotly / Bar graph with plotly.\n",
    "\n",
    "#Español\n",
    "# Con la libreria ploty realizamos las graficas de barras, teniendo como argumento el dataframe: data_aggregated.\n",
    "\n",
    "#English\n",
    "# Plotly library permit do our bar graph, having like argument the dataframe: data_aggregated.  \n",
    "\n",
    "\n",
    "import plotly.express as px\n",
    "\n",
    "fig = px.bar(data_aggregated)\n",
    "fig.show()"
   ]
  },
  {
   "cell_type": "code",
   "execution_count": 6,
   "metadata": {},
   "outputs": [
    {
     "data": {
      "application/vnd.plotly.v1+json": {
       "config": {
        "linkText": "Export to plot.ly",
        "plotlyServerURL": "https://plot.ly",
        "showLink": true
       },
       "data": [
        {
         "colorscale": [
          [
           0,
           "rgb(247,251,255)"
          ],
          [
           0.125,
           "rgb(222,235,247)"
          ],
          [
           0.25,
           "rgb(198,219,239)"
          ],
          [
           0.375,
           "rgb(158,202,225)"
          ],
          [
           0.5,
           "rgb(107,174,214)"
          ],
          [
           0.625,
           "rgb(66,146,198)"
          ],
          [
           0.75,
           "rgb(33,113,181)"
          ],
          [
           0.875,
           "rgb(8,81,156)"
          ],
          [
           1,
           "rgb(8,48,107)"
          ]
         ],
         "type": "heatmap",
         "x": [
          "stars",
          "ratings",
          "price"
         ],
         "y": [
          "stars",
          "ratings",
          "price"
         ],
         "z": [
          [
           1,
           -0.8091449574558534,
           0.7053413272473534
          ],
          [
           -0.8091449574558534,
           1,
           -0.5438889461666486
          ],
          [
           0.7053413272473534,
           -0.5438889461666486,
           1
          ]
         ],
         "zmax": 1,
         "zmin": -0.8091449574558534
        }
       ],
       "layout": {
        "legend": {
         "bgcolor": "#F5F6F9",
         "font": {
          "color": "#4D5663"
         }
        },
        "paper_bgcolor": "#F5F6F9",
        "plot_bgcolor": "#F5F6F9",
        "template": {
         "data": {
          "bar": [
           {
            "error_x": {
             "color": "#2a3f5f"
            },
            "error_y": {
             "color": "#2a3f5f"
            },
            "marker": {
             "line": {
              "color": "#E5ECF6",
              "width": 0.5
             }
            },
            "type": "bar"
           }
          ],
          "barpolar": [
           {
            "marker": {
             "line": {
              "color": "#E5ECF6",
              "width": 0.5
             }
            },
            "type": "barpolar"
           }
          ],
          "carpet": [
           {
            "aaxis": {
             "endlinecolor": "#2a3f5f",
             "gridcolor": "white",
             "linecolor": "white",
             "minorgridcolor": "white",
             "startlinecolor": "#2a3f5f"
            },
            "baxis": {
             "endlinecolor": "#2a3f5f",
             "gridcolor": "white",
             "linecolor": "white",
             "minorgridcolor": "white",
             "startlinecolor": "#2a3f5f"
            },
            "type": "carpet"
           }
          ],
          "choropleth": [
           {
            "colorbar": {
             "outlinewidth": 0,
             "ticks": ""
            },
            "type": "choropleth"
           }
          ],
          "contour": [
           {
            "colorbar": {
             "outlinewidth": 0,
             "ticks": ""
            },
            "colorscale": [
             [
              0,
              "#0d0887"
             ],
             [
              0.1111111111111111,
              "#46039f"
             ],
             [
              0.2222222222222222,
              "#7201a8"
             ],
             [
              0.3333333333333333,
              "#9c179e"
             ],
             [
              0.4444444444444444,
              "#bd3786"
             ],
             [
              0.5555555555555556,
              "#d8576b"
             ],
             [
              0.6666666666666666,
              "#ed7953"
             ],
             [
              0.7777777777777778,
              "#fb9f3a"
             ],
             [
              0.8888888888888888,
              "#fdca26"
             ],
             [
              1,
              "#f0f921"
             ]
            ],
            "type": "contour"
           }
          ],
          "contourcarpet": [
           {
            "colorbar": {
             "outlinewidth": 0,
             "ticks": ""
            },
            "type": "contourcarpet"
           }
          ],
          "heatmap": [
           {
            "colorbar": {
             "outlinewidth": 0,
             "ticks": ""
            },
            "colorscale": [
             [
              0,
              "#0d0887"
             ],
             [
              0.1111111111111111,
              "#46039f"
             ],
             [
              0.2222222222222222,
              "#7201a8"
             ],
             [
              0.3333333333333333,
              "#9c179e"
             ],
             [
              0.4444444444444444,
              "#bd3786"
             ],
             [
              0.5555555555555556,
              "#d8576b"
             ],
             [
              0.6666666666666666,
              "#ed7953"
             ],
             [
              0.7777777777777778,
              "#fb9f3a"
             ],
             [
              0.8888888888888888,
              "#fdca26"
             ],
             [
              1,
              "#f0f921"
             ]
            ],
            "type": "heatmap"
           }
          ],
          "heatmapgl": [
           {
            "colorbar": {
             "outlinewidth": 0,
             "ticks": ""
            },
            "colorscale": [
             [
              0,
              "#0d0887"
             ],
             [
              0.1111111111111111,
              "#46039f"
             ],
             [
              0.2222222222222222,
              "#7201a8"
             ],
             [
              0.3333333333333333,
              "#9c179e"
             ],
             [
              0.4444444444444444,
              "#bd3786"
             ],
             [
              0.5555555555555556,
              "#d8576b"
             ],
             [
              0.6666666666666666,
              "#ed7953"
             ],
             [
              0.7777777777777778,
              "#fb9f3a"
             ],
             [
              0.8888888888888888,
              "#fdca26"
             ],
             [
              1,
              "#f0f921"
             ]
            ],
            "type": "heatmapgl"
           }
          ],
          "histogram": [
           {
            "marker": {
             "colorbar": {
              "outlinewidth": 0,
              "ticks": ""
             }
            },
            "type": "histogram"
           }
          ],
          "histogram2d": [
           {
            "colorbar": {
             "outlinewidth": 0,
             "ticks": ""
            },
            "colorscale": [
             [
              0,
              "#0d0887"
             ],
             [
              0.1111111111111111,
              "#46039f"
             ],
             [
              0.2222222222222222,
              "#7201a8"
             ],
             [
              0.3333333333333333,
              "#9c179e"
             ],
             [
              0.4444444444444444,
              "#bd3786"
             ],
             [
              0.5555555555555556,
              "#d8576b"
             ],
             [
              0.6666666666666666,
              "#ed7953"
             ],
             [
              0.7777777777777778,
              "#fb9f3a"
             ],
             [
              0.8888888888888888,
              "#fdca26"
             ],
             [
              1,
              "#f0f921"
             ]
            ],
            "type": "histogram2d"
           }
          ],
          "histogram2dcontour": [
           {
            "colorbar": {
             "outlinewidth": 0,
             "ticks": ""
            },
            "colorscale": [
             [
              0,
              "#0d0887"
             ],
             [
              0.1111111111111111,
              "#46039f"
             ],
             [
              0.2222222222222222,
              "#7201a8"
             ],
             [
              0.3333333333333333,
              "#9c179e"
             ],
             [
              0.4444444444444444,
              "#bd3786"
             ],
             [
              0.5555555555555556,
              "#d8576b"
             ],
             [
              0.6666666666666666,
              "#ed7953"
             ],
             [
              0.7777777777777778,
              "#fb9f3a"
             ],
             [
              0.8888888888888888,
              "#fdca26"
             ],
             [
              1,
              "#f0f921"
             ]
            ],
            "type": "histogram2dcontour"
           }
          ],
          "mesh3d": [
           {
            "colorbar": {
             "outlinewidth": 0,
             "ticks": ""
            },
            "type": "mesh3d"
           }
          ],
          "parcoords": [
           {
            "line": {
             "colorbar": {
              "outlinewidth": 0,
              "ticks": ""
             }
            },
            "type": "parcoords"
           }
          ],
          "pie": [
           {
            "automargin": true,
            "type": "pie"
           }
          ],
          "scatter": [
           {
            "marker": {
             "colorbar": {
              "outlinewidth": 0,
              "ticks": ""
             }
            },
            "type": "scatter"
           }
          ],
          "scatter3d": [
           {
            "line": {
             "colorbar": {
              "outlinewidth": 0,
              "ticks": ""
             }
            },
            "marker": {
             "colorbar": {
              "outlinewidth": 0,
              "ticks": ""
             }
            },
            "type": "scatter3d"
           }
          ],
          "scattercarpet": [
           {
            "marker": {
             "colorbar": {
              "outlinewidth": 0,
              "ticks": ""
             }
            },
            "type": "scattercarpet"
           }
          ],
          "scattergeo": [
           {
            "marker": {
             "colorbar": {
              "outlinewidth": 0,
              "ticks": ""
             }
            },
            "type": "scattergeo"
           }
          ],
          "scattergl": [
           {
            "marker": {
             "colorbar": {
              "outlinewidth": 0,
              "ticks": ""
             }
            },
            "type": "scattergl"
           }
          ],
          "scattermapbox": [
           {
            "marker": {
             "colorbar": {
              "outlinewidth": 0,
              "ticks": ""
             }
            },
            "type": "scattermapbox"
           }
          ],
          "scatterpolar": [
           {
            "marker": {
             "colorbar": {
              "outlinewidth": 0,
              "ticks": ""
             }
            },
            "type": "scatterpolar"
           }
          ],
          "scatterpolargl": [
           {
            "marker": {
             "colorbar": {
              "outlinewidth": 0,
              "ticks": ""
             }
            },
            "type": "scatterpolargl"
           }
          ],
          "scatterternary": [
           {
            "marker": {
             "colorbar": {
              "outlinewidth": 0,
              "ticks": ""
             }
            },
            "type": "scatterternary"
           }
          ],
          "surface": [
           {
            "colorbar": {
             "outlinewidth": 0,
             "ticks": ""
            },
            "colorscale": [
             [
              0,
              "#0d0887"
             ],
             [
              0.1111111111111111,
              "#46039f"
             ],
             [
              0.2222222222222222,
              "#7201a8"
             ],
             [
              0.3333333333333333,
              "#9c179e"
             ],
             [
              0.4444444444444444,
              "#bd3786"
             ],
             [
              0.5555555555555556,
              "#d8576b"
             ],
             [
              0.6666666666666666,
              "#ed7953"
             ],
             [
              0.7777777777777778,
              "#fb9f3a"
             ],
             [
              0.8888888888888888,
              "#fdca26"
             ],
             [
              1,
              "#f0f921"
             ]
            ],
            "type": "surface"
           }
          ],
          "table": [
           {
            "cells": {
             "fill": {
              "color": "#EBF0F8"
             },
             "line": {
              "color": "white"
             }
            },
            "header": {
             "fill": {
              "color": "#C8D4E3"
             },
             "line": {
              "color": "white"
             }
            },
            "type": "table"
           }
          ]
         },
         "layout": {
          "annotationdefaults": {
           "arrowcolor": "#2a3f5f",
           "arrowhead": 0,
           "arrowwidth": 1
          },
          "coloraxis": {
           "colorbar": {
            "outlinewidth": 0,
            "ticks": ""
           }
          },
          "colorscale": {
           "diverging": [
            [
             0,
             "#8e0152"
            ],
            [
             0.1,
             "#c51b7d"
            ],
            [
             0.2,
             "#de77ae"
            ],
            [
             0.3,
             "#f1b6da"
            ],
            [
             0.4,
             "#fde0ef"
            ],
            [
             0.5,
             "#f7f7f7"
            ],
            [
             0.6,
             "#e6f5d0"
            ],
            [
             0.7,
             "#b8e186"
            ],
            [
             0.8,
             "#7fbc41"
            ],
            [
             0.9,
             "#4d9221"
            ],
            [
             1,
             "#276419"
            ]
           ],
           "sequential": [
            [
             0,
             "#0d0887"
            ],
            [
             0.1111111111111111,
             "#46039f"
            ],
            [
             0.2222222222222222,
             "#7201a8"
            ],
            [
             0.3333333333333333,
             "#9c179e"
            ],
            [
             0.4444444444444444,
             "#bd3786"
            ],
            [
             0.5555555555555556,
             "#d8576b"
            ],
            [
             0.6666666666666666,
             "#ed7953"
            ],
            [
             0.7777777777777778,
             "#fb9f3a"
            ],
            [
             0.8888888888888888,
             "#fdca26"
            ],
            [
             1,
             "#f0f921"
            ]
           ],
           "sequentialminus": [
            [
             0,
             "#0d0887"
            ],
            [
             0.1111111111111111,
             "#46039f"
            ],
            [
             0.2222222222222222,
             "#7201a8"
            ],
            [
             0.3333333333333333,
             "#9c179e"
            ],
            [
             0.4444444444444444,
             "#bd3786"
            ],
            [
             0.5555555555555556,
             "#d8576b"
            ],
            [
             0.6666666666666666,
             "#ed7953"
            ],
            [
             0.7777777777777778,
             "#fb9f3a"
            ],
            [
             0.8888888888888888,
             "#fdca26"
            ],
            [
             1,
             "#f0f921"
            ]
           ]
          },
          "colorway": [
           "#636efa",
           "#EF553B",
           "#00cc96",
           "#ab63fa",
           "#FFA15A",
           "#19d3f3",
           "#FF6692",
           "#B6E880",
           "#FF97FF",
           "#FECB52"
          ],
          "font": {
           "color": "#2a3f5f"
          },
          "geo": {
           "bgcolor": "white",
           "lakecolor": "white",
           "landcolor": "#E5ECF6",
           "showlakes": true,
           "showland": true,
           "subunitcolor": "white"
          },
          "hoverlabel": {
           "align": "left"
          },
          "hovermode": "closest",
          "mapbox": {
           "style": "light"
          },
          "paper_bgcolor": "white",
          "plot_bgcolor": "#E5ECF6",
          "polar": {
           "angularaxis": {
            "gridcolor": "white",
            "linecolor": "white",
            "ticks": ""
           },
           "bgcolor": "#E5ECF6",
           "radialaxis": {
            "gridcolor": "white",
            "linecolor": "white",
            "ticks": ""
           }
          },
          "scene": {
           "xaxis": {
            "backgroundcolor": "#E5ECF6",
            "gridcolor": "white",
            "gridwidth": 2,
            "linecolor": "white",
            "showbackground": true,
            "ticks": "",
            "zerolinecolor": "white"
           },
           "yaxis": {
            "backgroundcolor": "#E5ECF6",
            "gridcolor": "white",
            "gridwidth": 2,
            "linecolor": "white",
            "showbackground": true,
            "ticks": "",
            "zerolinecolor": "white"
           },
           "zaxis": {
            "backgroundcolor": "#E5ECF6",
            "gridcolor": "white",
            "gridwidth": 2,
            "linecolor": "white",
            "showbackground": true,
            "ticks": "",
            "zerolinecolor": "white"
           }
          },
          "shapedefaults": {
           "line": {
            "color": "#2a3f5f"
           }
          },
          "ternary": {
           "aaxis": {
            "gridcolor": "white",
            "linecolor": "white",
            "ticks": ""
           },
           "baxis": {
            "gridcolor": "white",
            "linecolor": "white",
            "ticks": ""
           },
           "bgcolor": "#E5ECF6",
           "caxis": {
            "gridcolor": "white",
            "linecolor": "white",
            "ticks": ""
           }
          },
          "title": {
           "x": 0.05
          },
          "xaxis": {
           "automargin": true,
           "gridcolor": "white",
           "linecolor": "white",
           "ticks": "",
           "title": {
            "standoff": 15
           },
           "zerolinecolor": "white",
           "zerolinewidth": 2
          },
          "yaxis": {
           "automargin": true,
           "gridcolor": "white",
           "linecolor": "white",
           "ticks": "",
           "title": {
            "standoff": 15
           },
           "zerolinecolor": "white",
           "zerolinewidth": 2
          }
         }
        },
        "title": {
         "font": {
          "color": "#4D5663"
         },
         "text": "Feature Correlation Matrix"
        },
        "xaxis": {
         "gridcolor": "#E1E5ED",
         "showgrid": true,
         "tickfont": {
          "color": "#4D5663"
         },
         "title": {
          "font": {
           "color": "#4D5663"
          },
          "text": ""
         },
         "zerolinecolor": "#E1E5ED"
        },
        "yaxis": {
         "gridcolor": "#E1E5ED",
         "showgrid": true,
         "tickfont": {
          "color": "#4D5663"
         },
         "title": {
          "font": {
           "color": "#4D5663"
          },
          "text": ""
         },
         "zerolinecolor": "#E1E5ED"
        }
       }
      },
      "text/html": [
       "<div>\n",
       "        \n",
       "        \n",
       "            <div id=\"d0d081fa-911e-4b55-acd4-eafb7e2b2f1f\" class=\"plotly-graph-div\" style=\"height:525px; width:100%;\"></div>\n",
       "            <script type=\"text/javascript\">\n",
       "                require([\"plotly\"], function(Plotly) {\n",
       "                    window.PLOTLYENV=window.PLOTLYENV || {};\n",
       "                    window.PLOTLYENV.BASE_URL='https://plot.ly';\n",
       "                    \n",
       "                if (document.getElementById(\"d0d081fa-911e-4b55-acd4-eafb7e2b2f1f\")) {\n",
       "                    Plotly.newPlot(\n",
       "                        'd0d081fa-911e-4b55-acd4-eafb7e2b2f1f',\n",
       "                        [{\"colorscale\": [[0.0, \"rgb(247,251,255)\"], [0.125, \"rgb(222,235,247)\"], [0.25, \"rgb(198,219,239)\"], [0.375, \"rgb(158,202,225)\"], [0.5, \"rgb(107,174,214)\"], [0.625, \"rgb(66,146,198)\"], [0.75, \"rgb(33,113,181)\"], [0.875, \"rgb(8,81,156)\"], [1.0, \"rgb(8,48,107)\"]], \"type\": \"heatmap\", \"x\": [\"stars\", \"ratings\", \"price\"], \"y\": [\"stars\", \"ratings\", \"price\"], \"z\": [[1.0, -0.8091449574558534, 0.7053413272473534], [-0.8091449574558534, 1.0, -0.5438889461666486], [0.7053413272473534, -0.5438889461666486, 1.0]], \"zmax\": 1.0, \"zmin\": -0.8091449574558534}],\n",
       "                        {\"legend\": {\"bgcolor\": \"#F5F6F9\", \"font\": {\"color\": \"#4D5663\"}}, \"paper_bgcolor\": \"#F5F6F9\", \"plot_bgcolor\": \"#F5F6F9\", \"template\": {\"data\": {\"bar\": [{\"error_x\": {\"color\": \"#2a3f5f\"}, \"error_y\": {\"color\": \"#2a3f5f\"}, \"marker\": {\"line\": {\"color\": \"#E5ECF6\", \"width\": 0.5}}, \"type\": \"bar\"}], \"barpolar\": [{\"marker\": {\"line\": {\"color\": \"#E5ECF6\", \"width\": 0.5}}, \"type\": \"barpolar\"}], \"carpet\": [{\"aaxis\": {\"endlinecolor\": \"#2a3f5f\", \"gridcolor\": \"white\", \"linecolor\": \"white\", \"minorgridcolor\": \"white\", \"startlinecolor\": \"#2a3f5f\"}, \"baxis\": {\"endlinecolor\": \"#2a3f5f\", \"gridcolor\": \"white\", \"linecolor\": \"white\", \"minorgridcolor\": \"white\", \"startlinecolor\": \"#2a3f5f\"}, \"type\": \"carpet\"}], \"choropleth\": [{\"colorbar\": {\"outlinewidth\": 0, \"ticks\": \"\"}, \"type\": \"choropleth\"}], \"contour\": [{\"colorbar\": {\"outlinewidth\": 0, \"ticks\": \"\"}, \"colorscale\": [[0.0, \"#0d0887\"], [0.1111111111111111, \"#46039f\"], [0.2222222222222222, \"#7201a8\"], [0.3333333333333333, \"#9c179e\"], [0.4444444444444444, \"#bd3786\"], [0.5555555555555556, \"#d8576b\"], [0.6666666666666666, \"#ed7953\"], [0.7777777777777778, \"#fb9f3a\"], [0.8888888888888888, \"#fdca26\"], [1.0, \"#f0f921\"]], \"type\": \"contour\"}], \"contourcarpet\": [{\"colorbar\": {\"outlinewidth\": 0, \"ticks\": \"\"}, \"type\": \"contourcarpet\"}], \"heatmap\": [{\"colorbar\": {\"outlinewidth\": 0, \"ticks\": \"\"}, \"colorscale\": [[0.0, \"#0d0887\"], [0.1111111111111111, \"#46039f\"], [0.2222222222222222, \"#7201a8\"], [0.3333333333333333, \"#9c179e\"], [0.4444444444444444, \"#bd3786\"], [0.5555555555555556, \"#d8576b\"], [0.6666666666666666, \"#ed7953\"], [0.7777777777777778, \"#fb9f3a\"], [0.8888888888888888, \"#fdca26\"], [1.0, \"#f0f921\"]], \"type\": \"heatmap\"}], \"heatmapgl\": [{\"colorbar\": {\"outlinewidth\": 0, \"ticks\": \"\"}, \"colorscale\": [[0.0, \"#0d0887\"], [0.1111111111111111, \"#46039f\"], [0.2222222222222222, \"#7201a8\"], [0.3333333333333333, \"#9c179e\"], [0.4444444444444444, \"#bd3786\"], [0.5555555555555556, \"#d8576b\"], [0.6666666666666666, \"#ed7953\"], [0.7777777777777778, \"#fb9f3a\"], [0.8888888888888888, \"#fdca26\"], [1.0, \"#f0f921\"]], \"type\": \"heatmapgl\"}], \"histogram\": [{\"marker\": {\"colorbar\": {\"outlinewidth\": 0, \"ticks\": \"\"}}, \"type\": \"histogram\"}], \"histogram2d\": [{\"colorbar\": {\"outlinewidth\": 0, \"ticks\": \"\"}, \"colorscale\": [[0.0, \"#0d0887\"], [0.1111111111111111, \"#46039f\"], [0.2222222222222222, \"#7201a8\"], [0.3333333333333333, \"#9c179e\"], [0.4444444444444444, \"#bd3786\"], [0.5555555555555556, \"#d8576b\"], [0.6666666666666666, \"#ed7953\"], [0.7777777777777778, \"#fb9f3a\"], [0.8888888888888888, \"#fdca26\"], [1.0, \"#f0f921\"]], \"type\": \"histogram2d\"}], \"histogram2dcontour\": [{\"colorbar\": {\"outlinewidth\": 0, \"ticks\": \"\"}, \"colorscale\": [[0.0, \"#0d0887\"], [0.1111111111111111, \"#46039f\"], [0.2222222222222222, \"#7201a8\"], [0.3333333333333333, \"#9c179e\"], [0.4444444444444444, \"#bd3786\"], [0.5555555555555556, \"#d8576b\"], [0.6666666666666666, \"#ed7953\"], [0.7777777777777778, \"#fb9f3a\"], [0.8888888888888888, \"#fdca26\"], [1.0, \"#f0f921\"]], \"type\": \"histogram2dcontour\"}], \"mesh3d\": [{\"colorbar\": {\"outlinewidth\": 0, \"ticks\": \"\"}, \"type\": \"mesh3d\"}], \"parcoords\": [{\"line\": {\"colorbar\": {\"outlinewidth\": 0, \"ticks\": \"\"}}, \"type\": \"parcoords\"}], \"pie\": [{\"automargin\": true, \"type\": \"pie\"}], \"scatter\": [{\"marker\": {\"colorbar\": {\"outlinewidth\": 0, \"ticks\": \"\"}}, \"type\": \"scatter\"}], \"scatter3d\": [{\"line\": {\"colorbar\": {\"outlinewidth\": 0, \"ticks\": \"\"}}, \"marker\": {\"colorbar\": {\"outlinewidth\": 0, \"ticks\": \"\"}}, \"type\": \"scatter3d\"}], \"scattercarpet\": [{\"marker\": {\"colorbar\": {\"outlinewidth\": 0, \"ticks\": \"\"}}, \"type\": \"scattercarpet\"}], \"scattergeo\": [{\"marker\": {\"colorbar\": {\"outlinewidth\": 0, \"ticks\": \"\"}}, \"type\": \"scattergeo\"}], \"scattergl\": [{\"marker\": {\"colorbar\": {\"outlinewidth\": 0, \"ticks\": \"\"}}, \"type\": \"scattergl\"}], \"scattermapbox\": [{\"marker\": {\"colorbar\": {\"outlinewidth\": 0, \"ticks\": \"\"}}, \"type\": \"scattermapbox\"}], \"scatterpolar\": [{\"marker\": {\"colorbar\": {\"outlinewidth\": 0, \"ticks\": \"\"}}, \"type\": \"scatterpolar\"}], \"scatterpolargl\": [{\"marker\": {\"colorbar\": {\"outlinewidth\": 0, \"ticks\": \"\"}}, \"type\": \"scatterpolargl\"}], \"scatterternary\": [{\"marker\": {\"colorbar\": {\"outlinewidth\": 0, \"ticks\": \"\"}}, \"type\": \"scatterternary\"}], \"surface\": [{\"colorbar\": {\"outlinewidth\": 0, \"ticks\": \"\"}, \"colorscale\": [[0.0, \"#0d0887\"], [0.1111111111111111, \"#46039f\"], [0.2222222222222222, \"#7201a8\"], [0.3333333333333333, \"#9c179e\"], [0.4444444444444444, \"#bd3786\"], [0.5555555555555556, \"#d8576b\"], [0.6666666666666666, \"#ed7953\"], [0.7777777777777778, \"#fb9f3a\"], [0.8888888888888888, \"#fdca26\"], [1.0, \"#f0f921\"]], \"type\": \"surface\"}], \"table\": [{\"cells\": {\"fill\": {\"color\": \"#EBF0F8\"}, \"line\": {\"color\": \"white\"}}, \"header\": {\"fill\": {\"color\": \"#C8D4E3\"}, \"line\": {\"color\": \"white\"}}, \"type\": \"table\"}]}, \"layout\": {\"annotationdefaults\": {\"arrowcolor\": \"#2a3f5f\", \"arrowhead\": 0, \"arrowwidth\": 1}, \"coloraxis\": {\"colorbar\": {\"outlinewidth\": 0, \"ticks\": \"\"}}, \"colorscale\": {\"diverging\": [[0, \"#8e0152\"], [0.1, \"#c51b7d\"], [0.2, \"#de77ae\"], [0.3, \"#f1b6da\"], [0.4, \"#fde0ef\"], [0.5, \"#f7f7f7\"], [0.6, \"#e6f5d0\"], [0.7, \"#b8e186\"], [0.8, \"#7fbc41\"], [0.9, \"#4d9221\"], [1, \"#276419\"]], \"sequential\": [[0.0, \"#0d0887\"], [0.1111111111111111, \"#46039f\"], [0.2222222222222222, \"#7201a8\"], [0.3333333333333333, \"#9c179e\"], [0.4444444444444444, \"#bd3786\"], [0.5555555555555556, \"#d8576b\"], [0.6666666666666666, \"#ed7953\"], [0.7777777777777778, \"#fb9f3a\"], [0.8888888888888888, \"#fdca26\"], [1.0, \"#f0f921\"]], \"sequentialminus\": [[0.0, \"#0d0887\"], [0.1111111111111111, \"#46039f\"], [0.2222222222222222, \"#7201a8\"], [0.3333333333333333, \"#9c179e\"], [0.4444444444444444, \"#bd3786\"], [0.5555555555555556, \"#d8576b\"], [0.6666666666666666, \"#ed7953\"], [0.7777777777777778, \"#fb9f3a\"], [0.8888888888888888, \"#fdca26\"], [1.0, \"#f0f921\"]]}, \"colorway\": [\"#636efa\", \"#EF553B\", \"#00cc96\", \"#ab63fa\", \"#FFA15A\", \"#19d3f3\", \"#FF6692\", \"#B6E880\", \"#FF97FF\", \"#FECB52\"], \"font\": {\"color\": \"#2a3f5f\"}, \"geo\": {\"bgcolor\": \"white\", \"lakecolor\": \"white\", \"landcolor\": \"#E5ECF6\", \"showlakes\": true, \"showland\": true, \"subunitcolor\": \"white\"}, \"hoverlabel\": {\"align\": \"left\"}, \"hovermode\": \"closest\", \"mapbox\": {\"style\": \"light\"}, \"paper_bgcolor\": \"white\", \"plot_bgcolor\": \"#E5ECF6\", \"polar\": {\"angularaxis\": {\"gridcolor\": \"white\", \"linecolor\": \"white\", \"ticks\": \"\"}, \"bgcolor\": \"#E5ECF6\", \"radialaxis\": {\"gridcolor\": \"white\", \"linecolor\": \"white\", \"ticks\": \"\"}}, \"scene\": {\"xaxis\": {\"backgroundcolor\": \"#E5ECF6\", \"gridcolor\": \"white\", \"gridwidth\": 2, \"linecolor\": \"white\", \"showbackground\": true, \"ticks\": \"\", \"zerolinecolor\": \"white\"}, \"yaxis\": {\"backgroundcolor\": \"#E5ECF6\", \"gridcolor\": \"white\", \"gridwidth\": 2, \"linecolor\": \"white\", \"showbackground\": true, \"ticks\": \"\", \"zerolinecolor\": \"white\"}, \"zaxis\": {\"backgroundcolor\": \"#E5ECF6\", \"gridcolor\": \"white\", \"gridwidth\": 2, \"linecolor\": \"white\", \"showbackground\": true, \"ticks\": \"\", \"zerolinecolor\": \"white\"}}, \"shapedefaults\": {\"line\": {\"color\": \"#2a3f5f\"}}, \"ternary\": {\"aaxis\": {\"gridcolor\": \"white\", \"linecolor\": \"white\", \"ticks\": \"\"}, \"baxis\": {\"gridcolor\": \"white\", \"linecolor\": \"white\", \"ticks\": \"\"}, \"bgcolor\": \"#E5ECF6\", \"caxis\": {\"gridcolor\": \"white\", \"linecolor\": \"white\", \"ticks\": \"\"}}, \"title\": {\"x\": 0.05}, \"xaxis\": {\"automargin\": true, \"gridcolor\": \"white\", \"linecolor\": \"white\", \"ticks\": \"\", \"title\": {\"standoff\": 15}, \"zerolinecolor\": \"white\", \"zerolinewidth\": 2}, \"yaxis\": {\"automargin\": true, \"gridcolor\": \"white\", \"linecolor\": \"white\", \"ticks\": \"\", \"title\": {\"standoff\": 15}, \"zerolinecolor\": \"white\", \"zerolinewidth\": 2}}}, \"title\": {\"font\": {\"color\": \"#4D5663\"}, \"text\": \"Feature Correlation Matrix\"}, \"xaxis\": {\"gridcolor\": \"#E1E5ED\", \"showgrid\": true, \"tickfont\": {\"color\": \"#4D5663\"}, \"title\": {\"font\": {\"color\": \"#4D5663\"}, \"text\": \"\"}, \"zerolinecolor\": \"#E1E5ED\"}, \"yaxis\": {\"gridcolor\": \"#E1E5ED\", \"showgrid\": true, \"tickfont\": {\"color\": \"#4D5663\"}, \"title\": {\"font\": {\"color\": \"#4D5663\"}, \"text\": \"\"}, \"zerolinecolor\": \"#E1E5ED\"}},\n",
       "                        {\"showLink\": true, \"linkText\": \"Export to plot.ly\", \"plotlyServerURL\": \"https://plot.ly\", \"responsive\": true}\n",
       "                    ).then(function(){\n",
       "                            \n",
       "var gd = document.getElementById('d0d081fa-911e-4b55-acd4-eafb7e2b2f1f');\n",
       "var x = new MutationObserver(function (mutations, observer) {{\n",
       "        var display = window.getComputedStyle(gd).display;\n",
       "        if (!display || display === 'none') {{\n",
       "            console.log([gd, 'removed!']);\n",
       "            Plotly.purge(gd);\n",
       "            observer.disconnect();\n",
       "        }}\n",
       "}});\n",
       "\n",
       "// Listen for the removal of the full notebook cells\n",
       "var notebookContainer = gd.closest('#notebook-container');\n",
       "if (notebookContainer) {{\n",
       "    x.observe(notebookContainer, {childList: true});\n",
       "}}\n",
       "\n",
       "// Listen for the clearing of the current output cell\n",
       "var outputEl = gd.closest('.output');\n",
       "if (outputEl) {{\n",
       "    x.observe(outputEl, {childList: true});\n",
       "}}\n",
       "\n",
       "                        })\n",
       "                };\n",
       "                });\n",
       "            </script>\n",
       "        </div>"
      ]
     },
     "metadata": {},
     "output_type": "display_data"
    }
   ],
   "source": [
    "#2) Correlación de los datos / data correlation\n",
    "#-------------------------------------------------------------\n",
    "\n",
    "# Español\n",
    "# Se buscan correlaciones entre las variables numericas: stars, ratings y price. \n",
    "# La función de pandas: loc, permite seleccionar las columnas del dataframe y los :, significan\n",
    "# que estamos seleccionando todas las filas.\n",
    "\n",
    "# English\n",
    "# We search correlations between numeric variables: stars, ratings and price.\n",
    "# The loc function by pandas library, permit select columns from dataframe and the :, meaning that\n",
    "# we select all rows.\n",
    "\n",
    "data_cor=data.loc[:,['stars', 'ratings','price']]\n",
    "data_cor.corr().iplot(kind='heatmap',colorscale=\"Blues\",title=\"Feature Correlation Matrix\")\n",
    "\n",
    "\n",
    "# Correlaciones / correlations: \n",
    "#Spanish\n",
    "#Supuestos\n",
    "# price-stars (0.7): a mayor precio, mayor es la satisfacion de los clientes.\n",
    "# ratings-stars (-0.8): a menor rating mayor es la satisfacción de los clientes.\n",
    "# ratings-price (-0.5): a menor rating mayor es el precio.\n",
    "\n",
    "#English\n",
    "#Assumptions\n",
    "\n",
    "# price-stars (0.7): to higher the price, higher is the customer satisfaction.\n",
    "# ratings-stars (-0.8): to lower the rating, higher is the customer satisfaction.\n",
    "# ratings-price (-0.5): to lower the rating, higher is the price"
   ]
  },
  {
   "cell_type": "code",
   "execution_count": 7,
   "metadata": {},
   "outputs": [
    {
     "data": {
      "application/vnd.plotly.v1+json": {
       "config": {
        "plotlyServerURL": "https://plot.ly"
       },
       "data": [
        {
         "branchvalues": "total",
         "customdata": [
          [
           "apple"
          ],
          [
           "microsoft"
          ],
          [
           "acer"
          ],
          [
           "dell"
          ],
          [
           "acer"
          ],
          [
           "apple"
          ],
          [
           "apple"
          ],
          [
           "apple"
          ],
          [
           "apple"
          ],
          [
           "apple"
          ],
          [
           "apple"
          ],
          [
           "hp"
          ],
          [
           "apple"
          ],
          [
           "apple"
          ],
          [
           "dell"
          ],
          [
           "hp"
          ],
          [
           "dell"
          ],
          [
           "apple"
          ],
          [
           "apple"
          ],
          [
           "apple"
          ],
          [
           "dell"
          ],
          [
           "acer"
          ],
          [
           "apple"
          ],
          [
           "acer"
          ],
          [
           "apple"
          ],
          [
           "apple"
          ],
          [
           "apple"
          ],
          [
           "microsoft"
          ],
          [
           "apple"
          ],
          [
           "apple"
          ],
          [
           "acer"
          ],
          [
           "apple"
          ],
          [
           "apple"
          ],
          [
           "apple"
          ],
          [
           "apple"
          ],
          [
           "dell"
          ],
          [
           "apple"
          ],
          [
           "microsoft"
          ],
          [
           "apple"
          ],
          [
           "apple"
          ],
          [
           "acer"
          ],
          [
           "apple"
          ],
          [
           "hp"
          ],
          [
           "dell"
          ],
          [
           "apple"
          ],
          [
           "apple"
          ],
          [
           "apple"
          ],
          [
           "apple"
          ],
          [
           "dell"
          ],
          [
           "microsoft"
          ],
          [
           "apple"
          ],
          [
           "apple"
          ],
          [
           "acer"
          ],
          [
           "apple"
          ],
          [
           "apple"
          ],
          [
           "acer"
          ],
          [
           "hp"
          ],
          [
           "apple"
          ],
          [
           "apple"
          ],
          [
           "dell"
          ],
          [
           "acer"
          ],
          [
           "apple"
          ],
          [
           "dell"
          ],
          [
           "hp"
          ],
          [
           "microsoft"
          ]
         ],
         "domain": {
          "x": [
           0,
           1
          ],
          "y": [
           0,
           1
          ]
         },
         "hovertemplate": "labels=%{label}<br>brand_id=%{value}<br>parent=%{parent}<br>id=%{id}<br>brand=%{customdata[0]}<extra></extra>",
         "ids": [
          "apple/13/542/4.2/589",
          "microsoft/5/348/4.4/729",
          "acer/11/104/4.4/279",
          "dell/4/1420/4.1/299",
          "acer/8/564/4.3/299",
          "apple/1/1465/4.2/503",
          "apple/14/509/4.2/515",
          "apple/7/624/4.3/599",
          "apple/10/108/4.4/679",
          "apple/2/112/4.6/849",
          "apple/3/112/4.6/849",
          "hp/12/1294/4.0/315",
          "apple/9/157/4.4/899",
          "apple/6/331/4.4/819",
          "dell/15/199/4.3/439",
          "hp/12/1294/4.0",
          "dell/4/1420/4.1",
          "apple/14/509/4.2",
          "apple/13/542/4.2",
          "apple/1/1465/4.2",
          "dell/15/199/4.3",
          "acer/8/564/4.3",
          "apple/7/624/4.3",
          "acer/11/104/4.4",
          "apple/10/108/4.4",
          "apple/9/157/4.4",
          "apple/6/331/4.4",
          "microsoft/5/348/4.4",
          "apple/2/112/4.6",
          "apple/3/112/4.6",
          "acer/11/104",
          "apple/10/108",
          "apple/2/112",
          "apple/3/112",
          "apple/9/157",
          "dell/15/199",
          "apple/6/331",
          "microsoft/5/348",
          "apple/14/509",
          "apple/13/542",
          "acer/8/564",
          "apple/7/624",
          "hp/12/1294",
          "dell/4/1420",
          "apple/1/1465",
          "apple/1",
          "apple/2",
          "apple/3",
          "dell/4",
          "microsoft/5",
          "apple/6",
          "apple/7",
          "acer/8",
          "apple/9",
          "apple/10",
          "acer/11",
          "hp/12",
          "apple/13",
          "apple/14",
          "dell/15",
          "acer",
          "apple",
          "dell",
          "hp",
          "microsoft"
         ],
         "labels": [
          "589",
          "729",
          "279",
          "299",
          "299",
          "503",
          "515",
          "599",
          "679",
          "849",
          "849",
          "315",
          "899",
          "819",
          "439",
          "4.0",
          "4.1",
          "4.2",
          "4.2",
          "4.2",
          "4.3",
          "4.3",
          "4.3",
          "4.4",
          "4.4",
          "4.4",
          "4.4",
          "4.4",
          "4.6",
          "4.6",
          "104",
          "108",
          "112",
          "112",
          "157",
          "199",
          "331",
          "348",
          "509",
          "542",
          "564",
          "624",
          "1294",
          "1420",
          "1465",
          "1",
          "2",
          "3",
          "4",
          "5",
          "6",
          "7",
          "8",
          "9",
          "10",
          "11",
          "12",
          "13",
          "14",
          "15",
          "acer",
          "apple",
          "dell",
          "hp",
          "microsoft"
         ],
         "marker": {
          "colors": [
           "rgb(255,255,229)",
           "rgb(255,247,188)",
           "rgb(254,227,145)",
           "rgb(254,196,79)",
           "rgb(254,227,145)",
           "rgb(255,255,229)",
           "rgb(255,255,229)",
           "rgb(255,255,229)",
           "rgb(255,255,229)",
           "rgb(255,255,229)",
           "rgb(255,255,229)",
           "rgb(254,153,41)",
           "rgb(255,255,229)",
           "rgb(255,255,229)",
           "rgb(254,196,79)",
           "rgb(254,153,41)",
           "rgb(254,196,79)",
           "rgb(255,255,229)",
           "rgb(255,255,229)",
           "rgb(255,255,229)",
           "rgb(254,196,79)",
           "rgb(254,227,145)",
           "rgb(255,255,229)",
           "rgb(254,227,145)",
           "rgb(255,255,229)",
           "rgb(255,255,229)",
           "rgb(255,255,229)",
           "rgb(255,247,188)",
           "rgb(255,255,229)",
           "rgb(255,255,229)",
           "rgb(254,227,145)",
           "rgb(255,255,229)",
           "rgb(255,255,229)",
           "rgb(255,255,229)",
           "rgb(255,255,229)",
           "rgb(254,196,79)",
           "rgb(255,255,229)",
           "rgb(255,247,188)",
           "rgb(255,255,229)",
           "rgb(255,255,229)",
           "rgb(254,227,145)",
           "rgb(255,255,229)",
           "rgb(254,153,41)",
           "rgb(254,196,79)",
           "rgb(255,255,229)",
           "rgb(255,255,229)",
           "rgb(255,255,229)",
           "rgb(255,255,229)",
           "rgb(254,196,79)",
           "rgb(255,247,188)",
           "rgb(255,255,229)",
           "rgb(255,255,229)",
           "rgb(254,227,145)",
           "rgb(255,255,229)",
           "rgb(255,255,229)",
           "rgb(254,227,145)",
           "rgb(254,153,41)",
           "rgb(255,255,229)",
           "rgb(255,255,229)",
           "rgb(254,196,79)",
           "rgb(254,227,145)",
           "rgb(255,255,229)",
           "rgb(254,196,79)",
           "rgb(254,153,41)",
           "rgb(255,247,188)"
          ]
         },
         "name": "",
         "parents": [
          "apple/13/542/4.2",
          "microsoft/5/348/4.4",
          "acer/11/104/4.4",
          "dell/4/1420/4.1",
          "acer/8/564/4.3",
          "apple/1/1465/4.2",
          "apple/14/509/4.2",
          "apple/7/624/4.3",
          "apple/10/108/4.4",
          "apple/2/112/4.6",
          "apple/3/112/4.6",
          "hp/12/1294/4.0",
          "apple/9/157/4.4",
          "apple/6/331/4.4",
          "dell/15/199/4.3",
          "hp/12/1294",
          "dell/4/1420",
          "apple/14/509",
          "apple/13/542",
          "apple/1/1465",
          "dell/15/199",
          "acer/8/564",
          "apple/7/624",
          "acer/11/104",
          "apple/10/108",
          "apple/9/157",
          "apple/6/331",
          "microsoft/5/348",
          "apple/2/112",
          "apple/3/112",
          "acer/11",
          "apple/10",
          "apple/2",
          "apple/3",
          "apple/9",
          "dell/15",
          "apple/6",
          "microsoft/5",
          "apple/14",
          "apple/13",
          "acer/8",
          "apple/7",
          "hp/12",
          "dell/4",
          "apple/1",
          "apple",
          "apple",
          "apple",
          "dell",
          "microsoft",
          "apple",
          "apple",
          "acer",
          "apple",
          "apple",
          "acer",
          "hp",
          "apple",
          "apple",
          "dell",
          "",
          "",
          "",
          "",
          ""
         ],
         "type": "sunburst",
         "values": [
          1,
          3,
          4,
          2,
          4,
          1,
          1,
          1,
          1,
          1,
          1,
          5,
          1,
          1,
          2,
          5,
          2,
          1,
          1,
          1,
          2,
          4,
          1,
          4,
          1,
          1,
          1,
          3,
          1,
          1,
          4,
          1,
          1,
          1,
          1,
          2,
          1,
          3,
          1,
          1,
          4,
          1,
          5,
          2,
          1,
          1,
          1,
          1,
          2,
          3,
          1,
          1,
          4,
          1,
          1,
          4,
          5,
          1,
          1,
          2,
          8,
          9,
          4,
          5,
          3
         ]
        }
       ],
       "layout": {
        "height": 700,
        "legend": {
         "tracegroupgap": 0
        },
        "sunburstcolorway": [
         "rgb(255,255,229)",
         "rgb(255,247,188)",
         "rgb(254,227,145)",
         "rgb(254,196,79)",
         "rgb(254,153,41)",
         "rgb(236,112,20)",
         "rgb(204,76,2)",
         "rgb(153,52,4)",
         "rgb(102,37,6)"
        ],
        "template": {
         "data": {
          "bar": [
           {
            "error_x": {
             "color": "#2a3f5f"
            },
            "error_y": {
             "color": "#2a3f5f"
            },
            "marker": {
             "line": {
              "color": "#E5ECF6",
              "width": 0.5
             }
            },
            "type": "bar"
           }
          ],
          "barpolar": [
           {
            "marker": {
             "line": {
              "color": "#E5ECF6",
              "width": 0.5
             }
            },
            "type": "barpolar"
           }
          ],
          "carpet": [
           {
            "aaxis": {
             "endlinecolor": "#2a3f5f",
             "gridcolor": "white",
             "linecolor": "white",
             "minorgridcolor": "white",
             "startlinecolor": "#2a3f5f"
            },
            "baxis": {
             "endlinecolor": "#2a3f5f",
             "gridcolor": "white",
             "linecolor": "white",
             "minorgridcolor": "white",
             "startlinecolor": "#2a3f5f"
            },
            "type": "carpet"
           }
          ],
          "choropleth": [
           {
            "colorbar": {
             "outlinewidth": 0,
             "ticks": ""
            },
            "type": "choropleth"
           }
          ],
          "contour": [
           {
            "colorbar": {
             "outlinewidth": 0,
             "ticks": ""
            },
            "colorscale": [
             [
              0,
              "#0d0887"
             ],
             [
              0.1111111111111111,
              "#46039f"
             ],
             [
              0.2222222222222222,
              "#7201a8"
             ],
             [
              0.3333333333333333,
              "#9c179e"
             ],
             [
              0.4444444444444444,
              "#bd3786"
             ],
             [
              0.5555555555555556,
              "#d8576b"
             ],
             [
              0.6666666666666666,
              "#ed7953"
             ],
             [
              0.7777777777777778,
              "#fb9f3a"
             ],
             [
              0.8888888888888888,
              "#fdca26"
             ],
             [
              1,
              "#f0f921"
             ]
            ],
            "type": "contour"
           }
          ],
          "contourcarpet": [
           {
            "colorbar": {
             "outlinewidth": 0,
             "ticks": ""
            },
            "type": "contourcarpet"
           }
          ],
          "heatmap": [
           {
            "colorbar": {
             "outlinewidth": 0,
             "ticks": ""
            },
            "colorscale": [
             [
              0,
              "#0d0887"
             ],
             [
              0.1111111111111111,
              "#46039f"
             ],
             [
              0.2222222222222222,
              "#7201a8"
             ],
             [
              0.3333333333333333,
              "#9c179e"
             ],
             [
              0.4444444444444444,
              "#bd3786"
             ],
             [
              0.5555555555555556,
              "#d8576b"
             ],
             [
              0.6666666666666666,
              "#ed7953"
             ],
             [
              0.7777777777777778,
              "#fb9f3a"
             ],
             [
              0.8888888888888888,
              "#fdca26"
             ],
             [
              1,
              "#f0f921"
             ]
            ],
            "type": "heatmap"
           }
          ],
          "heatmapgl": [
           {
            "colorbar": {
             "outlinewidth": 0,
             "ticks": ""
            },
            "colorscale": [
             [
              0,
              "#0d0887"
             ],
             [
              0.1111111111111111,
              "#46039f"
             ],
             [
              0.2222222222222222,
              "#7201a8"
             ],
             [
              0.3333333333333333,
              "#9c179e"
             ],
             [
              0.4444444444444444,
              "#bd3786"
             ],
             [
              0.5555555555555556,
              "#d8576b"
             ],
             [
              0.6666666666666666,
              "#ed7953"
             ],
             [
              0.7777777777777778,
              "#fb9f3a"
             ],
             [
              0.8888888888888888,
              "#fdca26"
             ],
             [
              1,
              "#f0f921"
             ]
            ],
            "type": "heatmapgl"
           }
          ],
          "histogram": [
           {
            "marker": {
             "colorbar": {
              "outlinewidth": 0,
              "ticks": ""
             }
            },
            "type": "histogram"
           }
          ],
          "histogram2d": [
           {
            "colorbar": {
             "outlinewidth": 0,
             "ticks": ""
            },
            "colorscale": [
             [
              0,
              "#0d0887"
             ],
             [
              0.1111111111111111,
              "#46039f"
             ],
             [
              0.2222222222222222,
              "#7201a8"
             ],
             [
              0.3333333333333333,
              "#9c179e"
             ],
             [
              0.4444444444444444,
              "#bd3786"
             ],
             [
              0.5555555555555556,
              "#d8576b"
             ],
             [
              0.6666666666666666,
              "#ed7953"
             ],
             [
              0.7777777777777778,
              "#fb9f3a"
             ],
             [
              0.8888888888888888,
              "#fdca26"
             ],
             [
              1,
              "#f0f921"
             ]
            ],
            "type": "histogram2d"
           }
          ],
          "histogram2dcontour": [
           {
            "colorbar": {
             "outlinewidth": 0,
             "ticks": ""
            },
            "colorscale": [
             [
              0,
              "#0d0887"
             ],
             [
              0.1111111111111111,
              "#46039f"
             ],
             [
              0.2222222222222222,
              "#7201a8"
             ],
             [
              0.3333333333333333,
              "#9c179e"
             ],
             [
              0.4444444444444444,
              "#bd3786"
             ],
             [
              0.5555555555555556,
              "#d8576b"
             ],
             [
              0.6666666666666666,
              "#ed7953"
             ],
             [
              0.7777777777777778,
              "#fb9f3a"
             ],
             [
              0.8888888888888888,
              "#fdca26"
             ],
             [
              1,
              "#f0f921"
             ]
            ],
            "type": "histogram2dcontour"
           }
          ],
          "mesh3d": [
           {
            "colorbar": {
             "outlinewidth": 0,
             "ticks": ""
            },
            "type": "mesh3d"
           }
          ],
          "parcoords": [
           {
            "line": {
             "colorbar": {
              "outlinewidth": 0,
              "ticks": ""
             }
            },
            "type": "parcoords"
           }
          ],
          "pie": [
           {
            "automargin": true,
            "type": "pie"
           }
          ],
          "scatter": [
           {
            "marker": {
             "colorbar": {
              "outlinewidth": 0,
              "ticks": ""
             }
            },
            "type": "scatter"
           }
          ],
          "scatter3d": [
           {
            "line": {
             "colorbar": {
              "outlinewidth": 0,
              "ticks": ""
             }
            },
            "marker": {
             "colorbar": {
              "outlinewidth": 0,
              "ticks": ""
             }
            },
            "type": "scatter3d"
           }
          ],
          "scattercarpet": [
           {
            "marker": {
             "colorbar": {
              "outlinewidth": 0,
              "ticks": ""
             }
            },
            "type": "scattercarpet"
           }
          ],
          "scattergeo": [
           {
            "marker": {
             "colorbar": {
              "outlinewidth": 0,
              "ticks": ""
             }
            },
            "type": "scattergeo"
           }
          ],
          "scattergl": [
           {
            "marker": {
             "colorbar": {
              "outlinewidth": 0,
              "ticks": ""
             }
            },
            "type": "scattergl"
           }
          ],
          "scattermapbox": [
           {
            "marker": {
             "colorbar": {
              "outlinewidth": 0,
              "ticks": ""
             }
            },
            "type": "scattermapbox"
           }
          ],
          "scatterpolar": [
           {
            "marker": {
             "colorbar": {
              "outlinewidth": 0,
              "ticks": ""
             }
            },
            "type": "scatterpolar"
           }
          ],
          "scatterpolargl": [
           {
            "marker": {
             "colorbar": {
              "outlinewidth": 0,
              "ticks": ""
             }
            },
            "type": "scatterpolargl"
           }
          ],
          "scatterternary": [
           {
            "marker": {
             "colorbar": {
              "outlinewidth": 0,
              "ticks": ""
             }
            },
            "type": "scatterternary"
           }
          ],
          "surface": [
           {
            "colorbar": {
             "outlinewidth": 0,
             "ticks": ""
            },
            "colorscale": [
             [
              0,
              "#0d0887"
             ],
             [
              0.1111111111111111,
              "#46039f"
             ],
             [
              0.2222222222222222,
              "#7201a8"
             ],
             [
              0.3333333333333333,
              "#9c179e"
             ],
             [
              0.4444444444444444,
              "#bd3786"
             ],
             [
              0.5555555555555556,
              "#d8576b"
             ],
             [
              0.6666666666666666,
              "#ed7953"
             ],
             [
              0.7777777777777778,
              "#fb9f3a"
             ],
             [
              0.8888888888888888,
              "#fdca26"
             ],
             [
              1,
              "#f0f921"
             ]
            ],
            "type": "surface"
           }
          ],
          "table": [
           {
            "cells": {
             "fill": {
              "color": "#EBF0F8"
             },
             "line": {
              "color": "white"
             }
            },
            "header": {
             "fill": {
              "color": "#C8D4E3"
             },
             "line": {
              "color": "white"
             }
            },
            "type": "table"
           }
          ]
         },
         "layout": {
          "annotationdefaults": {
           "arrowcolor": "#2a3f5f",
           "arrowhead": 0,
           "arrowwidth": 1
          },
          "coloraxis": {
           "colorbar": {
            "outlinewidth": 0,
            "ticks": ""
           }
          },
          "colorscale": {
           "diverging": [
            [
             0,
             "#8e0152"
            ],
            [
             0.1,
             "#c51b7d"
            ],
            [
             0.2,
             "#de77ae"
            ],
            [
             0.3,
             "#f1b6da"
            ],
            [
             0.4,
             "#fde0ef"
            ],
            [
             0.5,
             "#f7f7f7"
            ],
            [
             0.6,
             "#e6f5d0"
            ],
            [
             0.7,
             "#b8e186"
            ],
            [
             0.8,
             "#7fbc41"
            ],
            [
             0.9,
             "#4d9221"
            ],
            [
             1,
             "#276419"
            ]
           ],
           "sequential": [
            [
             0,
             "#0d0887"
            ],
            [
             0.1111111111111111,
             "#46039f"
            ],
            [
             0.2222222222222222,
             "#7201a8"
            ],
            [
             0.3333333333333333,
             "#9c179e"
            ],
            [
             0.4444444444444444,
             "#bd3786"
            ],
            [
             0.5555555555555556,
             "#d8576b"
            ],
            [
             0.6666666666666666,
             "#ed7953"
            ],
            [
             0.7777777777777778,
             "#fb9f3a"
            ],
            [
             0.8888888888888888,
             "#fdca26"
            ],
            [
             1,
             "#f0f921"
            ]
           ],
           "sequentialminus": [
            [
             0,
             "#0d0887"
            ],
            [
             0.1111111111111111,
             "#46039f"
            ],
            [
             0.2222222222222222,
             "#7201a8"
            ],
            [
             0.3333333333333333,
             "#9c179e"
            ],
            [
             0.4444444444444444,
             "#bd3786"
            ],
            [
             0.5555555555555556,
             "#d8576b"
            ],
            [
             0.6666666666666666,
             "#ed7953"
            ],
            [
             0.7777777777777778,
             "#fb9f3a"
            ],
            [
             0.8888888888888888,
             "#fdca26"
            ],
            [
             1,
             "#f0f921"
            ]
           ]
          },
          "colorway": [
           "#636efa",
           "#EF553B",
           "#00cc96",
           "#ab63fa",
           "#FFA15A",
           "#19d3f3",
           "#FF6692",
           "#B6E880",
           "#FF97FF",
           "#FECB52"
          ],
          "font": {
           "color": "#2a3f5f"
          },
          "geo": {
           "bgcolor": "white",
           "lakecolor": "white",
           "landcolor": "#E5ECF6",
           "showlakes": true,
           "showland": true,
           "subunitcolor": "white"
          },
          "hoverlabel": {
           "align": "left"
          },
          "hovermode": "closest",
          "mapbox": {
           "style": "light"
          },
          "paper_bgcolor": "white",
          "plot_bgcolor": "#E5ECF6",
          "polar": {
           "angularaxis": {
            "gridcolor": "white",
            "linecolor": "white",
            "ticks": ""
           },
           "bgcolor": "#E5ECF6",
           "radialaxis": {
            "gridcolor": "white",
            "linecolor": "white",
            "ticks": ""
           }
          },
          "scene": {
           "xaxis": {
            "backgroundcolor": "#E5ECF6",
            "gridcolor": "white",
            "gridwidth": 2,
            "linecolor": "white",
            "showbackground": true,
            "ticks": "",
            "zerolinecolor": "white"
           },
           "yaxis": {
            "backgroundcolor": "#E5ECF6",
            "gridcolor": "white",
            "gridwidth": 2,
            "linecolor": "white",
            "showbackground": true,
            "ticks": "",
            "zerolinecolor": "white"
           },
           "zaxis": {
            "backgroundcolor": "#E5ECF6",
            "gridcolor": "white",
            "gridwidth": 2,
            "linecolor": "white",
            "showbackground": true,
            "ticks": "",
            "zerolinecolor": "white"
           }
          },
          "shapedefaults": {
           "line": {
            "color": "#2a3f5f"
           }
          },
          "ternary": {
           "aaxis": {
            "gridcolor": "white",
            "linecolor": "white",
            "ticks": ""
           },
           "baxis": {
            "gridcolor": "white",
            "linecolor": "white",
            "ticks": ""
           },
           "bgcolor": "#E5ECF6",
           "caxis": {
            "gridcolor": "white",
            "linecolor": "white",
            "ticks": ""
           }
          },
          "title": {
           "x": 0.05
          },
          "xaxis": {
           "automargin": true,
           "gridcolor": "white",
           "linecolor": "white",
           "ticks": "",
           "title": {
            "standoff": 15
           },
           "zerolinecolor": "white",
           "zerolinewidth": 2
          },
          "yaxis": {
           "automargin": true,
           "gridcolor": "white",
           "linecolor": "white",
           "ticks": "",
           "title": {
            "standoff": 15
           },
           "zerolinecolor": "white",
           "zerolinewidth": 2
          }
         }
        },
        "title": {
         "text": "Best certified renewed / refurbished laptops on amazon "
        },
        "width": 600
       }
      },
      "text/html": [
       "<div>\n",
       "        \n",
       "        \n",
       "            <div id=\"83fd3497-4b23-450d-9c0f-532e4bc32adb\" class=\"plotly-graph-div\" style=\"height:700px; width:600px;\"></div>\n",
       "            <script type=\"text/javascript\">\n",
       "                require([\"plotly\"], function(Plotly) {\n",
       "                    window.PLOTLYENV=window.PLOTLYENV || {};\n",
       "                    \n",
       "                if (document.getElementById(\"83fd3497-4b23-450d-9c0f-532e4bc32adb\")) {\n",
       "                    Plotly.newPlot(\n",
       "                        '83fd3497-4b23-450d-9c0f-532e4bc32adb',\n",
       "                        [{\"branchvalues\": \"total\", \"customdata\": [[\"apple\"], [\"microsoft\"], [\"acer\"], [\"dell\"], [\"acer\"], [\"apple\"], [\"apple\"], [\"apple\"], [\"apple\"], [\"apple\"], [\"apple\"], [\"hp\"], [\"apple\"], [\"apple\"], [\"dell\"], [\"hp\"], [\"dell\"], [\"apple\"], [\"apple\"], [\"apple\"], [\"dell\"], [\"acer\"], [\"apple\"], [\"acer\"], [\"apple\"], [\"apple\"], [\"apple\"], [\"microsoft\"], [\"apple\"], [\"apple\"], [\"acer\"], [\"apple\"], [\"apple\"], [\"apple\"], [\"apple\"], [\"dell\"], [\"apple\"], [\"microsoft\"], [\"apple\"], [\"apple\"], [\"acer\"], [\"apple\"], [\"hp\"], [\"dell\"], [\"apple\"], [\"apple\"], [\"apple\"], [\"apple\"], [\"dell\"], [\"microsoft\"], [\"apple\"], [\"apple\"], [\"acer\"], [\"apple\"], [\"apple\"], [\"acer\"], [\"hp\"], [\"apple\"], [\"apple\"], [\"dell\"], [\"acer\"], [\"apple\"], [\"dell\"], [\"hp\"], [\"microsoft\"]], \"domain\": {\"x\": [0.0, 1.0], \"y\": [0.0, 1.0]}, \"hovertemplate\": \"labels=%{label}<br>brand_id=%{value}<br>parent=%{parent}<br>id=%{id}<br>brand=%{customdata[0]}<extra></extra>\", \"ids\": [\"apple/13/542/4.2/589\", \"microsoft/5/348/4.4/729\", \"acer/11/104/4.4/279\", \"dell/4/1420/4.1/299\", \"acer/8/564/4.3/299\", \"apple/1/1465/4.2/503\", \"apple/14/509/4.2/515\", \"apple/7/624/4.3/599\", \"apple/10/108/4.4/679\", \"apple/2/112/4.6/849\", \"apple/3/112/4.6/849\", \"hp/12/1294/4.0/315\", \"apple/9/157/4.4/899\", \"apple/6/331/4.4/819\", \"dell/15/199/4.3/439\", \"hp/12/1294/4.0\", \"dell/4/1420/4.1\", \"apple/14/509/4.2\", \"apple/13/542/4.2\", \"apple/1/1465/4.2\", \"dell/15/199/4.3\", \"acer/8/564/4.3\", \"apple/7/624/4.3\", \"acer/11/104/4.4\", \"apple/10/108/4.4\", \"apple/9/157/4.4\", \"apple/6/331/4.4\", \"microsoft/5/348/4.4\", \"apple/2/112/4.6\", \"apple/3/112/4.6\", \"acer/11/104\", \"apple/10/108\", \"apple/2/112\", \"apple/3/112\", \"apple/9/157\", \"dell/15/199\", \"apple/6/331\", \"microsoft/5/348\", \"apple/14/509\", \"apple/13/542\", \"acer/8/564\", \"apple/7/624\", \"hp/12/1294\", \"dell/4/1420\", \"apple/1/1465\", \"apple/1\", \"apple/2\", \"apple/3\", \"dell/4\", \"microsoft/5\", \"apple/6\", \"apple/7\", \"acer/8\", \"apple/9\", \"apple/10\", \"acer/11\", \"hp/12\", \"apple/13\", \"apple/14\", \"dell/15\", \"acer\", \"apple\", \"dell\", \"hp\", \"microsoft\"], \"labels\": [\"589\", \"729\", \"279\", \"299\", \"299\", \"503\", \"515\", \"599\", \"679\", \"849\", \"849\", \"315\", \"899\", \"819\", \"439\", \"4.0\", \"4.1\", \"4.2\", \"4.2\", \"4.2\", \"4.3\", \"4.3\", \"4.3\", \"4.4\", \"4.4\", \"4.4\", \"4.4\", \"4.4\", \"4.6\", \"4.6\", \"104\", \"108\", \"112\", \"112\", \"157\", \"199\", \"331\", \"348\", \"509\", \"542\", \"564\", \"624\", \"1294\", \"1420\", \"1465\", \"1\", \"2\", \"3\", \"4\", \"5\", \"6\", \"7\", \"8\", \"9\", \"10\", \"11\", \"12\", \"13\", \"14\", \"15\", \"acer\", \"apple\", \"dell\", \"hp\", \"microsoft\"], \"marker\": {\"colors\": [\"rgb(255,255,229)\", \"rgb(255,247,188)\", \"rgb(254,227,145)\", \"rgb(254,196,79)\", \"rgb(254,227,145)\", \"rgb(255,255,229)\", \"rgb(255,255,229)\", \"rgb(255,255,229)\", \"rgb(255,255,229)\", \"rgb(255,255,229)\", \"rgb(255,255,229)\", \"rgb(254,153,41)\", \"rgb(255,255,229)\", \"rgb(255,255,229)\", \"rgb(254,196,79)\", \"rgb(254,153,41)\", \"rgb(254,196,79)\", \"rgb(255,255,229)\", \"rgb(255,255,229)\", \"rgb(255,255,229)\", \"rgb(254,196,79)\", \"rgb(254,227,145)\", \"rgb(255,255,229)\", \"rgb(254,227,145)\", \"rgb(255,255,229)\", \"rgb(255,255,229)\", \"rgb(255,255,229)\", \"rgb(255,247,188)\", \"rgb(255,255,229)\", \"rgb(255,255,229)\", \"rgb(254,227,145)\", \"rgb(255,255,229)\", \"rgb(255,255,229)\", \"rgb(255,255,229)\", \"rgb(255,255,229)\", \"rgb(254,196,79)\", \"rgb(255,255,229)\", \"rgb(255,247,188)\", \"rgb(255,255,229)\", \"rgb(255,255,229)\", \"rgb(254,227,145)\", \"rgb(255,255,229)\", \"rgb(254,153,41)\", \"rgb(254,196,79)\", \"rgb(255,255,229)\", \"rgb(255,255,229)\", \"rgb(255,255,229)\", \"rgb(255,255,229)\", \"rgb(254,196,79)\", \"rgb(255,247,188)\", \"rgb(255,255,229)\", \"rgb(255,255,229)\", \"rgb(254,227,145)\", \"rgb(255,255,229)\", \"rgb(255,255,229)\", \"rgb(254,227,145)\", \"rgb(254,153,41)\", \"rgb(255,255,229)\", \"rgb(255,255,229)\", \"rgb(254,196,79)\", \"rgb(254,227,145)\", \"rgb(255,255,229)\", \"rgb(254,196,79)\", \"rgb(254,153,41)\", \"rgb(255,247,188)\"]}, \"name\": \"\", \"parents\": [\"apple/13/542/4.2\", \"microsoft/5/348/4.4\", \"acer/11/104/4.4\", \"dell/4/1420/4.1\", \"acer/8/564/4.3\", \"apple/1/1465/4.2\", \"apple/14/509/4.2\", \"apple/7/624/4.3\", \"apple/10/108/4.4\", \"apple/2/112/4.6\", \"apple/3/112/4.6\", \"hp/12/1294/4.0\", \"apple/9/157/4.4\", \"apple/6/331/4.4\", \"dell/15/199/4.3\", \"hp/12/1294\", \"dell/4/1420\", \"apple/14/509\", \"apple/13/542\", \"apple/1/1465\", \"dell/15/199\", \"acer/8/564\", \"apple/7/624\", \"acer/11/104\", \"apple/10/108\", \"apple/9/157\", \"apple/6/331\", \"microsoft/5/348\", \"apple/2/112\", \"apple/3/112\", \"acer/11\", \"apple/10\", \"apple/2\", \"apple/3\", \"apple/9\", \"dell/15\", \"apple/6\", \"microsoft/5\", \"apple/14\", \"apple/13\", \"acer/8\", \"apple/7\", \"hp/12\", \"dell/4\", \"apple/1\", \"apple\", \"apple\", \"apple\", \"dell\", \"microsoft\", \"apple\", \"apple\", \"acer\", \"apple\", \"apple\", \"acer\", \"hp\", \"apple\", \"apple\", \"dell\", \"\", \"\", \"\", \"\", \"\"], \"type\": \"sunburst\", \"values\": [1, 3, 4, 2, 4, 1, 1, 1, 1, 1, 1, 5, 1, 1, 2, 5, 2, 1, 1, 1, 2, 4, 1, 4, 1, 1, 1, 3, 1, 1, 4, 1, 1, 1, 1, 2, 1, 3, 1, 1, 4, 1, 5, 2, 1, 1, 1, 1, 2, 3, 1, 1, 4, 1, 1, 4, 5, 1, 1, 2, 8, 9, 4, 5, 3]}],\n",
       "                        {\"height\": 700, \"legend\": {\"tracegroupgap\": 0}, \"sunburstcolorway\": [\"rgb(255,255,229)\", \"rgb(255,247,188)\", \"rgb(254,227,145)\", \"rgb(254,196,79)\", \"rgb(254,153,41)\", \"rgb(236,112,20)\", \"rgb(204,76,2)\", \"rgb(153,52,4)\", \"rgb(102,37,6)\"], \"template\": {\"data\": {\"bar\": [{\"error_x\": {\"color\": \"#2a3f5f\"}, \"error_y\": {\"color\": \"#2a3f5f\"}, \"marker\": {\"line\": {\"color\": \"#E5ECF6\", \"width\": 0.5}}, \"type\": \"bar\"}], \"barpolar\": [{\"marker\": {\"line\": {\"color\": \"#E5ECF6\", \"width\": 0.5}}, \"type\": \"barpolar\"}], \"carpet\": [{\"aaxis\": {\"endlinecolor\": \"#2a3f5f\", \"gridcolor\": \"white\", \"linecolor\": \"white\", \"minorgridcolor\": \"white\", \"startlinecolor\": \"#2a3f5f\"}, \"baxis\": {\"endlinecolor\": \"#2a3f5f\", \"gridcolor\": \"white\", \"linecolor\": \"white\", \"minorgridcolor\": \"white\", \"startlinecolor\": \"#2a3f5f\"}, \"type\": \"carpet\"}], \"choropleth\": [{\"colorbar\": {\"outlinewidth\": 0, \"ticks\": \"\"}, \"type\": \"choropleth\"}], \"contour\": [{\"colorbar\": {\"outlinewidth\": 0, \"ticks\": \"\"}, \"colorscale\": [[0.0, \"#0d0887\"], [0.1111111111111111, \"#46039f\"], [0.2222222222222222, \"#7201a8\"], [0.3333333333333333, \"#9c179e\"], [0.4444444444444444, \"#bd3786\"], [0.5555555555555556, \"#d8576b\"], [0.6666666666666666, \"#ed7953\"], [0.7777777777777778, \"#fb9f3a\"], [0.8888888888888888, \"#fdca26\"], [1.0, \"#f0f921\"]], \"type\": \"contour\"}], \"contourcarpet\": [{\"colorbar\": {\"outlinewidth\": 0, \"ticks\": \"\"}, \"type\": \"contourcarpet\"}], \"heatmap\": [{\"colorbar\": {\"outlinewidth\": 0, \"ticks\": \"\"}, \"colorscale\": [[0.0, \"#0d0887\"], [0.1111111111111111, \"#46039f\"], [0.2222222222222222, \"#7201a8\"], [0.3333333333333333, \"#9c179e\"], [0.4444444444444444, \"#bd3786\"], [0.5555555555555556, \"#d8576b\"], [0.6666666666666666, \"#ed7953\"], [0.7777777777777778, \"#fb9f3a\"], [0.8888888888888888, \"#fdca26\"], [1.0, \"#f0f921\"]], \"type\": \"heatmap\"}], \"heatmapgl\": [{\"colorbar\": {\"outlinewidth\": 0, \"ticks\": \"\"}, \"colorscale\": [[0.0, \"#0d0887\"], [0.1111111111111111, \"#46039f\"], [0.2222222222222222, \"#7201a8\"], [0.3333333333333333, \"#9c179e\"], [0.4444444444444444, \"#bd3786\"], [0.5555555555555556, \"#d8576b\"], [0.6666666666666666, \"#ed7953\"], [0.7777777777777778, \"#fb9f3a\"], [0.8888888888888888, \"#fdca26\"], [1.0, \"#f0f921\"]], \"type\": \"heatmapgl\"}], \"histogram\": [{\"marker\": {\"colorbar\": {\"outlinewidth\": 0, \"ticks\": \"\"}}, \"type\": \"histogram\"}], \"histogram2d\": [{\"colorbar\": {\"outlinewidth\": 0, \"ticks\": \"\"}, \"colorscale\": [[0.0, \"#0d0887\"], [0.1111111111111111, \"#46039f\"], [0.2222222222222222, \"#7201a8\"], [0.3333333333333333, \"#9c179e\"], [0.4444444444444444, \"#bd3786\"], [0.5555555555555556, \"#d8576b\"], [0.6666666666666666, \"#ed7953\"], [0.7777777777777778, \"#fb9f3a\"], [0.8888888888888888, \"#fdca26\"], [1.0, \"#f0f921\"]], \"type\": \"histogram2d\"}], \"histogram2dcontour\": [{\"colorbar\": {\"outlinewidth\": 0, \"ticks\": \"\"}, \"colorscale\": [[0.0, \"#0d0887\"], [0.1111111111111111, \"#46039f\"], [0.2222222222222222, \"#7201a8\"], [0.3333333333333333, \"#9c179e\"], [0.4444444444444444, \"#bd3786\"], [0.5555555555555556, \"#d8576b\"], [0.6666666666666666, \"#ed7953\"], [0.7777777777777778, \"#fb9f3a\"], [0.8888888888888888, \"#fdca26\"], [1.0, \"#f0f921\"]], \"type\": \"histogram2dcontour\"}], \"mesh3d\": [{\"colorbar\": {\"outlinewidth\": 0, \"ticks\": \"\"}, \"type\": \"mesh3d\"}], \"parcoords\": [{\"line\": {\"colorbar\": {\"outlinewidth\": 0, \"ticks\": \"\"}}, \"type\": \"parcoords\"}], \"pie\": [{\"automargin\": true, \"type\": \"pie\"}], \"scatter\": [{\"marker\": {\"colorbar\": {\"outlinewidth\": 0, \"ticks\": \"\"}}, \"type\": \"scatter\"}], \"scatter3d\": [{\"line\": {\"colorbar\": {\"outlinewidth\": 0, \"ticks\": \"\"}}, \"marker\": {\"colorbar\": {\"outlinewidth\": 0, \"ticks\": \"\"}}, \"type\": \"scatter3d\"}], \"scattercarpet\": [{\"marker\": {\"colorbar\": {\"outlinewidth\": 0, \"ticks\": \"\"}}, \"type\": \"scattercarpet\"}], \"scattergeo\": [{\"marker\": {\"colorbar\": {\"outlinewidth\": 0, \"ticks\": \"\"}}, \"type\": \"scattergeo\"}], \"scattergl\": [{\"marker\": {\"colorbar\": {\"outlinewidth\": 0, \"ticks\": \"\"}}, \"type\": \"scattergl\"}], \"scattermapbox\": [{\"marker\": {\"colorbar\": {\"outlinewidth\": 0, \"ticks\": \"\"}}, \"type\": \"scattermapbox\"}], \"scatterpolar\": [{\"marker\": {\"colorbar\": {\"outlinewidth\": 0, \"ticks\": \"\"}}, \"type\": \"scatterpolar\"}], \"scatterpolargl\": [{\"marker\": {\"colorbar\": {\"outlinewidth\": 0, \"ticks\": \"\"}}, \"type\": \"scatterpolargl\"}], \"scatterternary\": [{\"marker\": {\"colorbar\": {\"outlinewidth\": 0, \"ticks\": \"\"}}, \"type\": \"scatterternary\"}], \"surface\": [{\"colorbar\": {\"outlinewidth\": 0, \"ticks\": \"\"}, \"colorscale\": [[0.0, \"#0d0887\"], [0.1111111111111111, \"#46039f\"], [0.2222222222222222, \"#7201a8\"], [0.3333333333333333, \"#9c179e\"], [0.4444444444444444, \"#bd3786\"], [0.5555555555555556, \"#d8576b\"], [0.6666666666666666, \"#ed7953\"], [0.7777777777777778, \"#fb9f3a\"], [0.8888888888888888, \"#fdca26\"], [1.0, \"#f0f921\"]], \"type\": \"surface\"}], \"table\": [{\"cells\": {\"fill\": {\"color\": \"#EBF0F8\"}, \"line\": {\"color\": \"white\"}}, \"header\": {\"fill\": {\"color\": \"#C8D4E3\"}, \"line\": {\"color\": \"white\"}}, \"type\": \"table\"}]}, \"layout\": {\"annotationdefaults\": {\"arrowcolor\": \"#2a3f5f\", \"arrowhead\": 0, \"arrowwidth\": 1}, \"coloraxis\": {\"colorbar\": {\"outlinewidth\": 0, \"ticks\": \"\"}}, \"colorscale\": {\"diverging\": [[0, \"#8e0152\"], [0.1, \"#c51b7d\"], [0.2, \"#de77ae\"], [0.3, \"#f1b6da\"], [0.4, \"#fde0ef\"], [0.5, \"#f7f7f7\"], [0.6, \"#e6f5d0\"], [0.7, \"#b8e186\"], [0.8, \"#7fbc41\"], [0.9, \"#4d9221\"], [1, \"#276419\"]], \"sequential\": [[0.0, \"#0d0887\"], [0.1111111111111111, \"#46039f\"], [0.2222222222222222, \"#7201a8\"], [0.3333333333333333, \"#9c179e\"], [0.4444444444444444, \"#bd3786\"], [0.5555555555555556, \"#d8576b\"], [0.6666666666666666, \"#ed7953\"], [0.7777777777777778, \"#fb9f3a\"], [0.8888888888888888, \"#fdca26\"], [1.0, \"#f0f921\"]], \"sequentialminus\": [[0.0, \"#0d0887\"], [0.1111111111111111, \"#46039f\"], [0.2222222222222222, \"#7201a8\"], [0.3333333333333333, \"#9c179e\"], [0.4444444444444444, \"#bd3786\"], [0.5555555555555556, \"#d8576b\"], [0.6666666666666666, \"#ed7953\"], [0.7777777777777778, \"#fb9f3a\"], [0.8888888888888888, \"#fdca26\"], [1.0, \"#f0f921\"]]}, \"colorway\": [\"#636efa\", \"#EF553B\", \"#00cc96\", \"#ab63fa\", \"#FFA15A\", \"#19d3f3\", \"#FF6692\", \"#B6E880\", \"#FF97FF\", \"#FECB52\"], \"font\": {\"color\": \"#2a3f5f\"}, \"geo\": {\"bgcolor\": \"white\", \"lakecolor\": \"white\", \"landcolor\": \"#E5ECF6\", \"showlakes\": true, \"showland\": true, \"subunitcolor\": \"white\"}, \"hoverlabel\": {\"align\": \"left\"}, \"hovermode\": \"closest\", \"mapbox\": {\"style\": \"light\"}, \"paper_bgcolor\": \"white\", \"plot_bgcolor\": \"#E5ECF6\", \"polar\": {\"angularaxis\": {\"gridcolor\": \"white\", \"linecolor\": \"white\", \"ticks\": \"\"}, \"bgcolor\": \"#E5ECF6\", \"radialaxis\": {\"gridcolor\": \"white\", \"linecolor\": \"white\", \"ticks\": \"\"}}, \"scene\": {\"xaxis\": {\"backgroundcolor\": \"#E5ECF6\", \"gridcolor\": \"white\", \"gridwidth\": 2, \"linecolor\": \"white\", \"showbackground\": true, \"ticks\": \"\", \"zerolinecolor\": \"white\"}, \"yaxis\": {\"backgroundcolor\": \"#E5ECF6\", \"gridcolor\": \"white\", \"gridwidth\": 2, \"linecolor\": \"white\", \"showbackground\": true, \"ticks\": \"\", \"zerolinecolor\": \"white\"}, \"zaxis\": {\"backgroundcolor\": \"#E5ECF6\", \"gridcolor\": \"white\", \"gridwidth\": 2, \"linecolor\": \"white\", \"showbackground\": true, \"ticks\": \"\", \"zerolinecolor\": \"white\"}}, \"shapedefaults\": {\"line\": {\"color\": \"#2a3f5f\"}}, \"ternary\": {\"aaxis\": {\"gridcolor\": \"white\", \"linecolor\": \"white\", \"ticks\": \"\"}, \"baxis\": {\"gridcolor\": \"white\", \"linecolor\": \"white\", \"ticks\": \"\"}, \"bgcolor\": \"#E5ECF6\", \"caxis\": {\"gridcolor\": \"white\", \"linecolor\": \"white\", \"ticks\": \"\"}}, \"title\": {\"x\": 0.05}, \"xaxis\": {\"automargin\": true, \"gridcolor\": \"white\", \"linecolor\": \"white\", \"ticks\": \"\", \"title\": {\"standoff\": 15}, \"zerolinecolor\": \"white\", \"zerolinewidth\": 2}, \"yaxis\": {\"automargin\": true, \"gridcolor\": \"white\", \"linecolor\": \"white\", \"ticks\": \"\", \"title\": {\"standoff\": 15}, \"zerolinecolor\": \"white\", \"zerolinewidth\": 2}}}, \"title\": {\"text\": \"Best certified renewed / refurbished laptops on amazon \"}, \"width\": 600},\n",
       "                        {\"responsive\": true}\n",
       "                    ).then(function(){\n",
       "                            \n",
       "var gd = document.getElementById('83fd3497-4b23-450d-9c0f-532e4bc32adb');\n",
       "var x = new MutationObserver(function (mutations, observer) {{\n",
       "        var display = window.getComputedStyle(gd).display;\n",
       "        if (!display || display === 'none') {{\n",
       "            console.log([gd, 'removed!']);\n",
       "            Plotly.purge(gd);\n",
       "            observer.disconnect();\n",
       "        }}\n",
       "}});\n",
       "\n",
       "// Listen for the removal of the full notebook cells\n",
       "var notebookContainer = gd.closest('#notebook-container');\n",
       "if (notebookContainer) {{\n",
       "    x.observe(notebookContainer, {childList: true});\n",
       "}}\n",
       "\n",
       "// Listen for the clearing of the current output cell\n",
       "var outputEl = gd.closest('.output');\n",
       "if (outputEl) {{\n",
       "    x.observe(outputEl, {childList: true});\n",
       "}}\n",
       "\n",
       "                        })\n",
       "                };\n",
       "                });\n",
       "            </script>\n",
       "        </div>"
      ]
     },
     "metadata": {},
     "output_type": "display_data"
    }
   ],
   "source": [
    "#3) Resumen del valor de las variables en un grafico de torta / Variables's values summary in pie chart  \n",
    "#-------------------------------------------------------------\n",
    "\n",
    "# Español\n",
    "# Utilizamos el dataframe: data, para indicar el set de datos a graficar,\n",
    "# seleccionando las columnas indicadas en el argumento: path, \n",
    "# los valores de la variable: brand_id, serviran para ordenar de menor a mayor los datos, segun esta,\n",
    "# en el argumento: color, indicamos por cual variable vamos a segmentar por color,\n",
    "# para luego, indicar el titulo, el ancho y el alto del grafico y la paleta de colores a utilizar\n",
    "# con el argumento: color_discrete_sequence=px.colors.sequential.YlOrBr (tonos amarillos y marron).\n",
    "\n",
    "# English\n",
    "\n",
    "# Put the dataframe: data, for indicate the data set to graph,\n",
    "# select columns indicating in the argument: path,\n",
    "# variable´s values : brand_id, is for sort data from lower to highest, \n",
    "# in color argument, indicates what variable going to segment by color,\n",
    "# Then, indicates title, width, height and color pallet to use,\n",
    "# with the argument:color_discrete_sequence=px.colors.sequential.YlOrBr (yellow and brown tones).\n",
    "\n",
    "import plotly.express as px\n",
    "\n",
    "fig = px.sunburst(data, path=['brand','id','ratings', 'stars','price' ], values='brand_id',color='brand',\n",
    "                 title='Best certified renewed / refurbished laptops on amazon '\n",
    "                 ,width=600 , height =700\n",
    "                 ,color_discrete_sequence=px.colors.sequential.YlOrBr    \n",
    "                 )\n",
    "\n",
    "fig.show()"
   ]
  }
 ],
 "metadata": {
  "kernelspec": {
   "display_name": "Python 3",
   "language": "python",
   "name": "python3"
  },
  "language_info": {
   "codemirror_mode": {
    "name": "ipython",
    "version": 3
   },
   "file_extension": ".py",
   "mimetype": "text/x-python",
   "name": "python",
   "nbconvert_exporter": "python",
   "pygments_lexer": "ipython3",
   "version": "3.7.7"
  }
 },
 "nbformat": 4,
 "nbformat_minor": 4
}
