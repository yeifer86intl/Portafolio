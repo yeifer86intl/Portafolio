{
 "cells": [
  {
   "cell_type": "code",
   "execution_count": 1,
   "metadata": {},
   "outputs": [
    {
     "data": {
      "text/plain": [
       "True"
      ]
     },
     "execution_count": 1,
     "metadata": {},
     "output_type": "execute_result"
    }
   ],
   "source": [
    "from dotenv import find_dotenv, load_dotenv\n",
    "import pandas as pd\n",
    "import numpy as np\n",
    "import boto3, os, sys\n",
    "import pickle\n",
    "\n",
    "#----------------------------------------------------------------------------------------------------\n",
    "\n",
    "import seaborn as sns\n",
    "\n",
    "\n",
    "\n",
    "load_dotenv(find_dotenv())\n",
    "\n",
    "#https://github.com/fmfn/BayesianOptimization"
   ]
  },
  {
   "cell_type": "code",
   "execution_count": 2,
   "metadata": {},
   "outputs": [
    {
     "data": {
      "text/plain": [
       "Index(['id', 'sex', 'age', 'city', 'employment', 'Salary', 'Scoring ',\n",
       "       'Segment ', 'Default_ind', 'Country of Residence ', 'Education'],\n",
       "      dtype='object')"
      ]
     },
     "execution_count": 2,
     "metadata": {},
     "output_type": "execute_result"
    }
   ],
   "source": [
    "dt = pd.read_csv(\"idfinance_new.csv\")\n",
    "dt.columns"
   ]
  },
  {
   "cell_type": "code",
   "execution_count": 3,
   "metadata": {},
   "outputs": [
    {
     "data": {
      "text/plain": [
       "Index(['sex', 'age', 'city', 'employment', 'salary', 'scoring',\n",
       "       'country of residence ', 'education', 'good_creditor'],\n",
       "      dtype='object')"
      ]
     },
     "execution_count": 3,
     "metadata": {},
     "output_type": "execute_result"
    }
   ],
   "source": [
    "#### P R E P R O C E S S I N G (QUASH)\n",
    "\n",
    "#id,sex,age,city,employment,Salary,Scoring ,Segment ,Default_ind,Country of Residence ,Education\n",
    "\n",
    "\n",
    "\n",
    "dt.columns = ['id', 'sex', 'age','city','employment','salary','scoring','segment','default_ind','country of residence ','education']\n",
    "dt['good_creditor'] = 1 - dt['default_ind']\n",
    "dt = dt.drop(['default_ind'],axis=1)\n",
    "dt = dt[dt['good_creditor'] != 2]\n",
    "\n",
    "dt_A = dt[dt['segment'] == 'A']\n",
    "dt_B = dt[dt['segment'] == 'B']\n",
    "\n",
    "\n",
    "\n",
    "dt_preprocessed = pd.DataFrame(dt,columns=dt.columns) # creo un nuevo dataframe\n",
    "dt_preprocessed_A = dt_preprocessed[dt_preprocessed['segment']=='A']\n",
    "dt_preprocessed_B = dt_preprocessed[dt_preprocessed['segment']=='B']\n",
    "dt_preprocessed_A = dt_preprocessed_A.drop(['segment','id'],axis=1)\n",
    "dt_preprocessed_B = dt_preprocessed_B.drop(['segment','id'],axis=1)\n",
    "dt_preprocessed_A.columns\n",
    "\n",
    "\n"
   ]
  },
  {
   "cell_type": "code",
   "execution_count": 4,
   "metadata": {},
   "outputs": [
    {
     "data": {
      "text/plain": [
       "(0.6506024096385542, 0.6835443037974683, 0.6666666666666666)"
      ]
     },
     "execution_count": 4,
     "metadata": {},
     "output_type": "execute_result"
    }
   ],
   "source": [
    "##Segment A model scoring\n",
    "\n",
    "segment_a_treshold = 93\n",
    "y_true = dt_A['good_creditor']\n",
    "y_pred = [1 if y >= segment_a_treshold else 0 for y in dt_A['scoring']]\n",
    "prec = sum(np.multiply(y_true,y_pred)) / (sum( np.multiply([ 1 - pr for pr in y_true], y_pred)) + sum(np.multiply(y_true,y_pred)))\n",
    "recall = sum(np.multiply(y_true,y_pred)) / (sum( np.multiply([ 1 - pr for pr in y_pred], y_true)) + sum(np.multiply(y_true,y_pred)))\n",
    "f_1 = 2 * prec * recall/ (prec + recall)\n",
    "prec, recall, f_1"
   ]
  },
  {
   "cell_type": "code",
   "execution_count": 5,
   "metadata": {},
   "outputs": [
    {
     "data": {
      "text/plain": [
       "(0.782733224222586, 0.8601618705035972, 0.8196229648671809)"
      ]
     },
     "execution_count": 5,
     "metadata": {},
     "output_type": "execute_result"
    }
   ],
   "source": [
    "##Segment B model scoring\n",
    "segment_b_treshold = 515\n",
    "y_true = dt_B['good_creditor']\n",
    "y_pred = [1 if y >= segment_b_treshold else 0 for y in dt_B['scoring']]\n",
    "prec = sum(np.multiply(y_true,y_pred)) / (sum( np.multiply([ 1 - pr for pr in y_true], y_pred)) + sum(np.multiply(y_true,y_pred)))\n",
    "recall = sum(np.multiply(y_true,y_pred)) / (sum( np.multiply([ 1 - pr for pr in y_pred], y_true)) + sum(np.multiply(y_true,y_pred)))\n",
    "f_1 = 2 * prec * recall/ (prec + recall)\n",
    "prec, recall, f_1"
   ]
  },
  {
   "cell_type": "code",
   "execution_count": 6,
   "metadata": {},
   "outputs": [
    {
     "data": {
      "text/html": [
       "<div>\n",
       "<style scoped>\n",
       "    .dataframe tbody tr th:only-of-type {\n",
       "        vertical-align: middle;\n",
       "    }\n",
       "\n",
       "    .dataframe tbody tr th {\n",
       "        vertical-align: top;\n",
       "    }\n",
       "\n",
       "    .dataframe thead th {\n",
       "        text-align: right;\n",
       "    }\n",
       "</style>\n",
       "<table border=\"1\" class=\"dataframe\">\n",
       "  <thead>\n",
       "    <tr style=\"text-align: right;\">\n",
       "      <th></th>\n",
       "      <th>sex</th>\n",
       "      <th>age</th>\n",
       "      <th>city</th>\n",
       "      <th>employment</th>\n",
       "      <th>salary</th>\n",
       "      <th>scoring</th>\n",
       "      <th>country of residence</th>\n",
       "      <th>education</th>\n",
       "      <th>good_creditor</th>\n",
       "    </tr>\n",
       "  </thead>\n",
       "  <tbody>\n",
       "    <tr>\n",
       "      <th>28</th>\n",
       "      <td>Male</td>\n",
       "      <td>54</td>\n",
       "      <td>Toluca</td>\n",
       "      <td>FULL_TIME</td>\n",
       "      <td>13500</td>\n",
       "      <td>112</td>\n",
       "      <td>Mexico</td>\n",
       "      <td>UNIVERSITY</td>\n",
       "      <td>1</td>\n",
       "    </tr>\n",
       "    <tr>\n",
       "      <th>88</th>\n",
       "      <td>Female</td>\n",
       "      <td>45</td>\n",
       "      <td>Ciudad de México</td>\n",
       "      <td>AUTONOMIC</td>\n",
       "      <td>6000</td>\n",
       "      <td>115</td>\n",
       "      <td>Mexico</td>\n",
       "      <td>BACCALAUREATE</td>\n",
       "      <td>1</td>\n",
       "    </tr>\n",
       "    <tr>\n",
       "      <th>97</th>\n",
       "      <td>Male</td>\n",
       "      <td>45</td>\n",
       "      <td>Puebla (Heroica Puebla)</td>\n",
       "      <td>AUTONOMIC</td>\n",
       "      <td>12000</td>\n",
       "      <td>80</td>\n",
       "      <td>Mexico</td>\n",
       "      <td>UNIVERSITY</td>\n",
       "      <td>0</td>\n",
       "    </tr>\n",
       "    <tr>\n",
       "      <th>127</th>\n",
       "      <td>Male</td>\n",
       "      <td>43</td>\n",
       "      <td>Ciudad General Escobedo</td>\n",
       "      <td>FULL_TIME</td>\n",
       "      <td>40000</td>\n",
       "      <td>99</td>\n",
       "      <td>Mexico</td>\n",
       "      <td>UNIVERSITY</td>\n",
       "      <td>1</td>\n",
       "    </tr>\n",
       "    <tr>\n",
       "      <th>135</th>\n",
       "      <td>Female</td>\n",
       "      <td>41</td>\n",
       "      <td>Coatzacoalcos</td>\n",
       "      <td>FULL_TIME</td>\n",
       "      <td>20000</td>\n",
       "      <td>91</td>\n",
       "      <td>Mexico</td>\n",
       "      <td>UNIVERSITY</td>\n",
       "      <td>1</td>\n",
       "    </tr>\n",
       "  </tbody>\n",
       "</table>\n",
       "</div>"
      ],
      "text/plain": [
       "        sex  age                     city employment  salary  scoring  \\\n",
       "28     Male   54                   Toluca  FULL_TIME   13500      112   \n",
       "88   Female   45         Ciudad de México  AUTONOMIC    6000      115   \n",
       "97     Male   45  Puebla (Heroica Puebla)  AUTONOMIC   12000       80   \n",
       "127    Male   43  Ciudad General Escobedo  FULL_TIME   40000       99   \n",
       "135  Female   41            Coatzacoalcos  FULL_TIME   20000       91   \n",
       "\n",
       "    country of residence       education  good_creditor  \n",
       "28                 Mexico     UNIVERSITY              1  \n",
       "88                 Mexico  BACCALAUREATE              1  \n",
       "97                 Mexico     UNIVERSITY              0  \n",
       "127                Mexico     UNIVERSITY              1  \n",
       "135                Mexico     UNIVERSITY              1  "
      ]
     },
     "execution_count": 6,
     "metadata": {},
     "output_type": "execute_result"
    }
   ],
   "source": [
    "dt_pre_all = dt_preprocessed_A.append([dt_preprocessed_B])\n",
    "#dt_preprocessed_all = dt_preprocessed_all.drop(['scoring'], axis=1)\n",
    "pre_feature_headers = dt_pre_all.drop(['good_creditor'], axis=1).columns.to_list()\n",
    "dt_pre_all.head()\n"
   ]
  },
  {
   "cell_type": "code",
   "execution_count": 7,
   "metadata": {
    "scrolled": true
   },
   "outputs": [
    {
     "data": {
      "text/plain": [
       "['sex',\n",
       " 'age',\n",
       " 'city',\n",
       " 'employment',\n",
       " 'salary',\n",
       " 'scoring',\n",
       " 'country of residence ',\n",
       " 'education']"
      ]
     },
     "execution_count": 7,
     "metadata": {},
     "output_type": "execute_result"
    }
   ],
   "source": [
    "pre_feature_headers\n"
   ]
  },
  {
   "cell_type": "code",
   "execution_count": 8,
   "metadata": {},
   "outputs": [],
   "source": [
    "#### P R E P R O C E S S I N G ( Y E I F E R)"
   ]
  },
  {
   "cell_type": "code",
   "execution_count": 9,
   "metadata": {},
   "outputs": [
    {
     "name": "stdout",
     "output_type": "stream",
     "text": [
      "Variable: sex\n",
      "0.030198275254523375\n",
      "Variable: city\n",
      "0.39124870702214437\n",
      "Variable: education\n",
      "0.07852227674857366\n",
      "Variable: employment\n",
      "0.12149971271729404\n"
     ]
    }
   ],
   "source": [
    "# VARIABLES CATEGÓRICAS\n",
    "\n",
    "# Trataremos las variables categóricas: sex, city, education y, employment, utilizando la técnica de: Mean Encoding, de la \n",
    "# siguiente manera: ( likelihood=Goods/(Goods+Bads) = mean (target) ) \n",
    "\n",
    "# La variable categórica: country of residence, se descartó por tener nada más un solo valor.\n",
    "\n",
    "#----------------------------------------------------------------------------------------------------\n",
    "# Variable:sex\n",
    "# Calculo del mapping: {variable: target_mean}\n",
    "item_id_target_mean =dt_pre_all.groupby('sex').good_creditor.mean()\n",
    "\n",
    "dt_pre_all['sex_target_enc'] = dt_pre_all['sex'].map(item_id_target_mean)\n",
    "\n",
    "# Correlación entre la variable y la variable objetivo.\n",
    "encoded_feature =dt_pre_all['sex_target_enc'].values\n",
    "print('Variable: sex')\n",
    "print(np.corrcoef(dt_pre_all['good_creditor'].values, encoded_feature)[0][1])\n",
    "\n",
    "#----------------------------------------------------------------------------------------------------\n",
    "# Variable:city\n",
    "item_id_target_mean =dt_pre_all.groupby('city').good_creditor.mean()\n",
    "dt_pre_all['city_target_enc'] = dt_pre_all['city'].map(item_id_target_mean)\n",
    "encoded_feature = dt_pre_all['city_target_enc'].values\n",
    "print('Variable: city')\n",
    "print(np.corrcoef(dt_pre_all['good_creditor'].values, encoded_feature)[0][1])\n",
    "\n",
    "#----------------------------------------------------------------------------------------------------\n",
    "# Variable:education\n",
    "item_id_target_mean =dt_pre_all.groupby('education').good_creditor.mean()\n",
    "dt_pre_all['education_target_enc'] = dt_pre_all['education'].map(item_id_target_mean)\n",
    "encoded_feature = dt_pre_all['education_target_enc'].values\n",
    "print('Variable: education')\n",
    "print(np.corrcoef(dt_pre_all['good_creditor'].values, encoded_feature)[0][1])\n",
    "\n",
    "#----------------------------------------------------------------------------------------------------\n",
    "# Variable:employment\n",
    "item_id_target_mean =dt_pre_all.groupby('employment').good_creditor.mean()\n",
    "dt_pre_all['employment_target_enc'] = dt_pre_all['employment'].map(item_id_target_mean)\n",
    "encoded_feature = dt_pre_all['employment_target_enc'].values\n",
    "print('Variable: employment')\n",
    "print(np.corrcoef(dt_pre_all['good_creditor'].values, encoded_feature)[0][1])\n"
   ]
  },
  {
   "cell_type": "code",
   "execution_count": 10,
   "metadata": {},
   "outputs": [
    {
     "data": {
      "text/plain": [
       "<matplotlib.axes._subplots.AxesSubplot at 0x1cc0108e648>"
      ]
     },
     "execution_count": 10,
     "metadata": {},
     "output_type": "execute_result"
    },
    {
     "data": {
      "image/png": "[encoded data removed]",
      "text/plain": [
       "<Figure size 432x288 with 1 Axes>"
      ]
     },
     "metadata": {
      "needs_background": "light"
     },
     "output_type": "display_data"
    }
   ],
   "source": [
    "# VARIABLES NUMERICAS\n",
    "\n",
    "dt_pre_all.boxplot(column='age')\n",
    "#dt_pre_all.boxplot(column='salary')\n",
    "#dt_pre_all.boxplot(column='scoring')\n"
   ]
  },
  {
   "cell_type": "code",
   "execution_count": 11,
   "metadata": {},
   "outputs": [
    {
     "data": {
      "text/plain": [
       "<matplotlib.axes._subplots.AxesSubplot at 0x1cc0180b2c8>"
      ]
     },
     "execution_count": 11,
     "metadata": {},
     "output_type": "execute_result"
    },
    {
     "data": {
      "image/png": "[encoded data removed]",
      "text/plain": [
       "<Figure size 432x288 with 1 Axes>"
      ]
     },
     "metadata": {
      "needs_background": "light"
     },
     "output_type": "display_data"
    }
   ],
   "source": [
    "# El tratamiento a las variables númericas está destinado a normalizar su distribución, por lo cual, hemos seleccionado\n",
    "# la ecuación: Log Transform ( np.log (1 + x ) )\n",
    "\n",
    "dt_pre_all['log_age']=np.log(1 + dt_pre_all['age'] )\n",
    "dt_pre_all['log_salary']=np.log(1 + dt_pre_all['salary'] )  \n",
    "dt_pre_all['log_scoring']=np.log(1 + dt_pre_all['scoring'] )\n",
    "\n",
    "dt_pre_all.boxplot(column='log_age')"
   ]
  },
  {
   "cell_type": "code",
   "execution_count": 12,
   "metadata": {},
   "outputs": [
    {
     "data": {
      "text/plain": [
       "<matplotlib.axes._subplots.AxesSubplot at 0x1cc018c6788>"
      ]
     },
     "execution_count": 12,
     "metadata": {},
     "output_type": "execute_result"
    },
    {
     "data": {
      "image/png": "[encoded data removed]",
      "text/plain": [
       "<Figure size 432x288 with 1 Axes>"
      ]
     },
     "metadata": {
      "needs_background": "light"
     },
     "output_type": "display_data"
    }
   ],
   "source": [
    "# Las distribuciones de las variables numericas estan más cercanas a su media.\n",
    "sns.distplot(dt_pre_all['log_age'])\n",
    "\n",
    "#sns.distplot(dt_pre_all['log_salary'])\n",
    "#sns.distplot(dt_pre_all['log_scoring'])"
   ]
  },
  {
   "cell_type": "code",
   "execution_count": 13,
   "metadata": {},
   "outputs": [
    {
     "data": {
      "text/html": [
       "<div>\n",
       "<style scoped>\n",
       "    .dataframe tbody tr th:only-of-type {\n",
       "        vertical-align: middle;\n",
       "    }\n",
       "\n",
       "    .dataframe tbody tr th {\n",
       "        vertical-align: top;\n",
       "    }\n",
       "\n",
       "    .dataframe thead th {\n",
       "        text-align: right;\n",
       "    }\n",
       "</style>\n",
       "<table border=\"1\" class=\"dataframe\">\n",
       "  <thead>\n",
       "    <tr style=\"text-align: right;\">\n",
       "      <th></th>\n",
       "      <th>sex</th>\n",
       "      <th>age</th>\n",
       "      <th>city</th>\n",
       "      <th>employment</th>\n",
       "      <th>salary</th>\n",
       "      <th>scoring</th>\n",
       "      <th>country of residence</th>\n",
       "      <th>education</th>\n",
       "      <th>good_creditor</th>\n",
       "      <th>sex_target_enc</th>\n",
       "      <th>city_target_enc</th>\n",
       "      <th>education_target_enc</th>\n",
       "      <th>employment_target_enc</th>\n",
       "      <th>log_age</th>\n",
       "      <th>log_salary</th>\n",
       "      <th>log_scoring</th>\n",
       "    </tr>\n",
       "  </thead>\n",
       "  <tbody>\n",
       "    <tr>\n",
       "      <th>28</th>\n",
       "      <td>Male</td>\n",
       "      <td>54</td>\n",
       "      <td>Toluca</td>\n",
       "      <td>FULL_TIME</td>\n",
       "      <td>13500</td>\n",
       "      <td>112</td>\n",
       "      <td>Mexico</td>\n",
       "      <td>UNIVERSITY</td>\n",
       "      <td>1</td>\n",
       "      <td>0.724231</td>\n",
       "      <td>0.857143</td>\n",
       "      <td>0.769874</td>\n",
       "      <td>0.761944</td>\n",
       "      <td>4.007333</td>\n",
       "      <td>9.510519</td>\n",
       "      <td>4.727388</td>\n",
       "    </tr>\n",
       "    <tr>\n",
       "      <th>88</th>\n",
       "      <td>Female</td>\n",
       "      <td>45</td>\n",
       "      <td>Ciudad de México</td>\n",
       "      <td>AUTONOMIC</td>\n",
       "      <td>6000</td>\n",
       "      <td>115</td>\n",
       "      <td>Mexico</td>\n",
       "      <td>BACCALAUREATE</td>\n",
       "      <td>1</td>\n",
       "      <td>0.751007</td>\n",
       "      <td>0.763602</td>\n",
       "      <td>0.707715</td>\n",
       "      <td>0.634807</td>\n",
       "      <td>3.828641</td>\n",
       "      <td>8.699681</td>\n",
       "      <td>4.753590</td>\n",
       "    </tr>\n",
       "    <tr>\n",
       "      <th>97</th>\n",
       "      <td>Male</td>\n",
       "      <td>45</td>\n",
       "      <td>Puebla (Heroica Puebla)</td>\n",
       "      <td>AUTONOMIC</td>\n",
       "      <td>12000</td>\n",
       "      <td>80</td>\n",
       "      <td>Mexico</td>\n",
       "      <td>UNIVERSITY</td>\n",
       "      <td>0</td>\n",
       "      <td>0.724231</td>\n",
       "      <td>0.685185</td>\n",
       "      <td>0.769874</td>\n",
       "      <td>0.634807</td>\n",
       "      <td>3.828641</td>\n",
       "      <td>9.392745</td>\n",
       "      <td>4.394449</td>\n",
       "    </tr>\n",
       "    <tr>\n",
       "      <th>127</th>\n",
       "      <td>Male</td>\n",
       "      <td>43</td>\n",
       "      <td>Ciudad General Escobedo</td>\n",
       "      <td>FULL_TIME</td>\n",
       "      <td>40000</td>\n",
       "      <td>99</td>\n",
       "      <td>Mexico</td>\n",
       "      <td>UNIVERSITY</td>\n",
       "      <td>1</td>\n",
       "      <td>0.724231</td>\n",
       "      <td>0.727273</td>\n",
       "      <td>0.769874</td>\n",
       "      <td>0.761944</td>\n",
       "      <td>3.784190</td>\n",
       "      <td>10.596660</td>\n",
       "      <td>4.605170</td>\n",
       "    </tr>\n",
       "    <tr>\n",
       "      <th>135</th>\n",
       "      <td>Female</td>\n",
       "      <td>41</td>\n",
       "      <td>Coatzacoalcos</td>\n",
       "      <td>FULL_TIME</td>\n",
       "      <td>20000</td>\n",
       "      <td>91</td>\n",
       "      <td>Mexico</td>\n",
       "      <td>UNIVERSITY</td>\n",
       "      <td>1</td>\n",
       "      <td>0.751007</td>\n",
       "      <td>0.815789</td>\n",
       "      <td>0.769874</td>\n",
       "      <td>0.761944</td>\n",
       "      <td>3.737670</td>\n",
       "      <td>9.903538</td>\n",
       "      <td>4.521789</td>\n",
       "    </tr>\n",
       "  </tbody>\n",
       "</table>\n",
       "</div>"
      ],
      "text/plain": [
       "        sex  age                     city employment  salary  scoring  \\\n",
       "28     Male   54                   Toluca  FULL_TIME   13500      112   \n",
       "88   Female   45         Ciudad de México  AUTONOMIC    6000      115   \n",
       "97     Male   45  Puebla (Heroica Puebla)  AUTONOMIC   12000       80   \n",
       "127    Male   43  Ciudad General Escobedo  FULL_TIME   40000       99   \n",
       "135  Female   41            Coatzacoalcos  FULL_TIME   20000       91   \n",
       "\n",
       "    country of residence       education  good_creditor  sex_target_enc  \\\n",
       "28                 Mexico     UNIVERSITY              1        0.724231   \n",
       "88                 Mexico  BACCALAUREATE              1        0.751007   \n",
       "97                 Mexico     UNIVERSITY              0        0.724231   \n",
       "127                Mexico     UNIVERSITY              1        0.724231   \n",
       "135                Mexico     UNIVERSITY              1        0.751007   \n",
       "\n",
       "     city_target_enc  education_target_enc  employment_target_enc   log_age  \\\n",
       "28          0.857143              0.769874               0.761944  4.007333   \n",
       "88          0.763602              0.707715               0.634807  3.828641   \n",
       "97          0.685185              0.769874               0.634807  3.828641   \n",
       "127         0.727273              0.769874               0.761944  3.784190   \n",
       "135         0.815789              0.769874               0.761944  3.737670   \n",
       "\n",
       "     log_salary  log_scoring  \n",
       "28     9.510519     4.727388  \n",
       "88     8.699681     4.753590  \n",
       "97     9.392745     4.394449  \n",
       "127   10.596660     4.605170  \n",
       "135    9.903538     4.521789  "
      ]
     },
     "execution_count": 13,
     "metadata": {},
     "output_type": "execute_result"
    }
   ],
   "source": [
    "dt_pre_all.head()"
   ]
  },
  {
   "cell_type": "code",
   "execution_count": 14,
   "metadata": {
    "scrolled": true
   },
   "outputs": [],
   "source": [
    "# Existe una ligera correlacion entre \n",
    "\n",
    "## Dataframe para split\n",
    "train_valid_sample=dt_pre_all.drop(columns=['sex', 'age', 'city', 'employment', 'salary', 'scoring','country of residence ', 'education',])\n",
    "\n",
    "## Renombre de variables: \"sex_target_enc\": \"sex\", etc.\n",
    "train_valid_sample=train_valid_sample.rename(columns={\"sex_target_enc\": \"sex\", \"city_target_enc\": \"city\",\"education_target_enc\": \"education\",\"employment_target_enc\": \"employment\", \"log_age\":\"age\", \"log_salary\":\"salary\", \"log_scoring\":\"scoring\"})\n",
    "\n"
   ]
  },
  {
   "cell_type": "code",
   "execution_count": 15,
   "metadata": {},
   "outputs": [
    {
     "data": {
      "image/png": "[encoded data removed]",
      "text/plain": [
       "<Figure size 1440x1280 with 2 Axes>"
      ]
     },
     "metadata": {},
     "output_type": "display_data"
    }
   ],
   "source": [
    "train_valid_sample.head()\n",
    "\n",
    "import matplotlib.pyplot as plt\n",
    "fig=plt.figure(figsize=(18, 16), dpi= 80, facecolor='w', edgecolor='k')\n",
    "\n",
    "# Matriz de Correlaciones: Existe una ligera correlación en las variables dependientes, sin embargo, está es débil, no repercute\n",
    "# gran medida en el performance del modelo y, la variable que más correlacionada con la variable objetivo es: city.\n",
    "\n",
    "import seaborn as sns\n",
    "corr = train_valid_sample.corr()\n",
    "ax = sns.heatmap(\n",
    "    corr, \n",
    "    vmin=-1, vmax=1, center=0,\n",
    "    cmap=sns.diverging_palette(20, 220, n=200),\n",
    "    square=True\n",
    ")\n",
    "ax.set_xticklabels(\n",
    "    ax.get_xticklabels(),\n",
    "    rotation=45,\n",
    "    horizontalalignment='right'\n",
    ");\n"
   ]
  },
  {
   "cell_type": "code",
   "execution_count": 16,
   "metadata": {},
   "outputs": [],
   "source": [
    "# SPLIT TRAIN/VALID\n",
    "\n",
    "from xgboost import XGBClassifier\n",
    "from sklearn.model_selection import train_test_split\n",
    "\n",
    "X = train_valid_sample.drop(['good_creditor'],axis=1)\n",
    "Y = train_valid_sample['good_creditor']\n",
    "seed = 42\n",
    "test_size = 0.25\n",
    "\n",
    "X_train, X_test, y_train, y_test = train_test_split(X, Y, test_size=test_size, random_state=seed)"
   ]
  },
  {
   "cell_type": "code",
   "execution_count": null,
   "metadata": {},
   "outputs": [],
   "source": []
  },
  {
   "cell_type": "code",
   "execution_count": 17,
   "metadata": {},
   "outputs": [
    {
     "name": "stdout",
     "output_type": "stream",
     "text": [
      "|   iter    |  target   |   gamma   | learni... | max_depth | n_esti... | subsample |\n",
      "-------------------------------------------------------------------------------------\n",
      "| \u001b[0m 1       \u001b[0m | \u001b[0m 0.7514  \u001b[0m | \u001b[0m 1.257   \u001b[0m | \u001b[0m 0.07231 \u001b[0m | \u001b[0m 3.0     \u001b[0m | \u001b[0m 372.1   \u001b[0m | \u001b[0m 1.0     \u001b[0m |\n",
      "| \u001b[0m 2       \u001b[0m | \u001b[0m 0.7386  \u001b[0m | \u001b[0m 0.2861  \u001b[0m | \u001b[0m 0.01944 \u001b[0m | \u001b[0m 4.382   \u001b[0m | \u001b[0m 457.1   \u001b[0m | \u001b[0m 1.0     \u001b[0m |\n",
      "| \u001b[0m 3       \u001b[0m | \u001b[0m 0.7422  \u001b[0m | \u001b[0m 2.781   \u001b[0m | \u001b[0m 0.05016 \u001b[0m | \u001b[0m 6.595   \u001b[0m | \u001b[0m 100.1   \u001b[0m | \u001b[0m 1.0     \u001b[0m |\n",
      "| \u001b[0m 4       \u001b[0m | \u001b[0m 0.7513  \u001b[0m | \u001b[0m 1.059   \u001b[0m | \u001b[0m 0.02075 \u001b[0m | \u001b[0m 3.599   \u001b[0m | \u001b[0m 999.7   \u001b[0m | \u001b[0m 1.0     \u001b[0m |\n",
      "| \u001b[0m 5       \u001b[0m | \u001b[0m 0.7042  \u001b[0m | \u001b[0m 0.2287  \u001b[0m | \u001b[0m 0.06828 \u001b[0m | \u001b[0m 6.855   \u001b[0m | \u001b[0m 249.9   \u001b[0m | \u001b[0m 1.0     \u001b[0m |\n",
      "=====================================================================================\n"
     ]
    },
    {
     "data": {
      "text/plain": [
       "XGBClassifier(base_score=0.5, booster='gbtree', colsample_bylevel=1,\n",
       "              colsample_bynode=1, colsample_bytree=1, gamma=1.2568957940606964,\n",
       "              gpu_id=-1, importance_type='gain', interaction_constraints='',\n",
       "              learning_rate=0.07231212485077365, max_delta_step=0, max_depth=3,\n",
       "              min_child_weight=1, missing=nan, monotone_constraints='()',\n",
       "              n_estimators=372, n_jobs=0, num_parallel_tree=1,\n",
       "              objective='binary:logistic', random_state=0, reg_alpha=0,\n",
       "              reg_lambda=1, scale_pos_weight=1, subsample=1.0,\n",
       "              tree_method='exact', validate_parameters=1, verbosity=None)"
      ]
     },
     "execution_count": 17,
     "metadata": {},
     "output_type": "execute_result"
    }
   ],
   "source": [
    "import numpy as np\n",
    "from xgboost import XGBClassifier\n",
    "from bayes_opt import BayesianOptimization\n",
    "from sklearn.model_selection import cross_val_score\n",
    "import warnings\n",
    "warnings.filterwarnings('ignore')\n",
    "\n",
    "\n",
    "\n",
    "pbounds = {\n",
    "    'learning_rate': (0.001,0.1),\n",
    "    'n_estimators': (100,1000),\n",
    "    'max_depth': (3,7), # Parametro cambiado por tener menor numeros de variables.\n",
    "    'subsample': (1.0, 1.0),  # Change for big datasets\n",
    "   \n",
    "    'gamma': (0.01, 3)}\n",
    "\n",
    "                  \n",
    "                  \n",
    "                  \n",
    "def xgboost_hyper_param(learning_rate,\n",
    "                        n_estimators,\n",
    "                        max_depth,\n",
    "                        subsample,\n",
    "                        gamma):\n",
    "    \n",
    "    max_depth = int(max_depth)\n",
    "    n_estimators = int(n_estimators)\n",
    "    \n",
    "    clf = XGBClassifier(\n",
    "        max_depth=max_depth,\n",
    "        learning_rate=learning_rate,\n",
    "        n_estimators=n_estimators,\n",
    "        gamma=gamma,\n",
    "        subsample=subsample,\n",
    "       \n",
    "        objective='binary:logistic',\n",
    "        )\n",
    "    \n",
    "    return np.mean(cross_val_score(clf, X_train, y_train, cv=3, scoring='roc_auc'))\n",
    "\n",
    "optimizer = BayesianOptimization(\n",
    "    f=xgboost_hyper_param,\n",
    "    pbounds=pbounds,\n",
    "    random_state=1,\n",
    ")\n",
    "\n",
    "optimizer.maximize(init_points=2,n_iter=3)\n",
    "\n",
    "params = optimizer.max['params']\n",
    "params['max_depth'] = np.int(params['max_depth'])\n",
    "params['n_estimators'] = np.int(params['n_estimators'])\n",
    "\n",
    "model = XGBClassifier(**params)\n",
    "model.fit(X_train, y_train)\n",
    "\n",
    "#y_pred = model.predict_proba(X_test)\n",
    "#y_score = [y[1] for y in y_pred]"
   ]
  },
  {
   "cell_type": "code",
   "execution_count": 18,
   "metadata": {},
   "outputs": [
    {
     "data": {
      "text/plain": [
       "{'gamma': 1.2568957940606964,\n",
       " 'learning_rate': 0.07231212485077365,\n",
       " 'max_depth': 3,\n",
       " 'n_estimators': 372,\n",
       " 'subsample': 1.0}"
      ]
     },
     "execution_count": 18,
     "metadata": {},
     "output_type": "execute_result"
    }
   ],
   "source": [
    "params"
   ]
  },
  {
   "cell_type": "code",
   "execution_count": 19,
   "metadata": {},
   "outputs": [],
   "source": [
    "y_pred = model.predict_proba(X_test)\n",
    "y_score = [y[1] for y in y_pred]\n",
    "\n",
    "model_performance = pd.DataFrame({\"accuracy\":[],\"precision\":[],\"recall\":[],\"f1\":[],\"cut\":[]})\n",
    "for x in range(0,100):\n",
    "    pred = [1 if y > (x*0.01) else 0 for y in y_score]\n",
    "    acc = (y_test == pred).mean()\n",
    "    prec = sum(np.multiply(y_test,pred)) / (sum( np.multiply([ 1 - pr for pr in y_test], pred)) + sum(np.multiply(y_test,pred)))\n",
    "    reca = sum(np.multiply(y_test,pred)) / (sum( np.multiply([ 1 - pr for pr in pred], y_test)) + sum(np.multiply(y_test,pred)))\n",
    "    f_1 = 0.25 * prec * reca/ ((0.25*prec) + reca)\n",
    "    model_performance = model_performance.append({\n",
    "        \"accuracy\": acc,\n",
    "        \"precision\": prec,\n",
    "        \"recall\": reca,\n",
    "        \"f1\": f_1,\n",
    "        \"cut\": x * 0.01\n",
    "    }, ignore_index=True)\n",
    "#model_performance"
   ]
  },
  {
   "cell_type": "code",
   "execution_count": 20,
   "metadata": {},
   "outputs": [],
   "source": [
    "threshold = model_performance.iloc[model_performance['f1'].idxmax()]['cut']\n",
    "# Other interesting views of performance: \n",
    "#model_performance[model_performance['cut'].isin(range(35,65))]"
   ]
  },
  {
   "cell_type": "code",
   "execution_count": 21,
   "metadata": {},
   "outputs": [
    {
     "name": "stdout",
     "output_type": "stream",
     "text": [
      "GINI = 0.5056735198292326, KS = 24\n"
     ]
    },
    {
     "data": {
      "image/png": "[encoded data removed]",
      "text/plain": [
       "<Figure size 432x288 with 1 Axes>"
      ]
     },
     "metadata": {
      "needs_background": "light"
     },
     "output_type": "display_data"
    }
   ],
   "source": [
    "from sklearn.metrics import roc_curve, roc_auc_score, auc\n",
    "from scipy import stats\n",
    "import matplotlib.pyplot as plt\n",
    "# %matplotlib inline\n",
    "\n",
    "def plot_roc_curve(y, y_pred, gini, ks):\n",
    "    fpr, tpr, thresholds = roc_curve(y, y_pred)\n",
    "    roc_auc = auc(fpr, tpr)\n",
    "\n",
    "    fig = plt.figure()\n",
    "    plt.plot(fpr, tpr, 'b--', label='%s AUC = %0.4f, GINI = %0.2f, KS = %s' % ('Model: ', roc_auc, gini, ks))\n",
    "    plt.plot([0, 1], [0, 1], 'k--')\n",
    "    plt.xlim([0.0, 1.0])\n",
    "    plt.ylim([0.0, 1.0])\n",
    "    plt.xlabel('False Positive Rate')\n",
    "    plt.ylabel('True Positive Rate')\n",
    "    plt.legend(loc=0, fontsize='small')\n",
    "    plt.show()\n",
    "    \n",
    "gini = 2 * roc_auc_score(y_test, y_score) - 1\n",
    "ks = 24#stats.ks_2samp(y_pred[y_pred['y'] == 0]['y_pred'], y_pred[y_pred['y'] == 1]['y_pred']).statistic\n",
    "print('GINI = %s, KS = %s' % (gini, ks))\n",
    "plot_roc_curve(y_test, y_score, gini, ks)"
   ]
  },
  {
   "cell_type": "code",
   "execution_count": null,
   "metadata": {},
   "outputs": [],
   "source": []
  },
  {
   "cell_type": "code",
   "execution_count": null,
   "metadata": {},
   "outputs": [],
   "source": []
  },
  {
   "cell_type": "code",
   "execution_count": null,
   "metadata": {},
   "outputs": [],
   "source": []
  },
  {
   "cell_type": "code",
   "execution_count": null,
   "metadata": {},
   "outputs": [],
   "source": []
  },
  {
   "cell_type": "code",
   "execution_count": null,
   "metadata": {},
   "outputs": [],
   "source": []
  },
  {
   "cell_type": "code",
   "execution_count": null,
   "metadata": {},
   "outputs": [],
   "source": []
  },
  {
   "cell_type": "code",
   "execution_count": null,
   "metadata": {},
   "outputs": [],
   "source": []
  },
  {
   "cell_type": "code",
   "execution_count": null,
   "metadata": {},
   "outputs": [],
   "source": []
  }
 ],
 "metadata": {
  "kernelspec": {
   "display_name": "Python 3",
   "language": "python",
   "name": "python3"
  },
  "language_info": {
   "codemirror_mode": {
    "name": "ipython",
    "version": 3
   },
   "file_extension": ".py",
   "mimetype": "text/x-python",
   "name": "python",
   "nbconvert_exporter": "python",
   "pygments_lexer": "ipython3",
   "version": "3.7.6"
  }
 },
 "nbformat": 4,
 "nbformat_minor": 4
}
