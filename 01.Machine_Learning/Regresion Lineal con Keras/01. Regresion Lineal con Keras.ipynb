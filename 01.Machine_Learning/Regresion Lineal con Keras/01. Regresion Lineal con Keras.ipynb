{
 "cells": [
  {
   "cell_type": "code",
   "execution_count": 1,
   "metadata": {},
   "outputs": [],
   "source": [
    "#pandas, para lectura de datos.\n",
    "import pandas as pd \n",
    "\n",
    "#numpy,  carga de datos en memoria\n",
    "import numpy as np\n",
    "\n",
    "#matplotlib, para graficar.\n",
    "import matplotlib.pyplot as plt \n",
    "\n",
    "#Sequential es fundamental para apilar capas que pueden conformar una red neuronal o simplemente una función matématica.   \n",
    "from tensorflow.keras.models import Sequential\n",
    "from tensorflow.keras.layers import Dense\n",
    "from tensorflow.keras.optimizers import SGD\n",
    "\n"
   ]
  },
  {
   "cell_type": "code",
   "execution_count": 2,
   "metadata": {},
   "outputs": [
    {
     "name": "stdout",
     "output_type": "stream",
     "text": [
      "    Age  Systolic blood pressure\n",
      "0    39                      144\n",
      "1    45                      138\n",
      "2    47                      145\n",
      "3    65                      162\n",
      "4    46                      142\n",
      "5    67                      170\n",
      "6    42                      124\n",
      "7    67                      158\n",
      "8    56                      154\n",
      "9    64                      162\n",
      "10   56                      150\n",
      "11   59                      140\n",
      "12   34                      110\n",
      "13   42                      128\n",
      "14   48                      130\n",
      "15   45                      135\n",
      "16   17                      114\n",
      "17   20                      116\n",
      "18   19                      124\n",
      "19   36                      136\n",
      "20   50                      142\n",
      "21   39                      120\n",
      "22   21                      120\n",
      "23   44                      160\n",
      "24   53                      158\n",
      "25   63                      144\n",
      "26   29                      130\n",
      "27   25                      125\n",
      "28   69                      175\n"
     ]
    }
   ],
   "source": [
    "# El set de datos a utilizar contiene una muestra de 29 datos, donde se muestra la edad y su presión arterial, con \n",
    "# la finalidad de obtener un modelo que dada una edad, pronóstique la magnitud de presión arterial asociada.\n",
    "\n",
    "datos = pd.read_csv('dataset.csv', sep=\",\", skiprows=32, usecols=[2,3])\n",
    "print(datos)"
   ]
  },
  {
   "cell_type": "code",
   "execution_count": 3,
   "metadata": {
    "scrolled": true
   },
   "outputs": [
    {
     "data": {
      "image/png": "[encoded data removed]",
      "text/plain": [
       "<Figure size 432x288 with 1 Axes>"
      ]
     },
     "metadata": {
      "needs_background": "light"
     },
     "output_type": "display_data"
    }
   ],
   "source": [
    "# Al graficar los datos se observa una tendencia lineal\n",
    "datos.plot.scatter(x='Age', y='Systolic blood pressure')\n",
    "plt.xlabel('Edad (años)')\n",
    "plt.ylabel('Presión sistólica (mm de Mercurio)')\n",
    "plt.show()"
   ]
  },
  {
   "cell_type": "code",
   "execution_count": 4,
   "metadata": {},
   "outputs": [],
   "source": [
    "x = datos['Age'].values\n",
    "y = datos['Systolic blood pressure'].values"
   ]
  },
  {
   "cell_type": "code",
   "execution_count": 5,
   "metadata": {},
   "outputs": [],
   "source": [
    "#configuración para que los resultados sean iguales en cualquier computador.\n",
    "np.random.seed(2)\n",
    "\n",
    "#Etapa de Forward propagation.\n",
    "\n",
    "#la función add: adhiere una capa de computo agregando la funcion dense, donde se especifican las dimensiones\n",
    "#de los datos de entrada y salida, además de la función de activación que transformará los datos.\n",
    "\n",
    "#Etapa de Forward propagation.\n",
    "\n",
    "input_dim = 1\n",
    "output_dim = 1\n",
    "modelo = Sequential()\n",
    "modelo.add(Dense(output_dim, input_dim=input_dim, activation='linear'))\n"
   ]
  },
  {
   "cell_type": "code",
   "execution_count": 6,
   "metadata": {},
   "outputs": [],
   "source": [
    "#Etapa de  Backward propagation.\n",
    "\n",
    "#El modelo se configura utilizando un compilador, el método compile utiliza sobre el modelo un optimizador que \n",
    "# minimiza el error, en este caso, en la función lineal. \n",
    "\n",
    "#Se selecciono como optimizador el SGD: Gradiente Descendiente, que tiene por parametro el learning rate o tasa de aprendizaje.\n",
    "sgd = SGD(lr=0.0004)\n",
    "modelo.compile(loss='mse', optimizer=sgd)\n",
    "\n",
    "#la función de perdida a minimizar será la del error cuadratico medio (mse: Mean square error.)."
   ]
  },
  {
   "cell_type": "code",
   "execution_count": 7,
   "metadata": {},
   "outputs": [
    {
     "name": "stdout",
     "output_type": "stream",
     "text": [
      "Model: \"sequential\"\n",
      "_________________________________________________________________\n",
      "Layer (type)                 Output Shape              Param #   \n",
      "=================================================================\n",
      "dense (Dense)                (None, 1)                 2         \n",
      "=================================================================\n",
      "Total params: 2\n",
      "Trainable params: 2\n",
      "Non-trainable params: 0\n",
      "_________________________________________________________________\n"
     ]
    }
   ],
   "source": [
    "# Resumen del modelo (solo existe una capa con dos parametros: w y b)\n",
    "modelo.summary()"
   ]
  },
  {
   "cell_type": "code",
   "execution_count": 8,
   "metadata": {},
   "outputs": [],
   "source": [
    "# Creado el modelo, procederemos a entrenar los datos indicando el numero de epocas o iteraciones y el tamaño de batch,\n",
    "# que representa la cantidad de datos que trabajará en cada iteración.\n",
    "\n",
    "num_epochs = 40000\n",
    "batch_size = 29\n",
    "history = modelo.fit(x, y, epochs=num_epochs, batch_size=batch_size, verbose=0)\n"
   ]
  },
  {
   "cell_type": "code",
   "execution_count": 9,
   "metadata": {},
   "outputs": [
    {
     "name": "stdout",
     "output_type": "stream",
     "text": [
      "Parámetros: w = 1.0, b = 93.5\n"
     ]
    }
   ],
   "source": [
    "#Obtención de parámetros, luego del entrenamiento.\n",
    "\n",
    "capas = modelo.layers[0]\n",
    "w, b = capas.get_weights()\n",
    "print('Parámetros: w = {:.1f}, b = {:.1f}'.format(w[0][0],b[0]))\n",
    "\n",
    "#w= array([[1.692396]], dtype=float32) ; w[0][0] = 1.0\n",
    "#b= array([0.], dtype=float32) ; b[0] = 93.5. "
   ]
  },
  {
   "cell_type": "code",
   "execution_count": 10,
   "metadata": {},
   "outputs": [
    {
     "data": {
      "text/plain": [
       "Text(0.5, 1.0, 'MSE vs. epochs')"
      ]
     },
     "execution_count": 10,
     "metadata": {},
     "output_type": "execute_result"
    },
    {
     "data": {
      "image/png": "[encoded data removed]",
      "text/plain": [
       "<Figure size 432x288 with 1 Axes>"
      ]
     },
     "metadata": {
      "needs_background": "light"
     },
     "output_type": "display_data"
    }
   ],
   "source": [
    "# Comparamos el error vs epochs y el resultado de la regresión\n",
    "\n",
    "plt.subplot(1,2,1)\n",
    "plt.plot(history.history['loss'])\n",
    "plt.xlabel('epoch')\n",
    "plt.ylabel('MSE')\n",
    "plt.title('MSE vs. epochs')"
   ]
  },
  {
   "cell_type": "code",
   "execution_count": 11,
   "metadata": {},
   "outputs": [
    {
     "data": {
      "image/png": "[encoded data removed]",
      "text/plain": [
       "<Figure size 432x288 with 1 Axes>"
      ]
     },
     "metadata": {
      "needs_background": "light"
     },
     "output_type": "display_data"
    }
   ],
   "source": [
    "#Graficamos modelo inicial vs pronostico.\n",
    "y_obj = modelo.predict(x)\n",
    "plt.subplot(1, 2, 2)\n",
    "plt.scatter(x,y)\n",
    "plt.plot(x,y_obj,'r')\n",
    "plt.xlabel('x')\n",
    "plt.ylabel('y')\n",
    "plt.title('Datos originales y regresión lineal')\n",
    "plt.show()"
   ]
  },
  {
   "cell_type": "code",
   "execution_count": 12,
   "metadata": {},
   "outputs": [
    {
     "name": "stdout",
     "output_type": "stream",
     "text": [
      "La presión sanguínea será de 127.2 mm-Hg  para una persona de 33 años\n"
     ]
    }
   ],
   "source": [
    "# Predicción\n",
    "x_pred = np.array([33])\n",
    "y_pred = modelo.predict(x_pred)\n",
    "print(\"La presión sanguínea será de {:.1f} mm-Hg\".format(y_pred[0][0]), \" para una persona de {} años\".format(x_pred[0]))"
   ]
  },
  {
   "cell_type": "code",
   "execution_count": null,
   "metadata": {},
   "outputs": [],
   "source": []
  }
 ],
 "metadata": {
  "kernelspec": {
   "display_name": "Python 3",
   "language": "python",
   "name": "python3"
  },
  "language_info": {
   "codemirror_mode": {
    "name": "ipython",
    "version": 3
   },
   "file_extension": ".py",
   "mimetype": "text/x-python",
   "name": "python",
   "nbconvert_exporter": "python",
   "pygments_lexer": "ipython3",
   "version": "3.7.7"
  }
 },
 "nbformat": 4,
 "nbformat_minor": 4
}
