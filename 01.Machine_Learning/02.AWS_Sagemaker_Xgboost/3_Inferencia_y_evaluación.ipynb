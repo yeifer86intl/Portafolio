{
  "cells": [
    {
      "cell_type": "markdown",
      "id": "86a007e7-85c7-42de-9a89-21d89dbd5e95",
      "metadata": {
        "id": "86a007e7-85c7-42de-9a89-21d89dbd5e95"
      },
      "source": [
        "## Inferencia y evaluación"
      ]
    },
    {
      "cell_type": "markdown",
      "id": "e1beba18-7044-4130-b1d9-334456de9885",
      "metadata": {
        "jp-MarkdownHeadingCollapsed": true,
        "tags": [],
        "id": "e1beba18-7044-4130-b1d9-334456de9885"
      },
      "source": [
        "### 0 - Configuracion Sagemaker"
      ]
    },
    {
      "cell_type": "code",
      "execution_count": null,
      "id": "96b6716f-0dc5-4f89-a6b5-cd6168a74936",
      "metadata": {
        "tags": [],
        "id": "96b6716f-0dc5-4f89-a6b5-cd6168a74936"
      },
      "outputs": [],
      "source": [
        "import boto3\n",
        "import pandas as pd\n",
        "import os\n",
        "from io import StringIO\n",
        "\n",
        "import sagemaker\n",
        "from sagemaker.image_uris import retrieve\n",
        "from sagemaker.serializers import CSVSerializer"
      ]
    },
    {
      "cell_type": "code",
      "execution_count": null,
      "id": "f80c9ca6-3972-4654-a818-a5e9c100b534",
      "metadata": {
        "tags": [],
        "id": "f80c9ca6-3972-4654-a818-a5e9c100b534"
      },
      "outputs": [],
      "source": [
        "# identificación de región\n",
        "region = sagemaker.Session().boto_region_name\n",
        "print(\"AWS Region: {}\".format(region))\n",
        "\n",
        "# indetificación de rol\n",
        "role = sagemaker.get_execution_role()\n",
        "print(\"RoleArn: {}\".format(role))\n",
        "\n",
        "# sesión de sagemaker\n",
        "sagemaker_session = sagemaker.Session()"
      ]
    },
    {
      "cell_type": "markdown",
      "id": "6e246b2e-f7b3-443a-a721-77f4c49589f6",
      "metadata": {
        "jp-MarkdownHeadingCollapsed": true,
        "tags": [],
        "id": "6e246b2e-f7b3-443a-a721-77f4c49589f6"
      },
      "source": [
        "### 1 - Inferencia"
      ]
    },
    {
      "cell_type": "markdown",
      "id": "8cb384c5-19c7-40dd-9f22-5f3ab00b50a7",
      "metadata": {
        "id": "8cb384c5-19c7-40dd-9f22-5f3ab00b50a7"
      },
      "source": [
        "**Cargamos datos locales (real-time request)**"
      ]
    },
    {
      "cell_type": "code",
      "execution_count": null,
      "id": "083c51dd",
      "metadata": {
        "tags": [],
        "id": "083c51dd"
      },
      "outputs": [],
      "source": [
        "data_dir_test = \"./data/pd/test\"\n",
        "df_test = pd.read_csv(os.path.join(data_dir_test, 'test.csv'), header=None)"
      ]
    },
    {
      "cell_type": "code",
      "execution_count": null,
      "id": "0f6aadf1",
      "metadata": {
        "tags": [],
        "id": "0f6aadf1"
      },
      "outputs": [],
      "source": [
        "# separamos variables y objetivo\n",
        "df_y_test = df_test[0]\n",
        "df_x_test = df_test.loc[:, df_test.columns != 0]"
      ]
    },
    {
      "cell_type": "code",
      "execution_count": null,
      "id": "ec7b47f6-8f3d-4b36-b1d3-b04fa4693f12",
      "metadata": {
        "tags": [],
        "id": "ec7b47f6-8f3d-4b36-b1d3-b04fa4693f12"
      },
      "outputs": [],
      "source": [
        "# min 1 max 1000\n",
        "num_predicciones = 50\n",
        "records_to_predict = df_x_test[:num_predicciones]"
      ]
    },
    {
      "cell_type": "code",
      "execution_count": null,
      "id": "6affde66-338e-4d3a-952c-c3db4fcd3547",
      "metadata": {
        "tags": [],
        "id": "6affde66-338e-4d3a-952c-c3db4fcd3547"
      },
      "outputs": [],
      "source": [
        "# serializamos los datos\n",
        "# por defecto sagemaker espera un csv divido en comas\n",
        "csv_file = StringIO()\n",
        "records_to_predict.to_csv(csv_file, sep=\",\", header=False, index=False)\n",
        "payload_as_csv = csv_file.getvalue()"
      ]
    },
    {
      "cell_type": "markdown",
      "id": "67651a7d-27ef-4817-974c-376c6ad15c59",
      "metadata": {
        "id": "67651a7d-27ef-4817-974c-376c6ad15c59"
      },
      "source": [
        "**Inferencia**"
      ]
    },
    {
      "cell_type": "code",
      "execution_count": null,
      "id": "c7ff41fa",
      "metadata": {
        "tags": [],
        "id": "c7ff41fa"
      },
      "outputs": [],
      "source": [
        "from sagemaker.predictor import Predictor"
      ]
    },
    {
      "cell_type": "code",
      "execution_count": null,
      "id": "cbc4eacc-01cc-4eff-97ef-3a557bc87f22",
      "metadata": {
        "tags": [],
        "id": "cbc4eacc-01cc-4eff-97ef-3a557bc87f22"
      },
      "outputs": [],
      "source": [
        "# instanciamos la clase predictor\n",
        "endpoint_name = \"mi-primer-endpoint-serverless\"\n",
        "predictor = Predictor(endpoint_name=endpoint_name,\n",
        "                      sagemaker_session=sagemaker.Session(),\n",
        "                      serializer=CSVSerializer())"
      ]
    },
    {
      "cell_type": "code",
      "execution_count": null,
      "id": "0e35e5ef-7c63-4f41-bde6-f6e2384898ae",
      "metadata": {
        "tags": [],
        "id": "0e35e5ef-7c63-4f41-bde6-f6e2384898ae"
      },
      "outputs": [],
      "source": [
        "# realizamos la predicción\n",
        "predicc_res = predictor.predict(payload_as_csv).decode('utf-8')"
      ]
    },
    {
      "cell_type": "markdown",
      "id": "37e7fe61-de36-4713-af77-e83bb60d2d1a",
      "metadata": {
        "tags": [],
        "id": "37e7fe61-de36-4713-af77-e83bb60d2d1a"
      },
      "source": [
        "### 2 - Evaluación del modelo"
      ]
    },
    {
      "cell_type": "code",
      "execution_count": null,
      "id": "e567f806-f92a-4648-9787-5c1e9640835b",
      "metadata": {
        "tags": [],
        "id": "e567f806-f92a-4648-9787-5c1e9640835b"
      },
      "outputs": [],
      "source": [
        "from sklearn.metrics import confusion_matrix\n",
        "from sklearn.metrics import accuracy_score\n",
        "import seaborn as sns\n",
        "import matplotlib.pyplot as plt"
      ]
    },
    {
      "cell_type": "code",
      "execution_count": null,
      "id": "f1d6e9bb-f539-4b69-9641-19f9b7495548",
      "metadata": {
        "tags": [],
        "id": "f1d6e9bb-f539-4b69-9641-19f9b7495548"
      },
      "outputs": [],
      "source": [
        "# formateamos los resultados\n",
        "vals = predicc_res.split(',')\n",
        "predicciones = [round(float(num)) for num in vals]"
      ]
    },
    {
      "cell_type": "code",
      "execution_count": null,
      "id": "1ef05ee7-3626-4e61-adab-8c024e4af4e1",
      "metadata": {
        "tags": [],
        "id": "1ef05ee7-3626-4e61-adab-8c024e4af4e1"
      },
      "outputs": [],
      "source": [
        "# evaluación del accuracy\n",
        "accuracy_score(df_y_test[:num_predicciones], predicciones)"
      ]
    },
    {
      "cell_type": "code",
      "execution_count": null,
      "id": "34827fd9-96dd-4729-9ca7-101e7befa561",
      "metadata": {
        "tags": [],
        "id": "34827fd9-96dd-4729-9ca7-101e7befa561"
      },
      "outputs": [],
      "source": [
        "# calculamos la matriz de confusión\n",
        "cm = confusion_matrix(df_y_test[:num_predicciones], predicciones)"
      ]
    },
    {
      "cell_type": "code",
      "execution_count": null,
      "id": "29bd8893-c76b-4ced-9aa7-68e9414e9f1b",
      "metadata": {
        "tags": [],
        "id": "29bd8893-c76b-4ced-9aa7-68e9414e9f1b"
      },
      "outputs": [],
      "source": [
        "# visualizamos la matriz de confusión\n",
        "sns.heatmap(cm,\n",
        "            annot=True,\n",
        "            fmt='g',\n",
        "            xticklabels=['Neg','Pos'],\n",
        "            yticklabels=['Neg','Pos'])\n",
        "plt.ylabel('Prediction',fontsize=13)\n",
        "plt.xlabel('Actual',fontsize=13)\n",
        "plt.title('Confusion Matrix',fontsize=17)\n",
        "plt.show()"
      ]
    },
    {
      "cell_type": "markdown",
      "id": "52b5d26b-3576-435b-adf9-c01b29467753",
      "metadata": {
        "jp-MarkdownHeadingCollapsed": true,
        "tags": [],
        "id": "52b5d26b-3576-435b-adf9-c01b29467753"
      },
      "source": [
        "### 3 - Borrar endpoint y modelos"
      ]
    },
    {
      "cell_type": "code",
      "execution_count": null,
      "id": "55b9fc9a-4cf6-4683-8be3-827238ec2eaa",
      "metadata": {
        "tags": [],
        "id": "55b9fc9a-4cf6-4683-8be3-827238ec2eaa"
      },
      "outputs": [],
      "source": [
        "# sdk de aws\n",
        "sagemaker_bt3 = boto3.client(\"sagemaker\", region_name=region)"
      ]
    },
    {
      "cell_type": "markdown",
      "id": "692f2ccc-fe06-40ba-a30d-c8ada1b274ef",
      "metadata": {
        "id": "692f2ccc-fe06-40ba-a30d-c8ada1b274ef"
      },
      "source": [
        "**Eliminamos los endpoints**"
      ]
    },
    {
      "cell_type": "code",
      "execution_count": null,
      "id": "32d9d756-41b1-469a-b372-4c4ecf69a48c",
      "metadata": {
        "tags": [],
        "id": "32d9d756-41b1-469a-b372-4c4ecf69a48c"
      },
      "outputs": [],
      "source": [
        "endpoint_list = sagemaker_bt3.list_endpoints()\n",
        "endpoints = [endpoint['EndpointName'] for endpoint in endpoint_list['Endpoints']]\n",
        "print(f\"Endpoints a borrar: {endpoints}\")"
      ]
    },
    {
      "cell_type": "code",
      "execution_count": null,
      "id": "3b256c30-e1a2-4bdd-af77-1b079f676774",
      "metadata": {
        "tags": [],
        "id": "3b256c30-e1a2-4bdd-af77-1b079f676774"
      },
      "outputs": [],
      "source": [
        "for endpoint in endpoints:\n",
        "    print(f\"Borrando endpoint: {endpoint}\")\n",
        "    sagemaker_bt3.delete_endpoint(EndpointName=endpoint)"
      ]
    },
    {
      "cell_type": "markdown",
      "id": "c445867e-9481-4c9d-97fc-4ee0ea71c2a1",
      "metadata": {
        "id": "c445867e-9481-4c9d-97fc-4ee0ea71c2a1"
      },
      "source": [
        "**Eliminamos la configuración de endpoints**"
      ]
    },
    {
      "cell_type": "code",
      "execution_count": null,
      "id": "188d8d6b-5b3b-4569-9481-7a6d496a7394",
      "metadata": {
        "tags": [],
        "id": "188d8d6b-5b3b-4569-9481-7a6d496a7394"
      },
      "outputs": [],
      "source": [
        "endpoints_config_res = sagemaker_bt3.list_endpoint_configs()\n",
        "endpoints_config = [endpoint['EndpointConfigName'] for endpoint in endpoints_config_res['EndpointConfigs']]\n",
        "print(f\"Configuracion de endpoint a borrar: {endpoints_config}\")"
      ]
    },
    {
      "cell_type": "code",
      "execution_count": null,
      "id": "c4113274-bf04-443c-81e8-92f1b12ea83c",
      "metadata": {
        "tags": [],
        "id": "c4113274-bf04-443c-81e8-92f1b12ea83c"
      },
      "outputs": [],
      "source": [
        "for endpoint_conf in endpoints_config:\n",
        "    print(f\"Borrando configuracion de endpoint: {endpoint_conf}\")\n",
        "    sagemaker_bt3.delete_endpoint_config(EndpointConfigName=endpoint_conf)"
      ]
    },
    {
      "cell_type": "markdown",
      "id": "e91f89dd-13cf-4dd5-9cd7-aa961e90b5c6",
      "metadata": {
        "id": "e91f89dd-13cf-4dd5-9cd7-aa961e90b5c6"
      },
      "source": [
        "**Eliminamos los modelos**"
      ]
    },
    {
      "cell_type": "code",
      "execution_count": null,
      "id": "cc22267f-c3ea-43e9-8efa-25349db3e536",
      "metadata": {
        "tags": [],
        "id": "cc22267f-c3ea-43e9-8efa-25349db3e536"
      },
      "outputs": [],
      "source": [
        "models_list = sagemaker_bt3.list_models()\n",
        "models = [model['ModelName'] for model in models_list['Models']]\n",
        "print(f\"Modelos a borrar: {models}\")"
      ]
    },
    {
      "cell_type": "code",
      "execution_count": null,
      "id": "ef2a05e3-77fa-476a-862c-b02884afa1e9",
      "metadata": {
        "tags": [],
        "id": "ef2a05e3-77fa-476a-862c-b02884afa1e9"
      },
      "outputs": [],
      "source": [
        "for model in models:\n",
        "    print(f\"Borrando modelo: {model}\")\n",
        "    sagemaker_bt3.delete_model(ModelName=model)"
      ]
    }
  ],
  "metadata": {
    "kernelspec": {
      "display_name": "conda_tensorflow2_p310",
      "language": "python",
      "name": "conda_tensorflow2_p310"
    },
    "language_info": {
      "codemirror_mode": {
        "name": "ipython",
        "version": 3
      },
      "file_extension": ".py",
      "mimetype": "text/x-python",
      "name": "python",
      "nbconvert_exporter": "python",
      "pygments_lexer": "ipython3",
      "version": "3.10.8"
    },
    "colab": {
      "provenance": [],
      "collapsed_sections": [
        "e1beba18-7044-4130-b1d9-334456de9885",
        "6e246b2e-f7b3-443a-a721-77f4c49589f6",
        "37e7fe61-de36-4713-af77-e83bb60d2d1a",
        "52b5d26b-3576-435b-adf9-c01b29467753"
      ]
    }
  },
  "nbformat": 4,
  "nbformat_minor": 5
}