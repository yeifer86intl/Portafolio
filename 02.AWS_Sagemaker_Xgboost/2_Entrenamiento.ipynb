{
  "cells": [
    {
      "cell_type": "markdown",
      "id": "cf7ddf54-c811-47e5-84c5-e85eb3b5113b",
      "metadata": {
        "id": "cf7ddf54-c811-47e5-84c5-e85eb3b5113b"
      },
      "source": [
        "## Entrenamiento del modelo"
      ]
    },
    {
      "cell_type": "markdown",
      "id": "84a276bc-eaa9-4a56-aae2-bd92b26a1165",
      "metadata": {
        "jp-MarkdownHeadingCollapsed": true,
        "tags": [],
        "id": "84a276bc-eaa9-4a56-aae2-bd92b26a1165"
      },
      "source": [
        "### 0 - Configuracion Sagemaker"
      ]
    },
    {
      "cell_type": "code",
      "execution_count": null,
      "id": "d07ee023",
      "metadata": {
        "tags": [],
        "id": "d07ee023"
      },
      "outputs": [],
      "source": [
        "import sagemaker\n",
        "from sagemaker.image_uris import retrieve\n",
        "from sagemaker.serializers import CSVSerializer"
      ]
    },
    {
      "cell_type": "code",
      "execution_count": null,
      "id": "e2734e41",
      "metadata": {
        "tags": [],
        "id": "e2734e41"
      },
      "outputs": [],
      "source": [
        "# identificación de región\n",
        "region = sagemaker.Session().boto_region_name\n",
        "print(\"AWS Region: {}\".format(region))\n",
        "\n",
        "# indetificación de rol\n",
        "role = sagemaker.get_execution_role()\n",
        "print(\"RoleArn: {}\".format(role))\n",
        "\n",
        "# sesión de sagemaker\n",
        "session = sagemaker.Session()"
      ]
    },
    {
      "cell_type": "markdown",
      "id": "007af882-fc0f-4a52-a70c-db08cc646dd5",
      "metadata": {
        "jp-MarkdownHeadingCollapsed": true,
        "tags": [],
        "id": "007af882-fc0f-4a52-a70c-db08cc646dd5"
      },
      "source": [
        "### 1 - Selección y parametrización del modelo"
      ]
    },
    {
      "cell_type": "code",
      "execution_count": null,
      "id": "94210508",
      "metadata": {
        "tags": [],
        "id": "94210508"
      },
      "outputs": [],
      "source": [
        "# Necesitamos el container del modelo xgboost. El nombre del contenedor cambia según región y modelo\n",
        "# para ayudarnos tenemos la función get_image_uri\n",
        "container = retrieve('xgboost', region, version='latest')"
      ]
    },
    {
      "cell_type": "code",
      "execution_count": null,
      "id": "7662e040",
      "metadata": {
        "tags": [],
        "id": "7662e040"
      },
      "outputs": [],
      "source": [
        "s3_folder_bucket = \"clasificador_sentimiento\""
      ]
    },
    {
      "cell_type": "code",
      "execution_count": null,
      "id": "aa5e6594",
      "metadata": {
        "tags": [],
        "id": "aa5e6594"
      },
      "outputs": [],
      "source": [
        "# primero creamos el estimador\n",
        "xgb = sagemaker.estimator.Estimator(container,  # uri del contenedor\n",
        "                                    role,\n",
        "                                    # base_job_name='modelo-xgb',\n",
        "                                    volume_size=8,\n",
        "                                    instance_count=1,  # número de instancias\n",
        "                                    instance_type='ml.m4.xlarge',  # tipo de instancias\n",
        "                                    output_path='s3://{}/{}/output'.format(session.default_bucket(), s3_folder_bucket), # almacenamiento de los resultados\n",
        "                                    sagemaker_session=session)"
      ]
    },
    {
      "cell_type": "code",
      "execution_count": null,
      "id": "77f91aec-6f03-40de-bcd7-df11181064c2",
      "metadata": {
        "tags": [],
        "id": "77f91aec-6f03-40de-bcd7-df11181064c2"
      },
      "outputs": [],
      "source": [
        "print(f\"URI de los resultados: {'s3://{}/{}/output'.format(session.default_bucket(), s3_folder_bucket)}\")"
      ]
    },
    {
      "cell_type": "code",
      "execution_count": null,
      "id": "cfe57fb5-8138-4d58-90c7-3554badcbe77",
      "metadata": {
        "tags": [],
        "id": "cfe57fb5-8138-4d58-90c7-3554badcbe77"
      },
      "outputs": [],
      "source": [
        "# parametrización del modelo\n",
        "xgb.set_hyperparameters(max_depth=5,\n",
        "                        eta=0.2,\n",
        "                        gamma=4,\n",
        "                        min_child_weight=6,\n",
        "                        subsample=0.8,\n",
        "                        silent=0,\n",
        "                        objective='binary:logistic',\n",
        "                        early_stopping_rounds=12,\n",
        "                        num_round=500)"
      ]
    },
    {
      "cell_type": "markdown",
      "id": "1de673c8-4f3d-4e54-9c0d-85e779e06c03",
      "metadata": {
        "jp-MarkdownHeadingCollapsed": true,
        "tags": [],
        "id": "1de673c8-4f3d-4e54-9c0d-85e779e06c03"
      },
      "source": [
        "### 2 - Entrenamiento"
      ]
    },
    {
      "cell_type": "code",
      "execution_count": null,
      "id": "704f0985-46d1-47e1-b10f-267497311d8a",
      "metadata": {
        "tags": [],
        "id": "704f0985-46d1-47e1-b10f-267497311d8a"
      },
      "outputs": [],
      "source": [
        "# resultado del notebook anterior\n",
        "inputs= {}"
      ]
    },
    {
      "cell_type": "code",
      "execution_count": null,
      "id": "da8a9800",
      "metadata": {
        "tags": [],
        "id": "da8a9800"
      },
      "outputs": [],
      "source": [
        "# cargamos los datos\n",
        "s3_input_train = sagemaker.TrainingInput(s3_data=inputs['train'], content_type='csv')\n",
        "s3_input_validation = sagemaker.TrainingInput(s3_data=inputs['validation'], content_type='csv')\n",
        "s3_input_test = sagemaker.TrainingInput(s3_data=inputs['test'], content_type='csv')"
      ]
    },
    {
      "cell_type": "code",
      "execution_count": null,
      "id": "1a7c0f46",
      "metadata": {
        "tags": [],
        "id": "1a7c0f46"
      },
      "outputs": [],
      "source": [
        "# entrenamiento\n",
        "xgb.fit({'train': s3_input_train, 'validation': s3_input_validation})"
      ]
    },
    {
      "cell_type": "markdown",
      "id": "2bda97c9-c1ea-42c7-8fa4-665a0ca7cc3b",
      "metadata": {
        "jp-MarkdownHeadingCollapsed": true,
        "tags": [],
        "id": "2bda97c9-c1ea-42c7-8fa4-665a0ca7cc3b"
      },
      "source": [
        "### 3 - Despliegue y creación de un endpoint"
      ]
    },
    {
      "cell_type": "markdown",
      "source": [
        "#### A - Despliegue Modelo Serverless"
      ],
      "metadata": {
        "id": "RJUFMfHVvVtb"
      },
      "id": "RJUFMfHVvVtb"
    },
    {
      "cell_type": "markdown",
      "source": [
        "Solo pagamos por el uso que realizamos del modelo"
      ],
      "metadata": {
        "id": "BKWpevfrvbM5"
      },
      "id": "BKWpevfrvbM5"
    },
    {
      "cell_type": "code",
      "source": [
        "from sagemaker.serverless import ServerlessInferenceConfig"
      ],
      "metadata": {
        "id": "ZoAV7tCNvOdc"
      },
      "id": "ZoAV7tCNvOdc",
      "execution_count": null,
      "outputs": []
    },
    {
      "cell_type": "code",
      "source": [
        "# configuración del endpoint\n",
        "serverless_config = ServerlessInferenceConfig(\n",
        "  memory_size_in_mb=1024,\n",
        "  max_concurrency=5,\n",
        ")"
      ],
      "metadata": {
        "id": "4_yRWyBTvS7n"
      },
      "id": "4_yRWyBTvS7n",
      "execution_count": null,
      "outputs": []
    },
    {
      "cell_type": "code",
      "source": [
        "# despliegue\n",
        "xgb_predictor = xgb.deploy(endpoint_name='mi-primer-endpoint-serverless',\n",
        "                           serverless_inference_config=serverless_config,\n",
        "                           serializer=CSVSerializer())"
      ],
      "metadata": {
        "id": "WvSUY12-vS5Z"
      },
      "id": "WvSUY12-vS5Z",
      "execution_count": null,
      "outputs": []
    },
    {
      "cell_type": "markdown",
      "source": [
        "#### B - Despliegue Máquina Virtual"
      ],
      "metadata": {
        "id": "gV5N4GQlvmrJ"
      },
      "id": "gV5N4GQlvmrJ"
    },
    {
      "cell_type": "markdown",
      "source": [
        "Mejor realizar el taller con la configuración serverless para evitar costes inesperados. Si quieres probar, aquí tienes el código para desplegar el modelo en una instancia. Nos facturan por el tiempo total que tengamos la máquina virtual encendida independientemente del uso que hagamos de ella."
      ],
      "metadata": {
        "id": "mVnW0tWSvqgk"
      },
      "id": "mVnW0tWSvqgk"
    },
    {
      "cell_type": "code",
      "execution_count": null,
      "id": "4221e0fc-10d4-4d8f-80b8-7250fe343562",
      "metadata": {
        "tags": [],
        "id": "4221e0fc-10d4-4d8f-80b8-7250fe343562"
      },
      "outputs": [],
      "source": [
        "# xgb_predictor = xgb.deploy(endpoint_name='mi-primer-endpoint',\n",
        "#                            initial_instance_count=1,\n",
        "#                            instance_type='ml.m4.xlarge',\n",
        "#                            serializer=CSVSerializer())"
      ]
    },
    {
      "cell_type": "markdown",
      "id": "f92577f1-4aa9-4351-b2aa-16df39d89164",
      "metadata": {
        "jp-MarkdownHeadingCollapsed": true,
        "tags": [],
        "id": "f92577f1-4aa9-4351-b2aa-16df39d89164"
      },
      "source": [
        "### 4 - Optimización de hiperparámetros\n",
        "<br> Búsqueda por cuadrícula (Grid Search)"
      ]
    },
    {
      "cell_type": "code",
      "execution_count": null,
      "id": "2a52a4ef-20e5-4c85-9cd8-bd8363de6e03",
      "metadata": {
        "tags": [],
        "id": "2a52a4ef-20e5-4c85-9cd8-bd8363de6e03"
      },
      "outputs": [],
      "source": [
        "from sagemaker.tuner import IntegerParameter, ContinuousParameter, HyperparameterTuner\n",
        "\n",
        "xgb_hyperparameter_tuner = HyperparameterTuner(estimator = xgb, # El estimador\n",
        "                                               objective_metric_name = 'validation:rmse', # Métrica para comparar los modelos\n",
        "                                               objective_type = 'Minimize', # Minimizar o maximiza  la métrica objetivo\n",
        "                                               max_jobs = 4, # Número total de modelos a entrenar\n",
        "                                               max_parallel_jobs = 2, # Número máximo de modelos en paralelo a entrenar\n",
        "                                               hyperparameter_ranges = {\n",
        "                                                    'max_depth': IntegerParameter(3, 12),\n",
        "                                                    'eta'      : ContinuousParameter(0.05, 0.5),\n",
        "                                                    'min_child_weight': IntegerParameter(2, 8),\n",
        "                                                    'subsample': ContinuousParameter(0.5, 0.9),\n",
        "                                                    'gamma': ContinuousParameter(0, 10),\n",
        "                                               })"
      ]
    },
    {
      "cell_type": "code",
      "execution_count": null,
      "id": "0bb12ee7-009d-44da-b1bd-8efbcd117594",
      "metadata": {
        "tags": [],
        "id": "0bb12ee7-009d-44da-b1bd-8efbcd117594"
      },
      "outputs": [],
      "source": [
        "# xgb_hyperparameter_tuner.fit({'train': s3_input_train, 'validation': s3_input_validation})"
      ]
    }
  ],
  "metadata": {
    "kernelspec": {
      "display_name": "conda_tensorflow2_p310",
      "language": "python",
      "name": "conda_tensorflow2_p310"
    },
    "language_info": {
      "codemirror_mode": {
        "name": "ipython",
        "version": 3
      },
      "file_extension": ".py",
      "mimetype": "text/x-python",
      "name": "python",
      "nbconvert_exporter": "python",
      "pygments_lexer": "ipython3",
      "version": "3.10.8"
    },
    "colab": {
      "provenance": [],
      "collapsed_sections": [
        "84a276bc-eaa9-4a56-aae2-bd92b26a1165",
        "007af882-fc0f-4a52-a70c-db08cc646dd5",
        "1de673c8-4f3d-4e54-9c0d-85e779e06c03",
        "2bda97c9-c1ea-42c7-8fa4-665a0ca7cc3b",
        "gV5N4GQlvmrJ",
        "f92577f1-4aa9-4351-b2aa-16df39d89164"
      ]
    }
  },
  "nbformat": 4,
  "nbformat_minor": 5
}