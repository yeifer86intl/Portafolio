{
  "cells": [
    {
      "cell_type": "markdown",
      "id": "72dbd097-280c-4503-b4e7-a75efad8584b",
      "metadata": {
        "id": "72dbd097-280c-4503-b4e7-a75efad8584b"
      },
      "source": [
        "## Procesamiento de los datos"
      ]
    },
    {
      "cell_type": "markdown",
      "id": "e0d1cb6f",
      "metadata": {
        "jp-MarkdownHeadingCollapsed": true,
        "tags": [],
        "id": "e0d1cb6f"
      },
      "source": [
        "### 0 - Configuracion Sagemaker"
      ]
    },
    {
      "cell_type": "code",
      "execution_count": null,
      "id": "1c74beb5",
      "metadata": {
        "tags": [],
        "id": "1c74beb5"
      },
      "outputs": [],
      "source": [
        "import pandas as pd\n",
        "import os\n",
        "\n",
        "import boto3\n",
        "import sagemaker\n",
        "\n",
        "import tensorflow as tf\n",
        "from tensorflow.keras.preprocessing import sequence"
      ]
    },
    {
      "cell_type": "code",
      "execution_count": null,
      "id": "42ab7adf",
      "metadata": {
        "tags": [],
        "id": "42ab7adf"
      },
      "outputs": [],
      "source": [
        "# identificación de región\n",
        "region = sagemaker.Session().boto_region_name\n",
        "print(\"AWS Region: {}\".format(region))\n",
        "\n",
        "# indetificación de rol\n",
        "role = sagemaker.get_execution_role()\n",
        "print(\"RoleArn: {}\".format(role))\n",
        "\n",
        "# sesión de sagemaker\n",
        "sagemaker_session = sagemaker.Session()"
      ]
    },
    {
      "cell_type": "markdown",
      "id": "805d41ff",
      "metadata": {
        "jp-MarkdownHeadingCollapsed": true,
        "tags": [],
        "id": "805d41ff"
      },
      "source": [
        "### 1 - Descarga y exploración de los datos"
      ]
    },
    {
      "cell_type": "markdown",
      "id": "80726bf8-d8a3-41af-859e-ae796550d845",
      "metadata": {
        "id": "80726bf8-d8a3-41af-859e-ae796550d845"
      },
      "source": [
        "**Descarga de los datos**"
      ]
    },
    {
      "cell_type": "markdown",
      "id": "c6d9721c",
      "metadata": {
        "id": "c6d9721c"
      },
      "source": [
        "https://www.tensorflow.org/api_docs/python/tf/keras/datasets/imdb/load_data"
      ]
    },
    {
      "cell_type": "code",
      "execution_count": null,
      "id": "3ed1a78e",
      "metadata": {
        "tags": [],
        "id": "3ed1a78e"
      },
      "outputs": [],
      "source": [
        "# número maximo del vocabulario, devuelve las n palabras más utilizadas\n",
        "max_features = 20000\n",
        "# máxima longitud de las reseñas\n",
        "maxlen = 500\n",
        "\n",
        "# descargamos los datos\n",
        "(x_train, y_train), (x_test, y_test) = tf.keras.datasets.imdb.load_data(num_words=max_features)\n",
        "\n",
        "print(len(x_train), \"train sequences\")\n",
        "print(len(x_test), \"test sequences\")"
      ]
    },
    {
      "cell_type": "markdown",
      "id": "9da22f7f-b866-4961-ae85-79ad5f09bb71",
      "metadata": {
        "id": "9da22f7f-b866-4961-ae85-79ad5f09bb71"
      },
      "source": [
        "**Exploración de los datos**"
      ]
    },
    {
      "cell_type": "code",
      "execution_count": null,
      "id": "0e5a54d6",
      "metadata": {
        "tags": [],
        "id": "0e5a54d6"
      },
      "outputs": [],
      "source": [
        "print(f\" Número máximo de indice de las palabras: {max([max(review) for review in x_train])}\")"
      ]
    },
    {
      "cell_type": "code",
      "execution_count": null,
      "id": "808e6203",
      "metadata": {
        "tags": [],
        "id": "808e6203"
      },
      "outputs": [],
      "source": [
        "print(f\"Frase de ejemplo: {x_train[0]}\")"
      ]
    },
    {
      "cell_type": "code",
      "execution_count": null,
      "id": "50eb446a",
      "metadata": {
        "tags": [],
        "id": "50eb446a"
      },
      "outputs": [],
      "source": [
        "# convertir palabras a indice\n",
        "word_to_integer = tf.keras.datasets.imdb.get_word_index()\n",
        "# ejemplo de palabras más comunes\n",
        "print(list(word_to_integer.items())[0:5])"
      ]
    },
    {
      "cell_type": "code",
      "execution_count": null,
      "id": "d0f9e29d",
      "metadata": {
        "tags": [],
        "id": "d0f9e29d"
      },
      "outputs": [],
      "source": [
        "# ejemplo de conversión\n",
        "word_to_integer['the']"
      ]
    },
    {
      "cell_type": "code",
      "execution_count": null,
      "id": "f61d7195",
      "metadata": {
        "tags": [],
        "id": "f61d7195"
      },
      "outputs": [],
      "source": [
        "# convertir indice a la palabra\n",
        "integer_to_word = dict([(value, key) for (key, value) in word_to_integer.items()])\n",
        "# ejemplo del índice a la palabra\n",
        "integer_to_word[1]"
      ]
    },
    {
      "cell_type": "code",
      "execution_count": null,
      "id": "83d635d0",
      "metadata": {
        "tags": [],
        "id": "83d635d0"
      },
      "outputs": [],
      "source": [
        "# Necesitamos substraer 3 al indice. El 0 es para el padding, el 1 para el inicio de la secuencia y el 2 para el unknown\n",
        "# Cada review tiene una longitud diferente\n",
        "decoded_review = ' '.join([integer_to_word.get(i - 3, 'DESCO') for i in x_train[0]])\n",
        "print(decoded_review)"
      ]
    },
    {
      "cell_type": "markdown",
      "id": "80597325",
      "metadata": {
        "jp-MarkdownHeadingCollapsed": true,
        "tags": [],
        "id": "80597325"
      },
      "source": [
        "### 2 - Padding"
      ]
    },
    {
      "cell_type": "code",
      "execution_count": null,
      "id": "787fb903",
      "metadata": {
        "tags": [],
        "id": "787fb903"
      },
      "outputs": [],
      "source": [
        "# misma longitud\n",
        "x_train = sequence.pad_sequences(x_train, maxlen=maxlen)\n",
        "x_test = sequence.pad_sequences(x_test, maxlen=maxlen)\n",
        "print(\"x_train shape:\", x_train.shape)\n",
        "print(\"x_test shape:\", x_test.shape)"
      ]
    },
    {
      "cell_type": "markdown",
      "id": "5f9f9d09",
      "metadata": {
        "jp-MarkdownHeadingCollapsed": true,
        "tags": [],
        "id": "5f9f9d09"
      },
      "source": [
        "### 3 - Save data"
      ]
    },
    {
      "cell_type": "code",
      "execution_count": null,
      "id": "a1140f9a",
      "metadata": {
        "tags": [],
        "id": "a1140f9a"
      },
      "outputs": [],
      "source": [
        "# pasamos a dataframe\n",
        "df_x_train = pd.DataFrame(x_train)\n",
        "df_y_train = pd.DataFrame(y_train)\n",
        "df_x_test = pd.DataFrame(x_test)\n",
        "df_y_test = pd.DataFrame(y_test)"
      ]
    },
    {
      "cell_type": "code",
      "execution_count": null,
      "id": "d97fc2e1",
      "metadata": {
        "tags": [],
        "id": "d97fc2e1"
      },
      "outputs": [],
      "source": [
        "# juntamos variables con resultados\n",
        "df_train = pd.concat([df_y_train, df_x_train], axis=1)\n",
        "df_test_and_validation = pd.concat([df_y_test, df_x_test], axis=1)"
      ]
    },
    {
      "cell_type": "code",
      "execution_count": null,
      "id": "0e70977a-3e40-4015-bc90-471038c00655",
      "metadata": {
        "tags": [],
        "id": "0e70977a-3e40-4015-bc90-471038c00655"
      },
      "outputs": [],
      "source": [
        "# dívidimos el conjunto de test entre validation y test\n",
        "df_validation = df_test_and_validation[:20000]\n",
        "df_test = df_test_and_validation[20000:]"
      ]
    },
    {
      "cell_type": "markdown",
      "id": "357aa320-b0df-4470-b287-f331c0eaa19f",
      "metadata": {
        "id": "357aa320-b0df-4470-b287-f331c0eaa19f"
      },
      "source": [
        "**En local**"
      ]
    },
    {
      "cell_type": "code",
      "execution_count": null,
      "id": "5f1c58c6",
      "metadata": {
        "tags": [],
        "id": "5f1c58c6"
      },
      "outputs": [],
      "source": [
        "# Creamos el directorio\n",
        "data_dir_train = \"./data/pd/train\"\n",
        "if not os.path.exists(data_dir_train):\n",
        "    os.makedirs(data_dir_train)\n",
        "\n",
        "data_dir_test = \"./data/pd/test\"\n",
        "if not os.path.exists(data_dir_test):\n",
        "    os.makedirs(data_dir_test)\n",
        "\n",
        "df_train.to_csv(os.path.join(data_dir_train, 'train.csv'), header=False, index=False)\n",
        "df_validation.to_csv(os.path.join(data_dir_train, 'validation.csv'), header=False, index=False)\n",
        "df_test.to_csv(os.path.join(data_dir_test, 'test.csv'), header=False, index=False)"
      ]
    },
    {
      "cell_type": "markdown",
      "id": "d609187d-178b-4c1f-8e98-f679437559d6",
      "metadata": {
        "id": "d609187d-178b-4c1f-8e98-f679437559d6"
      },
      "source": [
        "**En S3**"
      ]
    },
    {
      "cell_type": "code",
      "execution_count": null,
      "id": "9c81f155",
      "metadata": {
        "tags": [],
        "id": "9c81f155"
      },
      "outputs": [],
      "source": [
        "s3_folder_bucket = \"clasificador_sentimiento/data\"\n",
        "\n",
        "train_s3 = sagemaker_session.upload_data(os.path.join(data_dir_train, 'train.csv'), key_prefix=f\"{s3_folder_bucket}/train\")\n",
        "validation_s3 = sagemaker_session.upload_data(os.path.join(data_dir_train, 'validation.csv'), key_prefix=f\"{s3_folder_bucket}/train\")\n",
        "test_s3 = sagemaker_session.upload_data(os.path.join(data_dir_test, 'test.csv'), key_prefix=f\"{s3_folder_bucket}/test\")\n",
        "\n",
        "\n",
        "inputs = {\"train\": train_s3, \"test\": test_s3, \"validation\": validation_s3}\n",
        "inputs"
      ]
    }
  ],
  "metadata": {
    "kernelspec": {
      "display_name": "conda_tensorflow2_p310",
      "language": "python",
      "name": "conda_tensorflow2_p310"
    },
    "language_info": {
      "codemirror_mode": {
        "name": "ipython",
        "version": 3
      },
      "file_extension": ".py",
      "mimetype": "text/x-python",
      "name": "python",
      "nbconvert_exporter": "python",
      "pygments_lexer": "ipython3",
      "version": "3.10.8"
    },
    "colab": {
      "provenance": [],
      "collapsed_sections": [
        "e0d1cb6f",
        "805d41ff",
        "80597325",
        "5f9f9d09"
      ]
    }
  },
  "nbformat": 4,
  "nbformat_minor": 5
}